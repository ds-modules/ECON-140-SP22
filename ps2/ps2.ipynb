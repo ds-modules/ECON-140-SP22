{
 "cells": [
  {
   "cell_type": "code",
   "execution_count": null,
   "metadata": {
    "deletable": false,
    "editable": false
   },
   "outputs": [],
   "source": [
    "# Initialize Otter\n",
    "import otter\n",
    "grader = otter.Notebook(\"ps2.ipynb\")"
   ]
  },
  {
   "cell_type": "markdown",
   "metadata": {
    "cell_id": "00001-40a80ec5-ce11-4ef2-b76a-388d262d5a98",
    "deepnote_cell_type": "markdown"
   },
   "source": [
    "# Econ 140 – Problem Set 2"
   ]
  },
  {
   "cell_type": "markdown",
   "metadata": {
    "cell_id": "00002-926adfda-ef24-4eee-b861-323697538b14",
    "deepnote_cell_type": "markdown"
   },
   "source": [
    "In this problem set we will be conducting a variety of single-variable linear regressions. \n",
    "There are many ways to do linear regressions in Python; we will be using a package called `statsmodels` (which we import as `sm`) and its `OLS` class.\n",
    "[Here](https://www.statsmodels.org/stable/generated/statsmodels.regression.linear_model.OLS.html) is the documentation; you may find the examples especially helpful if you are stuck.\n",
    "We'll go through an example of how to use `sm.OLS` below.\n",
    "\n",
    "Suppose we have a dataset called `df` that has two columns of observations, one called `wage` and the other `educ`, and suppose we want to regress `wage` onto `educ` and a constant.\n",
    "To do so, we would first identify the endogenous (dependent) variable and the exogenous (independent) variables.\n",
    "\n",
    "```python\n",
    "y = df['wage']\n",
    "X = df['educ']\n",
    "```\n",
    "\n",
    "To add an intercept term into our model, we must add a column of 1's to our independent variable using `sm.add_constant`. This will return a two column table, with 1 column only having the value 1.\n",
    "\n",
    "```python\n",
    "X = sm.add_constant(df['educ'])\n",
    "```\n",
    "\n",
    "Next, we will pass in our endogenous and exogenous variables (in that order) to `sm.OLS`, which will create an OLS model. Make sure to store the model!\n",
    "\n",
    "\n",
    "```python\n",
    "my_ols_model = sm.OLS(y, X)\n",
    "```\n",
    "\n",
    "So far, we have initialized our model but have not actually fitted it. To do so, we run the `fit` command on our model and store it. \n",
    "In order to incorporate robust standard errors, we also have to pass in the argument `cov_type = 'HC1'`. \n",
    "\n",
    "```python\n",
    "results = my_ols_model.fit(cov_type = 'HC1')\n",
    "```\n",
    "\n",
    "Lastly, displaying our fitted results `results` should display the results. You display by running the code `results.summary()` at the end of your cell.\n",
    "In the middle table of our results, you should see something like this.\n",
    "![](statsmodels_example.jpeg)"
   ]
  },
  {
   "cell_type": "markdown",
   "metadata": {
    "cell_id": "00003-4b795085-ae49-438f-8e95-582b246b2b0b",
    "deepnote_cell_type": "markdown"
   },
   "source": [
    "Before getting started on the assignment, run the cell at the very top that imports `otter` and the cell below which will import the packages we need.\n",
    "\n",
    "**Important:** As mentioned in problem set 0, if you leave this notebook alone for a while and come back, to save memory datahub will \"forget\" which code cells you have run, and you may need to restart your kernel and run all of the cells from the top. That includes this code cell that imports packages. If you get `<something> not defined` errors, this is because you didn't run an earlier code cell that you needed to run. It might be this cell or the `otter` cell above."
   ]
  },
  {
   "cell_type": "code",
   "execution_count": null,
   "metadata": {
    "cell_id": "00004-a20aef2c-9737-44de-8887-455deab1c99b",
    "deepnote_cell_type": "code",
    "deepnote_to_be_reexecuted": false,
    "execution_millis": 1,
    "execution_start": 1613177776335,
    "source_hash": "3e54bd81"
   },
   "outputs": [],
   "source": [
    "import numpy as np\n",
    "import pandas as pd\n",
    "import statsmodels.api as sm\n",
    "import matplotlib.pyplot as plt\n",
    "from scipy import stats"
   ]
  },
  {
   "cell_type": "markdown",
   "metadata": {
    "cell_id": "00005-bec89ee2-a5bd-4e86-a820-e5d6ca7b9b7c",
    "deepnote_cell_type": "markdown"
   },
   "source": [
    "## Problem 1. Bivariate Linear Regression\n",
    "\n",
    "In this question we create a synthetic dataset using random number generation commands. This time we create two random variables that are related to one another, and we fit that relationship using a bivariate linear regression. The beauty of this approach is that we know the population parameters because we pick them when generating the data. We can then check to see how well least squares estimation performs."
   ]
  },
  {
   "cell_type": "markdown",
   "metadata": {
    "cell_id": "00007-02944742-bd88-483b-8b6f-278b040ca7b1",
    "deepnote_cell_type": "markdown",
    "deletable": false,
    "editable": false
   },
   "source": [
    "<!-- BEGIN QUESTION -->\n",
    "\n",
    "**Question 1.a.**\n",
    "Begin by specifying that there are 100 observations and generate the regressor to be $x = 10 + 20v$, where $v$ is a uniform random variable on the unit interval. \n",
    "As a result, $x$ is a random variable uniformly distributed on the interval $[10, 30]$. \n",
    "Next specify the dependent variable to be linearly related to this regressor according to $y = 30 + 5x + u$, where $u$ is a random draw from a normal distribution with population mean 0 and population standard deviation 100. \n",
    "Then, generate a scatter plot of $x$ and $y$.\n",
    "\n",
    "*Hint*: You may want to check out [`np.random.random_sample`](https://numpy.org/doc/stable/reference/random/generated/numpy.random.random_sample.html) to generate $v$. \n",
    "You also may want to check out [`np.random.normal`](https://numpy.org/doc/stable/reference/random/generated/numpy.random.normal.html) to generate $u$.\n",
    "\n",
    "<!--\n",
    "BEGIN QUESTION\n",
    "name: q1_a\n",
    "manual: true\n",
    "-->"
   ]
  },
  {
   "cell_type": "code",
   "execution_count": null,
   "metadata": {
    "cell_id": "00008-3aa437ec-c6e1-4ed1-aa1a-ddc177e0e359",
    "deepnote_cell_type": "code",
    "deepnote_to_be_reexecuted": false,
    "execution_millis": 165,
    "execution_start": 1613177777394,
    "source_hash": "71e4aed0"
   },
   "outputs": [],
   "source": [
    "v = np.random.random_sample(...)\n",
    "x = ...\n",
    "u = np.random.normal(..., ..., ...)\n",
    "y = ...\n",
    "\n",
    "plt.scatter(x, y)\n",
    "plt.xlabel(\"x\")\n",
    "plt.ylabel(\"y\");"
   ]
  },
  {
   "cell_type": "markdown",
   "metadata": {
    "cell_id": "00015-95d19234-24ce-414f-b2cf-e3c8332bb219",
    "deepnote_cell_type": "markdown",
    "deletable": false,
    "editable": false
   },
   "source": [
    "<!-- END QUESTION -->\n",
    "\n",
    "<!-- BEGIN QUESTION -->\n",
    "\n",
    "**Question 1.b.**\n",
    "Next regress $y$ on $x$ (calling for robust standard errors). Is each one of the three OLSE assumptions satisfied in this case? Explain why for each one. Give your assessment of how well least squares regression performs in estimating the true intercept and slope.\n",
    "\n",
    "This question is for your code, the next is for your explanation.\n",
    "\n",
    "<!--\n",
    "BEGIN QUESTION\n",
    "name: q1_b\n",
    "manual: true\n",
    "-->"
   ]
  },
  {
   "cell_type": "code",
   "execution_count": null,
   "metadata": {
    "cell_id": "00016-05b47fd2-ac82-4b1b-84a0-e0718d030a2b",
    "deepnote_cell_type": "code",
    "deepnote_to_be_reexecuted": false,
    "execution_millis": 14,
    "execution_start": 1613177778116,
    "source_hash": "90f4bda7"
   },
   "outputs": [],
   "source": [
    "X_1b = sm.add_constant(...)\n",
    "model_1b = sm.OLS(..., ...)\n",
    "results_1b = model_1b.fit(...)\n",
    "results_1b.summary()"
   ]
  },
  {
   "cell_type": "markdown",
   "metadata": {
    "cell_id": "00017-123296be-fd3e-4af4-88fe-a6b35e03a000",
    "deepnote_cell_type": "markdown",
    "deletable": false,
    "editable": false
   },
   "source": [
    "<!-- END QUESTION -->\n",
    "\n",
    "<!-- BEGIN QUESTION -->\n",
    "\n",
    "**Question 1.c.**\n",
    "Explain.\n",
    "\n",
    "<!--\n",
    "BEGIN QUESTION\n",
    "name: q1_c\n",
    "manual: true\n",
    "-->"
   ]
  },
  {
   "cell_type": "markdown",
   "metadata": {},
   "source": [
    "_Type your answer here, replacing this text._"
   ]
  },
  {
   "cell_type": "markdown",
   "metadata": {
    "cell_id": "00012-5afd5403-d8b8-442b-b869-58e72daf1e77",
    "deepnote_cell_type": "markdown",
    "tags": []
   },
   "source": [
    "<!-- END QUESTION -->\n",
    "\n",
    "\n",
    "\n",
    "Below we have printed out for you the square root of the mean squared error of the residuals. This is another term for the standard error of the regression."
   ]
  },
  {
   "cell_type": "code",
   "execution_count": null,
   "metadata": {
    "cell_id": "00012-f36209d0-b2d4-417d-a252-ec94a5084c0e",
    "deepnote_cell_type": "code",
    "deepnote_to_be_reexecuted": false,
    "execution_millis": 18,
    "execution_start": 1613177778858,
    "source_hash": "34e8fa7a",
    "tags": []
   },
   "outputs": [],
   "source": [
    "results_1b.mse_resid ** 0.5"
   ]
  },
  {
   "cell_type": "markdown",
   "metadata": {
    "cell_id": "00019-b3c09ccc-747b-439c-a58a-dceeb989866b",
    "deepnote_cell_type": "markdown",
    "deletable": false,
    "editable": false
   },
   "source": [
    "<!-- BEGIN QUESTION -->\n",
    "\n",
    "**Question 1.d.**\n",
    "Looking at the results of this regression including the number shown above, assess how close least squares estimation is to the true variance of the error term.\n",
    "\n",
    "<!--\n",
    "BEGIN QUESTION\n",
    "name: q1_d\n",
    "manual: true\n",
    "-->"
   ]
  },
  {
   "cell_type": "markdown",
   "metadata": {},
   "source": [
    "_Type your answer here, replacing this text._"
   ]
  },
  {
   "cell_type": "markdown",
   "metadata": {
    "cell_id": "00021-52d7c6ed-597d-4e2b-9a20-45473f217a3b",
    "deepnote_cell_type": "markdown",
    "deletable": false,
    "editable": false
   },
   "source": [
    "<!-- END QUESTION -->\n",
    "\n",
    "<!-- BEGIN QUESTION -->\n",
    "\n",
    "**Question 1.e.**\n",
    "Generate the regression residuals and confirm they add up to zero. Also, confirm that the residuals are uncorrelated with the regressor.\n",
    "\n",
    "*Hint: The command `results_1c.resid` will give you an array of the residuals of the regression. The function `np.sum()` takes an array as an argument inside the parenthases and sums all of the elements together. Remember that `results_1c.resid` is an array. Also, the function `np.corrcoef()` takes in two arrays of equal length, separated by a comma, and computes the correlation matrix of the two arrays. For example, usage might look like `np.corrcoef(array1, array2)`.*\n",
    "\n",
    "<!--\n",
    "BEGIN QUESTION\n",
    "name: q1_e\n",
    "manual: true\n",
    "-->"
   ]
  },
  {
   "cell_type": "code",
   "execution_count": null,
   "metadata": {
    "cell_id": "00022-38be9d70-9a63-4b1e-9932-33637a3facb7",
    "deepnote_cell_type": "code",
    "deepnote_to_be_reexecuted": false,
    "execution_millis": 13,
    "execution_start": 1613177780017,
    "source_hash": "b99774ac"
   },
   "outputs": [],
   "source": [
    "sum_of_residuals = np.sum(...)\n",
    "print(\"Sum of residuals: \", sum_of_residuals)\n",
    "np.corrcoef(..., ...)"
   ]
  },
  {
   "cell_type": "markdown",
   "metadata": {
    "cell_id": "00025-348fca1e-b2ba-457b-9a7e-b7cb20a982a7",
    "deepnote_cell_type": "markdown",
    "deletable": false,
    "editable": false
   },
   "source": [
    "<!-- END QUESTION -->\n",
    "\n",
    "<!-- BEGIN QUESTION -->\n",
    "\n",
    "**Question 1.f.**\n",
    "Now generate the variables $x$ and $y$ as you did above but do it for $n = 1000$ observations. Run the regression of $y$ on $x$ and compare the results with the earlier case of $n = 100$. Explain the differences.\n",
    "\n",
    "This question is for your code, the next is for your explanation.\n",
    "\n",
    "<!--\n",
    "BEGIN QUESTION\n",
    "name: q1_f\n",
    "manual: true\n",
    "-->"
   ]
  },
  {
   "cell_type": "code",
   "execution_count": null,
   "metadata": {
    "cell_id": "00026-f1bfe1a0-493d-4507-8671-3b5d74702544",
    "deepnote_cell_type": "code",
    "deepnote_to_be_reexecuted": false,
    "execution_millis": 25,
    "execution_start": 1613177780490,
    "source_hash": "615673ff"
   },
   "outputs": [],
   "source": [
    "v_1000 = np.random.sample(...)\n",
    "x_1000 = ...\n",
    "u_1000 = np.random.normal(..., ..., ...)\n",
    "y_1000 = ...\n",
    "\n",
    "X_1f = ...\n",
    "model_1f = sm.OLS(..., ...)\n",
    "results_1f = model_1f.fit(...)\n",
    "results_1f.summary()"
   ]
  },
  {
   "cell_type": "markdown",
   "metadata": {
    "cell_id": "00027-b7da8450-c787-416a-8a5e-4ed48d8c8909",
    "deepnote_cell_type": "markdown",
    "deletable": false,
    "editable": false
   },
   "source": [
    "<!-- END QUESTION -->\n",
    "\n",
    "<!-- BEGIN QUESTION -->\n",
    "\n",
    "**Question 1.h.**\n",
    "Explain.\n",
    "\n",
    "<!--\n",
    "BEGIN QUESTION\n",
    "name: q1_h\n",
    "manual: true\n",
    "-->"
   ]
  },
  {
   "cell_type": "markdown",
   "metadata": {},
   "source": [
    "_Type your answer here, replacing this text._"
   ]
  },
  {
   "cell_type": "markdown",
   "metadata": {
    "cell_id": "00029-b20eb03c-c137-4b74-96a4-d192b1cf8e30",
    "deepnote_cell_type": "markdown"
   },
   "source": [
    "<!-- END QUESTION -->\n",
    "\n",
    "\n",
    "\n",
    "---"
   ]
  },
  {
   "cell_type": "markdown",
   "metadata": {
    "cell_id": "00030-21e056ad-7046-4b70-900f-37e3239611ed",
    "deepnote_cell_type": "markdown"
   },
   "source": [
    "## Problem 2. Wages and Education\n",
    "\n",
    "For this problem we will use the dataset `wages.csv`. This dataset contains information on about 300 American workers. It includes their average monthly wage (`wage`), gender (`male`) and completed years of formal education (`educ`). You suspect (hope?) that people with higher educational attainment earn more on average."
   ]
  },
  {
   "cell_type": "code",
   "execution_count": null,
   "metadata": {
    "cell_id": "00031-899df93b-e871-48b0-a8ef-a0678c447e14",
    "deepnote_cell_type": "code",
    "deepnote_to_be_reexecuted": false,
    "execution_millis": 26,
    "execution_start": 1613177781559,
    "source_hash": "7059131e"
   },
   "outputs": [],
   "source": [
    "wages = pd.read_csv(\"wages.csv\")\n",
    "wages.head()"
   ]
  },
  {
   "cell_type": "markdown",
   "metadata": {
    "cell_id": "00033-8161d209-a6f2-40b1-af2b-8fdd4a094287",
    "deepnote_cell_type": "markdown",
    "deletable": false,
    "editable": false
   },
   "source": [
    "<!-- BEGIN QUESTION -->\n",
    "\n",
    "**Question 2.a.**\n",
    "Plot a scatter diagram of the average monthly wage against education level. Does it confirm your intuition? What differences do you see between individuals who did not complete high school and those that did?\n",
    "\n",
    "This question is for your code, the next is for your explanation.\n",
    "\n",
    "<!--\n",
    "BEGIN QUESTION\n",
    "name: q2_a\n",
    "manual: true\n",
    "-->"
   ]
  },
  {
   "cell_type": "code",
   "execution_count": null,
   "metadata": {
    "cell_id": "00026-43cf9641-a771-487e-a4b4-6b9f3052d889",
    "deepnote_cell_type": "code",
    "deepnote_to_be_reexecuted": false,
    "execution_millis": 154,
    "execution_start": 1613177782012,
    "source_hash": "cd54c6c0",
    "tags": []
   },
   "outputs": [],
   "source": [
    "plt.scatter(..., ...)\n",
    "plt.xlabel(\"educ\")\n",
    "plt.ylabel(\"wage\")\n",
    "plt.title(\"Wages vs. Education Level\");"
   ]
  },
  {
   "cell_type": "markdown",
   "metadata": {
    "cell_id": "00036-6512c02f-7ba3-4e9b-99cb-6cd5b4a2c8a1",
    "deepnote_cell_type": "markdown",
    "deletable": false,
    "editable": false
   },
   "source": [
    "<!-- END QUESTION -->\n",
    "\n",
    "<!-- BEGIN QUESTION -->\n",
    "\n",
    "**Question 2.b.**\n",
    "Explain.\n",
    "\n",
    "<!--\n",
    "BEGIN QUESTION\n",
    "name: q2_b\n",
    "manual: true\n",
    "-->"
   ]
  },
  {
   "cell_type": "markdown",
   "metadata": {},
   "source": [
    "_Type your answer here, replacing this text._"
   ]
  },
  {
   "cell_type": "markdown",
   "metadata": {
    "cell_id": "00040-20d84d60-217d-4ce0-a701-b035ec527b85",
    "deepnote_cell_type": "markdown",
    "deletable": false,
    "editable": false
   },
   "source": [
    "<!-- END QUESTION -->\n",
    "\n",
    "<!-- BEGIN QUESTION -->\n",
    "\n",
    "**Question 2.c.**\n",
    "Perform an OLS regression of wages on education. Be sure to include the robust option. Give a precise interpretation of least squares estimate of the intercept and evaluate its sign, size and statistical significance. Does its value make economic sense? Do the same for the least squares estimate of the slope. Does this slope estimate confirm the scatter plot above?\n",
    "\n",
    "This question is for your code, the next is for your explanation.\n",
    "\n",
    "<!--\n",
    "BEGIN QUESTION\n",
    "name: q2_c\n",
    "manual: true\n",
    "-->"
   ]
  },
  {
   "cell_type": "code",
   "execution_count": null,
   "metadata": {
    "cell_id": "00041-eeff0ca8-3484-4424-b92f-982404f7df43",
    "deepnote_cell_type": "code",
    "deepnote_to_be_reexecuted": false,
    "execution_millis": 21,
    "execution_start": 1613177782858,
    "source_hash": "afdbc6c"
   },
   "outputs": [],
   "source": [
    "y_2c = ...\n",
    "X_2c = sm.add_constant(...)\n",
    "model_2c = sm.OLS(..., ...)\n",
    "results_2c = ...\n",
    "results_2c.summary()"
   ]
  },
  {
   "cell_type": "markdown",
   "metadata": {
    "cell_id": "00042-74c94725-483b-4709-8265-d82bcd54bac1",
    "deepnote_cell_type": "markdown",
    "deletable": false,
    "editable": false
   },
   "source": [
    "<!-- END QUESTION -->\n",
    "\n",
    "<!-- BEGIN QUESTION -->\n",
    "\n",
    "**Question 2.d.**\n",
    "Explain.\n",
    "\n",
    "<!--\n",
    "BEGIN QUESTION\n",
    "name: q2_d\n",
    "manual: true\n",
    "-->"
   ]
  },
  {
   "cell_type": "markdown",
   "metadata": {},
   "source": [
    "_Type your answer here, replacing this text._"
   ]
  },
  {
   "cell_type": "markdown",
   "metadata": {
    "cell_id": "00033-28f5ca53-f918-4955-a7c3-4d1485a0bfcc",
    "deepnote_cell_type": "markdown",
    "deletable": false,
    "editable": false,
    "tags": []
   },
   "source": [
    "<!-- END QUESTION -->\n",
    "\n",
    "<!-- BEGIN QUESTION -->\n",
    "\n",
    "**Question 2.e.**\n",
    "List the three OLS assumptions and give a concrete example of when each of those would hold in this context. Are these assumptions plausible in this context?\n",
    "\n",
    "<!--\n",
    "BEGIN QUESTION\n",
    "name: q2_e\n",
    "manual: true\n",
    "-->"
   ]
  },
  {
   "cell_type": "markdown",
   "metadata": {},
   "source": [
    "_Type your answer here, replacing this text._"
   ]
  },
  {
   "cell_type": "markdown",
   "metadata": {
    "cell_id": "00035-8a7b736c-4060-4c5d-ab7b-5a6a33b44ac1",
    "deepnote_cell_type": "markdown",
    "deletable": false,
    "editable": false,
    "tags": []
   },
   "source": [
    "<!-- END QUESTION -->\n",
    "\n",
    "<!-- BEGIN QUESTION -->\n",
    "\n",
    "**Question 2.f.**\n",
    "You are rightfully concerned whether education will, in fact, be rewarded in the labor market. You wonder if another year of education will yield an expected \\\\$100 more per month (which if discounted over a typical working lifetime at say, 5\\%, amounts to roughly a year at Berkeley). Test the following null hypothesis:\n",
    "$H_0: \\beta_1 = 100$ vs $H_1: \\beta_1 \\neq 100$.\n",
    "\n",
    "<!--\n",
    "BEGIN QUESTION\n",
    "name: q2_f\n",
    "manual: true\n",
    "-->"
   ]
  },
  {
   "cell_type": "markdown",
   "metadata": {},
   "source": [
    "_Type your answer here, replacing this text._"
   ]
  },
  {
   "cell_type": "markdown",
   "metadata": {
    "cell_id": "00044-4cdac2e7-e1dc-4b80-b3be-ee35e684da08",
    "deepnote_cell_type": "markdown",
    "deletable": false,
    "editable": false
   },
   "source": [
    "<!-- END QUESTION -->\n",
    "\n",
    "<!-- BEGIN QUESTION -->\n",
    "\n",
    "**Question 2.g.**\n",
    "Let’s now return to a familiar empirical question: do men and women earn the same amount? As in part (a) above, generate a scatterplot of `wage` against the dummy variable `male`. Don't forget to label your axes! What is your answer to the question based on this graph?\n",
    "\n",
    "This question is for your code, the next is for your explanation.\n",
    "\n",
    "<!--\n",
    "BEGIN QUESTION\n",
    "name: q2_g\n",
    "manual: true\n",
    "-->"
   ]
  },
  {
   "cell_type": "code",
   "execution_count": null,
   "metadata": {
    "cell_id": "00045-2e0b1686-f1a4-4a76-8fbd-e140cbecc466",
    "deepnote_cell_type": "code",
    "deepnote_to_be_reexecuted": false,
    "execution_millis": 154,
    "execution_start": 1613177784456,
    "source_hash": "a26fc603"
   },
   "outputs": [],
   "source": [
    "plt.scatter(..., ...)\n",
    "plt.xlabel(...)\n",
    "plt.ylabel(...)\n",
    "plt.title(...);"
   ]
  },
  {
   "cell_type": "markdown",
   "metadata": {
    "cell_id": "00046-8e23f417-a57e-4f50-ad91-293d8e93b55e",
    "deepnote_cell_type": "markdown",
    "deletable": false,
    "editable": false
   },
   "source": [
    "<!-- END QUESTION -->\n",
    "\n",
    "<!-- BEGIN QUESTION -->\n",
    "\n",
    "**Question 2.h.**\n",
    "Explain.\n",
    "\n",
    "<!--\n",
    "BEGIN QUESTION\n",
    "name: q2_h\n",
    "manual: true\n",
    "-->"
   ]
  },
  {
   "cell_type": "markdown",
   "metadata": {},
   "source": [
    "_Type your answer here, replacing this text._"
   ]
  },
  {
   "cell_type": "markdown",
   "metadata": {
    "cell_id": "00041-4aa21cff-b5c4-4f39-a8ef-bb82aae3a0f6",
    "deepnote_cell_type": "markdown",
    "deletable": false,
    "editable": false,
    "tags": []
   },
   "source": [
    "<!-- END QUESTION -->\n",
    "\n",
    "<!-- BEGIN QUESTION -->\n",
    "\n",
    "**Question 2.i.**\n",
    "Run an OLS regression of `wage` on `male`. Provide a precise interpretation of the slope. Do you believe you have found evidence of wage discrimination in this data, or do you believe there is another explanation for the differences? Explain.\n",
    "\n",
    "This question is for your code, the next is for your explanation.\n",
    "\n",
    "<!--\n",
    "BEGIN QUESTION\n",
    "name: q2_i\n",
    "manual: true\n",
    "-->"
   ]
  },
  {
   "cell_type": "code",
   "execution_count": null,
   "metadata": {
    "cell_id": "00042-215cfb52-e01a-4605-96d7-7ab72501c810",
    "deepnote_cell_type": "code",
    "deepnote_to_be_reexecuted": false,
    "execution_millis": 23,
    "execution_start": 1613177785638,
    "source_hash": "bc5ee70b",
    "tags": []
   },
   "outputs": [],
   "source": [
    "y_2i = ...\n",
    "X_2i = ...\n",
    "model_2i = ...\n",
    "results_2i = ...\n",
    "results_2i.summary()"
   ]
  },
  {
   "cell_type": "markdown",
   "metadata": {
    "cell_id": "00043-d9f58419-64b3-48c5-ae3f-71a5b8d20cd3",
    "deepnote_cell_type": "markdown",
    "deletable": false,
    "editable": false,
    "tags": []
   },
   "source": [
    "<!-- END QUESTION -->\n",
    "\n",
    "<!-- BEGIN QUESTION -->\n",
    "\n",
    "**Question 2.j.**\n",
    "Explain.\n",
    "\n",
    "<!--\n",
    "BEGIN QUESTION\n",
    "name: q2_j\n",
    "manual: true\n",
    "-->"
   ]
  },
  {
   "cell_type": "markdown",
   "metadata": {},
   "source": [
    "_Type your answer here, replacing this text._"
   ]
  },
  {
   "cell_type": "markdown",
   "metadata": {
    "cell_id": "00045-c2a87204-3f6d-494c-a32a-25a3ac519ff5",
    "deepnote_cell_type": "markdown",
    "deletable": false,
    "editable": false,
    "tags": []
   },
   "source": [
    "<!-- END QUESTION -->\n",
    "\n",
    "<!-- BEGIN QUESTION -->\n",
    "\n",
    "**Question 2.k.**\n",
    "As we did in problem set 1, perform a t-test of a difference in wages between men and women and report the t-stat and p-value. Compare the output of that test with the regression results you got using the male dummy. To make the two results (in terms of t-stat and p-value) correspond, do you assume equal or unequal variance of men’s and women’s wages?\n",
    "\n",
    "This question is for your code, the next is for your explanation.\n",
    "\n",
    "<!--\n",
    "BEGIN QUESTION\n",
    "name: q2_k\n",
    "manual: true\n",
    "-->"
   ]
  },
  {
   "cell_type": "code",
   "execution_count": null,
   "metadata": {
    "cell_id": "00046-e879bfbd-ac65-4bb7-8d07-6ce1f79bb337",
    "deepnote_cell_type": "code",
    "deepnote_to_be_reexecuted": false,
    "execution_millis": 21,
    "execution_start": 1613177786718,
    "source_hash": "3f16f2db",
    "tags": []
   },
   "outputs": [],
   "source": [
    "wages_men = ...\n",
    "wages_women = ...\n",
    "\n",
    "ttest_2k = stats.ttest_ind(..., ..., ...)\n",
    "\n",
    "tstat_2k = ttest_2k.statistic\n",
    "pval_2k = ttest_2k.pvalue\n",
    "\n",
    "print(\"t-stat: {}\".format(tstat_2k))\n",
    "print(\"p-value: {}\".format(pval_2k))"
   ]
  },
  {
   "cell_type": "markdown",
   "metadata": {
    "cell_id": "00047-45b02ffd-ebf9-4caf-b4c2-3338c35278a0",
    "deepnote_cell_type": "markdown",
    "deletable": false,
    "editable": false,
    "tags": []
   },
   "source": [
    "<!-- END QUESTION -->\n",
    "\n",
    "<!-- BEGIN QUESTION -->\n",
    "\n",
    "**Question 2.l.**\n",
    "Explain.\n",
    "\n",
    "<!--\n",
    "BEGIN QUESTION\n",
    "name: q2_l\n",
    "manual: true\n",
    "-->"
   ]
  },
  {
   "cell_type": "markdown",
   "metadata": {},
   "source": [
    "_Type your answer here, replacing this text._"
   ]
  },
  {
   "cell_type": "markdown",
   "metadata": {
    "cell_id": "00048-bcc2ad9a-2b5b-43f5-a371-8b44ae67d2ca",
    "deepnote_cell_type": "markdown"
   },
   "source": [
    "<!-- END QUESTION -->\n",
    "\n",
    "\n",
    "\n",
    "---"
   ]
  },
  {
   "cell_type": "markdown",
   "metadata": {
    "cell_id": "00049-0c0ed31f-74e2-4d59-9b2b-31cca5e6071a",
    "deepnote_cell_type": "markdown"
   },
   "source": [
    "## Problem 3. Wine Prices and Vintage\n",
    "\n",
    "Suppose you are interested in the relationship between the price of wine bottles and their vintage (a vintage wine is a wine which is made up of grapes harvested in a specific year) and you write the following model: $price_i = \\beta_0 + \\beta_1 vintage_i + u_i$, where price is expressed in dollars, vintage in years (i.e., 1 if the grapes were harvested one year ago, 2 if the grapes were harvested two years ago, etc.), $u_i$ are the error terms, and $i$ indexes the bottles. Assume a very large sample size (like tens of thousands of bottles)."
   ]
  },
  {
   "cell_type": "markdown",
   "metadata": {
    "cell_id": "00050-8aa0bf6c-bbb2-4f28-b82c-0fd03db4822e",
    "deepnote_cell_type": "markdown",
    "deletable": false,
    "editable": false
   },
   "source": [
    "<!-- BEGIN QUESTION -->\n",
    "\n",
    "**Question 3.a.**\n",
    "What is contained in the error term? Provide a couple of examples. Do you think that the first OLS assumption is plausible in this context?\n",
    "\n",
    "<!--\n",
    "BEGIN QUESTION\n",
    "name: q3_a\n",
    "manual: true\n",
    "-->"
   ]
  },
  {
   "cell_type": "markdown",
   "metadata": {},
   "source": [
    "_Type your answer here, replacing this text._"
   ]
  },
  {
   "cell_type": "markdown",
   "metadata": {
    "cell_id": "00054-f20677e1-6fb5-4019-a4ca-2199417a36b0",
    "deepnote_cell_type": "markdown",
    "deletable": false,
    "editable": false
   },
   "source": [
    "<!-- END QUESTION -->\n",
    "\n",
    "<!-- BEGIN QUESTION -->\n",
    "\n",
    "**Question 3.b.**\n",
    "Suppose you estimate your model via OLS and you obtain the following estimated coefficients (standard errors are reported in parenthesis), with $R^2 = 0.77$:\n",
    "$$price_i = \\underset{(2.57)}{1.75} + \\underset{(1.02)}{5.5} vintage_i + \\hat{u}_i$$\n",
    "\n",
    "Interpret the regression coefficients.\n",
    "\n",
    "<!--\n",
    "BEGIN QUESTION\n",
    "name: q3_b\n",
    "manual: true\n",
    "-->"
   ]
  },
  {
   "cell_type": "markdown",
   "metadata": {},
   "source": [
    "_Type your answer here, replacing this text._"
   ]
  },
  {
   "cell_type": "markdown",
   "metadata": {
    "cell_id": "00056-b362c578-95f8-4872-8970-8bbdce8f9e82",
    "deepnote_cell_type": "markdown",
    "deletable": false,
    "editable": false
   },
   "source": [
    "<!-- END QUESTION -->\n",
    "\n",
    "<!-- BEGIN QUESTION -->\n",
    "\n",
    "**Question 3.c.**\n",
    "Comment on the $R^2$. Given this statistic what can you infer about causality in the relationship of prices and vintage?\n",
    "\n",
    "<!--\n",
    "BEGIN QUESTION\n",
    "name: q3_c\n",
    "manual: true\n",
    "-->"
   ]
  },
  {
   "cell_type": "markdown",
   "metadata": {},
   "source": [
    "_Type your answer here, replacing this text._"
   ]
  },
  {
   "cell_type": "markdown",
   "metadata": {
    "cell_id": "00058-0109bfdc-d448-4887-8abd-e32073d2ae8a",
    "deepnote_cell_type": "markdown",
    "deletable": false,
    "editable": false
   },
   "source": [
    "<!-- END QUESTION -->\n",
    "\n",
    "<!-- BEGIN QUESTION -->\n",
    "\n",
    "**Question 3.d.**\n",
    "Predict the fitted value of price of a bottle whose grapes were harvested ten years ago, and that for a bottle harvested nine years ago; then compute the difference between the two values.\n",
    "\n",
    "<!--\n",
    "BEGIN QUESTION\n",
    "name: q3_d\n",
    "manual: true\n",
    "-->"
   ]
  },
  {
   "cell_type": "markdown",
   "metadata": {},
   "source": [
    "_Type your answer here, replacing this text._"
   ]
  },
  {
   "cell_type": "markdown",
   "metadata": {
    "cell_id": "00060-9ebf1e30-d33e-45bd-8f98-52e209cddb95",
    "deepnote_cell_type": "markdown",
    "deletable": false,
    "editable": false
   },
   "source": [
    "<!-- END QUESTION -->\n",
    "\n",
    "<!-- BEGIN QUESTION -->\n",
    "\n",
    "**Question 3.e.**\n",
    "Derive the marginal effect of the increase in one year in vintage on price. Do you get the same result as in part (d)? Why? Explain.\n",
    "\n",
    "<!--\n",
    "BEGIN QUESTION\n",
    "name: q3_e\n",
    "manual: true\n",
    "-->"
   ]
  },
  {
   "cell_type": "markdown",
   "metadata": {},
   "source": [
    "_Type your answer here, replacing this text._"
   ]
  },
  {
   "cell_type": "markdown",
   "metadata": {
    "cell_id": "00061-64b624e9-b58b-4e66-8ef9-80c86629d764",
    "deepnote_cell_type": "markdown",
    "deletable": false,
    "editable": false,
    "tags": []
   },
   "source": [
    "<!-- END QUESTION -->\n",
    "\n",
    "<!-- BEGIN QUESTION -->\n",
    "\n",
    "**Question 3.f.**\n",
    "Using the results above, give a 95\\% confidence interval for the difference in average price for a ten year bottle vs a five year bottle. Can you reject the null hypothesis that this difference is \\\\$40?\n",
    "\n",
    "<!--\n",
    "BEGIN QUESTION\n",
    "name: q3_f\n",
    "manual: true\n",
    "-->"
   ]
  },
  {
   "cell_type": "markdown",
   "metadata": {},
   "source": [
    "_Type your answer here, replacing this text._"
   ]
  },
  {
   "cell_type": "markdown",
   "metadata": {
    "cell_id": "00062-6a39c670-f2b6-41ce-8b76-6e73c16315a0",
    "deepnote_cell_type": "markdown"
   },
   "source": [
    "<!-- END QUESTION -->\n",
    "\n",
    "\n",
    "\n",
    "---"
   ]
  },
  {
   "cell_type": "markdown",
   "metadata": {
    "cell_id": "00063-17dbc4bc-11fc-4ee9-818c-eae49e758dd0",
    "deepnote_cell_type": "markdown"
   },
   "source": [
    "## Problem 4. Family Size and Consumption\n",
    "\n",
    "The 2015 Nobel Prize winner, Prof. Angus Deaton of Princeton, spent a lifetime studying the consumption behavior of individuals and households, in contrast to the earlier tradition of modeling aggregate consumption. You will follow in his footsteps in this problem by examining the role of family size on consumption patterns. In particular, you will examine how food expenditures are related to the size of the household. It is hypothesized that as family size increases (e.g. people move in together), economies of scale are realized. We might expect per capita food consumption to increase with increases in household size. Especially in poor households, where food expenditures are at bare minimum, we would expect per capita food consumption to rise with household size. To do your research, you will work with a selection from the U.S. Consumer Expenditure Survey for 1,000 U.S. households from 2014 `ces.csv`. A few of the key variables from the data file are described in the table below.\n",
    "\n",
    "| Variable     | Description                                                   |\n",
    "|--------------|---------------------------------------------------------------|\n",
    "| age_ref      | age of reference person                                       |\n",
    "| fam_size     | number of members in household                                |\n",
    "| no_earnr     | number of earners                                             |\n",
    "| totexppq     | total expenditures during previous quarter                    |\n",
    "| foodpq       | total food expenditures during previous quarter               |\n",
    "| fractearners | fraction of adults in household who work                      |\n",
    "| ratioover64  | number of family members older than 64 to total family size   |\n",
    "| ratioless18  | number of family members younger than 18 to total family size |\n",
    "| rationless2  | number of family members younger than 2 to total family size  |"
   ]
  },
  {
   "cell_type": "code",
   "execution_count": null,
   "metadata": {
    "cell_id": "00064-145c8120-062a-4e98-bb53-5118f13de67f",
    "deepnote_cell_type": "code",
    "deepnote_to_be_reexecuted": false,
    "execution_millis": 66,
    "execution_start": 1613177796573,
    "source_hash": "c8873cca"
   },
   "outputs": [],
   "source": [
    "ces = pd.read_csv(\"ces.csv\")\n",
    "ces.head()"
   ]
  },
  {
   "cell_type": "markdown",
   "metadata": {
    "cell_id": "00069-f09ac876-8886-4306-99df-4c2523fb16f3",
    "deepnote_cell_type": "markdown",
    "deletable": false,
    "editable": false
   },
   "source": [
    "<!-- BEGIN QUESTION -->\n",
    "\n",
    "**Question 4.a.**\n",
    "Since we want to see what happens to the share of expenditures spent on food, create the variable `foodshare` = `foodpq`/`totexppq`. Run a regression of food share on family size. What is the interpretation of the estimated coefficient on family size? Is it statistically and economically significant? Do your findings support the theory that large families can enjoy economies of scale (e.g., house, TV, etc.) and allocate more of their expenses to food?\n",
    "\n",
    "This question is for your code, the next is for your explanation.\n",
    "\n",
    "<!--\n",
    "BEGIN QUESTION\n",
    "name: q4_a\n",
    "manual: true\n",
    "-->"
   ]
  },
  {
   "cell_type": "code",
   "execution_count": null,
   "metadata": {
    "cell_id": "00070-f456a96c-1f27-4acd-bf2e-ee97e4d5d016",
    "deepnote_cell_type": "code",
    "deepnote_to_be_reexecuted": false,
    "execution_millis": 27,
    "execution_start": 1613177797089,
    "source_hash": "ecdbaf8"
   },
   "outputs": [],
   "source": [
    "ces['foodshare'] = ...\n",
    "y_4a = ...\n",
    "X_4a = ...\n",
    "model_4a = ...\n",
    "results_4a = ...\n",
    "results_4a.summary()"
   ]
  },
  {
   "cell_type": "markdown",
   "metadata": {
    "cell_id": "00068-836d0e3f-f45e-402c-a251-298d48be7c10",
    "deepnote_cell_type": "markdown",
    "deletable": false,
    "editable": false,
    "tags": []
   },
   "source": [
    "<!-- END QUESTION -->\n",
    "\n",
    "<!-- BEGIN QUESTION -->\n",
    "\n",
    "**Question 4.b.**\n",
    "Explain.\n",
    "\n",
    "<!--\n",
    "BEGIN QUESTION\n",
    "name: q4_b\n",
    "manual: true\n",
    "-->"
   ]
  },
  {
   "cell_type": "markdown",
   "metadata": {},
   "source": [
    "_Type your answer here, replacing this text._"
   ]
  },
  {
   "cell_type": "markdown",
   "metadata": {
    "cell_id": "00070-50d1df83-61fa-4b48-8c02-ef259aab0200",
    "deepnote_cell_type": "markdown",
    "deletable": false,
    "editable": false,
    "tags": []
   },
   "source": [
    "<!-- END QUESTION -->\n",
    "\n",
    "<!-- BEGIN QUESTION -->\n",
    "\n",
    "**Question 4.c.**\n",
    "What is the predicted share of expenditures spent on food for a single mother with two kids?\n",
    "\n",
    "<!--\n",
    "BEGIN QUESTION\n",
    "name: q4_c\n",
    "manual: true\n",
    "-->"
   ]
  },
  {
   "cell_type": "markdown",
   "metadata": {},
   "source": [
    "_Type your answer here, replacing this text._"
   ]
  },
  {
   "cell_type": "markdown",
   "metadata": {
    "cell_id": "00074-b42a1fff-e09a-49fb-a313-e839b676f3c7",
    "deepnote_cell_type": "markdown",
    "deletable": false,
    "editable": false
   },
   "source": [
    "<!-- END QUESTION -->\n",
    "\n",
    "<!-- BEGIN QUESTION -->\n",
    "\n",
    "**Question 4.d.**\n",
    "Now regress food share on the logarithm of family size. Do the regression results differ? How does the interpretation of the coefficient on log family size differ from the prior regression?\n",
    "\n",
    "This question is for your code, the next is for your explanation.\n",
    "\n",
    "<!--\n",
    "BEGIN QUESTION\n",
    "name: q4_d\n",
    "manual: true\n",
    "-->"
   ]
  },
  {
   "cell_type": "code",
   "execution_count": null,
   "metadata": {
    "cell_id": "00075-d0a67266-2f7d-47a3-ac32-cdbf87d70c54",
    "deepnote_cell_type": "code",
    "deepnote_to_be_reexecuted": false,
    "execution_millis": 12,
    "execution_start": 1613177798915,
    "source_hash": "7cef46e6"
   },
   "outputs": [],
   "source": [
    "ces['log_fam_size'] = ...\n",
    "y_4d = ...\n",
    "X_4d = ...\n",
    "model_4d = ...\n",
    "results_4d = ...\n",
    "results_4d.summary()"
   ]
  },
  {
   "cell_type": "markdown",
   "metadata": {
    "cell_id": "00076-9dabd647-2664-4f41-819c-671f42b469ae",
    "deepnote_cell_type": "markdown",
    "deletable": false,
    "editable": false
   },
   "source": [
    "<!-- END QUESTION -->\n",
    "\n",
    "<!-- BEGIN QUESTION -->\n",
    "\n",
    "**Question 4.e.**\n",
    "Explain.\n",
    "\n",
    "<!--\n",
    "BEGIN QUESTION\n",
    "name: q4_e\n",
    "manual: true\n",
    "-->"
   ]
  },
  {
   "cell_type": "markdown",
   "metadata": {},
   "source": [
    "_Type your answer here, replacing this text._"
   ]
  },
  {
   "cell_type": "markdown",
   "metadata": {
    "cell_id": "00076-6c2fdfb3-65b3-4a4b-b9b4-2177793f1452",
    "deepnote_cell_type": "markdown",
    "deletable": false,
    "editable": false,
    "tags": []
   },
   "source": [
    "<!-- END QUESTION -->\n",
    "\n",
    "<!-- BEGIN QUESTION -->\n",
    "\n",
    "**Question 4.f.**\n",
    "The $R^2$ is pretty small for both of the above regressions. Does this cast doubt on whether there is a relationship between family size and food share? Explain.\n",
    "\n",
    "<!--\n",
    "BEGIN QUESTION\n",
    "name: q4_f\n",
    "manual: true\n",
    "-->"
   ]
  },
  {
   "cell_type": "markdown",
   "metadata": {},
   "source": [
    "_Type your answer here, replacing this text._"
   ]
  },
  {
   "cell_type": "markdown",
   "metadata": {
    "cell_id": "00080-e7d5e806-2dac-40e5-9385-1e80a45e26e0",
    "deepnote_cell_type": "markdown",
    "deletable": false,
    "editable": false
   },
   "source": [
    "<!-- END QUESTION -->\n",
    "\n",
    "<!-- BEGIN QUESTION -->\n",
    "\n",
    "**Question 4.g.**\n",
    "The theory applies in particular to poor households whose food expenses are at a bare minimum. Rerun the same regression for families who expenditure per capita are less than \\\\$3,000. Does that change your answer to the previous question?\n",
    "\n",
    "*Hint: First you may need to create a new per capita expenditure variable.*\n",
    "\n",
    "This question is for your code, the next is for your explanation.\n",
    "\n",
    "<!--\n",
    "BEGIN QUESTION\n",
    "name: q4_g\n",
    "manual: true\n",
    "-->"
   ]
  },
  {
   "cell_type": "code",
   "execution_count": null,
   "metadata": {
    "cell_id": "00081-5408a0bd-dad0-4b5a-be6e-917b72c7325d",
    "deepnote_cell_type": "code",
    "deepnote_to_be_reexecuted": false,
    "execution_millis": 31,
    "execution_start": 1613177800660,
    "source_hash": "35172e44"
   },
   "outputs": [],
   "source": [
    "ces['exp_pc'] = ...\n",
    "ces_3000 = ...\n",
    "y_4g = ...\n",
    "X_4g = ...\n",
    "model_4g = ...\n",
    "results_4g = ...\n",
    "results_4g.summary()"
   ]
  },
  {
   "cell_type": "markdown",
   "metadata": {
    "cell_id": "00082-8cf3ec9c-b217-45c2-87cd-35cdcb5f8a31",
    "deepnote_cell_type": "markdown",
    "deletable": false,
    "editable": false
   },
   "source": [
    "<!-- END QUESTION -->\n",
    "\n",
    "<!-- BEGIN QUESTION -->\n",
    "\n",
    "**Question 4.h.**\n",
    "Explain.\n",
    "\n",
    "<!--\n",
    "BEGIN QUESTION\n",
    "name: q4_h\n",
    "manual: true\n",
    "-->"
   ]
  },
  {
   "cell_type": "markdown",
   "metadata": {},
   "source": [
    "_Type your answer here, replacing this text._"
   ]
  },
  {
   "cell_type": "markdown",
   "metadata": {
    "cell_id": "00082-0be88169-b533-4563-a72b-3a13a53dc496",
    "deepnote_cell_type": "markdown",
    "deletable": false,
    "editable": false,
    "tags": []
   },
   "source": [
    "<!-- END QUESTION -->\n",
    "\n",
    "<!-- BEGIN QUESTION -->\n",
    "\n",
    "**Question 4.i.**\n",
    "Now regress expenditure per capita on family size and interpret the coefficient. What does this tell you about the validity of your former results?\n",
    "\n",
    "This question is for your code, the next is for your explanation.\n",
    "\n",
    "<!--\n",
    "BEGIN QUESTION\n",
    "name: q4_i\n",
    "manual: true\n",
    "-->"
   ]
  },
  {
   "cell_type": "code",
   "execution_count": null,
   "metadata": {
    "cell_id": "00083-07fa53b7-c0c8-4cfa-b82a-956ff282ce31",
    "deepnote_cell_type": "code",
    "deepnote_to_be_reexecuted": false,
    "execution_millis": 22,
    "execution_start": 1613177802003,
    "source_hash": "d364a266",
    "tags": []
   },
   "outputs": [],
   "source": [
    "y_4i = ...\n",
    "X_4i = ...\n",
    "model_4i = ...\n",
    "results_4i = ...\n",
    "results_4i.summary()"
   ]
  },
  {
   "cell_type": "markdown",
   "metadata": {
    "cell_id": "00084-38ed8b7c-045f-47ae-a4e6-a23e441fc2ed",
    "deepnote_cell_type": "markdown",
    "deletable": false,
    "editable": false,
    "tags": []
   },
   "source": [
    "<!-- END QUESTION -->\n",
    "\n",
    "<!-- BEGIN QUESTION -->\n",
    "\n",
    "**Question 4.j.**\n",
    "Explain.\n",
    "\n",
    "<!--\n",
    "BEGIN QUESTION\n",
    "name: q4_j\n",
    "manual: true\n",
    "-->"
   ]
  },
  {
   "cell_type": "markdown",
   "metadata": {},
   "source": [
    "_Type your answer here, replacing this text._"
   ]
  },
  {
   "cell_type": "markdown",
   "metadata": {
    "cell_id": "00086-fdc1bd80-0ecd-484f-af71-6210c2ca02a4",
    "deepnote_cell_type": "markdown",
    "tags": []
   },
   "source": [
    "<!-- END QUESTION -->\n",
    "\n",
    "\n",
    "\n",
    "---"
   ]
  },
  {
   "cell_type": "markdown",
   "metadata": {
    "deletable": false,
    "editable": false
   },
   "source": [
    "## Submission\n",
    "\n",
    "Make sure you have run all cells in your notebook in order before running the cell below, so that all images/graphs appear in the output. The cell below will generate a zip file for you to submit. **Please save before exporting!**"
   ]
  },
  {
   "cell_type": "code",
   "execution_count": null,
   "metadata": {
    "deletable": false,
    "editable": false
   },
   "outputs": [],
   "source": [
    "# Save your notebook first, then run this cell to export your submission.\n",
    "grader.to_pdf(pagebreaks=False, display_link=True)"
   ]
  },
  {
   "cell_type": "markdown",
   "metadata": {},
   "source": [
    " "
   ]
  }
 ],
 "metadata": {
  "deepnote": {},
  "deepnote_execution_queue": [],
  "deepnote_notebook_id": "a6fee063-43b2-4f33-b933-c04f1a5c11f1",
  "history": [
   {
    "code": "crime = pd.read_stata(\"PS1data(campus crime).dta\")\ncrime.head()",
    "id": "6ff7917995244c5e86a88c19fa2d81e1",
    "idx": 44,
    "time": "2021-01-18T07:09:23.823Z",
    "type": "execution"
   },
   {
    "id": "6ff7917995244c5e86a88c19fa2d81e1",
    "time": "2021-01-18T07:09:23.936Z",
    "type": "completion"
   },
   {
    "code": "import numpy as np\nimport pandas as pd\nimport statsmodels.api as sm\nimport scipy",
    "id": "c077fd8ff0c749a6aa9264a01f374de5",
    "idx": 1,
    "time": "2021-01-18T07:09:27.098Z",
    "type": "execution"
   },
   {
    "id": "c077fd8ff0c749a6aa9264a01f374de5",
    "time": "2021-01-18T07:09:28.128Z",
    "type": "completion"
   },
   {
    "code": "crime = pd.read_stata(\"PS1data(campus crime).dta\")\ncrime.head()",
    "id": "6ff7917995244c5e86a88c19fa2d81e1",
    "idx": 44,
    "time": "2021-01-18T07:09:32.183Z",
    "type": "execution"
   },
   {
    "id": "6ff7917995244c5e86a88c19fa2d81e1",
    "time": "2021-01-18T07:09:32.279Z",
    "type": "completion"
   },
   {
    "code": "crime.describe()",
    "id": "135cbd699ea54ab18331f85ed0bf8823",
    "idx": 45,
    "time": "2021-01-18T07:11:03.161Z",
    "type": "execution"
   },
   {
    "id": "135cbd699ea54ab18331f85ed0bf8823",
    "time": "2021-01-18T07:11:03.251Z",
    "type": "completion"
   },
   {
    "code": "# This code cell is for question 2.a.\n",
    "id": "e46e3004a663426b85c8e39cc37dcdb0",
    "idx": 46,
    "time": "2021-01-18T07:24:16.050Z",
    "type": "execution"
   },
   {
    "id": "e46e3004a663426b85c8e39cc37dcdb0",
    "time": "2021-01-18T07:24:16.116Z",
    "type": "completion"
   },
   {
    "code": "pollution = pd.read_stata(\"PS1data(pollution).dta\")\npollution.head()",
    "id": "ade11aa832d5421ea99ca9c650c186be",
    "idx": 63,
    "time": "2021-01-18T07:59:56.188Z",
    "type": "execution"
   },
   {
    "id": "ade11aa832d5421ea99ca9c650c186be",
    "time": "2021-01-18T07:59:56.394Z",
    "type": "completion"
   },
   {
    "code": "import numpy as np\nimport pandas as pd\nimport scipy\nimport matplotlib.pyplot as plt",
    "id": "c077fd8ff0c749a6aa9264a01f374de5",
    "idx": 1,
    "time": "2021-01-18T08:10:35.509Z",
    "type": "execution"
   },
   {
    "id": "c077fd8ff0c749a6aa9264a01f374de5",
    "time": "2021-01-18T08:10:38.601Z",
    "type": "completion"
   },
   {
    "code": "plt.scatter()",
    "id": "6ea4c625a7ba46578b86fb5510d63287",
    "idx": 71,
    "time": "2021-01-18T08:10:48.711Z",
    "type": "execution"
   },
   {
    "id": "6ea4c625a7ba46578b86fb5510d63287",
    "time": "2021-01-18T08:10:48.861Z",
    "type": "completion"
   },
   {
    "code": "pollution = pd.read_stata(\"PS1data(pollution).dta\")\npollution.head()",
    "id": "ade11aa832d5421ea99ca9c650c186be",
    "idx": 63,
    "time": "2021-01-18T08:17:38.420Z",
    "type": "execution"
   },
   {
    "id": "ade11aa832d5421ea99ca9c650c186be",
    "time": "2021-01-18T08:17:38.560Z",
    "type": "completion"
   },
   {
    "code": "la = pd.read_stata(\"PS1data(LA wages).dta\")\nla.head()",
    "id": "9f9659cd5f024d7498664666f150a8f1",
    "idx": 75,
    "time": "2021-01-18T08:18:05.621Z",
    "type": "execution"
   },
   {
    "id": "9f9659cd5f024d7498664666f150a8f1",
    "time": "2021-01-18T08:18:05.838Z",
    "type": "completion"
   },
   {
    "code": "la['wage']",
    "id": "5e8c1ef38b9a4a2ea99e7007d38bdcfd",
    "idx": 77,
    "time": "2021-01-18T09:24:15.105Z",
    "type": "execution"
   },
   {
    "id": "5e8c1ef38b9a4a2ea99e7007d38bdcfd",
    "time": "2021-01-18T09:24:15.317Z",
    "type": "completion"
   },
   {
    "code": "import numpy as np\nimport pandas as pd\nimport scipy\nimport matplotlib.pyplot as plt",
    "id": "c077fd8ff0c749a6aa9264a01f374de5",
    "idx": 1,
    "time": "2021-01-18T09:24:20.258Z",
    "type": "execution"
   },
   {
    "id": "c077fd8ff0c749a6aa9264a01f374de5",
    "time": "2021-01-18T09:24:21.004Z",
    "type": "completion"
   },
   {
    "code": "la = pd.read_stata(\"PS1data(LA wages).dta\")\nla.head()",
    "id": "9f9659cd5f024d7498664666f150a8f1",
    "idx": 75,
    "time": "2021-01-18T09:24:24.656Z",
    "type": "execution"
   },
   {
    "id": "9f9659cd5f024d7498664666f150a8f1",
    "time": "2021-01-18T09:24:24.788Z",
    "type": "completion"
   },
   {
    "code": "la['wage']",
    "id": "5e8c1ef38b9a4a2ea99e7007d38bdcfd",
    "idx": 77,
    "time": "2021-01-18T09:24:26.726Z",
    "type": "execution"
   },
   {
    "id": "5e8c1ef38b9a4a2ea99e7007d38bdcfd",
    "time": "2021-01-18T09:24:26.831Z",
    "type": "completion"
   },
   {
    "code": "la['wage'].hist()",
    "id": "5e8c1ef38b9a4a2ea99e7007d38bdcfd",
    "idx": 77,
    "time": "2021-01-18T09:24:30.291Z",
    "type": "execution"
   },
   {
    "id": "5e8c1ef38b9a4a2ea99e7007d38bdcfd",
    "time": "2021-01-18T09:24:30.532Z",
    "type": "completion"
   },
   {
    "code": "la.hist(column='wage')",
    "id": "5e8c1ef38b9a4a2ea99e7007d38bdcfd",
    "idx": 77,
    "time": "2021-01-18T09:25:07.361Z",
    "type": "execution"
   },
   {
    "id": "5e8c1ef38b9a4a2ea99e7007d38bdcfd",
    "time": "2021-01-18T09:25:07.591Z",
    "type": "completion"
   },
   {
    "code": "la.hist(column='wage', bins=20)",
    "id": "5e8c1ef38b9a4a2ea99e7007d38bdcfd",
    "idx": 77,
    "time": "2021-01-18T09:25:31.566Z",
    "type": "execution"
   },
   {
    "id": "5e8c1ef38b9a4a2ea99e7007d38bdcfd",
    "time": "2021-01-18T09:25:31.792Z",
    "type": "completion"
   },
   {
    "code": "la.hist(column='wage', bins=80)",
    "id": "5e8c1ef38b9a4a2ea99e7007d38bdcfd",
    "idx": 77,
    "time": "2021-01-18T09:25:38.477Z",
    "type": "execution"
   },
   {
    "id": "5e8c1ef38b9a4a2ea99e7007d38bdcfd",
    "time": "2021-01-18T09:25:38.863Z",
    "type": "completion"
   },
   {
    "code": "la.hist(column='wage', bins=80, density=True)",
    "id": "5e8c1ef38b9a4a2ea99e7007d38bdcfd",
    "idx": 78,
    "time": "2021-01-18T09:32:17.612Z",
    "type": "execution"
   },
   {
    "id": "5e8c1ef38b9a4a2ea99e7007d38bdcfd",
    "time": "2021-01-18T09:32:17.947Z",
    "type": "completion"
   },
   {
    "code": "la.hist(column='wage', bins=2, density=True)",
    "id": "5e8c1ef38b9a4a2ea99e7007d38bdcfd",
    "idx": 78,
    "time": "2021-01-18T09:35:08.803Z",
    "type": "execution"
   },
   {
    "id": "5e8c1ef38b9a4a2ea99e7007d38bdcfd",
    "time": "2021-01-18T09:35:09.018Z",
    "type": "completion"
   },
   {
    "code": "la.hist(column='wage', bins=2, density=False)",
    "id": "5e8c1ef38b9a4a2ea99e7007d38bdcfd",
    "idx": 78,
    "time": "2021-01-18T09:35:20.210Z",
    "type": "execution"
   },
   {
    "id": "5e8c1ef38b9a4a2ea99e7007d38bdcfd",
    "time": "2021-01-18T09:35:20.394Z",
    "type": "completion"
   },
   {
    "code": "la.hist(column='wage', bins=2, density=True)",
    "id": "5e8c1ef38b9a4a2ea99e7007d38bdcfd",
    "idx": 78,
    "time": "2021-01-18T09:35:29.312Z",
    "type": "execution"
   },
   {
    "id": "5e8c1ef38b9a4a2ea99e7007d38bdcfd",
    "time": "2021-01-18T09:35:29.520Z",
    "type": "completion"
   },
   {
    "code": "plt.hist(la['wage'])",
    "id": "47e4aac55f07470c8fa51b2b90261851",
    "idx": 79,
    "time": "2021-01-18T09:35:42.316Z",
    "type": "execution"
   },
   {
    "id": "47e4aac55f07470c8fa51b2b90261851",
    "time": "2021-01-18T09:35:42.565Z",
    "type": "completion"
   },
   {
    "code": "plt.hist(la['wage'], bins=2)",
    "id": "47e4aac55f07470c8fa51b2b90261851",
    "idx": 79,
    "time": "2021-01-18T09:35:47.435Z",
    "type": "execution"
   },
   {
    "id": "47e4aac55f07470c8fa51b2b90261851",
    "time": "2021-01-18T09:35:47.611Z",
    "type": "completion"
   },
   {
    "code": "plt.hist(la['wage'], bins=2, density=True)",
    "id": "47e4aac55f07470c8fa51b2b90261851",
    "idx": 79,
    "time": "2021-01-18T09:35:52.150Z",
    "type": "execution"
   },
   {
    "id": "47e4aac55f07470c8fa51b2b90261851",
    "time": "2021-01-18T09:35:52.341Z",
    "type": "completion"
   },
   {
    "code": "la.hist(column='wage', bins=2)",
    "id": "5e8c1ef38b9a4a2ea99e7007d38bdcfd",
    "idx": 78,
    "time": "2021-01-18T09:37:29.191Z",
    "type": "execution"
   },
   {
    "id": "5e8c1ef38b9a4a2ea99e7007d38bdcfd",
    "time": "2021-01-18T09:37:29.385Z",
    "type": "completion"
   },
   {
    "code": "la.hist(column='wage', bins=80)",
    "id": "5e8c1ef38b9a4a2ea99e7007d38bdcfd",
    "idx": 78,
    "time": "2021-01-18T09:37:33.703Z",
    "type": "execution"
   },
   {
    "id": "5e8c1ef38b9a4a2ea99e7007d38bdcfd",
    "time": "2021-01-18T09:37:34.121Z",
    "type": "completion"
   },
   {
    "code": "la.hist(column='wage', bins=80);",
    "id": "5e8c1ef38b9a4a2ea99e7007d38bdcfd",
    "idx": 78,
    "time": "2021-01-18T09:38:29.829Z",
    "type": "execution"
   },
   {
    "id": "5e8c1ef38b9a4a2ea99e7007d38bdcfd",
    "time": "2021-01-18T09:38:30.184Z",
    "type": "completion"
   },
   {
    "code": "la.skew()",
    "id": "b72d792a6ced4f81854002eb6f256630",
    "idx": 79,
    "time": "2021-01-18T09:41:16.207Z",
    "type": "execution"
   },
   {
    "id": "b72d792a6ced4f81854002eb6f256630",
    "time": "2021-01-18T09:41:16.437Z",
    "type": "completion"
   },
   {
    "code": "la['education'].value_counts()",
    "id": "e1f798625e02470185f6ca12c36a1ed9",
    "idx": 82,
    "time": "2021-01-18T09:51:54.245Z",
    "type": "execution"
   },
   {
    "id": "e1f798625e02470185f6ca12c36a1ed9",
    "time": "2021-01-18T09:51:54.483Z",
    "type": "completion"
   },
   {
    "code": "la['education'].value_counts(sort=False)",
    "id": "e1f798625e02470185f6ca12c36a1ed9",
    "idx": 82,
    "time": "2021-01-18T09:52:17.915Z",
    "type": "execution"
   },
   {
    "id": "e1f798625e02470185f6ca12c36a1ed9",
    "time": "2021-01-18T09:52:18.043Z",
    "type": "completion"
   },
   {
    "code": "la.value_counts(sort=False)",
    "id": "e1f798625e02470185f6ca12c36a1ed9",
    "idx": 84,
    "time": "2021-01-18T09:55:32.462Z",
    "type": "execution"
   },
   {
    "id": "e1f798625e02470185f6ca12c36a1ed9",
    "time": "2021-01-18T09:55:32.557Z",
    "type": "completion"
   },
   {
    "code": "la.value_counts(subset='education', sort=False)",
    "id": "e1f798625e02470185f6ca12c36a1ed9",
    "idx": 84,
    "time": "2021-01-18T09:55:44.949Z",
    "type": "execution"
   },
   {
    "id": "e1f798625e02470185f6ca12c36a1ed9",
    "time": "2021-01-18T09:55:45.051Z",
    "type": "completion"
   },
   {
    "code": "la.value_counts(subset='education', sort=False, normalize=True)",
    "id": "e1f798625e02470185f6ca12c36a1ed9",
    "idx": 84,
    "time": "2021-01-18T09:56:21.567Z",
    "type": "execution"
   },
   {
    "id": "e1f798625e02470185f6ca12c36a1ed9",
    "time": "2021-01-18T09:56:21.684Z",
    "type": "completion"
   },
   {
    "code": "\"\"\" # BEGIN PROMPT\nnba['payoff'] = ...\n\nnba_guard = ...\nnba_not_guard = ...\n\nttest_1j = scipy.stats.ttest_ind(..., ...)\n\ntstat_1j = ttest_1j.statistic\npval_1j = ttest_1j.pvalue\n\"\"\" # END PROMPT\n# BEGIN SOLUTION NO PROMPT\nnba['payoff'] = nba['index'] / nba['wage']\n\nnba_guard = nba[nba['guard'] == 1]\nnba_not_guard = nba[nba['guard'] == 0]\n\nttest_1j = scipy.stats.ttest_ind(nba_guard['payoff'], nba_not_guard['payoff'])\n\ntstat_1j = ttest_1j.statistic\npval_1j = ttest_1j.pvalue\n# END SOLUTION\n\nprint(\"t-stat: {}\".format(tstat_1j))\nprint(\"p-value: {}\".format(pval_1j))",
    "id": "49e0c29ac3324d018fd3ddcb268cace1",
    "idx": 24,
    "time": "2021-01-18T10:25:51.299Z",
    "type": "execution"
   },
   {
    "id": "49e0c29ac3324d018fd3ddcb268cace1",
    "time": "2021-01-18T10:25:51.432Z",
    "type": "completion"
   },
   {
    "code": "nba = pd.read_stata(\"PS1data(NBA).dta\")\nnba.head()",
    "id": "4e02ffc0b72a40e9874ce8b8316d398d",
    "idx": 4,
    "time": "2021-01-18T10:29:02.028Z",
    "type": "execution"
   },
   {
    "id": "4e02ffc0b72a40e9874ce8b8316d398d",
    "time": "2021-01-18T10:29:02.224Z",
    "type": "completion"
   },
   {
    "code": "\"\"\" # BEGIN PROMPT\nnba_guard = ...\nnba_not_guard = ...\n\nttest_1a = scipy.stats.ttest_ind(..., ...)\n\ntstat_1a = ttest_1a.statistic\npval_1a = ttest_1a.pvalue\n\"\"\" # END PROMPT\n# BEGIN SOLUTION NO PROMPT\nnba_guard = nba[nba['guard'] == 1]\nnba_not_guard = nba[nba['guard'] == 0]\n\nttest_1a = scipy.stats.ttest_ind(nba_guard['wage'], nba_not_guard['wage'])\n\ntstat_1a = ttest_1a.statistic\npval_1a = ttest_1a.pvalue\n# END SOLUTION\n\nprint(\"t-stat: {}\".format(tstat_1a))\nprint(\"p-value: {}\".format(pval_1a))",
    "id": "cee70a4e21134d118f6fd5e8d61db10a",
    "idx": 6,
    "time": "2021-01-18T10:29:02.380Z",
    "type": "execution"
   },
   {
    "id": "cee70a4e21134d118f6fd5e8d61db10a",
    "time": "2021-01-18T10:29:02.477Z",
    "type": "completion"
   },
   {
    "code": "\"\"\" # BEGIN PROMPT\nnba['degree'] = ...\n\nnba_degree = ...\nnba_no_degree = ...\n\nttest_1c = scipy.stats.ttest_ind(..., ...)\n\ntstat_1c = ttest_1c.statistic\npval_1c = ttest_1c.pvalue\n\"\"\" # END PROMPT\n# BEGIN SOLUTION NO PROMPT\nnba['degree'] = nba['coll'] >= 4\n\nnba_degree = nba[nba['degree'] == True]\nnba_no_degree = nba[nba['degree'] == False]\n\nttest_1c = scipy.stats.ttest_ind(nba_degree['wage'], nba_no_degree['wage'])\n\ntstat_1c = ttest_1c.statistic\npval_1c = ttest_1c.pvalue\n# END SOLUTION\n\nprint(\"t-stat: {}\".format(tstat_1c))\nprint(\"p-value: {}\".format(pval_1c))",
    "id": "f24dc03a82554ba58d97ec7cdf9bd782",
    "idx": 10,
    "time": "2021-01-18T10:29:03.074Z",
    "type": "execution"
   },
   {
    "id": "f24dc03a82554ba58d97ec7cdf9bd782",
    "time": "2021-01-18T10:29:03.145Z",
    "type": "completion"
   },
   {
    "code": "\"\"\" # BEGIN PROMPT\nnba['productivity'] = ...\n\nnba_guard = ...\nnba_not_guard = ...\n\nttest_1e = scipy.stats.ttest_ind(..., ...)\n\ntstat_1e = ttest_1e.statistic\npval_1e = ttest_1e.pvalue\n\"\"\" # END PROMPT\n# BEGIN SOLUTION NO PROMPT\nnba['productivity'] = nba['points'] / (nba['minutes'] / nba['games'])\n\nnba_guard = nba[nba['guard'] == 1]\nnba_not_guard = nba[nba['guard'] == 0]\n\nttest_1e = scipy.stats.ttest_ind(nba_guard['productivity'], nba_not_guard['productivity'])\n\ntstat_1e = ttest_1e.statistic\npval_1e = ttest_1e.pvalue\n# END SOLUTION\n\nprint(\"t-stat: {}\".format(tstat_1e))\nprint(\"p-value: {}\".format(pval_1e))",
    "id": "2da5d4823b87454298e702f7068e8c83",
    "idx": 14,
    "time": "2021-01-18T10:29:04.040Z",
    "type": "execution"
   },
   {
    "id": "2da5d4823b87454298e702f7068e8c83",
    "time": "2021-01-18T10:29:04.200Z",
    "type": "completion"
   },
   {
    "code": "import numpy as np\nimport pandas as pd\nfrom scipy import stats\nimport matplotlib.pyplot as plt",
    "id": "c077fd8ff0c749a6aa9264a01f374de5",
    "idx": 1,
    "time": "2021-01-18T10:29:54.240Z",
    "type": "execution"
   },
   {
    "id": "c077fd8ff0c749a6aa9264a01f374de5",
    "time": "2021-01-18T10:29:54.576Z",
    "type": "completion"
   },
   {
    "code": "\"\"\" # BEGIN PROMPT\nnba_guard = ...\nnba_not_guard = ...\n\nttest_1a = scipy.stats.ttest_ind(..., ...)\n\ntstat_1a = ttest_1a.statistic\npval_1a = ttest_1a.pvalue\n\"\"\" # END PROMPT\n# BEGIN SOLUTION NO PROMPT\nnba_guard = nba[nba['guard'] == 1]\nnba_not_guard = nba[nba['guard'] == 0]\n\nttest_1a = stats.ttest_ind(nba_guard['wage'], nba_not_guard['wage'])\n\ntstat_1a = ttest_1a.statistic\npval_1a = ttest_1a.pvalue\n# END SOLUTION\n\nprint(\"t-stat: {}\".format(tstat_1a))\nprint(\"p-value: {}\".format(pval_1a))",
    "id": "cee70a4e21134d118f6fd5e8d61db10a",
    "idx": 6,
    "time": "2021-01-18T10:30:03.679Z",
    "type": "execution"
   },
   {
    "id": "cee70a4e21134d118f6fd5e8d61db10a",
    "time": "2021-01-18T10:30:03.771Z",
    "type": "completion"
   },
   {
    "code": "nba = pd.read_stata(\"PS1data(NBA).dta\")\nnba.head()",
    "id": "4e02ffc0b72a40e9874ce8b8316d398d",
    "idx": 4,
    "time": "2021-01-18T10:30:42.527Z",
    "type": "execution"
   },
   {
    "id": "4e02ffc0b72a40e9874ce8b8316d398d",
    "time": "2021-01-18T10:30:42.658Z",
    "type": "completion"
   },
   {
    "code": "\"\"\" # BEGIN PROMPT\nnba_guard = ...\nnba_not_guard = ...\n\nttest_1a = scipy.stats.ttest_ind(..., ...)\n\ntstat_1a = ttest_1a.statistic\npval_1a = ttest_1a.pvalue\n\"\"\" # END PROMPT\n# BEGIN SOLUTION NO PROMPT\nnba_guard = nba[nba['guard'] == 1]\nnba_not_guard = nba[nba['guard'] == 0]\n\nttest_1a = stats.ttest_ind(nba_guard['wage'], nba_not_guard['wage'])\n\ntstat_1a = ttest_1a.statistic\npval_1a = ttest_1a.pvalue\n# END SOLUTION\n\nprint(\"t-stat: {}\".format(tstat_1a))\nprint(\"p-value: {}\".format(pval_1a))",
    "id": "cee70a4e21134d118f6fd5e8d61db10a",
    "idx": 6,
    "time": "2021-01-18T10:30:43.042Z",
    "type": "execution"
   },
   {
    "id": "cee70a4e21134d118f6fd5e8d61db10a",
    "time": "2021-01-18T10:30:43.105Z",
    "type": "completion"
   },
   {
    "code": "\"\"\" # BEGIN PROMPT\nnba['degree'] = ...\n\nnba_degree = ...\nnba_no_degree = ...\n\nttest_1c = scipy.stats.ttest_ind(..., ...)\n\ntstat_1c = ttest_1c.statistic\npval_1c = ttest_1c.pvalue\n\"\"\" # END PROMPT\n# BEGIN SOLUTION NO PROMPT\nnba['degree'] = nba['coll'] >= 4\n\nnba_degree = nba[nba['degree'] == True]\nnba_no_degree = nba[nba['degree'] == False]\n\nttest_1c = stats.ttest_ind(nba_degree['wage'], nba_no_degree['wage'])\n\ntstat_1c = ttest_1c.statistic\npval_1c = ttest_1c.pvalue\n# END SOLUTION\n\nprint(\"t-stat: {}\".format(tstat_1c))\nprint(\"p-value: {}\".format(pval_1c))",
    "id": "f24dc03a82554ba58d97ec7cdf9bd782",
    "idx": 10,
    "time": "2021-01-18T10:30:43.999Z",
    "type": "execution"
   },
   {
    "id": "f24dc03a82554ba58d97ec7cdf9bd782",
    "time": "2021-01-18T10:30:44.068Z",
    "type": "completion"
   },
   {
    "code": "\"\"\" # BEGIN PROMPT\nnba['productivity'] = ...\n\nnba_guard = ...\nnba_not_guard = ...\n\nttest_1e = scipy.stats.ttest_ind(..., ...)\n\ntstat_1e = ttest_1e.statistic\npval_1e = ttest_1e.pvalue\n\"\"\" # END PROMPT\n# BEGIN SOLUTION NO PROMPT\nnba['productivity'] = nba['points'] / (nba['minutes'] / nba['games'])\n\nnba_guard = nba[nba['guard'] == 1]\nnba_not_guard = nba[nba['guard'] == 0]\n\nttest_1e = stats.ttest_ind(nba_guard['productivity'], nba_not_guard['productivity'])\n\ntstat_1e = ttest_1e.statistic\npval_1e = ttest_1e.pvalue\n# END SOLUTION\n\nprint(\"t-stat: {}\".format(tstat_1e))\nprint(\"p-value: {}\".format(pval_1e))",
    "id": "2da5d4823b87454298e702f7068e8c83",
    "idx": 14,
    "time": "2021-01-18T10:30:44.853Z",
    "type": "execution"
   },
   {
    "id": "2da5d4823b87454298e702f7068e8c83",
    "time": "2021-01-18T10:30:45.008Z",
    "type": "completion"
   },
   {
    "code": "\"\"\" # BEGIN PROMPT\nnba[['points', 'assists', 'rebounds']]...\n\"\"\" # END PROMPT\n# BEGIN SOLUTION NO PROMPT\nnba[['points', 'assists', 'rebounds']].corr()\n# END SOLUTION",
    "id": "30afb0cb97244a558ebe345270a1a95d",
    "idx": 18,
    "time": "2021-01-18T10:30:45.710Z",
    "type": "execution"
   },
   {
    "id": "30afb0cb97244a558ebe345270a1a95d",
    "time": "2021-01-18T10:30:45.781Z",
    "type": "completion"
   },
   {
    "code": "\"\"\" # BEGIN PROMPT\nnba['index'] = ...\n\nnba_guard = ...\nnba_not_guard = ...\n\nttest_1h = scipy.stats.ttest_ind(..., ...)\n\ntstat_1h = ttest_1h.statistic\npval_1h = ttest_1h.pvalue\n\"\"\" # END PROMPT\n# BEGIN SOLUTION NO PROMPT\nnba['index'] = nba['points'] + nba['rebounds'] + 2 * nba['assists']\n\nnba_guard = nba[nba['guard'] == 1]\nnba_not_guard = nba[nba['guard'] == 0]\n\nttest_1h = stats.ttest_ind(nba_guard['index'], nba_not_guard['index'])\n\ntstat_1h = ttest_1h.statistic\npval_1h = ttest_1h.pvalue\n# END SOLUTION\n\nprint(\"t-stat: {}\".format(tstat_1h))\nprint(\"p-value: {}\".format(pval_1h))",
    "id": "e5b73a86b2144faf88acd54b6d05f8ea",
    "idx": 20,
    "time": "2021-01-18T10:30:46.316Z",
    "type": "execution"
   },
   {
    "id": "e5b73a86b2144faf88acd54b6d05f8ea",
    "time": "2021-01-18T10:30:46.383Z",
    "type": "completion"
   },
   {
    "code": "\"\"\" # BEGIN PROMPT\nnba['payoff'] = ...\n\nnba_guard = ...\nnba_not_guard = ...\n\nttest_1j = scipy.stats.ttest_ind(..., ...)\n\ntstat_1j = ttest_1j.statistic\npval_1j = ttest_1j.pvalue\n\"\"\" # END PROMPT\n# BEGIN SOLUTION NO PROMPT\nnba['payoff'] = nba['index'] / nba['wage']\n\nnba_guard = nba[nba['guard'] == 1]\nnba_not_guard = nba[nba['guard'] == 0]\n\nttest_1j = stats.ttest_ind(nba_guard['payoff'], nba_not_guard['payoff'])\n\ntstat_1j = ttest_1j.statistic\npval_1j = ttest_1j.pvalue\n# END SOLUTION\n\nprint(\"t-stat: {}\".format(tstat_1j))\nprint(\"p-value: {}\".format(pval_1j))",
    "id": "49e0c29ac3324d018fd3ddcb268cace1",
    "idx": 24,
    "time": "2021-01-18T10:30:47.745Z",
    "type": "execution"
   },
   {
    "id": "49e0c29ac3324d018fd3ddcb268cace1",
    "time": "2021-01-18T10:30:47.812Z",
    "type": "completion"
   },
   {
    "code": "crime = pd.read_stata(\"PS1data(campus crime).dta\")\ncrime.head()",
    "id": "6ff7917995244c5e86a88c19fa2d81e1",
    "idx": 29,
    "time": "2021-01-18T10:34:07.212Z",
    "type": "execution"
   },
   {
    "id": "6ff7917995244c5e86a88c19fa2d81e1",
    "time": "2021-01-18T10:34:07.390Z",
    "type": "completion"
   },
   {
    "code": "\"\"\" # BEGIN PROMPT\nnba[['points', 'assists', 'rebounds']]...\n\"\"\" # END PROMPT\n# BEGIN SOLUTION NO PROMPT\ncrime[['enrollment', 'police', 'crime']].corr()\n# END SOLUTION",
    "id": "d74873905bfd4340b71e4cce6131ea46",
    "idx": 35,
    "time": "2021-01-18T10:37:31.407Z",
    "type": "execution"
   },
   {
    "id": "d74873905bfd4340b71e4cce6131ea46",
    "time": "2021-01-18T10:37:31.548Z",
    "type": "completion"
   },
   {
    "code": "\"\"\" # BEGIN PROMPT\nnba['payoff'] = ...\n\nnba_guard = ...\nnba_not_guard = ...\n\nttest_1j = stats.ttest_ind(..., ...)\n\ntstat_1j = ttest_1j.statistic\npval_1j = ttest_1j.pvalue\n\"\"\" # END PROMPT\n# BEGIN SOLUTION NO PROMPT\ncrime_public = crime[crime['private'] == 0]\ncrime_private = crime[crime['private'] == 1]\n\nttest_2d = stats.ttest_ind(crime_public['crime'], crime_private['crime'])\n\ntstat_2d = ttest_2d.statistic\npval_2d = ttest_2d.pvalue\n# END SOLUTION\n\nprint(\"t-stat: {}\".format(tstat_1j))\nprint(\"p-value: {}\".format(pval_1j))",
    "id": "c9d2cf08e29b4f5a820b0cedce77a3e6",
    "idx": 39,
    "time": "2021-01-18T10:46:42.327Z",
    "type": "execution"
   },
   {
    "id": "c9d2cf08e29b4f5a820b0cedce77a3e6",
    "time": "2021-01-18T10:46:42.625Z",
    "type": "completion"
   },
   {
    "code": "\"\"\" # BEGIN PROMPT\nnba['payoff'] = ...\n\nnba_guard = ...\nnba_not_guard = ...\n\nttest_1j = stats.ttest_ind(..., ...)\n\ntstat_1j = ttest_1j.statistic\npval_1j = ttest_1j.pvalue\n\"\"\" # END PROMPT\n# BEGIN SOLUTION NO PROMPT\ncrime_public = crime[crime['private'] == 0]\ncrime_private = crime[crime['private'] == 1]\n\nttest_2d = stats.ttest_ind(crime_public['crime'], crime_private['crime'], equal_var=False)\n\ntstat_2d = ttest_2d.statistic\npval_2d = ttest_2d.pvalue\n# END SOLUTION\n\nprint(\"t-stat: {}\".format(tstat_1j))\nprint(\"p-value: {}\".format(pval_1j))",
    "id": "c9d2cf08e29b4f5a820b0cedce77a3e6",
    "idx": 39,
    "time": "2021-01-18T10:47:23.344Z",
    "type": "execution"
   },
   {
    "id": "c9d2cf08e29b4f5a820b0cedce77a3e6",
    "time": "2021-01-18T10:47:23.417Z",
    "type": "completion"
   },
   {
    "code": "crime = pd.read_stata(\"PS1data(campus crime).dta\")\ncrime.head()",
    "id": "6ff7917995244c5e86a88c19fa2d81e1",
    "idx": 29,
    "time": "2021-01-18T10:48:59.542Z",
    "type": "execution"
   },
   {
    "id": "6ff7917995244c5e86a88c19fa2d81e1",
    "time": "2021-01-18T10:48:59.741Z",
    "type": "completion"
   },
   {
    "code": "# This code cell is for question 2.a.\n",
    "id": "e46e3004a663426b85c8e39cc37dcdb0",
    "idx": 30,
    "time": "2021-01-18T10:49:01.196Z",
    "type": "execution"
   },
   {
    "id": "e46e3004a663426b85c8e39cc37dcdb0",
    "time": "2021-01-18T10:49:01.255Z",
    "type": "completion"
   },
   {
    "code": "\"\"\" # BEGIN PROMPT\ncrime[['enrollment', 'police', 'crime']]...\n\"\"\" # END PROMPT\n# BEGIN SOLUTION NO PROMPT\ncrime[['enrollment', 'police', 'crime']].corr()\n# END SOLUTION",
    "id": "d74873905bfd4340b71e4cce6131ea46",
    "idx": 35,
    "time": "2021-01-18T10:49:04.029Z",
    "type": "execution"
   },
   {
    "id": "d74873905bfd4340b71e4cce6131ea46",
    "time": "2021-01-18T10:49:04.151Z",
    "type": "completion"
   },
   {
    "code": "\"\"\" # BEGIN PROMPT\nnba['payoff'] = ...\n\nnba_guard = ...\nnba_not_guard = ...\n\nttest_1j = stats.ttest_ind(..., ...)\n\ntstat_1j = ttest_1j.statistic\npval_1j = ttest_1j.pvalue\n\"\"\" # END PROMPT\n# BEGIN SOLUTION NO PROMPT\ncrime_public = crime[crime['private'] == 0]\ncrime_private = crime[crime['private'] == 1]\n\nttest_2d = stats.ttest_ind(crime_public['crime'], crime_private['crime'], equal_var=False)\n\ntstat_2d = ttest_2d.statistic\npval_2d = ttest_2d.pvalue\n# END SOLUTION\n\nprint(\"t-stat: {}\".format(tstat_1j))\nprint(\"p-value: {}\".format(pval_1j))",
    "id": "c9d2cf08e29b4f5a820b0cedce77a3e6",
    "idx": 39,
    "time": "2021-01-18T10:49:11.342Z",
    "type": "execution"
   },
   {
    "id": "c9d2cf08e29b4f5a820b0cedce77a3e6",
    "time": "2021-01-18T10:49:11.420Z",
    "type": "completion"
   },
   {
    "code": "\"\"\" # BEGIN PROMPT\nnba['payoff'] = ...\n\nnba_guard = ...\nnba_not_guard = ...\n\nttest_1j = stats.ttest_ind(..., ...)\n\ntstat_1j = ttest_1j.statistic\npval_1j = ttest_1j.pvalue\n\"\"\" # END PROMPT\n# BEGIN SOLUTION NO PROMPT\ncrime_public = crime[crime['private'] == 0]\ncrime_private = crime[crime['private'] == 1]\n\nttest_2d = stats.ttest_ind(crime_public['crime'], crime_private['crime'], equal_var=False)\n\ntstat_2d = ttest_2d.statistic\npval_2d = ttest_2d.pvalue\n# END SOLUTION\n\nprint(\"t-stat: {}\".format(tstat_2d))\nprint(\"p-value: {}\".format(pval_2d))",
    "id": "c9d2cf08e29b4f5a820b0cedce77a3e6",
    "idx": 39,
    "time": "2021-01-18T10:49:19.049Z",
    "type": "execution"
   },
   {
    "id": "c9d2cf08e29b4f5a820b0cedce77a3e6",
    "time": "2021-01-18T10:49:19.113Z",
    "type": "completion"
   },
   {
    "code": "\"\"\" # BEGIN PROMPT\nnba['payoff'] = ...\n\nnba_guard = ...\nnba_not_guard = ...\n\nttest_1j = stats.ttest_ind(..., ...)\n\ntstat_1j = ttest_1j.statistic\npval_1j = ttest_1j.pvalue\n\"\"\" # END PROMPT\n# BEGIN SOLUTION NO PROMPT\ncrime_public = crime[crime['private'] == 0]\ncrime_private = crime[crime['private'] == 1]\n\nttest_2d_unequal_var = stats.ttest_ind(crime_public['crime'], crime_private['crime'], equal_var=False)\n\ntstat_2d_unequal = ttest_2d_unequal_var.statistic\npval_2d_unequal = ttest_2d_unequal_var.pvalue\n\nttest_2d_equal_var = stats.ttest_ind(crime_public['crime'], crime_private['crime'])\n\ntstat_2d_equal = ttest_2d_equal_var.statistic\npval_2d_equal = ttest_2d_equal_var.pvalue\n# END SOLUTION\n\nprint(\"t-stat unequal variance: {}\".format(tstat_2d_unequal))\nprint(\"p-value unequal variance: {}\".format(pval_2d_unequal))\nprint(\"t-stat equal variance: {}\".format(tstat_2d_equal))\nprint(\"p-value equal variance: {}\".format(pval_2d_equal))",
    "id": "c9d2cf08e29b4f5a820b0cedce77a3e6",
    "idx": 39,
    "time": "2021-01-18T10:51:42.603Z",
    "type": "execution"
   },
   {
    "id": "c9d2cf08e29b4f5a820b0cedce77a3e6",
    "time": "2021-01-18T10:51:43.089Z",
    "type": "completion"
   },
   {
    "code": "\"\"\" # BEGIN PROMPT\ncrime_public = ...\ncrime_private = ...\n\nttest_2d_unequal_var = stats.ttest_ind(..., ..., ...)\n\ntstat_2d_unequal = ttest_2d_unequal_var.statistic\npval_2d_unequal = ttest_2d_unequal_var.pvalue\n\nttest_2d_equal_var = stats.ttest_ind(..., ...)\n\ntstat_2d_equal = ttest_2d_equal_var.statistic\npval_2d_equal = ttest_2d_equal_var.pvalue\n\"\"\" # END PROMPT\n# BEGIN SOLUTION NO PROMPT\ncrime['crimerate'] = 1000 * crime['crime'] / crime['enrollment']\n\ncrime_public = crime[crime['private'] == 0]\ncrime_private = crime[crime['private'] == 1]\n\nttest_2d_unequal_var = stats.ttest_ind(crime_public['crimerate'], crime_private['crimerate'], equal_var=False)\n\ntstat_2d_unequal = ttest_2d_unequal_var.statistic\npval_2d_unequal = ttest_2d_unequal_var.pvalue\n\nttest_2d_equal_var = stats.ttest_ind(crime_public['crimerate'], crime_private['crimerate'])\n\ntstat_2d_equal = ttest_2d_equal_var.statistic\npval_2d_equal = ttest_2d_equal_var.pvalue\n# END SOLUTION\n\nprint(\"t-stat unequal variance: {}\".format(tstat_2d_unequal))\nprint(\"p-value unequal variance: {}\".format(pval_2d_unequal))\nprint(\"t-stat equal variance: {}\".format(tstat_2d_equal))\nprint(\"p-value equal variance: {}\".format(pval_2d_equal))",
    "id": "234486f94b4d47e189fdf89ff048a1e4",
    "idx": 43,
    "time": "2021-01-18T10:54:33.916Z",
    "type": "execution"
   },
   {
    "id": "234486f94b4d47e189fdf89ff048a1e4",
    "time": "2021-01-18T10:54:34.029Z",
    "type": "completion"
   },
   {
    "code": "\"\"\" # BEGIN PROMPT\ncrime_public = ...\ncrime_private = ...\n\nttest_2d_unequal_var = stats.ttest_ind(..., ..., ...)\n\ntstat_2d_unequal = ttest_2d_unequal_var.statistic\npval_2d_unequal = ttest_2d_unequal_var.pvalue\n\nttest_2d_equal_var = stats.ttest_ind(..., ...)\n\ntstat_2d_equal = ttest_2d_equal_var.statistic\npval_2d_equal = ttest_2d_equal_var.pvalue\n\"\"\" # END PROMPT\n# BEGIN SOLUTION NO PROMPT\ncrime['crimerate'] = 1000 * crime['crime'] / crime['enrollment']\n\ncrime_public = crime[crime['private'] == 0]\ncrime_private = crime[crime['private'] == 1]\n\nttest_2f_unequal_var = stats.ttest_ind(crime_public['crimerate'], crime_private['crimerate'], equal_var=False)\n\ntstat_2f_unequal = ttest_2f_unequal_var.statistic\npval_2f_unequal = ttest_2f_unequal_var.pvalue\n\nttest_2f_equal_var = stats.ttest_ind(crime_public['crimerate'], crime_private['crimerate'])\n\ntstat_2f_equal = ttest_2f_equal_var.statistic\npval_2f_equal = ttest_2f_equal_var.pvalue\n# END SOLUTION\n\nprint(\"t-stat unequal variance: {}\".format(tstat_2f_unequal))\nprint(\"p-value unequal variance: {}\".format(pval_2f_unequal))\nprint(\"t-stat equal variance: {}\".format(tstat_2f_equal))\nprint(\"p-value equal variance: {}\".format(pval_2f_equal))",
    "id": "234486f94b4d47e189fdf89ff048a1e4",
    "idx": 43,
    "time": "2021-01-18T10:55:16.621Z",
    "type": "execution"
   },
   {
    "id": "234486f94b4d47e189fdf89ff048a1e4",
    "time": "2021-01-18T10:55:16.732Z",
    "type": "completion"
   },
   {
    "code": "\"\"\" # BEGIN PROMPT\ncrime_public = ...\ncrime_private = ...\n\nttest_2d_unequal_var = stats.ttest_ind(..., ..., ...)\n\ntstat_2d_unequal = ttest_2d_unequal_var.statistic\npval_2d_unequal = ttest_2d_unequal_var.pvalue\n\nttest_2d_equal_var = stats.ttest_ind(..., ...)\n\ntstat_2d_equal = ttest_2d_equal_var.statistic\npval_2d_equal = ttest_2d_equal_var.pvalue\n\"\"\" # END PROMPT\n# BEGIN SOLUTION NO PROMPT\ncrime['crimerate'] = 1000 * (crime['crime'] / crime['enrollment'])\n\ncrime_public = crime[crime['private'] == 0]\ncrime_private = crime[crime['private'] == 1]\n\nttest_2f_unequal_var = stats.ttest_ind(crime_public['crimerate'], crime_private['crimerate'], equal_var=False)\n\ntstat_2f_unequal = ttest_2f_unequal_var.statistic\npval_2f_unequal = ttest_2f_unequal_var.pvalue\n\nttest_2f_equal_var = stats.ttest_ind(crime_public['crimerate'], crime_private['crimerate'])\n\ntstat_2f_equal = ttest_2f_equal_var.statistic\npval_2f_equal = ttest_2f_equal_var.pvalue\n# END SOLUTION\n\nprint(\"t-stat unequal variance: {}\".format(tstat_2f_unequal))\nprint(\"p-value unequal variance: {}\".format(pval_2f_unequal))\nprint(\"t-stat equal variance: {}\".format(tstat_2f_equal))\nprint(\"p-value equal variance: {}\".format(pval_2f_equal))",
    "id": "234486f94b4d47e189fdf89ff048a1e4",
    "idx": 43,
    "time": "2021-01-18T10:55:37.343Z",
    "type": "execution"
   },
   {
    "id": "234486f94b4d47e189fdf89ff048a1e4",
    "time": "2021-01-18T10:55:37.452Z",
    "type": "completion"
   },
   {
    "code": "import numpy as np\nimport pandas as pd\nfrom scipy import stats\nimport matplotlib.pyplot as plt",
    "id": "458e59d49de5470a90af3fc5deee55c5",
    "idx": 1,
    "time": "2021-01-18T19:53:00.499Z",
    "type": "execution"
   },
   {
    "code": "nba = pd.read_stata(\"PS1data(NBA).dta\")\nnba.head()",
    "id": "471a6507023840699078daa57f905478",
    "idx": 4,
    "time": "2021-01-18T19:53:01.027Z",
    "type": "execution"
   },
   {
    "code": "\"\"\" # BEGIN PROMPT\nnba_guard = ...\nnba_not_guard = ...\n\nttest_1a = stats.ttest_ind(..., ...)\n\ntstat_1a = ttest_1a.statistic\npval_1a = ttest_1a.pvalue\n\"\"\" # END PROMPT\n# BEGIN SOLUTION NO PROMPT\nnba_guard = nba[nba['guard'] == 1]\nnba_not_guard = nba[nba['guard'] == 0]\n\nttest_1a = stats.ttest_ind(nba_guard['wage'], nba_not_guard['wage'])\n\ntstat_1a = ttest_1a.statistic\npval_1a = ttest_1a.pvalue\n# END SOLUTION\n\nprint(\"t-stat: {}\".format(tstat_1a))\nprint(\"p-value: {}\".format(pval_1a))",
    "id": "a1eec07cfbe84189b4233e64dd52c3bb",
    "idx": 6,
    "time": "2021-01-18T19:53:01.351Z",
    "type": "execution"
   },
   {
    "id": "458e59d49de5470a90af3fc5deee55c5",
    "time": "2021-01-18T19:53:01.408Z",
    "type": "completion"
   },
   {
    "id": "471a6507023840699078daa57f905478",
    "time": "2021-01-18T19:53:01.446Z",
    "type": "completion"
   },
   {
    "id": "a1eec07cfbe84189b4233e64dd52c3bb",
    "time": "2021-01-18T19:53:01.505Z",
    "type": "completion"
   },
   {
    "code": "\"\"\" # BEGIN PROMPT\nnba['degree'] = ...\n\nnba_degree = ...\nnba_no_degree = ...\n\nttest_1c = stats.ttest_ind(..., ...)\n\ntstat_1c = ttest_1c.statistic\npval_1c = ttest_1c.pvalue\n\"\"\" # END PROMPT\n# BEGIN SOLUTION NO PROMPT\nnba['degree'] = nba['coll'] >= 4\n\nnba_degree = nba[nba['degree'] == True]\nnba_no_degree = nba[nba['degree'] == False]\n\nttest_1c = stats.ttest_ind(nba_degree['wage'], nba_no_degree['wage'])\n\ntstat_1c = ttest_1c.statistic\npval_1c = ttest_1c.pvalue\n# END SOLUTION\n\nprint(\"t-stat: {}\".format(tstat_1c))\nprint(\"p-value: {}\".format(pval_1c))",
    "id": "46952d74fc6b43ae81de15654aa6189b",
    "idx": 10,
    "time": "2021-01-18T19:53:01.959Z",
    "type": "execution"
   },
   {
    "id": "46952d74fc6b43ae81de15654aa6189b",
    "time": "2021-01-18T19:53:02.029Z",
    "type": "completion"
   },
   {
    "code": "\"\"\" # BEGIN PROMPT\nnba['productivity'] = ...\n\nnba_guard = ...\nnba_not_guard = ...\n\nttest_1e = stats.ttest_ind(..., ...)\n\ntstat_1e = ttest_1e.statistic\npval_1e = ttest_1e.pvalue\n\"\"\" # END PROMPT\n# BEGIN SOLUTION NO PROMPT\nnba['productivity'] = nba['points'] / (nba['minutes'] / nba['games'])\n\nnba_guard = nba[nba['guard'] == 1]\nnba_not_guard = nba[nba['guard'] == 0]\n\nttest_1e = stats.ttest_ind(nba_guard['productivity'], nba_not_guard['productivity'])\n\ntstat_1e = ttest_1e.statistic\npval_1e = ttest_1e.pvalue\n# END SOLUTION\n\nprint(\"t-stat: {}\".format(tstat_1e))\nprint(\"p-value: {}\".format(pval_1e))",
    "id": "6133c16b211b479d8d905c0f0f5d640e",
    "idx": 14,
    "time": "2021-01-18T19:53:02.635Z",
    "type": "execution"
   },
   {
    "id": "6133c16b211b479d8d905c0f0f5d640e",
    "time": "2021-01-18T19:53:02.715Z",
    "type": "completion"
   },
   {
    "code": "\"\"\" # BEGIN PROMPT\nnba[['points', 'assists', 'rebounds']]...\n\"\"\" # END PROMPT\n# BEGIN SOLUTION NO PROMPT\nnba[['points', 'assists', 'rebounds']].corr()\n# END SOLUTION",
    "id": "4b06500ee6404aeab3872f3a3bf3eeca",
    "idx": 18,
    "time": "2021-01-18T19:53:03.523Z",
    "type": "execution"
   },
   {
    "id": "4b06500ee6404aeab3872f3a3bf3eeca",
    "time": "2021-01-18T19:53:03.605Z",
    "type": "completion"
   },
   {
    "code": "\"\"\" # BEGIN PROMPT\nnba['index'] = ...\n\nnba_guard = ...\nnba_not_guard = ...\n\nttest_1h = stats.ttest_ind(..., ...)\n\ntstat_1h = ttest_1h.statistic\npval_1h = ttest_1h.pvalue\n\"\"\" # END PROMPT\n# BEGIN SOLUTION NO PROMPT\nnba['index'] = nba['points'] + nba['rebounds'] + 2 * nba['assists']\n\nnba_guard = nba[nba['guard'] == 1]\nnba_not_guard = nba[nba['guard'] == 0]\n\nttest_1h = stats.ttest_ind(nba_guard['index'], nba_not_guard['index'])\n\ntstat_1h = ttest_1h.statistic\npval_1h = ttest_1h.pvalue\n# END SOLUTION\n\nprint(\"t-stat: {}\".format(tstat_1h))\nprint(\"p-value: {}\".format(pval_1h))",
    "id": "eb2d2eb45db540bb88cd4b1c61221145",
    "idx": 20,
    "time": "2021-01-18T19:53:04.131Z",
    "type": "execution"
   },
   {
    "id": "eb2d2eb45db540bb88cd4b1c61221145",
    "time": "2021-01-18T19:53:04.224Z",
    "type": "completion"
   },
   {
    "code": "\"\"\" # BEGIN PROMPT\nnba['payoff'] = ...\n\nnba_guard = ...\nnba_not_guard = ...\n\nttest_1j = stats.ttest_ind(..., ...)\n\ntstat_1j = ttest_1j.statistic\npval_1j = ttest_1j.pvalue\n\"\"\" # END PROMPT\n# BEGIN SOLUTION NO PROMPT\nnba['payoff'] = nba['index'] / nba['wage']\n\nnba_guard = nba[nba['guard'] == 1]\nnba_not_guard = nba[nba['guard'] == 0]\n\nttest_1j = stats.ttest_ind(nba_guard['payoff'], nba_not_guard['payoff'])\n\ntstat_1j = ttest_1j.statistic\npval_1j = ttest_1j.pvalue\n# END SOLUTION\n\nprint(\"t-stat: {}\".format(tstat_1j))\nprint(\"p-value: {}\".format(pval_1j))",
    "id": "70d9f35319124f5aac04ecc23ecafd1e",
    "idx": 24,
    "time": "2021-01-18T19:53:05.161Z",
    "type": "execution"
   },
   {
    "id": "70d9f35319124f5aac04ecc23ecafd1e",
    "time": "2021-01-18T19:53:05.223Z",
    "type": "completion"
   },
   {
    "code": "crime = pd.read_stata(\"PS1data(campus crime).dta\")\ncrime.head()",
    "id": "271fcec5eb1e48498bb392a05d18c8e0",
    "idx": 29,
    "time": "2021-01-18T19:53:06.280Z",
    "type": "execution"
   },
   {
    "id": "271fcec5eb1e48498bb392a05d18c8e0",
    "time": "2021-01-18T19:53:06.365Z",
    "type": "completion"
   },
   {
    "code": "# This code cell is for question 2.a.\n",
    "id": "e8782cb7cb80404fb831f227614a421a",
    "idx": 30,
    "time": "2021-01-18T19:53:06.460Z",
    "type": "execution"
   },
   {
    "id": "e8782cb7cb80404fb831f227614a421a",
    "time": "2021-01-18T19:53:06.517Z",
    "type": "completion"
   },
   {
    "code": "\"\"\" # BEGIN PROMPT\ncrime[['enrollment', 'police', 'crime']]...\n\"\"\" # END PROMPT\n# BEGIN SOLUTION NO PROMPT\ncrime[['enrollment', 'police', 'crime']].corr()\n# END SOLUTION",
    "id": "3a6edb7310a549cc859171c11aca490b",
    "idx": 35,
    "time": "2021-01-18T19:53:08.193Z",
    "type": "execution"
   },
   {
    "id": "3a6edb7310a549cc859171c11aca490b",
    "time": "2021-01-18T19:53:08.268Z",
    "type": "completion"
   },
   {
    "code": "\"\"\" # BEGIN PROMPT\ncrime_public = ...\ncrime_private = ...\n\nttest_2d_unequal_var = stats.ttest_ind(..., ..., ...)\n\ntstat_2d_unequal = ttest_2d_unequal_var.statistic\npval_2d_unequal = ttest_2d_unequal_var.pvalue\n\nttest_2d_equal_var = stats.ttest_ind(..., ...)\n\ntstat_2d_equal = ttest_2d_equal_var.statistic\npval_2d_equal = ttest_2d_equal_var.pvalue\n\"\"\" # END PROMPT\n# BEGIN SOLUTION NO PROMPT\ncrime_public = crime[crime['private'] == 0]\ncrime_private = crime[crime['private'] == 1]\n\nttest_2d_unequal_var = stats.ttest_ind(crime_public['crime'], crime_private['crime'], equal_var=False)\n\ntstat_2d_unequal = ttest_2d_unequal_var.statistic\npval_2d_unequal = ttest_2d_unequal_var.pvalue\n\nttest_2d_equal_var = stats.ttest_ind(crime_public['crime'], crime_private['crime'])\n\ntstat_2d_equal = ttest_2d_equal_var.statistic\npval_2d_equal = ttest_2d_equal_var.pvalue\n# END SOLUTION\n\nprint(\"t-stat unequal variance: {}\".format(tstat_2d_unequal))\nprint(\"p-value unequal variance: {}\".format(pval_2d_unequal))\nprint(\"t-stat equal variance: {}\".format(tstat_2d_equal))\nprint(\"p-value equal variance: {}\".format(pval_2d_equal))",
    "id": "8266b61efc5e451d8f584a28cf9f129d",
    "idx": 39,
    "time": "2021-01-18T19:53:09.025Z",
    "type": "execution"
   },
   {
    "id": "8266b61efc5e451d8f584a28cf9f129d",
    "time": "2021-01-18T19:53:09.184Z",
    "type": "completion"
   },
   {
    "code": "\"\"\" # BEGIN PROMPT\ncrime['crimerate'] = ...\n\ncrime_public = ...\ncrime_private = ...\n\nttest_2f_unequal_var = stats.ttest_ind(..., ..., ...)\n\ntstat_2f_unequal = ttest_2f_unequal_var.statistic\npval_2f_unequal = ttest_2f_unequal_var.pvalue\n\nttest_2f_equal_var = stats.ttest_ind(..., ...)\n\ntstat_2f_equal = ttest_2f_equal_var.statistic\npval_2f_equal = ttest_2f_equal_var.pvalue\n\"\"\" # END PROMPT\n# BEGIN SOLUTION NO PROMPT\ncrime['crimerate'] = 1000 * (crime['crime'] / crime['enrollment'])\n\ncrime_public = crime[crime['private'] == 0]\ncrime_private = crime[crime['private'] == 1]\n\nttest_2f_unequal_var = stats.ttest_ind(crime_public['crimerate'], crime_private['crimerate'], equal_var=False)\n\ntstat_2f_unequal = ttest_2f_unequal_var.statistic\npval_2f_unequal = ttest_2f_unequal_var.pvalue\n\nttest_2f_equal_var = stats.ttest_ind(crime_public['crimerate'], crime_private['crimerate'])\n\ntstat_2f_equal = ttest_2f_equal_var.statistic\npval_2f_equal = ttest_2f_equal_var.pvalue\n# END SOLUTION\n\nprint(\"t-stat unequal variance: {}\".format(tstat_2f_unequal))\nprint(\"p-value unequal variance: {}\".format(pval_2f_unequal))\nprint(\"t-stat equal variance: {}\".format(tstat_2f_equal))\nprint(\"p-value equal variance: {}\".format(pval_2f_equal))",
    "id": "d87885a26b4b479187f9a4e7aba7902d",
    "idx": 43,
    "time": "2021-01-18T19:53:09.766Z",
    "type": "execution"
   },
   {
    "id": "d87885a26b4b479187f9a4e7aba7902d",
    "time": "2021-01-18T19:53:09.875Z",
    "type": "completion"
   },
   {
    "code": "pollution = pd.read_stata(\"PS1data(pollution).dta\")\npollution.head()",
    "id": "a3f9d84c8787401c8980230ef00dbe19",
    "idx": 62,
    "time": "2021-01-18T19:53:14.442Z",
    "type": "execution"
   },
   {
    "id": "a3f9d84c8787401c8980230ef00dbe19",
    "time": "2021-01-18T19:53:14.546Z",
    "type": "completion"
   },
   {
    "code": "# This code cell is for question 4.a.\n",
    "id": "79e1fd638c334f9a8aecc76bf0c53af8",
    "idx": 63,
    "time": "2021-01-18T19:53:14.875Z",
    "type": "execution"
   },
   {
    "id": "79e1fd638c334f9a8aecc76bf0c53af8",
    "time": "2021-01-18T19:53:14.931Z",
    "type": "completion"
   },
   {
    "code": "\"\"\" # BEGIN PROMPT\nnba['payoff'] = ...\n\nnba_guard = ...\nnba_not_guard = ...\n\nttest_1j = stats.ttest_ind(..., ...)\n\ntstat_1j = ttest_1j.statistic\npval_1j = ttest_1j.pvalue\n\"\"\" # END PROMPT\n# BEGIN SOLUTION NO PROMPT\npollution_oecd = pollution[pollution['oecd'] == 1]\npollution_no_oecd = pollution[pollution['oecd'] == 0]\n\nttest_4b = stats.ttest_ind(pollution_oecd['co2pc'], pollution_no_oecd['co2pc'], equal_var=False)\n\ntstat_4b = ttest_4b.statistic\npval_4b = ttest_4b.pvalue\n# END SOLUTION\n\nprint(\"t-stat: {}\".format(tstat_4b))\nprint(\"p-value: {}\".format(pval_4b))",
    "id": "156e8f7abffd4eed84ebd8760d28eb06",
    "idx": 67,
    "time": "2021-01-18T19:53:16.483Z",
    "type": "execution"
   },
   {
    "id": "156e8f7abffd4eed84ebd8760d28eb06",
    "time": "2021-01-18T19:53:16.551Z",
    "type": "completion"
   },
   {
    "code": "pollution_oecd",
    "id": "c4a0b90c525044ff90d679915b61f92b",
    "idx": 68,
    "time": "2021-01-18T19:53:31.278Z",
    "type": "execution"
   },
   {
    "id": "c4a0b90c525044ff90d679915b61f92b",
    "time": "2021-01-18T19:53:31.403Z",
    "type": "completion"
   },
   {
    "code": "pollution_no_oecd",
    "id": "c4a0b90c525044ff90d679915b61f92b",
    "idx": 68,
    "time": "2021-01-18T19:53:40.203Z",
    "type": "execution"
   },
   {
    "id": "c4a0b90c525044ff90d679915b61f92b",
    "time": "2021-01-18T19:53:40.352Z",
    "type": "completion"
   },
   {
    "code": "ttest_4b",
    "id": "c4a0b90c525044ff90d679915b61f92b",
    "idx": 68,
    "time": "2021-01-18T19:53:54.983Z",
    "type": "execution"
   },
   {
    "id": "c4a0b90c525044ff90d679915b61f92b",
    "time": "2021-01-18T19:53:55.137Z",
    "type": "completion"
   },
   {
    "code": "pollution_oecd['co2pc']",
    "id": "c4a0b90c525044ff90d679915b61f92b",
    "idx": 68,
    "time": "2021-01-18T19:54:07.919Z",
    "type": "execution"
   },
   {
    "id": "c4a0b90c525044ff90d679915b61f92b",
    "time": "2021-01-18T19:54:08.011Z",
    "type": "completion"
   },
   {
    "code": "pollution_no_oecd['co2pc']",
    "id": "c4a0b90c525044ff90d679915b61f92b",
    "idx": 68,
    "time": "2021-01-18T19:54:15.447Z",
    "type": "execution"
   },
   {
    "id": "c4a0b90c525044ff90d679915b61f92b",
    "time": "2021-01-18T19:54:15.514Z",
    "type": "completion"
   },
   {
    "code": "pollution = pd.read_stata(\"PS1data(pollution).dta\").dropna(subset='co2pc')\npollution.head()",
    "id": "a3f9d84c8787401c8980230ef00dbe19",
    "idx": 62,
    "time": "2021-01-18T19:55:52.230Z",
    "type": "execution"
   },
   {
    "id": "a3f9d84c8787401c8980230ef00dbe19",
    "time": "2021-01-18T19:55:52.464Z",
    "type": "completion"
   },
   {
    "code": "pollution = pd.read_stata(\"PS1data(pollution).dta\").dropna(subset=['co2pc'])\npollution.head()",
    "id": "a3f9d84c8787401c8980230ef00dbe19",
    "idx": 62,
    "time": "2021-01-18T19:56:07.901Z",
    "type": "execution"
   },
   {
    "id": "a3f9d84c8787401c8980230ef00dbe19",
    "time": "2021-01-18T19:56:08.021Z",
    "type": "completion"
   },
   {
    "code": "\"\"\" # BEGIN PROMPT\nnba['payoff'] = ...\n\nnba_guard = ...\nnba_not_guard = ...\n\nttest_1j = stats.ttest_ind(..., ...)\n\ntstat_1j = ttest_1j.statistic\npval_1j = ttest_1j.pvalue\n\"\"\" # END PROMPT\n# BEGIN SOLUTION NO PROMPT\npollution_oecd = pollution[pollution['oecd'] == 1]\npollution_no_oecd = pollution[pollution['oecd'] == 0]\n\nttest_4b = stats.ttest_ind(pollution_oecd['co2pc'], pollution_no_oecd['co2pc'], equal_var=False)\n\ntstat_4b = ttest_4b.statistic\npval_4b = ttest_4b.pvalue\n# END SOLUTION\n\nprint(\"t-stat: {}\".format(tstat_4b))\nprint(\"p-value: {}\".format(pval_4b))",
    "id": "156e8f7abffd4eed84ebd8760d28eb06",
    "idx": 67,
    "time": "2021-01-18T19:56:12.840Z",
    "type": "execution"
   },
   {
    "id": "156e8f7abffd4eed84ebd8760d28eb06",
    "time": "2021-01-18T19:56:12.947Z",
    "type": "completion"
   },
   {
    "code": "pollution['log_gdp'] = np.log(pollution['gdp'])\npollution['log_co2'] = np.log(pollution['co2'])\n\npollution.head()",
    "id": "29703a1543404f2c804f455161c19899",
    "idx": 72,
    "time": "2021-01-18T20:02:03.137Z",
    "type": "execution"
   },
   {
    "id": "29703a1543404f2c804f455161c19899",
    "time": "2021-01-18T20:02:03.216Z",
    "type": "completion"
   },
   {
    "code": "pollution = pd.read_stata(\"PS1data(pollution).dta\").dropna(subset=['co2pc', 'gdp'])\npollution.head()",
    "id": "a3f9d84c8787401c8980230ef00dbe19",
    "idx": 62,
    "time": "2021-01-18T20:02:15.501Z",
    "type": "execution"
   },
   {
    "id": "a3f9d84c8787401c8980230ef00dbe19",
    "time": "2021-01-18T20:02:15.681Z",
    "type": "completion"
   },
   {
    "code": "# This code cell is for question 4.a.\n",
    "id": "79e1fd638c334f9a8aecc76bf0c53af8",
    "idx": 63,
    "time": "2021-01-18T20:02:18.909Z",
    "type": "execution"
   },
   {
    "id": "79e1fd638c334f9a8aecc76bf0c53af8",
    "time": "2021-01-18T20:02:18.979Z",
    "type": "completion"
   },
   {
    "code": "\"\"\" # BEGIN PROMPT\npollution_oecd = ...\npollution_no_oecd = ...\n\nttest_4b = stats.ttest_ind(..., ..., ...)\n\ntstat_4b = ttest_4b.statistic\npval_4b = ttest_4b.pvalue\n\"\"\" # END PROMPT\n# BEGIN SOLUTION NO PROMPT\npollution_oecd = pollution[pollution['oecd'] == 1]\npollution_no_oecd = pollution[pollution['oecd'] == 0]\n\nttest_4b = stats.ttest_ind(pollution_oecd['co2pc'], pollution_no_oecd['co2pc'], equal_var=False)\n\ntstat_4b = ttest_4b.statistic\npval_4b = ttest_4b.pvalue\n# END SOLUTION\n\nprint(\"t-stat: {}\".format(tstat_4b))\nprint(\"p-value: {}\".format(pval_4b))",
    "id": "156e8f7abffd4eed84ebd8760d28eb06",
    "idx": 67,
    "time": "2021-01-18T20:02:22.128Z",
    "type": "execution"
   },
   {
    "id": "156e8f7abffd4eed84ebd8760d28eb06",
    "time": "2021-01-18T20:02:22.192Z",
    "type": "completion"
   },
   {
    "code": "pollution = pd.read_stata(\"PS1data(pollution).dta\").dropna(subset=['co2pc'])\npollution.head()",
    "id": "a3f9d84c8787401c8980230ef00dbe19",
    "idx": 62,
    "time": "2021-01-18T20:02:31.836Z",
    "type": "execution"
   },
   {
    "id": "a3f9d84c8787401c8980230ef00dbe19",
    "time": "2021-01-18T20:02:32.032Z",
    "type": "completion"
   },
   {
    "code": "# This code cell is for question 4.a.\n",
    "id": "79e1fd638c334f9a8aecc76bf0c53af8",
    "idx": 63,
    "time": "2021-01-18T20:02:33.512Z",
    "type": "execution"
   },
   {
    "id": "79e1fd638c334f9a8aecc76bf0c53af8",
    "time": "2021-01-18T20:02:33.571Z",
    "type": "completion"
   },
   {
    "code": "\"\"\" # BEGIN PROMPT\npollution_oecd = ...\npollution_no_oecd = ...\n\nttest_4b = stats.ttest_ind(..., ..., ...)\n\ntstat_4b = ttest_4b.statistic\npval_4b = ttest_4b.pvalue\n\"\"\" # END PROMPT\n# BEGIN SOLUTION NO PROMPT\npollution_oecd = pollution[pollution['oecd'] == 1]\npollution_no_oecd = pollution[pollution['oecd'] == 0]\n\nttest_4b = stats.ttest_ind(pollution_oecd['co2pc'], pollution_no_oecd['co2pc'], equal_var=False)\n\ntstat_4b = ttest_4b.statistic\npval_4b = ttest_4b.pvalue\n# END SOLUTION\n\nprint(\"t-stat: {}\".format(tstat_4b))\nprint(\"p-value: {}\".format(pval_4b))",
    "id": "156e8f7abffd4eed84ebd8760d28eb06",
    "idx": 67,
    "time": "2021-01-18T20:02:39.485Z",
    "type": "execution"
   },
   {
    "id": "156e8f7abffd4eed84ebd8760d28eb06",
    "time": "2021-01-18T20:02:39.548Z",
    "type": "completion"
   },
   {
    "code": "\"\"\" # BEGIN PROMPT\npollution['log_gdp'] = ...\npollution['log_co2'] = ...\n\"\"\" # END PROMPT\n# BEGIN SOLUTION NO PROMPT\npollution['log_gdp'] = np.log(pollution['gdp'])\npollution['log_co2'] = np.log(pollution['co2'])\n# END SOLUTION\n\npollution.head()",
    "id": "29703a1543404f2c804f455161c19899",
    "idx": 72,
    "time": "2021-01-18T20:04:48.198Z",
    "type": "execution"
   },
   {
    "id": "29703a1543404f2c804f455161c19899",
    "time": "2021-01-18T20:04:48.342Z",
    "type": "completion"
   },
   {
    "code": "plt.scatter(pollution['log_gdp'], pollution['log_co2'])",
    "id": "851780e01f2142158bf31c3779ff4d24",
    "idx": 76,
    "time": "2021-01-18T20:05:20.170Z",
    "type": "execution"
   },
   {
    "id": "851780e01f2142158bf31c3779ff4d24",
    "time": "2021-01-18T20:05:20.506Z",
    "type": "completion"
   },
   {
    "code": "plt.scatter(pollution['log_gdp'], pollution['log_co2']);",
    "id": "851780e01f2142158bf31c3779ff4d24",
    "idx": 76,
    "time": "2021-01-18T20:05:22.993Z",
    "type": "execution"
   },
   {
    "id": "851780e01f2142158bf31c3779ff4d24",
    "time": "2021-01-18T20:05:23.226Z",
    "type": "completion"
   },
   {
    "code": "plt.scatter(pollution['log_gdp'], pollution['co2']);",
    "id": "851780e01f2142158bf31c3779ff4d24",
    "idx": 76,
    "time": "2021-01-18T20:06:20.807Z",
    "type": "execution"
   },
   {
    "id": "851780e01f2142158bf31c3779ff4d24",
    "time": "2021-01-18T20:06:21.034Z",
    "type": "completion"
   },
   {
    "code": "plt.scatter(pollution['gdp'], pollution['co2']);",
    "id": "851780e01f2142158bf31c3779ff4d24",
    "idx": 76,
    "time": "2021-01-18T20:06:53.522Z",
    "type": "execution"
   },
   {
    "id": "851780e01f2142158bf31c3779ff4d24",
    "time": "2021-01-18T20:06:53.716Z",
    "type": "completion"
   },
   {
    "code": "plt.scatter(pollution['gdp'], pollution['log_co2']);",
    "id": "851780e01f2142158bf31c3779ff4d24",
    "idx": 76,
    "time": "2021-01-18T20:07:00.801Z",
    "type": "execution"
   },
   {
    "id": "851780e01f2142158bf31c3779ff4d24",
    "time": "2021-01-18T20:07:01.009Z",
    "type": "completion"
   },
   {
    "code": "plt.scatter(pollution['log_gdp'], pollution['log_co2']);",
    "id": "851780e01f2142158bf31c3779ff4d24",
    "idx": 76,
    "time": "2021-01-18T20:07:07.360Z",
    "type": "execution"
   },
   {
    "id": "851780e01f2142158bf31c3779ff4d24",
    "time": "2021-01-18T20:07:07.594Z",
    "type": "completion"
   },
   {
    "code": "plt.scatter(pollution['log_gdp'], pollution['log_co2'])\nplt.xlabel(\"log gdp\")\nplt.ylabel(\"log co2\");",
    "id": "851780e01f2142158bf31c3779ff4d24",
    "idx": 76,
    "time": "2021-01-18T20:07:39.388Z",
    "type": "execution"
   },
   {
    "id": "851780e01f2142158bf31c3779ff4d24",
    "time": "2021-01-18T20:07:39.685Z",
    "type": "completion"
   },
   {
    "code": "\"\"\" # BEGIN PROMPT\npollution['log_gdppc'] = ...\npollution['log_co2pc'] = ...\n\nplt.scatter(..., ...)\n\"\"\" # END PROMPT\n# BEGIN SOLUTION NO PROMPT\npollution['log_gdppc'] = np.log(pollution['gdppc'])\npollution['log_co2pc'] = np.log(pollution['co2pc'])\n\nplt.scatter(pollution['log_gdp'], pollution['log_co2'])\n# END SOLUTION\nplt.xlabel(\"log gdppc\")\nplt.ylabel(\"log co2pc\");",
    "id": "9b18354107be4b859d915d754744c833",
    "idx": 78,
    "time": "2021-01-18T20:13:15.720Z",
    "type": "execution"
   },
   {
    "id": "9b18354107be4b859d915d754744c833",
    "time": "2021-01-18T20:13:15.995Z",
    "type": "completion"
   },
   {
    "code": "\"\"\" # BEGIN PROMPT\npollution['log_gdppc'] = ...\npollution['log_co2pc'] = ...\n\nplt.scatter(..., ...)\n\"\"\" # END PROMPT\n# BEGIN SOLUTION NO PROMPT\npollution['log_gdppc'] = np.log(pollution['gdppc'])\npollution['log_co2pc'] = np.log(pollution['co2pc'])\n\nplt.scatter(pollution['log_gdppc'], pollution['log_co2pc'])\n# END SOLUTION\nplt.xlabel(\"log gdppc\")\nplt.ylabel(\"log co2pc\");",
    "id": "9b18354107be4b859d915d754744c833",
    "idx": 78,
    "time": "2021-01-18T20:13:23.785Z",
    "type": "execution"
   },
   {
    "id": "9b18354107be4b859d915d754744c833",
    "time": "2021-01-18T20:13:24.026Z",
    "type": "completion"
   },
   {
    "code": "la.describe()",
    "id": "ff1e2d32583d4dbb8b3f3b4efa3c5d51",
    "idx": 85,
    "time": "2021-01-18T20:15:09.344Z",
    "type": "execution"
   },
   {
    "id": "ff1e2d32583d4dbb8b3f3b4efa3c5d51",
    "time": "2021-01-18T20:15:09.423Z",
    "type": "completion"
   },
   {
    "code": "la = pd.read_stata(\"PS1data(LA wages).dta\")\nla.head()",
    "id": "d77af0b04aed4b9d88da7d7e7776c3dc",
    "idx": 83,
    "time": "2021-01-18T20:15:11.672Z",
    "type": "execution"
   },
   {
    "id": "d77af0b04aed4b9d88da7d7e7776c3dc",
    "time": "2021-01-18T20:15:11.754Z",
    "type": "completion"
   },
   {
    "code": "la.describe()",
    "id": "ff1e2d32583d4dbb8b3f3b4efa3c5d51",
    "idx": 85,
    "time": "2021-01-18T20:15:12.271Z",
    "type": "execution"
   },
   {
    "id": "ff1e2d32583d4dbb8b3f3b4efa3c5d51",
    "time": "2021-01-18T20:15:12.387Z",
    "type": "completion"
   },
   {
    "code": "la.hist(column='wage', bins=80); # SOLUTION",
    "id": "d21b4e5dbd2b4447ab40a783adc28091",
    "idx": 87,
    "time": "2021-01-18T20:18:14.458Z",
    "type": "execution"
   },
   {
    "id": "d21b4e5dbd2b4447ab40a783adc28091",
    "time": "2021-01-18T20:18:14.808Z",
    "type": "completion"
   },
   {
    "code": "la['log_wage'] = np.log(la['wage'])",
    "id": "b9d9c22bbd14489d92eff9616b23cab7",
    "idx": 92,
    "time": "2021-01-18T20:19:30.260Z",
    "type": "execution"
   },
   {
    "id": "b9d9c22bbd14489d92eff9616b23cab7",
    "time": "2021-01-18T20:19:30.317Z",
    "type": "completion"
   },
   {
    "code": "la['log_wage'] = np.log(la['wage'])\n\nla.head()",
    "id": "b9d9c22bbd14489d92eff9616b23cab7",
    "idx": 92,
    "time": "2021-01-18T20:19:37.054Z",
    "type": "execution"
   },
   {
    "id": "b9d9c22bbd14489d92eff9616b23cab7",
    "time": "2021-01-18T20:19:37.128Z",
    "type": "completion"
   },
   {
    "code": "\"\"\" # BEGIN PROMPT\nla['log_wage'] = ...\n\"\"\" # END PROMPT\n# BEGIN SOLUTION NO PROMPT\nla['log_wage'] = np.log(la['wage'])\n# END SOLUTION\n\nla.head()",
    "id": "b9d9c22bbd14489d92eff9616b23cab7",
    "idx": 92,
    "time": "2021-01-18T20:20:15.012Z",
    "type": "execution"
   },
   {
    "id": "b9d9c22bbd14489d92eff9616b23cab7",
    "time": "2021-01-18T20:20:15.157Z",
    "type": "completion"
   },
   {
    "code": "la.value_counts(subset='education', sort=False, normalize=True)",
    "id": "15a29073574549dda753d06175b09108",
    "idx": 94,
    "time": "2021-01-18T20:20:58.259Z",
    "type": "execution"
   },
   {
    "id": "15a29073574549dda753d06175b09108",
    "time": "2021-01-18T20:20:58.336Z",
    "type": "completion"
   },
   {
    "code": "la.value_counts(subset=['education'], sort=False, normalize=True)",
    "id": "15a29073574549dda753d06175b09108",
    "idx": 94,
    "time": "2021-01-18T20:21:05.040Z",
    "type": "execution"
   },
   {
    "id": "15a29073574549dda753d06175b09108",
    "time": "2021-01-18T20:21:05.104Z",
    "type": "completion"
   },
   {
    "code": "la.value_counts(subset='education', sort=False, normalize=True)",
    "id": "15a29073574549dda753d06175b09108",
    "idx": 94,
    "time": "2021-01-18T20:21:11.376Z",
    "type": "execution"
   },
   {
    "id": "15a29073574549dda753d06175b09108",
    "time": "2021-01-18T20:21:11.443Z",
    "type": "completion"
   },
   {
    "code": "la.value_counts(subset='education', sort=False, normalize=True) # SOLUTION",
    "id": "15a29073574549dda753d06175b09108",
    "idx": 94,
    "time": "2021-01-18T20:21:47.252Z",
    "type": "execution"
   },
   {
    "id": "15a29073574549dda753d06175b09108",
    "time": "2021-01-18T20:21:47.323Z",
    "type": "completion"
   },
   {
    "code": "\"\"\" # BEGIN PROMPT\npollution['log_gdppc'] = ...\npollution['log_co2pc'] = ...\n\nplt.scatter(..., ...)\n\"\"\" # END PROMPT\n# BEGIN SOLUTION NO PROMPT\nplt.scatter(la['log_wage'], la['schooling'])\n# END SOLUTION\nplt.xlabel(\"log gdppc\")\nplt.ylabel(\"log co2pc\");",
    "id": "1dd6dd4fc618417284c9ddec5df34472",
    "idx": 96,
    "time": "2021-01-18T20:22:35.323Z",
    "type": "execution"
   },
   {
    "id": "1dd6dd4fc618417284c9ddec5df34472",
    "time": "2021-01-18T20:22:35.542Z",
    "type": "completion"
   },
   {
    "code": "\"\"\" # BEGIN PROMPT\npollution['log_gdppc'] = ...\npollution['log_co2pc'] = ...\n\nplt.scatter(..., ...)\n\"\"\" # END PROMPT\n# BEGIN SOLUTION NO PROMPT\nplt.scatter(la['log_wage'], la['education'])\n# END SOLUTION\nplt.xlabel(\"log gdppc\")\nplt.ylabel(\"log co2pc\");",
    "id": "1dd6dd4fc618417284c9ddec5df34472",
    "idx": 96,
    "time": "2021-01-18T20:22:46.112Z",
    "type": "execution"
   },
   {
    "id": "1dd6dd4fc618417284c9ddec5df34472",
    "time": "2021-01-18T20:22:46.462Z",
    "type": "completion"
   },
   {
    "code": "\"\"\" # BEGIN PROMPT\npollution['log_gdppc'] = ...\npollution['log_co2pc'] = ...\n\nplt.scatter(..., ...)\n\"\"\" # END PROMPT\n# BEGIN SOLUTION NO PROMPT\nplt.scatter(la['education'], la['log_wage'])\n# END SOLUTION\nplt.xlabel(\"education\")\nplt.ylabel(\"log wage\");",
    "id": "1dd6dd4fc618417284c9ddec5df34472",
    "idx": 96,
    "time": "2021-01-18T20:23:06.723Z",
    "type": "execution"
   },
   {
    "id": "1dd6dd4fc618417284c9ddec5df34472",
    "time": "2021-01-18T20:23:06.963Z",
    "type": "completion"
   },
   {
    "code": "\"\"\" # BEGIN PROMPT\n...\n...\n...\n\"\"\" # END PROMPT\n# BEGIN SOLUTION NO PROMPT\nplt.scatter(la['education'], la['log_wage'])\nplt.xlabel(\"education\")\nplt.ylabel(\"log wage\");\n# END SOLUTION",
    "id": "1dd6dd4fc618417284c9ddec5df34472",
    "idx": 96,
    "time": "2021-01-18T20:23:37.120Z",
    "type": "execution"
   },
   {
    "id": "1dd6dd4fc618417284c9ddec5df34472",
    "time": "2021-01-18T20:23:37.451Z",
    "type": "completion"
   },
   {
    "code": "pollution = pd.read_stata(\"PS1data(pollution).dta\")\npollution.head()",
    "id": "a3f9d84c8787401c8980230ef00dbe19",
    "idx": 62,
    "time": "2021-01-18T20:25:18.639Z",
    "type": "execution"
   },
   {
    "id": "a3f9d84c8787401c8980230ef00dbe19",
    "time": "2021-01-18T20:25:18.863Z",
    "type": "completion"
   },
   {
    "code": "\"\"\" # BEGIN PROMPT\npollution_oecd = ...\npollution_no_oecd = ...\n\nttest_4b = stats.ttest_ind(..., ..., ...)\n\ntstat_4b = ttest_4b.statistic\npval_4b = ttest_4b.pvalue\n\"\"\" # END PROMPT\n# BEGIN SOLUTION NO PROMPT\npollution_oecd = pollution[pollution['oecd'] == 1]\npollution_no_oecd = pollution[pollution['oecd'] == 0]\n\nttest_4b = stats.ttest_ind(pollution_oecd['co2pc'], pollution_no_oecd['co2pc'], equal_var=False, nan_policy='omit')\n\ntstat_4b = ttest_4b.statistic\npval_4b = ttest_4b.pvalue\n# END SOLUTION\n\nprint(\"t-stat: {}\".format(tstat_4b))\nprint(\"p-value: {}\".format(pval_4b))",
    "id": "156e8f7abffd4eed84ebd8760d28eb06",
    "idx": 67,
    "time": "2021-01-18T20:25:36.459Z",
    "type": "execution"
   },
   {
    "id": "156e8f7abffd4eed84ebd8760d28eb06",
    "time": "2021-01-18T20:25:36.526Z",
    "type": "completion"
   },
   {
    "code": "ttest_1a",
    "id": "66b6f50375b64b6e86413cc6384405a2",
    "idx": 6,
    "time": "2021-01-18T20:37:55.288Z",
    "type": "execution"
   },
   {
    "id": "66b6f50375b64b6e86413cc6384405a2",
    "time": "2021-01-18T20:37:55.401Z",
    "type": "completion"
   },
   {
    "code": "import numpy as np\nimport pandas as pd\nfrom scipy import stats\nimport matplotlib.pyplot as plt",
    "id": "458e59d49de5470a90af3fc5deee55c5",
    "idx": 3,
    "time": "2021-01-18T20:56:47.764Z",
    "type": "execution"
   },
   {
    "code": "nba = pd.read_stata(\"PS1data(NBA).dta\")\nnba.head()",
    "id": "471a6507023840699078daa57f905478",
    "idx": 5,
    "time": "2021-01-18T20:56:47.770Z",
    "type": "execution"
   },
   {
    "code": "\"\"\" # BEGIN PROMPT\nnba_guard = ...\nnba_not_guard = ...\n\nttest_1a = stats.ttest_ind(..., ...)\n\ntstat_1a = ttest_1a.statistic\npval_1a = ttest_1a.pvalue\n\"\"\" # END PROMPT\n# BEGIN SOLUTION NO PROMPT\nnba_guard = nba[nba['guard'] == 1]\nnba_not_guard = nba[nba['guard'] == 0]\n\nttest_1a = stats.ttest_ind(nba_guard['wage'], nba_not_guard['wage'])\n\ntstat_1a = ttest_1a.statistic\npval_1a = ttest_1a.pvalue\n# END SOLUTION\n\nprint(\"t-stat: {}\".format(tstat_1a))\nprint(\"p-value: {}\".format(pval_1a))",
    "id": "a1eec07cfbe84189b4233e64dd52c3bb",
    "idx": 7,
    "time": "2021-01-18T20:56:47.772Z",
    "type": "execution"
   },
   {
    "code": "\"\"\" # BEGIN PROMPT\nnba['degree'] = ...\n\nnba_degree = ...\nnba_no_degree = ...\n\nttest_1c = stats.ttest_ind(..., ...)\n\ntstat_1c = ttest_1c.statistic\npval_1c = ttest_1c.pvalue\n\"\"\" # END PROMPT\n# BEGIN SOLUTION NO PROMPT\nnba['degree'] = nba['coll'] >= 4\n\nnba_degree = nba[nba['degree'] == True]\nnba_no_degree = nba[nba['degree'] == False]\n\nttest_1c = stats.ttest_ind(nba_degree['wage'], nba_no_degree['wage'])\n\ntstat_1c = ttest_1c.statistic\npval_1c = ttest_1c.pvalue\n# END SOLUTION\n\nprint(\"t-stat: {}\".format(tstat_1c))\nprint(\"p-value: {}\".format(pval_1c))",
    "id": "46952d74fc6b43ae81de15654aa6189b",
    "idx": 11,
    "time": "2021-01-18T20:56:47.775Z",
    "type": "execution"
   },
   {
    "code": "\"\"\" # BEGIN PROMPT\nnba['productivity'] = ...\n\nnba_guard = ...\nnba_not_guard = ...\n\nttest_1e = stats.ttest_ind(..., ...)\n\ntstat_1e = ttest_1e.statistic\npval_1e = ttest_1e.pvalue\n\"\"\" # END PROMPT\n# BEGIN SOLUTION NO PROMPT\nnba['productivity'] = nba['points'] / (nba['minutes'] / nba['games'])\n\nnba_guard = nba[nba['guard'] == 1]\nnba_not_guard = nba[nba['guard'] == 0]\n\nttest_1e = stats.ttest_ind(nba_guard['productivity'], nba_not_guard['productivity'])\n\ntstat_1e = ttest_1e.statistic\npval_1e = ttest_1e.pvalue\n# END SOLUTION\n\nprint(\"t-stat: {}\".format(tstat_1e))\nprint(\"p-value: {}\".format(pval_1e))",
    "id": "6133c16b211b479d8d905c0f0f5d640e",
    "idx": 15,
    "time": "2021-01-18T20:56:47.779Z",
    "type": "execution"
   },
   {
    "code": "\"\"\" # BEGIN PROMPT\nnba[['points', 'assists', 'rebounds']]...\n\"\"\" # END PROMPT\n# BEGIN SOLUTION NO PROMPT\nnba[['points', 'assists', 'rebounds']].corr()\n# END SOLUTION",
    "id": "4b06500ee6404aeab3872f3a3bf3eeca",
    "idx": 19,
    "time": "2021-01-18T20:56:47.782Z",
    "type": "execution"
   },
   {
    "code": "\"\"\" # BEGIN PROMPT\nnba['index'] = ...\n\nnba_guard = ...\nnba_not_guard = ...\n\nttest_1h = stats.ttest_ind(..., ...)\n\ntstat_1h = ttest_1h.statistic\npval_1h = ttest_1h.pvalue\n\"\"\" # END PROMPT\n# BEGIN SOLUTION NO PROMPT\nnba['index'] = nba['points'] + nba['rebounds'] + 2 * nba['assists']\n\nnba_guard = nba[nba['guard'] == 1]\nnba_not_guard = nba[nba['guard'] == 0]\n\nttest_1h = stats.ttest_ind(nba_guard['index'], nba_not_guard['index'])\n\ntstat_1h = ttest_1h.statistic\npval_1h = ttest_1h.pvalue\n# END SOLUTION\n\nprint(\"t-stat: {}\".format(tstat_1h))\nprint(\"p-value: {}\".format(pval_1h))",
    "id": "eb2d2eb45db540bb88cd4b1c61221145",
    "idx": 21,
    "time": "2021-01-18T20:56:47.785Z",
    "type": "execution"
   },
   {
    "code": "\"\"\" # BEGIN PROMPT\nnba['payoff'] = ...\n\nnba_guard = ...\nnba_not_guard = ...\n\nttest_1j = stats.ttest_ind(..., ...)\n\ntstat_1j = ttest_1j.statistic\npval_1j = ttest_1j.pvalue\n\"\"\" # END PROMPT\n# BEGIN SOLUTION NO PROMPT\nnba['payoff'] = nba['index'] / nba['wage']\n\nnba_guard = nba[nba['guard'] == 1]\nnba_not_guard = nba[nba['guard'] == 0]\n\nttest_1j = stats.ttest_ind(nba_guard['payoff'], nba_not_guard['payoff'])\n\ntstat_1j = ttest_1j.statistic\npval_1j = ttest_1j.pvalue\n# END SOLUTION\n\nprint(\"t-stat: {}\".format(tstat_1j))\nprint(\"p-value: {}\".format(pval_1j))",
    "id": "70d9f35319124f5aac04ecc23ecafd1e",
    "idx": 25,
    "time": "2021-01-18T20:56:47.788Z",
    "type": "execution"
   },
   {
    "code": "crime = pd.read_stata(\"PS1data(campus crime).dta\")\ncrime.head()",
    "id": "271fcec5eb1e48498bb392a05d18c8e0",
    "idx": 30,
    "time": "2021-01-18T20:56:47.792Z",
    "type": "execution"
   },
   {
    "code": "# This code cell is for question 2.a.\n",
    "id": "e8782cb7cb80404fb831f227614a421a",
    "idx": 31,
    "time": "2021-01-18T20:56:47.794Z",
    "type": "execution"
   },
   {
    "code": "\"\"\" # BEGIN PROMPT\ncrime[['enrollment', 'police', 'crime']]...\n\"\"\" # END PROMPT\n# BEGIN SOLUTION NO PROMPT\ncrime[['enrollment', 'police', 'crime']].corr()\n# END SOLUTION",
    "id": "3a6edb7310a549cc859171c11aca490b",
    "idx": 36,
    "time": "2021-01-18T20:56:47.797Z",
    "type": "execution"
   },
   {
    "code": "\"\"\" # BEGIN PROMPT\ncrime_public = ...\ncrime_private = ...\n\nttest_2d_unequal_var = stats.ttest_ind(..., ..., ...)\n\ntstat_2d_unequal = ttest_2d_unequal_var.statistic\npval_2d_unequal = ttest_2d_unequal_var.pvalue\n\nttest_2d_equal_var = stats.ttest_ind(..., ...)\n\ntstat_2d_equal = ttest_2d_equal_var.statistic\npval_2d_equal = ttest_2d_equal_var.pvalue\n\"\"\" # END PROMPT\n# BEGIN SOLUTION NO PROMPT\ncrime_public = crime[crime['private'] == 0]\ncrime_private = crime[crime['private'] == 1]\n\nttest_2d_unequal_var = stats.ttest_ind(crime_public['crime'], crime_private['crime'], equal_var=False)\n\ntstat_2d_unequal = ttest_2d_unequal_var.statistic\npval_2d_unequal = ttest_2d_unequal_var.pvalue\n\nttest_2d_equal_var = stats.ttest_ind(crime_public['crime'], crime_private['crime'])\n\ntstat_2d_equal = ttest_2d_equal_var.statistic\npval_2d_equal = ttest_2d_equal_var.pvalue\n# END SOLUTION\n\nprint(\"t-stat unequal variance: {}\".format(tstat_2d_unequal))\nprint(\"p-value unequal variance: {}\".format(pval_2d_unequal))\nprint(\"t-stat equal variance: {}\".format(tstat_2d_equal))\nprint(\"p-value equal variance: {}\".format(pval_2d_equal))",
    "id": "8266b61efc5e451d8f584a28cf9f129d",
    "idx": 40,
    "time": "2021-01-18T20:56:47.800Z",
    "type": "execution"
   },
   {
    "code": "\"\"\" # BEGIN PROMPT\ncrime['crimerate'] = ...\n\ncrime_public = ...\ncrime_private = ...\n\nttest_2f_unequal_var = stats.ttest_ind(..., ..., ...)\n\ntstat_2f_unequal = ttest_2f_unequal_var.statistic\npval_2f_unequal = ttest_2f_unequal_var.pvalue\n\nttest_2f_equal_var = stats.ttest_ind(..., ...)\n\ntstat_2f_equal = ttest_2f_equal_var.statistic\npval_2f_equal = ttest_2f_equal_var.pvalue\n\"\"\" # END PROMPT\n# BEGIN SOLUTION NO PROMPT\ncrime['crimerate'] = 1000 * (crime['crime'] / crime['enrollment'])\n\ncrime_public = crime[crime['private'] == 0]\ncrime_private = crime[crime['private'] == 1]\n\nttest_2f_unequal_var = stats.ttest_ind(crime_public['crimerate'], crime_private['crimerate'], equal_var=False)\n\ntstat_2f_unequal = ttest_2f_unequal_var.statistic\npval_2f_unequal = ttest_2f_unequal_var.pvalue\n\nttest_2f_equal_var = stats.ttest_ind(crime_public['crimerate'], crime_private['crimerate'])\n\ntstat_2f_equal = ttest_2f_equal_var.statistic\npval_2f_equal = ttest_2f_equal_var.pvalue\n# END SOLUTION\n\nprint(\"t-stat unequal variance: {}\".format(tstat_2f_unequal))\nprint(\"p-value unequal variance: {}\".format(pval_2f_unequal))\nprint(\"t-stat equal variance: {}\".format(tstat_2f_equal))\nprint(\"p-value equal variance: {}\".format(pval_2f_equal))",
    "id": "d87885a26b4b479187f9a4e7aba7902d",
    "idx": 44,
    "time": "2021-01-18T20:56:47.803Z",
    "type": "execution"
   },
   {
    "code": "pollution = pd.read_stata(\"PS1data(pollution).dta\")\npollution.head()",
    "id": "a3f9d84c8787401c8980230ef00dbe19",
    "idx": 63,
    "time": "2021-01-18T20:56:47.809Z",
    "type": "execution"
   },
   {
    "code": "# This code cell is for question 4.a.\n",
    "id": "79e1fd638c334f9a8aecc76bf0c53af8",
    "idx": 64,
    "time": "2021-01-18T20:56:47.812Z",
    "type": "execution"
   },
   {
    "code": "\"\"\" # BEGIN PROMPT\npollution_oecd = ...\npollution_no_oecd = ...\n\nttest_4b = stats.ttest_ind(..., ..., ..., nan_policy='omit')\n\ntstat_4b = ttest_4b.statistic\npval_4b = ttest_4b.pvalue\n\"\"\" # END PROMPT\n# BEGIN SOLUTION NO PROMPT\npollution_oecd = pollution[pollution['oecd'] == 1]\npollution_no_oecd = pollution[pollution['oecd'] == 0]\n\nttest_4b = stats.ttest_ind(pollution_oecd['co2pc'], pollution_no_oecd['co2pc'], equal_var=False, nan_policy='omit')\n\ntstat_4b = ttest_4b.statistic\npval_4b = ttest_4b.pvalue\n# END SOLUTION\n\nprint(\"t-stat: {}\".format(tstat_4b))\nprint(\"p-value: {}\".format(pval_4b))",
    "id": "156e8f7abffd4eed84ebd8760d28eb06",
    "idx": 68,
    "time": "2021-01-18T20:56:47.814Z",
    "type": "execution"
   },
   {
    "code": "\"\"\" # BEGIN PROMPT\npollution['log_gdp'] = ...\npollution['log_co2'] = ...\n\"\"\" # END PROMPT\n# BEGIN SOLUTION NO PROMPT\npollution['log_gdp'] = np.log(pollution['gdp'])\npollution['log_co2'] = np.log(pollution['co2'])\n# END SOLUTION\n\npollution.head()",
    "id": "29703a1543404f2c804f455161c19899",
    "idx": 73,
    "time": "2021-01-18T20:56:47.818Z",
    "type": "execution"
   },
   {
    "code": "plt.scatter(pollution['log_gdp'], pollution['log_co2'])\nplt.xlabel(\"log gdp\")\nplt.ylabel(\"log co2\");",
    "id": "851780e01f2142158bf31c3779ff4d24",
    "idx": 77,
    "time": "2021-01-18T20:56:47.821Z",
    "type": "execution"
   },
   {
    "code": "\"\"\" # BEGIN PROMPT\npollution['log_gdppc'] = ...\npollution['log_co2pc'] = ...\n\nplt.scatter(..., ...)\n\"\"\" # END PROMPT\n# BEGIN SOLUTION NO PROMPT\npollution['log_gdppc'] = np.log(pollution['gdppc'])\npollution['log_co2pc'] = np.log(pollution['co2pc'])\n\nplt.scatter(pollution['log_gdppc'], pollution['log_co2pc'])\n# END SOLUTION\nplt.xlabel(\"log gdppc\")\nplt.ylabel(\"log co2pc\");",
    "id": "9b18354107be4b859d915d754744c833",
    "idx": 79,
    "time": "2021-01-18T20:56:47.824Z",
    "type": "execution"
   },
   {
    "code": "la = pd.read_stata(\"PS1data(LA wages).dta\")\nla.head()",
    "id": "d77af0b04aed4b9d88da7d7e7776c3dc",
    "idx": 84,
    "time": "2021-01-18T20:56:47.827Z",
    "type": "execution"
   },
   {
    "code": "la.describe() # SOLUTION",
    "id": "ff1e2d32583d4dbb8b3f3b4efa3c5d51",
    "idx": 86,
    "time": "2021-01-18T20:56:47.830Z",
    "type": "execution"
   },
   {
    "code": "la.hist(column='wage', bins=80); # SOLUTION",
    "id": "d21b4e5dbd2b4447ab40a783adc28091",
    "idx": 88,
    "time": "2021-01-18T20:56:47.833Z",
    "type": "execution"
   },
   {
    "code": "# This code cell is for question 5.c.\n",
    "id": "b8096706c3224af4892d050800938410",
    "idx": 89,
    "time": "2021-01-18T20:56:47.835Z",
    "type": "execution"
   },
   {
    "code": "\"\"\" # BEGIN PROMPT\nla['log_wage'] = ...\n\"\"\" # END PROMPT\n# BEGIN SOLUTION NO PROMPT\nla['log_wage'] = np.log(la['wage'])\n# END SOLUTION\n\nla.head()",
    "id": "b9d9c22bbd14489d92eff9616b23cab7",
    "idx": 93,
    "time": "2021-01-18T20:56:47.838Z",
    "type": "execution"
   },
   {
    "code": "la.value_counts(subset='education', sort=False, normalize=True) # SOLUTION",
    "id": "15a29073574549dda753d06175b09108",
    "idx": 95,
    "time": "2021-01-18T20:56:47.840Z",
    "type": "execution"
   },
   {
    "code": "\"\"\" # BEGIN PROMPT\n...\n...\n...\n\"\"\" # END PROMPT\n# BEGIN SOLUTION NO PROMPT\nplt.scatter(la['education'], la['log_wage'])\nplt.xlabel(\"education\")\nplt.ylabel(\"log wage\");\n# END SOLUTION",
    "id": "1dd6dd4fc618417284c9ddec5df34472",
    "idx": 97,
    "time": "2021-01-18T20:56:47.843Z",
    "type": "execution"
   },
   {
    "id": "458e59d49de5470a90af3fc5deee55c5",
    "time": "2021-01-18T20:56:48.725Z",
    "type": "completion"
   },
   {
    "id": "471a6507023840699078daa57f905478",
    "time": "2021-01-18T20:56:48.731Z",
    "type": "completion"
   },
   {
    "id": "a1eec07cfbe84189b4233e64dd52c3bb",
    "time": "2021-01-18T20:56:48.778Z",
    "type": "completion"
   },
   {
    "id": "46952d74fc6b43ae81de15654aa6189b",
    "time": "2021-01-18T20:56:48.780Z",
    "type": "completion"
   },
   {
    "id": "6133c16b211b479d8d905c0f0f5d640e",
    "time": "2021-01-18T20:56:48.783Z",
    "type": "completion"
   },
   {
    "id": "4b06500ee6404aeab3872f3a3bf3eeca",
    "time": "2021-01-18T20:56:48.786Z",
    "type": "completion"
   },
   {
    "id": "eb2d2eb45db540bb88cd4b1c61221145",
    "time": "2021-01-18T20:56:48.788Z",
    "type": "completion"
   },
   {
    "id": "70d9f35319124f5aac04ecc23ecafd1e",
    "time": "2021-01-18T20:56:48.834Z",
    "type": "completion"
   },
   {
    "id": "271fcec5eb1e48498bb392a05d18c8e0",
    "time": "2021-01-18T20:56:48.837Z",
    "type": "completion"
   },
   {
    "id": "e8782cb7cb80404fb831f227614a421a",
    "time": "2021-01-18T20:56:48.839Z",
    "type": "completion"
   },
   {
    "id": "3a6edb7310a549cc859171c11aca490b",
    "time": "2021-01-18T20:56:48.843Z",
    "type": "completion"
   },
   {
    "id": "8266b61efc5e451d8f584a28cf9f129d",
    "time": "2021-01-18T20:56:48.887Z",
    "type": "completion"
   },
   {
    "id": "d87885a26b4b479187f9a4e7aba7902d",
    "time": "2021-01-18T20:56:48.889Z",
    "type": "completion"
   },
   {
    "id": "a3f9d84c8787401c8980230ef00dbe19",
    "time": "2021-01-18T20:56:48.927Z",
    "type": "completion"
   },
   {
    "id": "79e1fd638c334f9a8aecc76bf0c53af8",
    "time": "2021-01-18T20:56:48.969Z",
    "type": "completion"
   },
   {
    "id": "156e8f7abffd4eed84ebd8760d28eb06",
    "time": "2021-01-18T20:56:48.971Z",
    "type": "completion"
   },
   {
    "id": "29703a1543404f2c804f455161c19899",
    "time": "2021-01-18T20:56:48.975Z",
    "type": "completion"
   },
   {
    "id": "851780e01f2142158bf31c3779ff4d24",
    "time": "2021-01-18T20:56:49.173Z",
    "type": "completion"
   },
   {
    "id": "9b18354107be4b859d915d754744c833",
    "time": "2021-01-18T20:56:49.320Z",
    "type": "completion"
   },
   {
    "id": "d77af0b04aed4b9d88da7d7e7776c3dc",
    "time": "2021-01-18T20:56:49.335Z",
    "type": "completion"
   },
   {
    "id": "ff1e2d32583d4dbb8b3f3b4efa3c5d51",
    "time": "2021-01-18T20:56:49.402Z",
    "type": "completion"
   },
   {
    "id": "d21b4e5dbd2b4447ab40a783adc28091",
    "time": "2021-01-18T20:56:49.748Z",
    "type": "completion"
   },
   {
    "id": "b8096706c3224af4892d050800938410",
    "time": "2021-01-18T20:56:49.749Z",
    "type": "completion"
   },
   {
    "id": "b9d9c22bbd14489d92eff9616b23cab7",
    "time": "2021-01-18T20:56:49.752Z",
    "type": "completion"
   },
   {
    "id": "15a29073574549dda753d06175b09108",
    "time": "2021-01-18T20:56:49.754Z",
    "type": "completion"
   },
   {
    "id": "1dd6dd4fc618417284c9ddec5df34472",
    "time": "2021-01-18T20:56:49.859Z",
    "type": "completion"
   },
   {
    "code": "import numpy as np\nimport pandas as pd\nfrom scipy import stats\nimport matplotlib.pyplot as plt",
    "id": "8d1918a1eeda4a109ff1ab9f2784b352",
    "idx": 4,
    "time": "2021-01-19T23:06:46.572Z",
    "type": "execution"
   },
   {
    "id": "8d1918a1eeda4a109ff1ab9f2784b352",
    "time": "2021-01-19T23:06:47.501Z",
    "type": "completion"
   },
   {
    "code": "# Don't forget to run this cell that reads in the data\nnba = pd.read_stata(\"PS1data(NBA).dta\")\nnba.head()",
    "id": "def3672c0002440aa4f8643cd1dbcd00",
    "idx": 6,
    "time": "2021-01-19T23:06:48.141Z",
    "type": "execution"
   },
   {
    "id": "def3672c0002440aa4f8643cd1dbcd00",
    "time": "2021-01-19T23:06:48.247Z",
    "type": "completion"
   },
   {
    "code": "nba.to_csv()",
    "id": "532fb3a33eb34c7b834490cebc3cfb8e",
    "idx": 7,
    "time": "2021-01-19T23:06:55.945Z",
    "type": "execution"
   },
   {
    "id": "532fb3a33eb34c7b834490cebc3cfb8e",
    "time": "2021-01-19T23:06:56.048Z",
    "type": "completion"
   },
   {
    "code": "nba.to_csv(\"nba.csv\")",
    "id": "532fb3a33eb34c7b834490cebc3cfb8e",
    "idx": 7,
    "time": "2021-01-19T23:07:24.726Z",
    "type": "execution"
   },
   {
    "id": "532fb3a33eb34c7b834490cebc3cfb8e",
    "time": "2021-01-19T23:07:24.786Z",
    "type": "completion"
   },
   {
    "code": "nba = pd.read_csv(\"nba.csv\")",
    "id": "713b677c54b145e486185569452f87a8",
    "idx": 8,
    "time": "2021-01-19T23:07:39.113Z",
    "type": "execution"
   },
   {
    "id": "713b677c54b145e486185569452f87a8",
    "time": "2021-01-19T23:07:39.174Z",
    "type": "completion"
   },
   {
    "code": "nba",
    "id": "08003a0efb8842478679e9ea9b70590f",
    "idx": 9,
    "time": "2021-01-19T23:07:43.145Z",
    "type": "execution"
   },
   {
    "id": "08003a0efb8842478679e9ea9b70590f",
    "time": "2021-01-19T23:07:43.231Z",
    "type": "completion"
   },
   {
    "code": "# Don't forget to run this cell that reads in the data\nnba = pd.read_stata(\"PS1data(NBA).dta\")\nnba.head()",
    "id": "def3672c0002440aa4f8643cd1dbcd00",
    "idx": 6,
    "time": "2021-01-19T23:08:33.449Z",
    "type": "execution"
   },
   {
    "id": "def3672c0002440aa4f8643cd1dbcd00",
    "time": "2021-01-19T23:08:33.547Z",
    "type": "completion"
   },
   {
    "code": "nba.to_csv(\"nba.csv\", index=False)",
    "id": "532fb3a33eb34c7b834490cebc3cfb8e",
    "idx": 7,
    "time": "2021-01-19T23:08:34.940Z",
    "type": "execution"
   },
   {
    "id": "532fb3a33eb34c7b834490cebc3cfb8e",
    "time": "2021-01-19T23:08:35.002Z",
    "type": "completion"
   },
   {
    "code": "nba = pd.read_csv(\"nba.csv\")",
    "id": "713b677c54b145e486185569452f87a8",
    "idx": 8,
    "time": "2021-01-19T23:08:35.843Z",
    "type": "execution"
   },
   {
    "id": "713b677c54b145e486185569452f87a8",
    "time": "2021-01-19T23:08:35.903Z",
    "type": "completion"
   },
   {
    "code": "nba",
    "id": "08003a0efb8842478679e9ea9b70590f",
    "idx": 9,
    "time": "2021-01-19T23:08:36.271Z",
    "type": "execution"
   },
   {
    "id": "08003a0efb8842478679e9ea9b70590f",
    "time": "2021-01-19T23:08:36.361Z",
    "type": "completion"
   },
   {
    "code": "\"\"\" # BEGIN PROMPT\nnba_guard = ...\nnba_not_guard = ...\n\nttest_1a = stats.ttest_ind(..., ...)\n\ntstat_1a = ttest_1a.statistic\npval_1a = ttest_1a.pvalue\n\"\"\" # END PROMPT\n# BEGIN SOLUTION NO PROMPT\nnba_guard = nba[nba['guard'] == 1]\nnba_not_guard = nba[nba['guard'] == 0]\n\nttest_1a = stats.ttest_ind(nba_guard['wage'], nba_not_guard['wage'])\n\ntstat_1a = ttest_1a.statistic\npval_1a = ttest_1a.pvalue\n# END SOLUTION\n\nprint(\"t-stat: {}\".format(tstat_1a))\nprint(\"p-value: {}\".format(pval_1a))",
    "id": "c67905a56d894bd4819965fa6df7c783",
    "idx": 11,
    "time": "2021-01-19T23:08:52.730Z",
    "type": "execution"
   },
   {
    "id": "c67905a56d894bd4819965fa6df7c783",
    "time": "2021-01-19T23:08:52.789Z",
    "type": "completion"
   },
   {
    "code": "\"\"\" # BEGIN PROMPT\nnba['degree'] = ...\n\nnba_degree = ...\nnba_no_degree = ...\n\nttest_1c = stats.ttest_ind(..., ...)\n\ntstat_1c = ttest_1c.statistic\npval_1c = ttest_1c.pvalue\n\"\"\" # END PROMPT\n# BEGIN SOLUTION NO PROMPT\nnba['degree'] = nba['coll'] >= 4\n\nnba_degree = nba[nba['degree'] == True]\nnba_no_degree = nba[nba['degree'] == False]\n\nttest_1c = stats.ttest_ind(nba_degree['wage'], nba_no_degree['wage'])\n\ntstat_1c = ttest_1c.statistic\npval_1c = ttest_1c.pvalue\n# END SOLUTION\n\nprint(\"t-stat: {}\".format(tstat_1c))\nprint(\"p-value: {}\".format(pval_1c))",
    "id": "6c346d291c474523875daf06c0529bc3",
    "idx": 15,
    "time": "2021-01-19T23:08:57.560Z",
    "type": "execution"
   },
   {
    "id": "6c346d291c474523875daf06c0529bc3",
    "time": "2021-01-19T23:08:57.619Z",
    "type": "completion"
   },
   {
    "code": "\"\"\" # BEGIN PROMPT\nnba['productivity'] = ...\n\nnba_guard = ...\nnba_not_guard = ...\n\nttest_1e = stats.ttest_ind(..., ...)\n\ntstat_1e = ttest_1e.statistic\npval_1e = ttest_1e.pvalue\n\"\"\" # END PROMPT\n# BEGIN SOLUTION NO PROMPT\nnba['productivity'] = nba['points'] / (nba['minutes'] / nba['games'])\n\nnba_guard = nba[nba['guard'] == 1]\nnba_not_guard = nba[nba['guard'] == 0]\n\nttest_1e = stats.ttest_ind(nba_guard['productivity'], nba_not_guard['productivity'])\n\ntstat_1e = ttest_1e.statistic\npval_1e = ttest_1e.pvalue\n# END SOLUTION\n\nprint(\"t-stat: {}\".format(tstat_1e))\nprint(\"p-value: {}\".format(pval_1e))",
    "id": "2f0f2cb0407349218605e9dab2d2adef",
    "idx": 19,
    "time": "2021-01-19T23:09:01.444Z",
    "type": "execution"
   },
   {
    "id": "2f0f2cb0407349218605e9dab2d2adef",
    "time": "2021-01-19T23:09:01.505Z",
    "type": "completion"
   },
   {
    "code": "\"\"\" # BEGIN PROMPT\nnba[['points', 'assists', 'rebounds']]...\n\"\"\" # END PROMPT\n# BEGIN SOLUTION NO PROMPT\nnba[['points', 'assists', 'rebounds']].corr()\n# END SOLUTION",
    "id": "786f823d997443a0a9dce74a51912e7a",
    "idx": 23,
    "time": "2021-01-19T23:09:05.474Z",
    "type": "execution"
   },
   {
    "id": "786f823d997443a0a9dce74a51912e7a",
    "time": "2021-01-19T23:09:05.540Z",
    "type": "completion"
   },
   {
    "code": "\"\"\" # BEGIN PROMPT\nnba['index'] = ...\n\nnba_guard = ...\nnba_not_guard = ...\n\nttest_1h = stats.ttest_ind(..., ...)\n\ntstat_1h = ttest_1h.statistic\npval_1h = ttest_1h.pvalue\n\"\"\" # END PROMPT\n# BEGIN SOLUTION NO PROMPT\nnba['index'] = nba['points'] + nba['rebounds'] + 2 * nba['assists']\n\nnba_guard = nba[nba['guard'] == 1]\nnba_not_guard = nba[nba['guard'] == 0]\n\nttest_1h = stats.ttest_ind(nba_guard['index'], nba_not_guard['index'])\n\ntstat_1h = ttest_1h.statistic\npval_1h = ttest_1h.pvalue\n# END SOLUTION\n\nprint(\"t-stat: {}\".format(tstat_1h))\nprint(\"p-value: {}\".format(pval_1h))",
    "id": "ac61df3099cd4a008283ea64fc12827c",
    "idx": 25,
    "time": "2021-01-19T23:09:09.076Z",
    "type": "execution"
   },
   {
    "id": "ac61df3099cd4a008283ea64fc12827c",
    "time": "2021-01-19T23:09:09.136Z",
    "type": "completion"
   },
   {
    "code": "\"\"\" # BEGIN PROMPT\nnba['payoff'] = ...\n\nnba_guard = ...\nnba_not_guard = ...\n\nttest_1j = stats.ttest_ind(..., ...)\n\ntstat_1j = ttest_1j.statistic\npval_1j = ttest_1j.pvalue\n\"\"\" # END PROMPT\n# BEGIN SOLUTION NO PROMPT\nnba['payoff'] = nba['index'] / nba['wage']\n\nnba_guard = nba[nba['guard'] == 1]\nnba_not_guard = nba[nba['guard'] == 0]\n\nttest_1j = stats.ttest_ind(nba_guard['payoff'], nba_not_guard['payoff'])\n\ntstat_1j = ttest_1j.statistic\npval_1j = ttest_1j.pvalue\n# END SOLUTION\n\nprint(\"t-stat: {}\".format(tstat_1j))\nprint(\"p-value: {}\".format(pval_1j))",
    "id": "cc1e1fccd9c34d0a8fb1e220d66fd85d",
    "idx": 29,
    "time": "2021-01-19T23:09:12.798Z",
    "type": "execution"
   },
   {
    "id": "cc1e1fccd9c34d0a8fb1e220d66fd85d",
    "time": "2021-01-19T23:09:12.857Z",
    "type": "completion"
   },
   {
    "code": "# Don't forget to run this cell that reads in the data\nnba = pd.read_csv(\"nba.csv\")\nnba.head()",
    "id": "713b677c54b145e486185569452f87a8",
    "idx": 6,
    "time": "2021-01-19T23:09:51.240Z",
    "type": "execution"
   },
   {
    "id": "713b677c54b145e486185569452f87a8",
    "time": "2021-01-19T23:09:51.320Z",
    "type": "completion"
   },
   {
    "code": "crime = pd.read_stata(\"PS1data(campus crime).dta\")\ncrime.head()",
    "id": "0fba356fa9a146928ce080b446e2cd5c",
    "idx": 31,
    "time": "2021-01-19T23:10:18.788Z",
    "type": "execution"
   },
   {
    "id": "0fba356fa9a146928ce080b446e2cd5c",
    "time": "2021-01-19T23:10:18.858Z",
    "type": "completion"
   },
   {
    "code": "crime.to_csv(\"crime.csv\", index=False)",
    "id": "c70acf7008424fce87781b94d8cbe031",
    "idx": 32,
    "time": "2021-01-19T23:10:33.539Z",
    "type": "execution"
   },
   {
    "id": "c70acf7008424fce87781b94d8cbe031",
    "time": "2021-01-19T23:10:33.598Z",
    "type": "completion"
   },
   {
    "code": "crime = pd.read_csv(\"crime.csv\")\ncrime.head()",
    "id": "59b4a96ade01442288550541733274eb",
    "idx": 33,
    "time": "2021-01-19T23:10:54.563Z",
    "type": "execution"
   },
   {
    "id": "59b4a96ade01442288550541733274eb",
    "time": "2021-01-19T23:10:54.631Z",
    "type": "completion"
   },
   {
    "code": "\"\"\" # BEGIN PROMPT\ncrime[['enrollment', 'police', 'crime']]...\n\"\"\" # END PROMPT\n# BEGIN SOLUTION NO PROMPT\ncrime[['enrollment', 'police', 'crime']].corr()\n# END SOLUTION",
    "id": "820e0587e9d148b98ca90cb936df6a6e",
    "idx": 39,
    "time": "2021-01-19T23:11:01.495Z",
    "type": "execution"
   },
   {
    "id": "820e0587e9d148b98ca90cb936df6a6e",
    "time": "2021-01-19T23:11:01.561Z",
    "type": "completion"
   },
   {
    "code": "\"\"\" # BEGIN PROMPT\ncrime_public = ...\ncrime_private = ...\n\nttest_2d_unequal_var = stats.ttest_ind(..., ..., ...)\n\ntstat_2d_unequal = ttest_2d_unequal_var.statistic\npval_2d_unequal = ttest_2d_unequal_var.pvalue\n\nttest_2d_equal_var = stats.ttest_ind(..., ...)\n\ntstat_2d_equal = ttest_2d_equal_var.statistic\npval_2d_equal = ttest_2d_equal_var.pvalue\n\"\"\" # END PROMPT\n# BEGIN SOLUTION NO PROMPT\ncrime_public = crime[crime['private'] == 0]\ncrime_private = crime[crime['private'] == 1]\n\nttest_2d_unequal_var = stats.ttest_ind(crime_public['crime'], crime_private['crime'], equal_var=False)\n\ntstat_2d_unequal = ttest_2d_unequal_var.statistic\npval_2d_unequal = ttest_2d_unequal_var.pvalue\n\nttest_2d_equal_var = stats.ttest_ind(crime_public['crime'], crime_private['crime'])\n\ntstat_2d_equal = ttest_2d_equal_var.statistic\npval_2d_equal = ttest_2d_equal_var.pvalue\n# END SOLUTION\n\nprint(\"t-stat unequal variance: {}\".format(tstat_2d_unequal))\nprint(\"p-value unequal variance: {}\".format(pval_2d_unequal))\nprint(\"t-stat equal variance: {}\".format(tstat_2d_equal))\nprint(\"p-value equal variance: {}\".format(pval_2d_equal))",
    "id": "305e82e1e0db44fe80a87918716db8c6",
    "idx": 43,
    "time": "2021-01-19T23:11:05.882Z",
    "type": "execution"
   },
   {
    "id": "305e82e1e0db44fe80a87918716db8c6",
    "time": "2021-01-19T23:11:05.942Z",
    "type": "completion"
   },
   {
    "code": "\"\"\" # BEGIN PROMPT\ncrime['crimerate'] = ...\n\ncrime_public = ...\ncrime_private = ...\n\nttest_2f_unequal_var = stats.ttest_ind(..., ..., ...)\n\ntstat_2f_unequal = ttest_2f_unequal_var.statistic\npval_2f_unequal = ttest_2f_unequal_var.pvalue\n\nttest_2f_equal_var = stats.ttest_ind(..., ...)\n\ntstat_2f_equal = ttest_2f_equal_var.statistic\npval_2f_equal = ttest_2f_equal_var.pvalue\n\"\"\" # END PROMPT\n# BEGIN SOLUTION NO PROMPT\ncrime['crimerate'] = 1000 * (crime['crime'] / crime['enrollment'])\n\ncrime_public = crime[crime['private'] == 0]\ncrime_private = crime[crime['private'] == 1]\n\nttest_2f_unequal_var = stats.ttest_ind(crime_public['crimerate'], crime_private['crimerate'], equal_var=False)\n\ntstat_2f_unequal = ttest_2f_unequal_var.statistic\npval_2f_unequal = ttest_2f_unequal_var.pvalue\n\nttest_2f_equal_var = stats.ttest_ind(crime_public['crimerate'], crime_private['crimerate'])\n\ntstat_2f_equal = ttest_2f_equal_var.statistic\npval_2f_equal = ttest_2f_equal_var.pvalue\n# END SOLUTION\n\nprint(\"t-stat unequal variance: {}\".format(tstat_2f_unequal))\nprint(\"p-value unequal variance: {}\".format(pval_2f_unequal))\nprint(\"t-stat equal variance: {}\".format(tstat_2f_equal))\nprint(\"p-value equal variance: {}\".format(pval_2f_equal))",
    "id": "41194885f18b4c7a976fd4d5c4322b26",
    "idx": 47,
    "time": "2021-01-19T23:11:10.838Z",
    "type": "execution"
   },
   {
    "id": "41194885f18b4c7a976fd4d5c4322b26",
    "time": "2021-01-19T23:11:10.899Z",
    "type": "completion"
   },
   {
    "code": "pollution = pd.read_stata(\"PS1data(pollution).dta\")\npollution.head()",
    "id": "3a6c07848d6746b9825854a1572913bc",
    "idx": 63,
    "time": "2021-01-19T23:12:11.943Z",
    "type": "execution"
   },
   {
    "id": "3a6c07848d6746b9825854a1572913bc",
    "time": "2021-01-19T23:12:12.032Z",
    "type": "completion"
   },
   {
    "code": "pollution.to_csv(\"pollution.csv\")",
    "id": "00036468bb4e4d13b3044f95fd647771",
    "idx": 64,
    "time": "2021-01-19T23:12:25.792Z",
    "type": "execution"
   },
   {
    "id": "00036468bb4e4d13b3044f95fd647771",
    "time": "2021-01-19T23:12:25.857Z",
    "type": "completion"
   },
   {
    "code": "pollution = pd.read_csv(\"pollution.csv\")\npollution.head()",
    "id": "ce98c969496e41e081cb8726901dd9c5",
    "idx": 65,
    "time": "2021-01-19T23:12:44.354Z",
    "type": "execution"
   },
   {
    "id": "ce98c969496e41e081cb8726901dd9c5",
    "time": "2021-01-19T23:12:44.431Z",
    "type": "completion"
   },
   {
    "code": "# This code cell is for question 4.a.\n",
    "id": "9e38a4b9592440068bb43fd4820193e7",
    "idx": 68,
    "time": "2021-01-19T23:12:51.581Z",
    "type": "execution"
   },
   {
    "id": "9e38a4b9592440068bb43fd4820193e7",
    "time": "2021-01-19T23:12:51.637Z",
    "type": "completion"
   },
   {
    "code": "\"\"\" # BEGIN PROMPT\npollution_oecd = ...\npollution_no_oecd = ...\n\nttest_4b = stats.ttest_ind(..., ..., ..., nan_policy='omit')\n\ntstat_4b = ttest_4b.statistic\npval_4b = ttest_4b.pvalue\n\"\"\" # END PROMPT\n# BEGIN SOLUTION NO PROMPT\npollution_oecd = pollution[pollution['oecd'] == 1]\npollution_no_oecd = pollution[pollution['oecd'] == 0]\n\nttest_4b = stats.ttest_ind(pollution_oecd['co2pc'], pollution_no_oecd['co2pc'], equal_var=False, nan_policy='omit')\n\ntstat_4b = ttest_4b.statistic\npval_4b = ttest_4b.pvalue\n# END SOLUTION\n\nprint(\"t-stat: {}\".format(tstat_4b))\nprint(\"p-value: {}\".format(pval_4b))",
    "id": "2bdb98fcc3944380806e6490818782e8",
    "idx": 71,
    "time": "2021-01-19T23:12:55.628Z",
    "type": "execution"
   },
   {
    "id": "2bdb98fcc3944380806e6490818782e8",
    "time": "2021-01-19T23:12:55.690Z",
    "type": "completion"
   },
   {
    "code": "\"\"\" # BEGIN PROMPT\npollution['log_gdp'] = ...\npollution['log_co2'] = ...\n\"\"\" # END PROMPT\n# BEGIN SOLUTION NO PROMPT\npollution['log_gdp'] = np.log(pollution['gdp'])\npollution['log_co2'] = np.log(pollution['co2'])\n# END SOLUTION\n\npollution.head()",
    "id": "bf5adc709a9d49f08cdc468728a4d823",
    "idx": 76,
    "time": "2021-01-19T23:12:59.460Z",
    "type": "execution"
   },
   {
    "id": "bf5adc709a9d49f08cdc468728a4d823",
    "time": "2021-01-19T23:12:59.536Z",
    "type": "completion"
   },
   {
    "code": "pollution = pd.read_stata(\"PS1data(pollution).dta\")\npollution.head()",
    "id": "3a6c07848d6746b9825854a1572913bc",
    "idx": 63,
    "time": "2021-01-19T23:13:22.102Z",
    "type": "execution"
   },
   {
    "id": "3a6c07848d6746b9825854a1572913bc",
    "time": "2021-01-19T23:13:22.197Z",
    "type": "completion"
   },
   {
    "code": "pollution.to_csv(\"pollution.csv\", index=False)",
    "id": "00036468bb4e4d13b3044f95fd647771",
    "idx": 64,
    "time": "2021-01-19T23:13:22.805Z",
    "type": "execution"
   },
   {
    "id": "00036468bb4e4d13b3044f95fd647771",
    "time": "2021-01-19T23:13:22.866Z",
    "type": "completion"
   },
   {
    "code": "pollution = pd.read_csv(\"pollution.csv\")\npollution.head()",
    "id": "ce98c969496e41e081cb8726901dd9c5",
    "idx": 65,
    "time": "2021-01-19T23:13:24.425Z",
    "type": "execution"
   },
   {
    "id": "ce98c969496e41e081cb8726901dd9c5",
    "time": "2021-01-19T23:13:24.499Z",
    "type": "completion"
   },
   {
    "code": "# This code cell is for question 4.a.\n",
    "id": "9e38a4b9592440068bb43fd4820193e7",
    "idx": 68,
    "time": "2021-01-19T23:13:36.191Z",
    "type": "execution"
   },
   {
    "id": "9e38a4b9592440068bb43fd4820193e7",
    "time": "2021-01-19T23:13:36.242Z",
    "type": "completion"
   },
   {
    "code": "\"\"\" # BEGIN PROMPT\npollution_oecd = ...\npollution_no_oecd = ...\n\nttest_4b = stats.ttest_ind(..., ..., ..., nan_policy='omit')\n\ntstat_4b = ttest_4b.statistic\npval_4b = ttest_4b.pvalue\n\"\"\" # END PROMPT\n# BEGIN SOLUTION NO PROMPT\npollution_oecd = pollution[pollution['oecd'] == 1]\npollution_no_oecd = pollution[pollution['oecd'] == 0]\n\nttest_4b = stats.ttest_ind(pollution_oecd['co2pc'], pollution_no_oecd['co2pc'], equal_var=False, nan_policy='omit')\n\ntstat_4b = ttest_4b.statistic\npval_4b = ttest_4b.pvalue\n# END SOLUTION\n\nprint(\"t-stat: {}\".format(tstat_4b))\nprint(\"p-value: {}\".format(pval_4b))",
    "id": "2bdb98fcc3944380806e6490818782e8",
    "idx": 71,
    "time": "2021-01-19T23:13:37.941Z",
    "type": "execution"
   },
   {
    "id": "2bdb98fcc3944380806e6490818782e8",
    "time": "2021-01-19T23:13:37.999Z",
    "type": "completion"
   },
   {
    "code": "\"\"\" # BEGIN PROMPT\npollution['log_gdp'] = ...\npollution['log_co2'] = ...\n\"\"\" # END PROMPT\n# BEGIN SOLUTION NO PROMPT\npollution['log_gdp'] = np.log(pollution['gdp'])\npollution['log_co2'] = np.log(pollution['co2'])\n# END SOLUTION\n\npollution.head()",
    "id": "bf5adc709a9d49f08cdc468728a4d823",
    "idx": 76,
    "time": "2021-01-19T23:13:41.541Z",
    "type": "execution"
   },
   {
    "id": "bf5adc709a9d49f08cdc468728a4d823",
    "time": "2021-01-19T23:13:41.614Z",
    "type": "completion"
   },
   {
    "code": "plt.scatter(pollution['log_gdp'], pollution['log_co2'])\nplt.xlabel(\"log gdp\")\nplt.ylabel(\"log co2\");",
    "id": "59216a472700488f8056fcb424f1b549",
    "idx": 80,
    "time": "2021-01-19T23:13:50.997Z",
    "type": "execution"
   },
   {
    "id": "59216a472700488f8056fcb424f1b549",
    "time": "2021-01-19T23:13:51.324Z",
    "type": "completion"
   },
   {
    "code": "\"\"\" # BEGIN PROMPT\npollution['log_gdppc'] = ...\npollution['log_co2pc'] = ...\n\nplt.scatter(..., ...)\n\"\"\" # END PROMPT\n# BEGIN SOLUTION NO PROMPT\npollution['log_gdppc'] = np.log(pollution['gdppc'])\npollution['log_co2pc'] = np.log(pollution['co2pc'])\n\nplt.scatter(pollution['log_gdppc'], pollution['log_co2pc'])\n# END SOLUTION\nplt.xlabel(\"log gdppc\")\nplt.ylabel(\"log co2pc\");",
    "id": "d9904d48b4f54fd0948d6edb053bcb62",
    "idx": 82,
    "time": "2021-01-19T23:13:53.555Z",
    "type": "execution"
   },
   {
    "id": "d9904d48b4f54fd0948d6edb053bcb62",
    "time": "2021-01-19T23:13:53.798Z",
    "type": "completion"
   },
   {
    "code": "la = pd.read_stata(\"PS1data(LA wages).dta\")\nla.head()",
    "id": "29e5d9e6e8034432b3d40ec5f04b1097",
    "idx": 85,
    "time": "2021-01-19T23:14:12.905Z",
    "type": "execution"
   },
   {
    "id": "29e5d9e6e8034432b3d40ec5f04b1097",
    "time": "2021-01-19T23:14:12.980Z",
    "type": "completion"
   },
   {
    "code": "la.to_csv(\"la.csv\")",
    "id": "25f64889e1b34b67abd88cb5c32c7c7a",
    "idx": 86,
    "time": "2021-01-19T23:14:23.213Z",
    "type": "execution"
   },
   {
    "id": "25f64889e1b34b67abd88cb5c32c7c7a",
    "time": "2021-01-19T23:14:23.275Z",
    "type": "completion"
   },
   {
    "code": "la = pd.read_stata(\"PS1data(LA wages).dta\")\nla.head()",
    "id": "29e5d9e6e8034432b3d40ec5f04b1097",
    "idx": 85,
    "time": "2021-01-19T23:14:33.529Z",
    "type": "execution"
   },
   {
    "id": "29e5d9e6e8034432b3d40ec5f04b1097",
    "time": "2021-01-19T23:14:33.606Z",
    "type": "completion"
   },
   {
    "code": "la.to_csv(\"la.csv\", index=False)",
    "id": "25f64889e1b34b67abd88cb5c32c7c7a",
    "idx": 86,
    "time": "2021-01-19T23:14:34.015Z",
    "type": "execution"
   },
   {
    "id": "25f64889e1b34b67abd88cb5c32c7c7a",
    "time": "2021-01-19T23:14:34.078Z",
    "type": "completion"
   },
   {
    "code": "la = pd.read_csv(\"la.csv\")\nla.head()",
    "id": "5dca6498fa0847e480fe4e65ee056c9c",
    "idx": 87,
    "time": "2021-01-19T23:15:15.957Z",
    "type": "execution"
   },
   {
    "id": "5dca6498fa0847e480fe4e65ee056c9c",
    "time": "2021-01-19T23:15:16.028Z",
    "type": "completion"
   },
   {
    "code": "la.describe() # SOLUTION",
    "id": "f752891718f8483f95d84f466be47517",
    "idx": 89,
    "time": "2021-01-19T23:15:20.845Z",
    "type": "execution"
   },
   {
    "id": "f752891718f8483f95d84f466be47517",
    "time": "2021-01-19T23:15:20.934Z",
    "type": "completion"
   },
   {
    "code": "la.hist(column='wage', bins=80); # SOLUTION",
    "id": "0de472d51d7e4448bf248ec9d3fedcc4",
    "idx": 91,
    "time": "2021-01-19T23:15:23.012Z",
    "type": "execution"
   },
   {
    "id": "0de472d51d7e4448bf248ec9d3fedcc4",
    "time": "2021-01-19T23:15:23.335Z",
    "type": "completion"
   },
   {
    "code": "# This code cell is for question 5.c.\n",
    "id": "d5a9aa43ae5549878e5b85f6fdd4a94c",
    "idx": 94,
    "time": "2021-01-19T23:15:26.236Z",
    "type": "execution"
   },
   {
    "id": "d5a9aa43ae5549878e5b85f6fdd4a94c",
    "time": "2021-01-19T23:15:26.289Z",
    "type": "completion"
   },
   {
    "code": "\"\"\" # BEGIN PROMPT\nla['log_wage'] = ...\n\"\"\" # END PROMPT\n# BEGIN SOLUTION NO PROMPT\nla['log_wage'] = np.log(la['wage'])\n# END SOLUTION\n\nla.head()",
    "id": "b2e6459694f64f8b8e889ed6275d5836",
    "idx": 97,
    "time": "2021-01-19T23:15:30.247Z",
    "type": "execution"
   },
   {
    "id": "b2e6459694f64f8b8e889ed6275d5836",
    "time": "2021-01-19T23:15:30.315Z",
    "type": "completion"
   },
   {
    "code": "la.value_counts(subset='education', sort=False, normalize=True) # SOLUTION",
    "id": "74995e5f61c843d89f98990ce2982334",
    "idx": 99,
    "time": "2021-01-19T23:15:37.582Z",
    "type": "execution"
   },
   {
    "id": "74995e5f61c843d89f98990ce2982334",
    "time": "2021-01-19T23:15:37.640Z",
    "type": "completion"
   },
   {
    "code": "\"\"\" # BEGIN PROMPT\n...\n...\n...\n\"\"\" # END PROMPT\n# BEGIN SOLUTION NO PROMPT\nplt.scatter(la['education'], la['log_wage'])\nplt.xlabel(\"education\")\nplt.ylabel(\"log wage\");\n# END SOLUTION",
    "id": "2fc6e4ca385f461d888043e40ad16a9b",
    "idx": 101,
    "time": "2021-01-19T23:15:39.558Z",
    "type": "execution"
   },
   {
    "id": "2fc6e4ca385f461d888043e40ad16a9b",
    "time": "2021-01-19T23:15:39.801Z",
    "type": "completion"
   },
   {
    "code": "import numpy as np\nimport pandas as pd\nfrom scipy import stats\nimport matplotlib.pyplot as plt",
    "id": "95c28f6d0a7f4cc185cc2750c76ab478",
    "idx": 4,
    "time": "2021-01-20T18:11:53.326Z",
    "type": "execution"
   },
   {
    "code": "# Don't forget to run this cell that reads in the data\nnba = pd.read_csv(\"nba.csv\")\nnba.head()",
    "id": "1cecdf82f97c4c838056af1d3f659eae",
    "idx": 6,
    "time": "2021-01-20T18:11:53.332Z",
    "type": "execution"
   },
   {
    "code": "\"\"\" # BEGIN PROMPT\nnba_guard = ...\nnba_not_guard = ...\n\nttest_1a = stats.ttest_ind(..., ...)\n\ntstat_1a = ttest_1a.statistic\npval_1a = ttest_1a.pvalue\n\"\"\" # END PROMPT\n# BEGIN SOLUTION NO PROMPT\nnba_guard = nba[nba['guard'] == 1]\nnba_not_guard = nba[nba['guard'] == 0]\n\nttest_1a = stats.ttest_ind(nba_guard['wage'], nba_not_guard['wage'])\n\ntstat_1a = ttest_1a.statistic\npval_1a = ttest_1a.pvalue\n# END SOLUTION\n\nprint(\"t-stat: {}\".format(tstat_1a))\nprint(\"p-value: {}\".format(pval_1a))",
    "id": "455d2e5b541547319e98c4ce5b095017",
    "idx": 8,
    "time": "2021-01-20T18:11:53.335Z",
    "type": "execution"
   },
   {
    "code": "\"\"\" # BEGIN PROMPT\nnba['degree'] = ...\n\nnba_degree = ...\nnba_no_degree = ...\n\nttest_1c = stats.ttest_ind(..., ...)\n\ntstat_1c = ttest_1c.statistic\npval_1c = ttest_1c.pvalue\n\"\"\" # END PROMPT\n# BEGIN SOLUTION NO PROMPT\nnba['degree'] = nba['coll'] >= 4\n\nnba_degree = nba[nba['degree'] == True]\nnba_no_degree = nba[nba['degree'] == False]\n\nttest_1c = stats.ttest_ind(nba_degree['wage'], nba_no_degree['wage'])\n\ntstat_1c = ttest_1c.statistic\npval_1c = ttest_1c.pvalue\n# END SOLUTION\n\nprint(\"t-stat: {}\".format(tstat_1c))\nprint(\"p-value: {}\".format(pval_1c))",
    "id": "72862f5469134c5283829a887acaff8d",
    "idx": 12,
    "time": "2021-01-20T18:11:53.339Z",
    "type": "execution"
   },
   {
    "code": "\"\"\" # BEGIN PROMPT\nnba['productivity'] = ...\n\nnba_guard = ...\nnba_not_guard = ...\n\nttest_1e = stats.ttest_ind(..., ...)\n\ntstat_1e = ttest_1e.statistic\npval_1e = ttest_1e.pvalue\n\"\"\" # END PROMPT\n# BEGIN SOLUTION NO PROMPT\nnba['productivity'] = nba['points'] / (nba['minutes'] / nba['games'])\n\nnba_guard = nba[nba['guard'] == 1]\nnba_not_guard = nba[nba['guard'] == 0]\n\nttest_1e = stats.ttest_ind(nba_guard['productivity'], nba_not_guard['productivity'])\n\ntstat_1e = ttest_1e.statistic\npval_1e = ttest_1e.pvalue\n# END SOLUTION\n\nprint(\"t-stat: {}\".format(tstat_1e))\nprint(\"p-value: {}\".format(pval_1e))",
    "id": "d6b9536ee67f489288bd9a1bc0a5bc1f",
    "idx": 16,
    "time": "2021-01-20T18:11:53.342Z",
    "type": "execution"
   },
   {
    "code": "\"\"\" # BEGIN PROMPT\nnba[['points', 'assists', 'rebounds']]...\n\"\"\" # END PROMPT\n# BEGIN SOLUTION NO PROMPT\nnba[['points', 'assists', 'rebounds']].corr()\n# END SOLUTION",
    "id": "50fb7915b34f4e54b575d18659557068",
    "idx": 20,
    "time": "2021-01-20T18:11:53.346Z",
    "type": "execution"
   },
   {
    "code": "\"\"\" # BEGIN PROMPT\nnba['index'] = ...\n\nnba_guard = ...\nnba_not_guard = ...\n\nttest_1h = stats.ttest_ind(..., ...)\n\ntstat_1h = ttest_1h.statistic\npval_1h = ttest_1h.pvalue\n\"\"\" # END PROMPT\n# BEGIN SOLUTION NO PROMPT\nnba['index'] = nba['points'] + nba['rebounds'] + 2 * nba['assists']\n\nnba_guard = nba[nba['guard'] == 1]\nnba_not_guard = nba[nba['guard'] == 0]\n\nttest_1h = stats.ttest_ind(nba_guard['index'], nba_not_guard['index'])\n\ntstat_1h = ttest_1h.statistic\npval_1h = ttest_1h.pvalue\n# END SOLUTION\n\nprint(\"t-stat: {}\".format(tstat_1h))\nprint(\"p-value: {}\".format(pval_1h))",
    "id": "c2e7905ba84c4ec68abbda63c913da8e",
    "idx": 22,
    "time": "2021-01-20T18:11:53.348Z",
    "type": "execution"
   },
   {
    "code": "\"\"\" # BEGIN PROMPT\nnba['payoff'] = ...\n\nnba_guard = ...\nnba_not_guard = ...\n\nttest_1j = stats.ttest_ind(..., ...)\n\ntstat_1j = ttest_1j.statistic\npval_1j = ttest_1j.pvalue\n\"\"\" # END PROMPT\n# BEGIN SOLUTION NO PROMPT\nnba['payoff'] = nba['index'] / nba['wage']\n\nnba_guard = nba[nba['guard'] == 1]\nnba_not_guard = nba[nba['guard'] == 0]\n\nttest_1j = stats.ttest_ind(nba_guard['payoff'], nba_not_guard['payoff'])\n\ntstat_1j = ttest_1j.statistic\npval_1j = ttest_1j.pvalue\n# END SOLUTION\n\nprint(\"t-stat: {}\".format(tstat_1j))\nprint(\"p-value: {}\".format(pval_1j))",
    "id": "4f049e7ffce94248918f1386796eb59e",
    "idx": 26,
    "time": "2021-01-20T18:11:53.351Z",
    "type": "execution"
   },
   {
    "code": "crime = pd.read_csv(\"crime.csv\")\ncrime.head()",
    "id": "72c9eb94cbe04857a63d27baeef132d3",
    "idx": 31,
    "time": "2021-01-20T18:11:53.355Z",
    "type": "execution"
   },
   {
    "code": "# This code cell is for question 2.a.\n",
    "id": "349ae95b6ecd4d9ba6d4672153f5fb5c",
    "idx": 32,
    "time": "2021-01-20T18:11:53.356Z",
    "type": "execution"
   },
   {
    "code": "\"\"\" # BEGIN PROMPT\ncrime[['enrollment', 'police', 'crime']]...\n\"\"\" # END PROMPT\n# BEGIN SOLUTION NO PROMPT\ncrime[['enrollment', 'police', 'crime']].corr()\n# END SOLUTION",
    "id": "e083bc37e898455486ca9ace1d5515f4",
    "idx": 37,
    "time": "2021-01-20T18:11:53.360Z",
    "type": "execution"
   },
   {
    "code": "\"\"\" # BEGIN PROMPT\ncrime_public = ...\ncrime_private = ...\n\nttest_2d_unequal_var = stats.ttest_ind(..., ..., ...)\n\ntstat_2d_unequal = ttest_2d_unequal_var.statistic\npval_2d_unequal = ttest_2d_unequal_var.pvalue\n\nttest_2d_equal_var = stats.ttest_ind(..., ...)\n\ntstat_2d_equal = ttest_2d_equal_var.statistic\npval_2d_equal = ttest_2d_equal_var.pvalue\n\"\"\" # END PROMPT\n# BEGIN SOLUTION NO PROMPT\ncrime_public = crime[crime['private'] == 0]\ncrime_private = crime[crime['private'] == 1]\n\nttest_2d_unequal_var = stats.ttest_ind(crime_public['crime'], crime_private['crime'], equal_var=False)\n\ntstat_2d_unequal = ttest_2d_unequal_var.statistic\npval_2d_unequal = ttest_2d_unequal_var.pvalue\n\nttest_2d_equal_var = stats.ttest_ind(crime_public['crime'], crime_private['crime'])\n\ntstat_2d_equal = ttest_2d_equal_var.statistic\npval_2d_equal = ttest_2d_equal_var.pvalue\n# END SOLUTION\n\nprint(\"t-stat unequal variance: {}\".format(tstat_2d_unequal))\nprint(\"p-value unequal variance: {}\".format(pval_2d_unequal))\nprint(\"t-stat equal variance: {}\".format(tstat_2d_equal))\nprint(\"p-value equal variance: {}\".format(pval_2d_equal))",
    "id": "3deaa58edc2c4e8c8d7ab1390793ce03",
    "idx": 41,
    "time": "2021-01-20T18:11:53.365Z",
    "type": "execution"
   },
   {
    "code": "\"\"\" # BEGIN PROMPT\ncrime['crimerate'] = ...\n\ncrime_public = ...\ncrime_private = ...\n\nttest_2f_unequal_var = stats.ttest_ind(..., ..., ...)\n\ntstat_2f_unequal = ttest_2f_unequal_var.statistic\npval_2f_unequal = ttest_2f_unequal_var.pvalue\n\nttest_2f_equal_var = stats.ttest_ind(..., ...)\n\ntstat_2f_equal = ttest_2f_equal_var.statistic\npval_2f_equal = ttest_2f_equal_var.pvalue\n\"\"\" # END PROMPT\n# BEGIN SOLUTION NO PROMPT\ncrime['crimerate'] = 1000 * (crime['crime'] / crime['enrollment'])\n\ncrime_public = crime[crime['private'] == 0]\ncrime_private = crime[crime['private'] == 1]\n\nttest_2f_unequal_var = stats.ttest_ind(crime_public['crimerate'], crime_private['crimerate'], equal_var=False)\n\ntstat_2f_unequal = ttest_2f_unequal_var.statistic\npval_2f_unequal = ttest_2f_unequal_var.pvalue\n\nttest_2f_equal_var = stats.ttest_ind(crime_public['crimerate'], crime_private['crimerate'])\n\ntstat_2f_equal = ttest_2f_equal_var.statistic\npval_2f_equal = ttest_2f_equal_var.pvalue\n# END SOLUTION\n\nprint(\"t-stat unequal variance: {}\".format(tstat_2f_unequal))\nprint(\"p-value unequal variance: {}\".format(pval_2f_unequal))\nprint(\"t-stat equal variance: {}\".format(tstat_2f_equal))\nprint(\"p-value equal variance: {}\".format(pval_2f_equal))",
    "id": "10fe58833a7c4b1dbf5abcde63d3061f",
    "idx": 45,
    "time": "2021-01-20T18:11:53.368Z",
    "type": "execution"
   },
   {
    "code": "pollution = pd.read_csv(\"pollution.csv\")\npollution.head()",
    "id": "77523435175a4422b864d2a61f7b498c",
    "idx": 63,
    "time": "2021-01-20T18:11:53.379Z",
    "type": "execution"
   },
   {
    "code": "# This code cell is for question 4.a.\n",
    "id": "fd9b8e13ef184684845f4947845d3c6b",
    "idx": 64,
    "time": "2021-01-20T18:11:53.380Z",
    "type": "execution"
   },
   {
    "code": "# This code cell is for question 4.a.\n",
    "id": "34ac8cf5f51d4dd097e4056465d968b5",
    "idx": 65,
    "time": "2021-01-20T18:11:53.382Z",
    "type": "execution"
   },
   {
    "code": "\"\"\" # BEGIN PROMPT\npollution_oecd = ...\npollution_no_oecd = ...\n\nttest_4b = stats.ttest_ind(..., ..., ..., nan_policy='omit')\n\ntstat_4b = ttest_4b.statistic\npval_4b = ttest_4b.pvalue\n\"\"\" # END PROMPT\n# BEGIN SOLUTION NO PROMPT\npollution_oecd = pollution[pollution['oecd'] == 1]\npollution_no_oecd = pollution[pollution['oecd'] == 0]\n\nttest_4b = stats.ttest_ind(pollution_oecd['co2pc'], pollution_no_oecd['co2pc'], equal_var=False, nan_policy='omit')\n\ntstat_4b = ttest_4b.statistic\npval_4b = ttest_4b.pvalue\n# END SOLUTION\n\nprint(\"t-stat: {}\".format(tstat_4b))\nprint(\"p-value: {}\".format(pval_4b))",
    "id": "daaf8f254b8e4925b1b4c28e746f56a4",
    "idx": 69,
    "time": "2021-01-20T18:11:53.386Z",
    "type": "execution"
   },
   {
    "code": "\"\"\" # BEGIN PROMPT\npollution['log_gdp'] = ...\npollution['log_co2'] = ...\n\"\"\" # END PROMPT\n# BEGIN SOLUTION NO PROMPT\npollution['log_gdp'] = np.log(pollution['gdp'])\npollution['log_co2'] = np.log(pollution['co2'])\n# END SOLUTION\n\npollution.head()",
    "id": "d6b8602c995141938bee6924fbf53c9a",
    "idx": 74,
    "time": "2021-01-20T18:11:53.390Z",
    "type": "execution"
   },
   {
    "code": "plt.scatter(pollution['log_gdp'], pollution['log_co2'])\nplt.xlabel(\"log gdp\")\nplt.ylabel(\"log co2\");",
    "id": "3afbdfec27be4995819da5cc2dcd6408",
    "idx": 78,
    "time": "2021-01-20T18:11:53.392Z",
    "type": "execution"
   },
   {
    "code": "\"\"\" # BEGIN PROMPT\npollution['log_gdppc'] = ...\npollution['log_co2pc'] = ...\n\nplt.scatter(..., ...)\n\"\"\" # END PROMPT\n# BEGIN SOLUTION NO PROMPT\npollution['log_gdppc'] = np.log(pollution['gdppc'])\npollution['log_co2pc'] = np.log(pollution['co2pc'])\n\nplt.scatter(pollution['log_gdppc'], pollution['log_co2pc'])\n# END SOLUTION\nplt.xlabel(\"log gdppc\")\nplt.ylabel(\"log co2pc\");",
    "id": "34583e69b57d442989739586006cf932",
    "idx": 80,
    "time": "2021-01-20T18:11:53.395Z",
    "type": "execution"
   },
   {
    "code": "la = pd.read_csv(\"la.csv\")\nla.head()",
    "id": "97d29170656347c2874c29dada53ad8b",
    "idx": 85,
    "time": "2021-01-20T18:11:53.398Z",
    "type": "execution"
   },
   {
    "code": "la.describe() # SOLUTION",
    "id": "ea20964397cf47d19d32fb07ecd33bb0",
    "idx": 87,
    "time": "2021-01-20T18:11:53.401Z",
    "type": "execution"
   },
   {
    "code": "la.hist(column='wage', bins=80); # SOLUTION",
    "id": "5f646fd659af48b6949e0e31462fe5a6",
    "idx": 89,
    "time": "2021-01-20T18:11:53.403Z",
    "type": "execution"
   },
   {
    "code": "# This code cell is for question 5.c.\n",
    "id": "97a926f5aef340948a6709328374dd74",
    "idx": 90,
    "time": "2021-01-20T18:11:53.404Z",
    "type": "execution"
   },
   {
    "code": "\"\"\" # BEGIN PROMPT\nla['log_wage'] = ...\n\"\"\" # END PROMPT\n# BEGIN SOLUTION NO PROMPT\nla['log_wage'] = np.log(la['wage'])\n# END SOLUTION\n\nla.head()",
    "id": "9838a9ad5dcb462ea4f59e916509566e",
    "idx": 94,
    "time": "2021-01-20T18:11:53.408Z",
    "type": "execution"
   },
   {
    "code": "la.value_counts(subset='education', sort=False, normalize=True) # SOLUTION",
    "id": "f8d0a4388bc54255b8e7b9cb48beb6cc",
    "idx": 96,
    "time": "2021-01-20T18:11:53.410Z",
    "type": "execution"
   },
   {
    "code": "\"\"\" # BEGIN PROMPT\n...\n...\n...\n\"\"\" # END PROMPT\n# BEGIN SOLUTION NO PROMPT\nplt.scatter(la['education'], la['log_wage'])\nplt.xlabel(\"education\")\nplt.ylabel(\"log wage\");\n# END SOLUTION",
    "id": "b8d531a3803a4b9eb0833920c46775f1",
    "idx": 98,
    "time": "2021-01-20T18:11:53.411Z",
    "type": "execution"
   },
   {
    "id": "95c28f6d0a7f4cc185cc2750c76ab478",
    "time": "2021-01-20T18:11:54.277Z",
    "type": "completion"
   },
   {
    "id": "1cecdf82f97c4c838056af1d3f659eae",
    "time": "2021-01-20T18:11:54.315Z",
    "type": "completion"
   },
   {
    "id": "455d2e5b541547319e98c4ce5b095017",
    "time": "2021-01-20T18:11:54.339Z",
    "type": "completion"
   },
   {
    "id": "72862f5469134c5283829a887acaff8d",
    "time": "2021-01-20T18:11:54.350Z",
    "type": "completion"
   },
   {
    "id": "d6b9536ee67f489288bd9a1bc0a5bc1f",
    "time": "2021-01-20T18:11:54.358Z",
    "type": "completion"
   },
   {
    "id": "50fb7915b34f4e54b575d18659557068",
    "time": "2021-01-20T18:11:54.378Z",
    "type": "completion"
   },
   {
    "id": "c2e7905ba84c4ec68abbda63c913da8e",
    "time": "2021-01-20T18:11:54.386Z",
    "type": "completion"
   },
   {
    "id": "4f049e7ffce94248918f1386796eb59e",
    "time": "2021-01-20T18:11:54.401Z",
    "type": "completion"
   },
   {
    "id": "72c9eb94cbe04857a63d27baeef132d3",
    "time": "2021-01-20T18:11:54.423Z",
    "type": "completion"
   },
   {
    "id": "349ae95b6ecd4d9ba6d4672153f5fb5c",
    "time": "2021-01-20T18:11:54.434Z",
    "type": "completion"
   },
   {
    "id": "e083bc37e898455486ca9ace1d5515f4",
    "time": "2021-01-20T18:11:54.442Z",
    "type": "completion"
   },
   {
    "id": "3deaa58edc2c4e8c8d7ab1390793ce03",
    "time": "2021-01-20T18:11:54.450Z",
    "type": "completion"
   },
   {
    "id": "10fe58833a7c4b1dbf5abcde63d3061f",
    "time": "2021-01-20T18:11:54.463Z",
    "type": "completion"
   },
   {
    "id": "77523435175a4422b864d2a61f7b498c",
    "time": "2021-01-20T18:11:54.495Z",
    "type": "completion"
   },
   {
    "id": "fd9b8e13ef184684845f4947845d3c6b",
    "time": "2021-01-20T18:11:54.499Z",
    "type": "completion"
   },
   {
    "id": "34ac8cf5f51d4dd097e4056465d968b5",
    "time": "2021-01-20T18:11:54.502Z",
    "type": "completion"
   },
   {
    "id": "daaf8f254b8e4925b1b4c28e746f56a4",
    "time": "2021-01-20T18:11:54.518Z",
    "type": "completion"
   },
   {
    "id": "d6b8602c995141938bee6924fbf53c9a",
    "time": "2021-01-20T18:11:54.544Z",
    "type": "completion"
   },
   {
    "id": "3afbdfec27be4995819da5cc2dcd6408",
    "time": "2021-01-20T18:11:54.773Z",
    "type": "completion"
   },
   {
    "id": "34583e69b57d442989739586006cf932",
    "time": "2021-01-20T18:11:54.920Z",
    "type": "completion"
   },
   {
    "id": "97d29170656347c2874c29dada53ad8b",
    "time": "2021-01-20T18:11:54.957Z",
    "type": "completion"
   },
   {
    "id": "ea20964397cf47d19d32fb07ecd33bb0",
    "time": "2021-01-20T18:11:54.996Z",
    "type": "completion"
   },
   {
    "id": "5f646fd659af48b6949e0e31462fe5a6",
    "time": "2021-01-20T18:11:55.280Z",
    "type": "completion"
   },
   {
    "id": "97a926f5aef340948a6709328374dd74",
    "time": "2021-01-20T18:11:55.285Z",
    "type": "completion"
   },
   {
    "id": "9838a9ad5dcb462ea4f59e916509566e",
    "time": "2021-01-20T18:11:55.305Z",
    "type": "completion"
   },
   {
    "id": "f8d0a4388bc54255b8e7b9cb48beb6cc",
    "time": "2021-01-20T18:11:55.329Z",
    "type": "completion"
   },
   {
    "id": "b8d531a3803a4b9eb0833920c46775f1",
    "time": "2021-01-20T18:11:55.477Z",
    "type": "completion"
   },
   {
    "code": "import numpy as np\nimport pandas as pd\nimport statsmodels.api as sm\nimport matplotlib.pyplot as plt\nfrom scipy import stats",
    "id": "1457f0c1ec5443498a07153e3854a97f",
    "idx": 4,
    "time": "2021-02-13T01:23:14.344Z",
    "type": "execution"
   },
   {
    "code": "\"\"\" # BEGIN PROMPT\nv = np.random.random_sample(...)\nx = ...\nu = np.random.normal(..., ..., ...)\ny = ...\n\nplt.scatter(x, y)\nplt.xlabel(\"x\")\nplt.ylabel(\"y\");\n\"\"\" # END PROMPT\n# BEGIN SOLUTION NO PROMPT\nv = np.random.random_sample(100)\nx = 10 + 20 * v\nu = np.random.normal(0, 100, 100)\ny = 30 + 5 * x + u\n\nplt.scatter(x, y)\nplt.xlabel(\"x\")\nplt.ylabel(\"y\");\n# END SOLUTION",
    "id": "214bf6f58bef47fd894d6fd0d581ccc3",
    "idx": 7,
    "time": "2021-02-13T01:23:14.349Z",
    "type": "execution"
   },
   {
    "code": "\"\"\" # BEGIN PROMPT\nX_1b = sm.add_constant(...)\nmodel_1b = sm.OLS(..., ...)\nresults_1b = model_1b.fit(...)\nresults_1b.summary()\n\"\"\" # END PROMPT\n# BEGIN SOLUTION NO PROMPT\nX_1b = sm.add_constant(x)\nmodel_1b = sm.OLS(y, X_1b)\nresults_1b = model_1b.fit(cov_type='HC1')\nresults_1b.summary()\n# END SOLUTION",
    "id": "6814a0a6660a41428fb34ea29c1add19",
    "idx": 9,
    "time": "2021-02-13T01:23:14.352Z",
    "type": "execution"
   },
   {
    "code": "results_1b.mse_resid ** 0.5",
    "id": "97604e65e9ec41d88e680a1e32c26985",
    "idx": 13,
    "time": "2021-02-13T01:23:14.355Z",
    "type": "execution"
   },
   {
    "code": "\"\"\" # BEGIN PROMPT\nsum_of_residuals = np.sum(...)\nprint(\"Sum of residuals: \", sum_of_residuals)\nnp.corrcoef(..., ...)\n\"\"\" # END PROMPT\n# BEGIN SOLUTION NO PROMPT\nsum_of_residuals = np.sum(results_1b.resid)\nprint(\"Sum of residuals: \", sum_of_residuals)\nnp.corrcoef(x, results_1b.resid)\n# END SOLUTION",
    "id": "2cf588c7b9554125a041a5a4cee79d7f",
    "idx": 17,
    "time": "2021-02-13T01:23:14.358Z",
    "type": "execution"
   },
   {
    "code": "\"\"\" # BEGIN PROMPT\nv_1000 = np.random.sample(...)\nx_1000 = ...\nu_1000 = np.random.normal(..., ..., ...)\ny_1000 = ...\n\nX_1f = ...\nmodel_1f = sm.OLS(..., ...)\nresults_1f = model_1f.fit(...)\nresults_1f.summary()\n\"\"\" # END PROMPT\n# BEGIN SOLUTION NO PROMPT\nv_1000 = np.random.sample(1000)\nx_1000 = 10 + 20 * v_1000\nu_1000 = np.random.normal(0, 100, 1000)\ny_1000 = 30 + 5 * x_1000 + u_1000\n\nX_1f = sm.add_constant(x_1000)\nmodel_1f = sm.OLS(y_1000, X_1f)\nresults_1f = model_1f.fit(cov_type='HC1')\nresults_1f.summary()\n# END SOLUTION",
    "id": "4d9316d98cf74edd82268a4bf83dc760",
    "idx": 19,
    "time": "2021-02-13T01:23:14.362Z",
    "type": "execution"
   },
   {
    "code": "wages = pd.read_csv(\"wages.csv\")\nwages.head()",
    "id": "4ecbc7ba34cf4baf8f6fd5d70487195e",
    "idx": 24,
    "time": "2021-02-13T01:23:14.366Z",
    "type": "execution"
   },
   {
    "code": "\"\"\" # BEGIN PROMPT\nplt.scatter(..., ...)\nplt.xlabel(\"educ\")\nplt.ylabel(\"wage\")\nplt.title(\"Wages vs. Education Level\");\n\"\"\" # END PROMPT\n# BEGIN SOLUTION NO PROMPT\nplt.scatter(wages['educ'], wages['wage'])\nplt.xlabel(\"educ\")\nplt.ylabel(\"wage\")\nplt.title(\"Wages vs. Education Level\");\n# END SOLUTION",
    "id": "24d4298b0123429a9f9e6605b5262f3f",
    "idx": 26,
    "time": "2021-02-13T01:23:14.369Z",
    "type": "execution"
   },
   {
    "code": "\"\"\" # BEGIN PROMPT\ny_2c = ...\nX_2c = sm.add_constant(...)\nmodel_2c = sm.OLS(..., ...)\nresults_2c = ...\nresults_2c.summary()\n\"\"\" # END PROMPT\n# BEGIN SOLUTION NO PROMPT\ny_2c = wages['wage']\nX_2c = sm.add_constant(wages['educ'])\nmodel_2c = sm.OLS(y_2c, X_2c)\nresults_2c = model_2c.fit(cov_type='HC1')\nresults_2c.summary()\n# END SOLUTION",
    "id": "ed09368207074b44a0941de6ad48954e",
    "idx": 30,
    "time": "2021-02-13T01:23:14.373Z",
    "type": "execution"
   },
   {
    "code": "\"\"\" # BEGIN PROMPT\nplt.scatter(..., ...)\nplt.xlabel(...)\nplt.ylabel(...)\nplt.title(...);\n\"\"\" # END PROMPT\n# BEGIN SOLUTION NO PROMPT\nplt.scatter(wages['male'], wages['wage'])\nplt.xlabel(\"male\")\nplt.ylabel(\"wage\")\nplt.title(\"Wages vs. Male Status\");\n# END SOLUTION",
    "id": "b73819248d514c1f86ca830ed031b4da",
    "idx": 38,
    "time": "2021-02-13T01:23:14.377Z",
    "type": "execution"
   },
   {
    "code": "\"\"\" # BEGIN PROMPT\ny_2i = ...\nX_2i = ...\nmodel_2i = ...\nresults_2i = ...\nresults_2i.summary()\n\"\"\" # END PROMPT\n# BEGIN SOLUTION NO PROMPT\ny_2i = wages['wage']\nX_2i = sm.add_constant(wages['male'])\nmodel_2i = sm.OLS(y_2i, X_2i)\nresults_2i = model_2i.fit(cov_type='HC1')\nresults_2i.summary()\n# END SOLUTION",
    "id": "dca21ad443604a55a3faf0127f319516",
    "idx": 42,
    "time": "2021-02-13T01:23:14.380Z",
    "type": "execution"
   },
   {
    "code": "\"\"\" # BEGIN PROMPT\nwages_men = ...\nwages_women = ...\n\nttest_2k = stats.ttest_ind(..., ..., ...)\n\ntstat_2k = ttest_2k.statistic\npval_2k = ttest_2k.pvalue\n\"\"\" # END PROMPT\n# BEGIN SOLUTION NO PROMPT\nwages_men = wages[wages['male'] == 1]\nwages_women = wages[wages['male'] == 0]\n\nttest_2k = stats.ttest_ind(wages_men['wage'], wages_women['wage'], equal_var=False)\n\ntstat_2k = ttest_2k.statistic\npval_2k = ttest_2k.pvalue\n# END SOLUTION\n\nprint(\"t-stat: {}\".format(tstat_2k))\nprint(\"p-value: {}\".format(pval_2k))",
    "id": "77a750f296ee4ef997ab3ff8238c1660",
    "idx": 46,
    "time": "2021-02-13T01:23:14.383Z",
    "type": "execution"
   },
   {
    "code": "ces = pd.read_csv(\"ces.csv\")\nces.head()",
    "id": "172edfccf3514e538b821f679d798a58",
    "idx": 65,
    "time": "2021-02-13T01:23:14.389Z",
    "type": "execution"
   },
   {
    "code": "\"\"\" # BEGIN PROMPT\nces['foodshare'] = ...\ny_4a = ...\nX_4a = ...\nmodel_4a = ...\nresults_4a = ...\nresults_4a.summary()\n\"\"\" # END PROMPT\n# BEGIN SOLUTION NO PROMPT\nces['foodshare'] = ces['foodpq'] / ces[\"totexppq\"]\ny_4a = ces['foodshare']\nX_4a = sm.add_constant(ces['fam_size'])\nmodel_4a = sm.OLS(y_4a, X_4a)\nresults_4a = model_4a.fit(cov_type='HC1')\nresults_4a.summary()\n# END SOLUTION",
    "id": "a18730ceb7ad48f39057eb504fbecdea",
    "idx": 67,
    "time": "2021-02-13T01:23:14.392Z",
    "type": "execution"
   },
   {
    "code": "\"\"\" # BEGIN PROMPT\nces['log_fam_size'] = ...\ny_4d = ...\nX_4d = ...\nmodel_4d = ...\nresults_4d = ...\nresults_4d.summary()\n\"\"\" # END PROMPT\n# BEGIN SOLUTION NO PROMPT\nces['log_fam_size'] = np.log(ces['fam_size'])\ny_4d = ces['foodshare']\nX_4d = sm.add_constant(ces['log_fam_size'])\nmodel_4d = sm.OLS(y_4d, X_4d)\nresults_4d = model_4d.fit(cov_type='HC1')\nresults_4d.summary()\n# END SOLUTION",
    "id": "7c5c62011dc94bcba8cf787c34dfbcdf",
    "idx": 73,
    "time": "2021-02-13T01:23:14.396Z",
    "type": "execution"
   },
   {
    "code": "\"\"\" # BEGIN PROMPT\nces['exp_pc'] = ...\nces_3000 = ...\ny_4g = ...\nX_4g = ...\nmodel_4g = ...\nresults_4g = ...\nresults_4g.summary()\n\"\"\" # END PROMPT\n# BEGIN SOLUTION NO PROMPT\nces['exp_pc'] = ces['totexppq'] / ces['fam_size'] \nces_3000 = ces[ces['exp_pc'] < 3000]\ny_4g = ces_3000['foodshare']\nX_4g = sm.add_constant(ces_3000['fam_size'])\nmodel_4g = sm.OLS(y_4g, X_4g)\nresults_4g = model_4g.fit(cov_type='HC1')\nresults_4g.summary()\n# END SOLUTION",
    "id": "b422d14bbc404ba18b22a714b47159b4",
    "idx": 79,
    "time": "2021-02-13T01:23:14.399Z",
    "type": "execution"
   },
   {
    "code": "\"\"\" # BEGIN PROMPT\ny_4i = ...\nX_4i = ...\nmodel_4i = ...\nresults_4i = ...\nresults_4i.summary()\n\"\"\" # END PROMPT\n# BEGIN SOLUTION NO PROMPT\ny_4i = ces['exp_pc']\nX_4i = sm.add_constant(ces['fam_size'])\nmodel_4i = sm.OLS(y_4i, X_4i)\nresults_4i = model_4i.fit(cov_type='HC1')\nresults_4i.summary()\n# END SOLUTION",
    "id": "e3e05d387e3240648c91edc7d7316ac9",
    "idx": 83,
    "time": "2021-02-13T01:23:14.403Z",
    "type": "execution"
   },
   {
    "id": "1457f0c1ec5443498a07153e3854a97f",
    "time": "2021-02-13T01:23:16.165Z",
    "type": "completion"
   },
   {
    "id": "214bf6f58bef47fd894d6fd0d581ccc3",
    "time": "2021-02-13T01:23:16.312Z",
    "type": "completion"
   },
   {
    "id": "6814a0a6660a41428fb34ea29c1add19",
    "time": "2021-02-13T01:23:16.360Z",
    "type": "completion"
   },
   {
    "id": "97604e65e9ec41d88e680a1e32c26985",
    "time": "2021-02-13T01:23:16.364Z",
    "type": "completion"
   },
   {
    "id": "2cf588c7b9554125a041a5a4cee79d7f",
    "time": "2021-02-13T01:23:16.430Z",
    "type": "completion"
   },
   {
    "id": "4d9316d98cf74edd82268a4bf83dc760",
    "time": "2021-02-13T01:23:16.434Z",
    "type": "completion"
   },
   {
    "id": "4ecbc7ba34cf4baf8f6fd5d70487195e",
    "time": "2021-02-13T01:23:16.479Z",
    "type": "completion"
   },
   {
    "id": "24d4298b0123429a9f9e6605b5262f3f",
    "time": "2021-02-13T01:23:16.734Z",
    "type": "completion"
   },
   {
    "id": "ed09368207074b44a0941de6ad48954e",
    "time": "2021-02-13T01:23:16.737Z",
    "type": "completion"
   },
   {
    "id": "b73819248d514c1f86ca830ed031b4da",
    "time": "2021-02-13T01:23:16.981Z",
    "type": "completion"
   },
   {
    "id": "dca21ad443604a55a3faf0127f319516",
    "time": "2021-02-13T01:23:17.029Z",
    "type": "completion"
   },
   {
    "id": "77a750f296ee4ef997ab3ff8238c1660",
    "time": "2021-02-13T01:23:17.031Z",
    "type": "completion"
   },
   {
    "id": "172edfccf3514e538b821f679d798a58",
    "time": "2021-02-13T01:23:17.077Z",
    "type": "completion"
   },
   {
    "id": "a18730ceb7ad48f39057eb504fbecdea",
    "time": "2021-02-13T01:23:17.123Z",
    "type": "completion"
   },
   {
    "id": "7c5c62011dc94bcba8cf787c34dfbcdf",
    "time": "2021-02-13T01:23:17.157Z",
    "type": "completion"
   },
   {
    "id": "b422d14bbc404ba18b22a714b47159b4",
    "time": "2021-02-13T01:23:17.210Z",
    "type": "completion"
   },
   {
    "id": "e3e05d387e3240648c91edc7d7316ac9",
    "time": "2021-02-13T01:23:17.246Z",
    "type": "completion"
   }
  ],
  "kernelspec": {
   "display_name": "Python 3 (ipykernel)",
   "language": "python",
   "name": "python3"
  },
  "language_info": {
   "codemirror_mode": {
    "name": "ipython",
    "version": 3
   },
   "file_extension": ".py",
   "mimetype": "text/x-python",
   "name": "python",
   "nbconvert_exporter": "python",
   "pygments_lexer": "ipython3",
   "version": "3.9.10"
  }
 },
 "nbformat": 4,
 "nbformat_minor": 2
}
