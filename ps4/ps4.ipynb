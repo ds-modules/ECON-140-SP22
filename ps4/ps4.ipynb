{
 "cells": [
  {
   "cell_type": "code",
   "execution_count": null,
   "metadata": {
    "deletable": false,
    "editable": false
   },
   "outputs": [],
   "source": [
    "# Initialize Otter\n",
    "import otter\n",
    "grader = otter.Notebook(\"ps4.ipynb\")"
   ]
  },
  {
   "cell_type": "markdown",
   "metadata": {
    "cell_id": "00001-58a1cff4-9191-4908-aff9-bc49fcd4984c",
    "deepnote_cell_type": "markdown"
   },
   "source": [
    "# Econ 140 – Problem Set 4"
   ]
  },
  {
   "cell_type": "markdown",
   "metadata": {
    "cell_id": "00003-03f9f9ba-8c4d-4fc7-96c9-c63b1eed12f0",
    "deepnote_cell_type": "markdown"
   },
   "source": [
    "Before getting started on the assignment, run the cell at the very top that imports `otter` and the cell below which will import the packages we need.\n",
    "\n",
    "**Important:** As mentioned in problem set 0, if you leave this notebook alone for a while and come back, to save memory datahub will \"forget\" which code cells you have run, and you may need to restart your kernel and run all of the cells from the top. That includes this code cell that imports packages. If you get `<something> not defined` errors, this is because you didn't run an earlier code cell that you needed to run. It might be this cell or the `otter` cell above."
   ]
  },
  {
   "cell_type": "code",
   "execution_count": null,
   "metadata": {
    "cell_id": "00004-e68d9c0c-b9aa-4e2a-af3c-0ea522dfc707",
    "deepnote_cell_type": "code",
    "deepnote_to_be_reexecuted": false,
    "execution_millis": 604,
    "execution_start": 1617244847285,
    "source_hash": "6d2aa695"
   },
   "outputs": [],
   "source": [
    "import numpy as np\n",
    "import pandas as pd\n",
    "import statsmodels.api as sm"
   ]
  },
  {
   "cell_type": "markdown",
   "metadata": {
    "cell_id": "00005-813cfd87-599f-43fd-ac39-e7fface26403",
    "deepnote_cell_type": "markdown"
   },
   "source": [
    "## Problem 1. Efficient Markets Hypothesis\n",
    "\n",
    "Does the stock market efficiently use information in valuing stocks? The Efficient Markets Hypothesis (“EMH”), developed by Nobel-prize winner Eugene Fama, maintains that current stock prices fully reflect all available information. An implication of this hypothesis is that returns in the current period should not be systematically related to information known in earlier periods. Otherwise, we could use this information to predict stock returns, thus violating EMH. As an analyst at an investment management company, you have been tasked with examining the validity of the EMH. You obtained a dataset of 142 randomly-selected firms listed on the New York Stock Exchange, consisting of the following four variables:\n",
    "\n",
    "| Variable     | Description                                                    |\n",
    "|:------------ | :------------------------------------------------------------- |\n",
    "| **return** | Total return from holding a firm’s stock over a one-year period, from January 2014 to December 2014. Note that an annual return such has 31.4% is entered in the dataset as 31.4. |\n",
    "| **dkr** | A firm’s debt to capital ratio in 2013. |\n",
    "| **lnetincome** | Natural log of the net income for a firm in 2013. |\n",
    "| **lsalary** | Natural log of the total compensation for a firm’s CEO in 2013. |\n",
    "\n",
    "Using these data, you estimated the following two regressions.\n",
    "\n",
    "**Regression 1**\n",
    "![](reg1.png)\n",
    "\n",
    "**Regression 2**\n",
    "![](reg2.png)"
   ]
  },
  {
   "cell_type": "markdown",
   "metadata": {
    "cell_id": "00011-5a69deba-e290-439e-80a7-cf49870c839c",
    "deepnote_cell_type": "markdown",
    "deletable": false,
    "editable": false
   },
   "source": [
    "<!-- BEGIN QUESTION -->\n",
    "\n",
    "**Question 1.a.**\n",
    "Based on the results for the two OLS regressions, what is the sign of the correlation between `dkr` and `lnetincome`? Alternatively, is there not enough information to determine the sign of the correlation?\n",
    "\n",
    "<!--\n",
    "BEGIN QUESTION\n",
    "name: q1_a\n",
    "manual: true\n",
    "-->"
   ]
  },
  {
   "cell_type": "markdown",
   "metadata": {},
   "source": [
    "_Type your answer here, replacing this text._"
   ]
  },
  {
   "cell_type": "markdown",
   "metadata": {
    "cell_id": "00008-acfbd7d5-cb06-4497-a89a-453b3ab3679d",
    "deepnote_cell_type": "markdown",
    "deletable": false,
    "editable": false,
    "tags": []
   },
   "source": [
    "<!-- END QUESTION -->\n",
    "\n",
    "<!-- BEGIN QUESTION -->\n",
    "\n",
    "**Question 1.b.**\n",
    "Interpret the coefficient on `lnetincome` in Regression 2.\n",
    "\n",
    "<!--\n",
    "BEGIN QUESTION\n",
    "name: q1_b\n",
    "manual: true\n",
    "-->"
   ]
  },
  {
   "cell_type": "markdown",
   "metadata": {},
   "source": [
    "_Type your answer here, replacing this text._"
   ]
  },
  {
   "cell_type": "markdown",
   "metadata": {
    "cell_id": "00008-d68f69dc-4182-4eb0-869c-a2c5587b9360",
    "deepnote_cell_type": "markdown",
    "tags": []
   },
   "source": [
    "<!-- END QUESTION -->\n",
    "\n",
    "\n",
    "\n",
    "Now suppose you added another variable to the regression, and obtained the following regression results.\n",
    "\n",
    "**Regression 3**\n",
    "![](reg3.png)"
   ]
  },
  {
   "cell_type": "markdown",
   "metadata": {
    "cell_id": "00008-da914480-95c8-47f7-821f-82a3e5e4d269",
    "deepnote_cell_type": "markdown",
    "deletable": false,
    "editable": false,
    "tags": []
   },
   "source": [
    "<!-- BEGIN QUESTION -->\n",
    "\n",
    "**Question 1.c.**\n",
    "Suppose that you use Regression 3 to examine whether EMH holds. What are the null and alternative hypotheses?\n",
    "\n",
    "<!--\n",
    "BEGIN QUESTION\n",
    "name: q1_c\n",
    "manual: true\n",
    "-->"
   ]
  },
  {
   "cell_type": "markdown",
   "metadata": {},
   "source": [
    "_Type your answer here, replacing this text._"
   ]
  },
  {
   "cell_type": "markdown",
   "metadata": {
    "cell_id": "00013-4084b154-93e8-4e6b-ba44-7d376d07d1db",
    "deepnote_cell_type": "markdown",
    "deletable": false,
    "editable": false,
    "tags": []
   },
   "source": [
    "<!-- END QUESTION -->\n",
    "\n",
    "<!-- BEGIN QUESTION -->\n",
    "\n",
    "**Question 1.d.**\n",
    "Carry out the test in part (c) at the 5% level. Do you reject or fail to reject the null hypothesis?\n",
    "\n",
    "<!--\n",
    "BEGIN QUESTION\n",
    "name: q1_d\n",
    "manual: true\n",
    "-->"
   ]
  },
  {
   "cell_type": "markdown",
   "metadata": {},
   "source": [
    "_Type your answer here, replacing this text._"
   ]
  },
  {
   "cell_type": "markdown",
   "metadata": {
    "cell_id": "00013-faab1757-e5af-416f-8811-e8e856bd96b2",
    "deepnote_cell_type": "markdown",
    "deletable": false,
    "editable": false,
    "tags": []
   },
   "source": [
    "<!-- END QUESTION -->\n",
    "\n",
    "<!-- BEGIN QUESTION -->\n",
    "\n",
    "**Question 1.e.**\n",
    "Interpret the result you obtained in part (d), in light of your task of examining the validity of EMH.\n",
    "\n",
    "<!--\n",
    "BEGIN QUESTION\n",
    "name: q1_e\n",
    "manual: true\n",
    "-->"
   ]
  },
  {
   "cell_type": "markdown",
   "metadata": {},
   "source": [
    "_Type your answer here, replacing this text._"
   ]
  },
  {
   "cell_type": "markdown",
   "metadata": {
    "cell_id": "00013-721f3c6b-50d3-450e-9e9e-7a586f173462",
    "deepnote_cell_type": "markdown",
    "deletable": false,
    "editable": false,
    "tags": []
   },
   "source": [
    "<!-- END QUESTION -->\n",
    "\n",
    "<!-- BEGIN QUESTION -->\n",
    "\n",
    "**Question 1.f.**\n",
    "Provide (at least) two reasons why there might be imperfect multicollinearity present in Regression 3.\n",
    "\n",
    "<!--\n",
    "BEGIN QUESTION\n",
    "name: q1_f\n",
    "manual: true\n",
    "-->"
   ]
  },
  {
   "cell_type": "markdown",
   "metadata": {},
   "source": [
    "_Type your answer here, replacing this text._"
   ]
  },
  {
   "cell_type": "markdown",
   "metadata": {
    "cell_id": "00013-0adce0e5-7638-4744-8b89-bc83be8984df",
    "deepnote_cell_type": "markdown",
    "deletable": false,
    "editable": false,
    "tags": []
   },
   "source": [
    "<!-- END QUESTION -->\n",
    "\n",
    "<!-- BEGIN QUESTION -->\n",
    "\n",
    "**Question 1.g.**\n",
    "Which of the following statements is true based on a comparison of Regression 2 and Regression 3?\n",
    "- (i) `dkr` and `lnetincome` are highly-correlated.\n",
    "- (ii) `dkr` and `lsalary` are highly-correlated.\n",
    "- (iii) `lnetincome` and `lsalary` are highly-correlated.\n",
    "- (iv) All of the above.\n",
    "- (v) None of the above.\n",
    "\n",
    "<!--\n",
    "BEGIN QUESTION\n",
    "name: q1_g\n",
    "manual: true\n",
    "-->"
   ]
  },
  {
   "cell_type": "markdown",
   "metadata": {},
   "source": [
    "_Type your answer here, replacing this text._"
   ]
  },
  {
   "cell_type": "markdown",
   "metadata": {
    "cell_id": "00015-6ddc2c3e-1fb5-45be-9294-435789a9cb44",
    "deepnote_cell_type": "markdown",
    "deletable": false,
    "editable": false,
    "tags": []
   },
   "source": [
    "<!-- END QUESTION -->\n",
    "\n",
    "<!-- BEGIN QUESTION -->\n",
    "\n",
    "**Question 1.h.**\n",
    "The sample of 142 stocks only include companies that were traded on the NYSE as of the end of 2013. A company that went out of business, for instance, before the end of that year could not enter the sample. How would this sampling affect the estimated coefficient relative to the population regression?\n",
    "\n",
    "<!--\n",
    "BEGIN QUESTION\n",
    "name: q1_h\n",
    "manual: true\n",
    "-->"
   ]
  },
  {
   "cell_type": "markdown",
   "metadata": {},
   "source": [
    "_Type your answer here, replacing this text._"
   ]
  },
  {
   "cell_type": "markdown",
   "metadata": {
    "cell_id": "00024-08ef62ec-ef8a-4941-b427-5c354717bdc7",
    "deepnote_cell_type": "markdown"
   },
   "source": [
    "<!-- END QUESTION -->\n",
    "\n",
    "\n",
    "\n",
    "---"
   ]
  },
  {
   "cell_type": "markdown",
   "metadata": {
    "cell_id": "00025-84fc5dfd-05b4-484e-b85b-93060501e0c1",
    "deepnote_cell_type": "markdown"
   },
   "source": [
    "## Problem 2. Airlines and Antitrust\n",
    "\n",
    "Antitrust authorities have long been concerned that airline carriers may exercise their market power by charging higher fares. The greatest concern arises when one airline runs the vast majority of flights in and out of an airport. Usually this happens when an airline designates an airport as a national or regional “hub” of their operations. The dataset `airfares.csv` consists of average fares and other characteristics of popular U.S. origin-destination pairs (e.g., Boston-Chicago) for the year 2000.\n",
    "\n",
    "| Variable | Description | Units |\n",
    "|-|-|-|\n",
    "| **lfare** | logarithm of the average fare on the route | log of fare in 2000 dollars |\n",
    "| **dist** | distance of the route | thousands of miles |\n",
    "| **passen** | average number of passengers per day | thousands of passengers |\n",
    "| **concen** | market share of biggest airline carrier on the route, measured in terms of passengers carried | fraction (e.g., 0.55 = 55% market share) |\n",
    "| **origin** | city of origin of flight |  |\n",
    "| **destin** | city of destination of flight |  |"
   ]
  },
  {
   "cell_type": "code",
   "execution_count": null,
   "metadata": {
    "cell_id": "00026-0aa610ab-47f9-4432-9166-5fd6aa4ee6f3",
    "deepnote_cell_type": "code",
    "deepnote_to_be_reexecuted": false,
    "execution_millis": 76,
    "execution_start": 1617229745102,
    "source_hash": "1e77807a"
   },
   "outputs": [],
   "source": [
    "af = pd.read_csv(\"airfares.csv\")\n",
    "af.head()"
   ]
  },
  {
   "cell_type": "markdown",
   "metadata": {
    "cell_id": "00027-3480ce56-e367-4b84-bab4-ebef3a9ccb6d",
    "deepnote_cell_type": "markdown",
    "deletable": false,
    "editable": false
   },
   "source": [
    "<!-- BEGIN QUESTION -->\n",
    "\n",
    "**Question 2.a.**\n",
    "Regress `lfare` on `dist`, `passen` and `concen`, with robust standard errors. Make sure the cell below (and all regression questions in this assignment) shows your regression results like you've done in previous assignments, otherwise we cannot give credit. This assignment will be a little less guided. Make sure do use different variable names for each separate coding part to avoid unexpected errors from reusing variables. Refer to previous assignments if you need a refresher on how we performed different regressions. *Don't forget to add a constant to your regressions.*\n",
    "\n",
    "<!--\n",
    "BEGIN QUESTION\n",
    "name: q2_a\n",
    "manual: true\n",
    "-->"
   ]
  },
  {
   "cell_type": "code",
   "execution_count": null,
   "metadata": {
    "cell_id": "00028-7ef69973-6e8b-45e3-b468-31468aa0a1b8",
    "deepnote_cell_type": "code",
    "deepnote_to_be_reexecuted": false,
    "execution_millis": 57,
    "execution_start": 1617230636271,
    "source_hash": "3f752131",
    "tags": []
   },
   "outputs": [],
   "source": [
    "..."
   ]
  },
  {
   "cell_type": "markdown",
   "metadata": {
    "cell_id": "00029-37cadf17-2ba3-477e-a35b-5b9e9ede3810",
    "deepnote_cell_type": "markdown",
    "deletable": false,
    "editable": false
   },
   "source": [
    "<!-- END QUESTION -->\n",
    "\n",
    "<!-- BEGIN QUESTION -->\n",
    "\n",
    "**Question 2.b.**\n",
    "What is the interpretation of the coefficient on `passen`?\n",
    "\n",
    "<!--\n",
    "BEGIN QUESTION\n",
    "name: q2_b\n",
    "manual: true\n",
    "-->"
   ]
  },
  {
   "cell_type": "markdown",
   "metadata": {},
   "source": [
    "_Type your answer here, replacing this text._"
   ]
  },
  {
   "cell_type": "markdown",
   "metadata": {
    "cell_id": "00029-45abd407-d56a-4709-8758-33657b36e184",
    "deepnote_cell_type": "markdown",
    "deletable": false,
    "editable": false,
    "tags": []
   },
   "source": [
    "<!-- END QUESTION -->\n",
    "\n",
    "<!-- BEGIN QUESTION -->\n",
    "\n",
    "**Question 2.c.**\n",
    "Based on your OLSEs, and assuming the OLS assumptions hold, what is the partial effect of the market share of the largest carrier on air fares? Is your answer consistent with the hypothesis that firms use their market power to charge higher prices?\n",
    "\n",
    "<!--\n",
    "BEGIN QUESTION\n",
    "name: q2_c\n",
    "manual: true\n",
    "-->"
   ]
  },
  {
   "cell_type": "markdown",
   "metadata": {},
   "source": [
    "_Type your answer here, replacing this text._"
   ]
  },
  {
   "cell_type": "markdown",
   "metadata": {
    "cell_id": "00031-8f66aca7-065b-497c-95b1-5e983149778f",
    "deepnote_cell_type": "markdown",
    "deletable": false,
    "editable": false
   },
   "source": [
    "<!-- END QUESTION -->\n",
    "\n",
    "<!-- BEGIN QUESTION -->\n",
    "\n",
    "**Question 2.d.**\n",
    "How would you test whether market power is used the same way on more popular and less popular routes? Write down the model and the hypothesis, carry out the estimation and the test.\n",
    "\n",
    "This question is for your code, the next is for your explanation.\n",
    "\n",
    "<!--\n",
    "BEGIN QUESTION\n",
    "name: q2_d\n",
    "manual: true\n",
    "-->"
   ]
  },
  {
   "cell_type": "code",
   "execution_count": null,
   "metadata": {
    "cell_id": "00032-9dbb301c-1cfa-4f9d-9b7f-cf702cdbfcec",
    "deepnote_cell_type": "code",
    "deepnote_to_be_reexecuted": false,
    "execution_millis": 44,
    "execution_start": 1617231145349,
    "source_hash": "a72ce23a"
   },
   "outputs": [],
   "source": [
    "..."
   ]
  },
  {
   "cell_type": "markdown",
   "metadata": {
    "cell_id": "00033-610694e5-d63f-4852-a091-3122640eca9c",
    "deepnote_cell_type": "markdown",
    "deletable": false,
    "editable": false
   },
   "source": [
    "<!-- END QUESTION -->\n",
    "\n",
    "<!-- BEGIN QUESTION -->\n",
    "\n",
    "**Question 2.e.**\n",
    "Explain.\n",
    "\n",
    "<!--\n",
    "BEGIN QUESTION\n",
    "name: q2_e\n",
    "manual: true\n",
    "-->"
   ]
  },
  {
   "cell_type": "markdown",
   "metadata": {},
   "source": [
    "_Type your answer here, replacing this text._"
   ]
  },
  {
   "cell_type": "markdown",
   "metadata": {
    "cell_id": "00035-0f8b15b1-8ac8-4ad1-996d-612e7dc4cc1e",
    "deepnote_cell_type": "markdown",
    "deletable": false,
    "editable": false,
    "tags": []
   },
   "source": [
    "<!-- END QUESTION -->\n",
    "\n",
    "<!-- BEGIN QUESTION -->\n",
    "\n",
    "**Question 2.f.**\n",
    "We need to question whether the results of the regression in part (d) is revealing a causal relationship between concentration and airfares. In particular, we are concerned whether our estimation results on U.S. data are valid for other markets, such as Europe and Asia. Give one reason why the results would not be “externally valid” if applied to the airline industry in one of these other two regions.\n",
    "\n",
    "<!--\n",
    "BEGIN QUESTION\n",
    "name: q2_f\n",
    "manual: true\n",
    "-->"
   ]
  },
  {
   "cell_type": "markdown",
   "metadata": {},
   "source": [
    "_Type your answer here, replacing this text._"
   ]
  },
  {
   "cell_type": "markdown",
   "metadata": {
    "cell_id": "00037-9be8846b-ec88-4fe8-abb7-622911771e89",
    "deepnote_cell_type": "markdown",
    "deletable": false,
    "editable": false,
    "tags": []
   },
   "source": [
    "<!-- END QUESTION -->\n",
    "\n",
    "<!-- BEGIN QUESTION -->\n",
    "\n",
    "**Question 2.g.**\n",
    "We are also aware of several potential threats to “internal validity” of the results. For each one of the five main internal validity threats, describe one possibility that could plausibly lead to that particular threat.\n",
    "\n",
    "<!--\n",
    "BEGIN QUESTION\n",
    "name: q2_g\n",
    "manual: true\n",
    "-->"
   ]
  },
  {
   "cell_type": "markdown",
   "metadata": {},
   "source": [
    "_Type your answer here, replacing this text._"
   ]
  },
  {
   "cell_type": "markdown",
   "metadata": {
    "cell_id": "00041-817a8f2f-0fa3-45d9-aab9-5927c8f68727",
    "deepnote_cell_type": "markdown"
   },
   "source": [
    "<!-- END QUESTION -->\n",
    "\n",
    "\n",
    "\n",
    "---"
   ]
  },
  {
   "cell_type": "markdown",
   "metadata": {
    "cell_id": "00042-af3e1305-8601-407d-9991-d9da1ea83fa6",
    "deepnote_cell_type": "markdown"
   },
   "source": [
    "## Problem 3. World Health Organization\n",
    "\n",
    "The World Health Organization (“WHO”) collects data which assesses the health care outcomes of the populations in 191 countries across the globe, as well as exploring potential explanations for those outcomes. These data are published in the annual “World Health Report.” The file `who.csv` contains five years (1993-1997) of these data. The variables in the panel of countries include:\n",
    "\n",
    "| Variable | Description |\n",
    "|-|-|\n",
    "| **comp** | composite measure of health care attainment |\n",
    "| **dale** | disability-adjusted life expectancy |\n",
    "| **year** | 1993,1994,1995,1996,1997 |\n",
    "| **hexp** | per capita health expenditure |\n",
    "| **hc3** | educational attainment (tertiary schooling) |\n",
    "| **country** | number assigned to country |\n",
    "| **oecd** | dummy indicator for an OECD member country |\n",
    "| **gini** | Gini coefficient for income inequality |\n",
    "| **geff** | World Bank measure of government effectiveness |\n",
    "| **voice** | World Bank measure of democratization of the political process |\n",
    "| **tropics** | dummy indicator of tropical location |\n",
    "| **popden** | population density (people per square mile) |\n",
    "| **pubthe** | proportion of health expenditure paid by public authorities |\n",
    "| **gdpc** | normalized per-capita GDP |"
   ]
  },
  {
   "cell_type": "code",
   "execution_count": null,
   "metadata": {
    "cell_id": "00043-a02d080e-cbe3-4623-b408-732fedaae943",
    "deepnote_cell_type": "code",
    "deepnote_to_be_reexecuted": false,
    "execution_millis": 65,
    "execution_start": 1617244855138,
    "source_hash": "9504f1df",
    "tags": []
   },
   "outputs": [],
   "source": [
    "who = pd.read_csv(\"who.csv\")\n",
    "who.head()"
   ]
  },
  {
   "cell_type": "markdown",
   "metadata": {
    "cell_id": "00044-27a2b086-0855-47e4-b6f3-67f0edc85a50",
    "deepnote_cell_type": "markdown",
    "deletable": false,
    "editable": false
   },
   "source": [
    "<!-- BEGIN QUESTION -->\n",
    "\n",
    "**Question 3.a.**\n",
    "Create a new variable for the dataset that is the square of educational attainment (`hc3`). Then regress life expectancy (`dale`) on health expenditures (`hexp`), the educational attainment in the country (`hc3`), and its square (the variable you created). For now, select rows from 1997 and use only these rows in the regression. Use robust standard errors and *don't forget to add a constant term*. Comment on whether you think the relationship between life expectancy and education is linear or quadratic and why you came to that conclusion.\n",
    "\n",
    "This question is for your code, the next is for your explanation.\n",
    "\n",
    "<!--\n",
    "BEGIN QUESTION\n",
    "name: q3_a\n",
    "manual: true\n",
    "-->"
   ]
  },
  {
   "cell_type": "code",
   "execution_count": null,
   "metadata": {
    "cell_id": "00043-be5428cc-5cf2-4161-abac-e10071dc0a55",
    "deepnote_cell_type": "code",
    "deepnote_to_be_reexecuted": false,
    "execution_millis": 46,
    "execution_start": 1617244859598,
    "source_hash": "3644a591",
    "tags": []
   },
   "outputs": [],
   "source": [
    "..."
   ]
  },
  {
   "cell_type": "markdown",
   "metadata": {
    "cell_id": "00044-7ee2467c-150e-45ba-a3e4-1b5cbff01b1e",
    "deepnote_cell_type": "markdown",
    "deletable": false,
    "editable": false,
    "tags": []
   },
   "source": [
    "<!-- END QUESTION -->\n",
    "\n",
    "<!-- BEGIN QUESTION -->\n",
    "\n",
    "**Question 3.b.**\n",
    "Explain.\n",
    "\n",
    "<!--\n",
    "BEGIN QUESTION\n",
    "name: q3_b\n",
    "manual: true\n",
    "-->"
   ]
  },
  {
   "cell_type": "markdown",
   "metadata": {},
   "source": [
    "_Type your answer here, replacing this text._"
   ]
  },
  {
   "cell_type": "markdown",
   "metadata": {
    "cell_id": "00046-bb7b8dbf-0ef0-4261-aba7-b2f24ae3e637",
    "deepnote_cell_type": "markdown",
    "deletable": false,
    "editable": false
   },
   "source": [
    "<!-- END QUESTION -->\n",
    "\n",
    "<!-- BEGIN QUESTION -->\n",
    "\n",
    "**Question 3.c.**\n",
    "To the specification in part (a), add the additional control variables: `gini`, `tropics`, `popden`, `pubthe`, `gdpc`, `voice`, and `geff`. Test whether these additional regressors are jointly significant (we do the F-test for you in this part, you just have to interpret it). What effect does inclusion of these additional controls have on the coefficients of the other included regressors?\n",
    "\n",
    "This question is for your code, the next is for your explanation.\n",
    "\n",
    "<!--\n",
    "BEGIN QUESTION\n",
    "name: q3_c\n",
    "manual: true\n",
    "-->"
   ]
  },
  {
   "cell_type": "code",
   "execution_count": null,
   "metadata": {
    "cell_id": "00047-987ce619-8deb-4d29-88c3-acde2b08fec2",
    "deepnote_cell_type": "code",
    "deepnote_to_be_reexecuted": false,
    "execution_millis": 76,
    "execution_start": 1617244861150,
    "source_hash": "7b55195f",
    "tags": []
   },
   "outputs": [],
   "source": [
    "# This is the code for your regression.\n",
    "# We give you starter code for this one so that we know what the variable name is\n",
    "# for the regression results, which we use in the code cell below.\n",
    "model_3b = ...\n",
    "results_3b = ...\n",
    "results_3b.summary()"
   ]
  },
  {
   "cell_type": "markdown",
   "metadata": {
    "deletable": false,
    "editable": false
   },
   "source": [
    "<!-- END QUESTION -->"
   ]
  },
  {
   "cell_type": "code",
   "execution_count": null,
   "metadata": {
    "cell_id": "00048-8536b645-6aa1-4fba-88b7-f599f4526c84",
    "deepnote_cell_type": "code",
    "deepnote_to_be_reexecuted": false,
    "execution_millis": 59,
    "execution_start": 1617244861608,
    "source_hash": "8d6cd20a",
    "tags": []
   },
   "outputs": [],
   "source": [
    "# Please don't change this cell, just run it.\n",
    "# This is how you do an F-test. Notice that we do .f_test on the results of the\n",
    "# unrestricted model, and then we give the names of the variables we want to\n",
    "# test inside quotation marks.\n",
    "results_3b.f_test(\"gini, tropics, popden, pubthe, gdpc, voice, geff\").summary()"
   ]
  },
  {
   "cell_type": "markdown",
   "metadata": {
    "cell_id": "00048-1b503e5f-856b-4cfa-a2b4-052fc64fcbaa",
    "deepnote_cell_type": "markdown",
    "deletable": false,
    "editable": false
   },
   "source": [
    "<!-- BEGIN QUESTION -->\n",
    "\n",
    "**Question 3.d.**\n",
    "Explain. \n",
    "<!--\n",
    "BEGIN QUESTION\n",
    "name: q3_d\n",
    "manual: true\n",
    "-->"
   ]
  },
  {
   "cell_type": "markdown",
   "metadata": {},
   "source": [
    "_Type your answer here, replacing this text._"
   ]
  },
  {
   "cell_type": "markdown",
   "metadata": {
    "cell_id": "00050-29ce8bf8-024b-46b1-948e-a8c09e78b5b8",
    "deepnote_cell_type": "markdown",
    "deletable": false,
    "editable": false
   },
   "source": [
    "<!-- END QUESTION -->\n",
    "\n",
    "<!-- BEGIN QUESTION -->\n",
    "\n",
    "**Question 3.e.**\n",
    "Return to the simpler regression specification in part (a). We want see if the determinants of life expectancy are different for rich and poor countries. Use membership in the “Organization of Economic Cooperation & Development” (`oecd`) as the indicator of a rich country. The OECD had 30 member countries during this time period. Perform a test of the hypothesis that all three of the coefficients in the population regression are equal for OECD and non-OECD countries.\n",
    "\n",
    "*Hint: You will need to create three new variables.*\n",
    "\n",
    "This question is for your code, the next is for your explanation.\n",
    "\n",
    "<!--\n",
    "BEGIN QUESTION\n",
    "name: q3_e\n",
    "manual: true\n",
    "-->"
   ]
  },
  {
   "cell_type": "code",
   "execution_count": null,
   "metadata": {
    "cell_id": "00051-f5dcdc8f-b51e-4f05-88b3-c5d63dda7fa4",
    "deepnote_cell_type": "code",
    "deepnote_to_be_reexecuted": false,
    "execution_millis": 33,
    "execution_start": 1617244863640,
    "source_hash": "92155a9f",
    "tags": []
   },
   "outputs": [],
   "source": [
    "..."
   ]
  },
  {
   "cell_type": "markdown",
   "metadata": {
    "deletable": false,
    "editable": false
   },
   "source": [
    "<!-- END QUESTION -->"
   ]
  },
  {
   "cell_type": "code",
   "execution_count": null,
   "metadata": {
    "cell_id": "00053-1853f159-b773-4486-87e6-bf16ff675743",
    "deepnote_cell_type": "code",
    "deepnote_to_be_reexecuted": false,
    "execution_millis": 13,
    "execution_start": 1617252731631,
    "source_hash": "68208b70",
    "tags": []
   },
   "outputs": [],
   "source": [
    "# This extra code cell may be helpful\n",
    "..."
   ]
  },
  {
   "cell_type": "markdown",
   "metadata": {
    "cell_id": "00052-a3d7a081-542f-4434-b08b-e663664cf003",
    "deepnote_cell_type": "markdown",
    "deletable": false,
    "editable": false
   },
   "source": [
    "<!-- BEGIN QUESTION -->\n",
    "\n",
    "**Question 3.f.**\n",
    "Explain.\n",
    "\n",
    "<!--\n",
    "BEGIN QUESTION\n",
    "name: q3_f\n",
    "manual: true\n",
    "-->"
   ]
  },
  {
   "cell_type": "markdown",
   "metadata": {},
   "source": [
    "_Type your answer here, replacing this text._"
   ]
  },
  {
   "cell_type": "markdown",
   "metadata": {
    "cell_id": "00060-d82372af-14b9-46d4-bd99-63834f66e637",
    "deepnote_cell_type": "markdown"
   },
   "source": [
    "<!-- END QUESTION -->\n",
    "\n",
    "\n",
    "\n",
    "---"
   ]
  },
  {
   "cell_type": "markdown",
   "metadata": {},
   "source": [
    "## Problem 4. The Sheepskin Effect\n",
    "\n",
    "The table of results that will be shared on bCourses (under Problem Sets) is copied from a paper by Jaeger and Page (1996) entitled “Degrees Matter: New Evidence on Sheepskin Effects in the Returns to Education,” The Review of Economics and Statistics. The question is whether employers pay in relation to years of education or whether there is an additional premium for obtaining a degree. Such premium might be called the “sheepskin effect” (because diplomas at one time were printed on a sheet of sheepskin) or the “diploma effect.” The Jaeger and Page paper estimates the magnitude of this effect. Note: an empty cell in the table means that variable is not included in the regression."
   ]
  },
  {
   "cell_type": "markdown",
   "metadata": {},
   "source": [
    "<!-- BEGIN QUESTION -->\n",
    "\n",
    "**Question 4.a.**\n",
    "Why do you think Jaeger and Page estimate their model using only people of a single race and gender (in this particular case the sample consists of white males)?\n",
    "\n",
    "<!--\n",
    "BEGIN QUESTION\n",
    "name: q4_a\n",
    "manual: true\n",
    "-->"
   ]
  },
  {
   "cell_type": "markdown",
   "metadata": {},
   "source": [
    "_Type your answer here, replacing this text._"
   ]
  },
  {
   "cell_type": "markdown",
   "metadata": {},
   "source": [
    "<!-- END QUESTION -->\n",
    "\n",
    "<!-- BEGIN QUESTION -->\n",
    "\n",
    "**Question 4.b.**\n",
    "Look at column (3) of the table. In words, interpret the coefficient on the dummy variable “9”.\n",
    "\n",
    "*Hint: Note that “12” is the omitted category.*\n",
    "\n",
    "<!--\n",
    "BEGIN QUESTION\n",
    "name: q4_b\n",
    "manual: true\n",
    "-->"
   ]
  },
  {
   "cell_type": "markdown",
   "metadata": {},
   "source": [
    "_Type your answer here, replacing this text._"
   ]
  },
  {
   "cell_type": "markdown",
   "metadata": {},
   "source": [
    "<!-- END QUESTION -->\n",
    "\n",
    "<!-- BEGIN QUESTION -->\n",
    "\n",
    "**Question 4.c.**\n",
    "Why do you think the effect of the 14th year of education is larger than that of the 15th?\n",
    "\n",
    "<!--\n",
    "BEGIN QUESTION\n",
    "name: q4_c\n",
    "manual: true\n",
    "-->"
   ]
  },
  {
   "cell_type": "markdown",
   "metadata": {},
   "source": [
    "_Type your answer here, replacing this text._"
   ]
  },
  {
   "cell_type": "markdown",
   "metadata": {},
   "source": [
    "<!-- END QUESTION -->\n",
    "\n",
    "<!-- BEGIN QUESTION -->\n",
    "\n",
    "**Question 4.d.**\n",
    "Now look at column (4). Think about a student who is currently a senior. What is the average difference in the student's wage now and the one that the student could get at the end of the year following graduation?\n",
    "\n",
    "<!--\n",
    "BEGIN QUESTION\n",
    "name: q4_d\n",
    "manual: true\n",
    "-->"
   ]
  },
  {
   "cell_type": "markdown",
   "metadata": {},
   "source": [
    "_Type your answer here, replacing this text._"
   ]
  },
  {
   "cell_type": "markdown",
   "metadata": {},
   "source": [
    "<!-- END QUESTION -->\n",
    "\n",
    "<!-- BEGIN QUESTION -->\n",
    "\n",
    "**Question 4.e.**\n",
    "Based on the results presented in this column, would you rather choose to complete a PhD or a professional degree? Explain.\n",
    "\n",
    "<!--\n",
    "BEGIN QUESTION\n",
    "name: q4_e\n",
    "manual: true\n",
    "-->"
   ]
  },
  {
   "cell_type": "markdown",
   "metadata": {},
   "source": [
    "_Type your answer here, replacing this text._"
   ]
  },
  {
   "cell_type": "markdown",
   "metadata": {},
   "source": [
    "<!-- END QUESTION -->\n",
    "\n",
    "<!-- BEGIN QUESTION -->\n",
    "\n",
    "**Question 4.f.**\n",
    "Using the results from columns (3) and (4), how would you test the presence of a “diploma effect”? Carry out the test at a 5% significance level.\n",
    "\n",
    "*Hint: You may find some of the information you need in the footnote of the table.*\n",
    "\n",
    "<!--\n",
    "BEGIN QUESTION\n",
    "name: q4_f\n",
    "manual: true\n",
    "-->"
   ]
  },
  {
   "cell_type": "markdown",
   "metadata": {},
   "source": [
    "_Type your answer here, replacing this text._"
   ]
  },
  {
   "cell_type": "markdown",
   "metadata": {
    "cell_id": "00060-d82372af-14b9-46d4-bd99-63834f66e637",
    "deepnote_cell_type": "markdown"
   },
   "source": [
    "<!-- END QUESTION -->\n",
    "\n",
    "\n",
    "\n",
    "---"
   ]
  },
  {
   "cell_type": "markdown",
   "metadata": {
    "deletable": false,
    "editable": false
   },
   "source": [
    "## Submission\n",
    "\n",
    "Make sure you have run all cells in your notebook in order before running the cell below, so that all images/graphs appear in the output. The cell below will generate a zip file for you to submit. **Please save before exporting!**"
   ]
  },
  {
   "cell_type": "code",
   "execution_count": null,
   "metadata": {
    "deletable": false,
    "editable": false
   },
   "outputs": [],
   "source": [
    "# Save your notebook first, then run this cell to export your submission.\n",
    "grader.to_pdf(pagebreaks=False, display_link=True)"
   ]
  },
  {
   "cell_type": "markdown",
   "metadata": {},
   "source": [
    " "
   ]
  }
 ],
 "metadata": {
  "deepnote": {},
  "deepnote_execution_queue": [],
  "deepnote_notebook_id": "875b013c-1d67-4954-b870-02f513e14f87",
  "history": [
   {
    "code": "crime = pd.read_stata(\"PS1data(campus crime).dta\")\ncrime.head()",
    "id": "6ff7917995244c5e86a88c19fa2d81e1",
    "idx": 44,
    "time": "2021-01-18T07:09:23.823Z",
    "type": "execution"
   },
   {
    "id": "6ff7917995244c5e86a88c19fa2d81e1",
    "time": "2021-01-18T07:09:23.936Z",
    "type": "completion"
   },
   {
    "code": "import numpy as np\nimport pandas as pd\nimport statsmodels.api as sm\nimport scipy",
    "id": "c077fd8ff0c749a6aa9264a01f374de5",
    "idx": 1,
    "time": "2021-01-18T07:09:27.098Z",
    "type": "execution"
   },
   {
    "id": "c077fd8ff0c749a6aa9264a01f374de5",
    "time": "2021-01-18T07:09:28.128Z",
    "type": "completion"
   },
   {
    "code": "crime = pd.read_stata(\"PS1data(campus crime).dta\")\ncrime.head()",
    "id": "6ff7917995244c5e86a88c19fa2d81e1",
    "idx": 44,
    "time": "2021-01-18T07:09:32.183Z",
    "type": "execution"
   },
   {
    "id": "6ff7917995244c5e86a88c19fa2d81e1",
    "time": "2021-01-18T07:09:32.279Z",
    "type": "completion"
   },
   {
    "code": "crime.describe()",
    "id": "135cbd699ea54ab18331f85ed0bf8823",
    "idx": 45,
    "time": "2021-01-18T07:11:03.161Z",
    "type": "execution"
   },
   {
    "id": "135cbd699ea54ab18331f85ed0bf8823",
    "time": "2021-01-18T07:11:03.251Z",
    "type": "completion"
   },
   {
    "code": "# This code cell is for question 2.a.\n",
    "id": "e46e3004a663426b85c8e39cc37dcdb0",
    "idx": 46,
    "time": "2021-01-18T07:24:16.050Z",
    "type": "execution"
   },
   {
    "id": "e46e3004a663426b85c8e39cc37dcdb0",
    "time": "2021-01-18T07:24:16.116Z",
    "type": "completion"
   },
   {
    "code": "pollution = pd.read_stata(\"PS1data(pollution).dta\")\npollution.head()",
    "id": "ade11aa832d5421ea99ca9c650c186be",
    "idx": 63,
    "time": "2021-01-18T07:59:56.188Z",
    "type": "execution"
   },
   {
    "id": "ade11aa832d5421ea99ca9c650c186be",
    "time": "2021-01-18T07:59:56.394Z",
    "type": "completion"
   },
   {
    "code": "import numpy as np\nimport pandas as pd\nimport scipy\nimport matplotlib.pyplot as plt",
    "id": "c077fd8ff0c749a6aa9264a01f374de5",
    "idx": 1,
    "time": "2021-01-18T08:10:35.509Z",
    "type": "execution"
   },
   {
    "id": "c077fd8ff0c749a6aa9264a01f374de5",
    "time": "2021-01-18T08:10:38.601Z",
    "type": "completion"
   },
   {
    "code": "plt.scatter()",
    "id": "6ea4c625a7ba46578b86fb5510d63287",
    "idx": 71,
    "time": "2021-01-18T08:10:48.711Z",
    "type": "execution"
   },
   {
    "id": "6ea4c625a7ba46578b86fb5510d63287",
    "time": "2021-01-18T08:10:48.861Z",
    "type": "completion"
   },
   {
    "code": "pollution = pd.read_stata(\"PS1data(pollution).dta\")\npollution.head()",
    "id": "ade11aa832d5421ea99ca9c650c186be",
    "idx": 63,
    "time": "2021-01-18T08:17:38.420Z",
    "type": "execution"
   },
   {
    "id": "ade11aa832d5421ea99ca9c650c186be",
    "time": "2021-01-18T08:17:38.560Z",
    "type": "completion"
   },
   {
    "code": "la = pd.read_stata(\"PS1data(LA wages).dta\")\nla.head()",
    "id": "9f9659cd5f024d7498664666f150a8f1",
    "idx": 75,
    "time": "2021-01-18T08:18:05.621Z",
    "type": "execution"
   },
   {
    "id": "9f9659cd5f024d7498664666f150a8f1",
    "time": "2021-01-18T08:18:05.838Z",
    "type": "completion"
   },
   {
    "code": "la['wage']",
    "id": "5e8c1ef38b9a4a2ea99e7007d38bdcfd",
    "idx": 77,
    "time": "2021-01-18T09:24:15.105Z",
    "type": "execution"
   },
   {
    "id": "5e8c1ef38b9a4a2ea99e7007d38bdcfd",
    "time": "2021-01-18T09:24:15.317Z",
    "type": "completion"
   },
   {
    "code": "import numpy as np\nimport pandas as pd\nimport scipy\nimport matplotlib.pyplot as plt",
    "id": "c077fd8ff0c749a6aa9264a01f374de5",
    "idx": 1,
    "time": "2021-01-18T09:24:20.258Z",
    "type": "execution"
   },
   {
    "id": "c077fd8ff0c749a6aa9264a01f374de5",
    "time": "2021-01-18T09:24:21.004Z",
    "type": "completion"
   },
   {
    "code": "la = pd.read_stata(\"PS1data(LA wages).dta\")\nla.head()",
    "id": "9f9659cd5f024d7498664666f150a8f1",
    "idx": 75,
    "time": "2021-01-18T09:24:24.656Z",
    "type": "execution"
   },
   {
    "id": "9f9659cd5f024d7498664666f150a8f1",
    "time": "2021-01-18T09:24:24.788Z",
    "type": "completion"
   },
   {
    "code": "la['wage']",
    "id": "5e8c1ef38b9a4a2ea99e7007d38bdcfd",
    "idx": 77,
    "time": "2021-01-18T09:24:26.726Z",
    "type": "execution"
   },
   {
    "id": "5e8c1ef38b9a4a2ea99e7007d38bdcfd",
    "time": "2021-01-18T09:24:26.831Z",
    "type": "completion"
   },
   {
    "code": "la['wage'].hist()",
    "id": "5e8c1ef38b9a4a2ea99e7007d38bdcfd",
    "idx": 77,
    "time": "2021-01-18T09:24:30.291Z",
    "type": "execution"
   },
   {
    "id": "5e8c1ef38b9a4a2ea99e7007d38bdcfd",
    "time": "2021-01-18T09:24:30.532Z",
    "type": "completion"
   },
   {
    "code": "la.hist(column='wage')",
    "id": "5e8c1ef38b9a4a2ea99e7007d38bdcfd",
    "idx": 77,
    "time": "2021-01-18T09:25:07.361Z",
    "type": "execution"
   },
   {
    "id": "5e8c1ef38b9a4a2ea99e7007d38bdcfd",
    "time": "2021-01-18T09:25:07.591Z",
    "type": "completion"
   },
   {
    "code": "la.hist(column='wage', bins=20)",
    "id": "5e8c1ef38b9a4a2ea99e7007d38bdcfd",
    "idx": 77,
    "time": "2021-01-18T09:25:31.566Z",
    "type": "execution"
   },
   {
    "id": "5e8c1ef38b9a4a2ea99e7007d38bdcfd",
    "time": "2021-01-18T09:25:31.792Z",
    "type": "completion"
   },
   {
    "code": "la.hist(column='wage', bins=80)",
    "id": "5e8c1ef38b9a4a2ea99e7007d38bdcfd",
    "idx": 77,
    "time": "2021-01-18T09:25:38.477Z",
    "type": "execution"
   },
   {
    "id": "5e8c1ef38b9a4a2ea99e7007d38bdcfd",
    "time": "2021-01-18T09:25:38.863Z",
    "type": "completion"
   },
   {
    "code": "la.hist(column='wage', bins=80, density=True)",
    "id": "5e8c1ef38b9a4a2ea99e7007d38bdcfd",
    "idx": 78,
    "time": "2021-01-18T09:32:17.612Z",
    "type": "execution"
   },
   {
    "id": "5e8c1ef38b9a4a2ea99e7007d38bdcfd",
    "time": "2021-01-18T09:32:17.947Z",
    "type": "completion"
   },
   {
    "code": "la.hist(column='wage', bins=2, density=True)",
    "id": "5e8c1ef38b9a4a2ea99e7007d38bdcfd",
    "idx": 78,
    "time": "2021-01-18T09:35:08.803Z",
    "type": "execution"
   },
   {
    "id": "5e8c1ef38b9a4a2ea99e7007d38bdcfd",
    "time": "2021-01-18T09:35:09.018Z",
    "type": "completion"
   },
   {
    "code": "la.hist(column='wage', bins=2, density=False)",
    "id": "5e8c1ef38b9a4a2ea99e7007d38bdcfd",
    "idx": 78,
    "time": "2021-01-18T09:35:20.210Z",
    "type": "execution"
   },
   {
    "id": "5e8c1ef38b9a4a2ea99e7007d38bdcfd",
    "time": "2021-01-18T09:35:20.394Z",
    "type": "completion"
   },
   {
    "code": "la.hist(column='wage', bins=2, density=True)",
    "id": "5e8c1ef38b9a4a2ea99e7007d38bdcfd",
    "idx": 78,
    "time": "2021-01-18T09:35:29.312Z",
    "type": "execution"
   },
   {
    "id": "5e8c1ef38b9a4a2ea99e7007d38bdcfd",
    "time": "2021-01-18T09:35:29.520Z",
    "type": "completion"
   },
   {
    "code": "plt.hist(la['wage'])",
    "id": "47e4aac55f07470c8fa51b2b90261851",
    "idx": 79,
    "time": "2021-01-18T09:35:42.316Z",
    "type": "execution"
   },
   {
    "id": "47e4aac55f07470c8fa51b2b90261851",
    "time": "2021-01-18T09:35:42.565Z",
    "type": "completion"
   },
   {
    "code": "plt.hist(la['wage'], bins=2)",
    "id": "47e4aac55f07470c8fa51b2b90261851",
    "idx": 79,
    "time": "2021-01-18T09:35:47.435Z",
    "type": "execution"
   },
   {
    "id": "47e4aac55f07470c8fa51b2b90261851",
    "time": "2021-01-18T09:35:47.611Z",
    "type": "completion"
   },
   {
    "code": "plt.hist(la['wage'], bins=2, density=True)",
    "id": "47e4aac55f07470c8fa51b2b90261851",
    "idx": 79,
    "time": "2021-01-18T09:35:52.150Z",
    "type": "execution"
   },
   {
    "id": "47e4aac55f07470c8fa51b2b90261851",
    "time": "2021-01-18T09:35:52.341Z",
    "type": "completion"
   },
   {
    "code": "la.hist(column='wage', bins=2)",
    "id": "5e8c1ef38b9a4a2ea99e7007d38bdcfd",
    "idx": 78,
    "time": "2021-01-18T09:37:29.191Z",
    "type": "execution"
   },
   {
    "id": "5e8c1ef38b9a4a2ea99e7007d38bdcfd",
    "time": "2021-01-18T09:37:29.385Z",
    "type": "completion"
   },
   {
    "code": "la.hist(column='wage', bins=80)",
    "id": "5e8c1ef38b9a4a2ea99e7007d38bdcfd",
    "idx": 78,
    "time": "2021-01-18T09:37:33.703Z",
    "type": "execution"
   },
   {
    "id": "5e8c1ef38b9a4a2ea99e7007d38bdcfd",
    "time": "2021-01-18T09:37:34.121Z",
    "type": "completion"
   },
   {
    "code": "la.hist(column='wage', bins=80);",
    "id": "5e8c1ef38b9a4a2ea99e7007d38bdcfd",
    "idx": 78,
    "time": "2021-01-18T09:38:29.829Z",
    "type": "execution"
   },
   {
    "id": "5e8c1ef38b9a4a2ea99e7007d38bdcfd",
    "time": "2021-01-18T09:38:30.184Z",
    "type": "completion"
   },
   {
    "code": "la.skew()",
    "id": "b72d792a6ced4f81854002eb6f256630",
    "idx": 79,
    "time": "2021-01-18T09:41:16.207Z",
    "type": "execution"
   },
   {
    "id": "b72d792a6ced4f81854002eb6f256630",
    "time": "2021-01-18T09:41:16.437Z",
    "type": "completion"
   },
   {
    "code": "la['education'].value_counts()",
    "id": "e1f798625e02470185f6ca12c36a1ed9",
    "idx": 82,
    "time": "2021-01-18T09:51:54.245Z",
    "type": "execution"
   },
   {
    "id": "e1f798625e02470185f6ca12c36a1ed9",
    "time": "2021-01-18T09:51:54.483Z",
    "type": "completion"
   },
   {
    "code": "la['education'].value_counts(sort=False)",
    "id": "e1f798625e02470185f6ca12c36a1ed9",
    "idx": 82,
    "time": "2021-01-18T09:52:17.915Z",
    "type": "execution"
   },
   {
    "id": "e1f798625e02470185f6ca12c36a1ed9",
    "time": "2021-01-18T09:52:18.043Z",
    "type": "completion"
   },
   {
    "code": "la.value_counts(sort=False)",
    "id": "e1f798625e02470185f6ca12c36a1ed9",
    "idx": 84,
    "time": "2021-01-18T09:55:32.462Z",
    "type": "execution"
   },
   {
    "id": "e1f798625e02470185f6ca12c36a1ed9",
    "time": "2021-01-18T09:55:32.557Z",
    "type": "completion"
   },
   {
    "code": "la.value_counts(subset='education', sort=False)",
    "id": "e1f798625e02470185f6ca12c36a1ed9",
    "idx": 84,
    "time": "2021-01-18T09:55:44.949Z",
    "type": "execution"
   },
   {
    "id": "e1f798625e02470185f6ca12c36a1ed9",
    "time": "2021-01-18T09:55:45.051Z",
    "type": "completion"
   },
   {
    "code": "la.value_counts(subset='education', sort=False, normalize=True)",
    "id": "e1f798625e02470185f6ca12c36a1ed9",
    "idx": 84,
    "time": "2021-01-18T09:56:21.567Z",
    "type": "execution"
   },
   {
    "id": "e1f798625e02470185f6ca12c36a1ed9",
    "time": "2021-01-18T09:56:21.684Z",
    "type": "completion"
   },
   {
    "code": "\"\"\" # BEGIN PROMPT\nnba['payoff'] = ...\n\nnba_guard = ...\nnba_not_guard = ...\n\nttest_1j = scipy.stats.ttest_ind(..., ...)\n\ntstat_1j = ttest_1j.statistic\npval_1j = ttest_1j.pvalue\n\"\"\" # END PROMPT\n# BEGIN SOLUTION NO PROMPT\nnba['payoff'] = nba['index'] / nba['wage']\n\nnba_guard = nba[nba['guard'] == 1]\nnba_not_guard = nba[nba['guard'] == 0]\n\nttest_1j = scipy.stats.ttest_ind(nba_guard['payoff'], nba_not_guard['payoff'])\n\ntstat_1j = ttest_1j.statistic\npval_1j = ttest_1j.pvalue\n# END SOLUTION\n\nprint(\"t-stat: {}\".format(tstat_1j))\nprint(\"p-value: {}\".format(pval_1j))",
    "id": "49e0c29ac3324d018fd3ddcb268cace1",
    "idx": 24,
    "time": "2021-01-18T10:25:51.299Z",
    "type": "execution"
   },
   {
    "id": "49e0c29ac3324d018fd3ddcb268cace1",
    "time": "2021-01-18T10:25:51.432Z",
    "type": "completion"
   },
   {
    "code": "nba = pd.read_stata(\"PS1data(NBA).dta\")\nnba.head()",
    "id": "4e02ffc0b72a40e9874ce8b8316d398d",
    "idx": 4,
    "time": "2021-01-18T10:29:02.028Z",
    "type": "execution"
   },
   {
    "id": "4e02ffc0b72a40e9874ce8b8316d398d",
    "time": "2021-01-18T10:29:02.224Z",
    "type": "completion"
   },
   {
    "code": "\"\"\" # BEGIN PROMPT\nnba_guard = ...\nnba_not_guard = ...\n\nttest_1a = scipy.stats.ttest_ind(..., ...)\n\ntstat_1a = ttest_1a.statistic\npval_1a = ttest_1a.pvalue\n\"\"\" # END PROMPT\n# BEGIN SOLUTION NO PROMPT\nnba_guard = nba[nba['guard'] == 1]\nnba_not_guard = nba[nba['guard'] == 0]\n\nttest_1a = scipy.stats.ttest_ind(nba_guard['wage'], nba_not_guard['wage'])\n\ntstat_1a = ttest_1a.statistic\npval_1a = ttest_1a.pvalue\n# END SOLUTION\n\nprint(\"t-stat: {}\".format(tstat_1a))\nprint(\"p-value: {}\".format(pval_1a))",
    "id": "cee70a4e21134d118f6fd5e8d61db10a",
    "idx": 6,
    "time": "2021-01-18T10:29:02.380Z",
    "type": "execution"
   },
   {
    "id": "cee70a4e21134d118f6fd5e8d61db10a",
    "time": "2021-01-18T10:29:02.477Z",
    "type": "completion"
   },
   {
    "code": "\"\"\" # BEGIN PROMPT\nnba['degree'] = ...\n\nnba_degree = ...\nnba_no_degree = ...\n\nttest_1c = scipy.stats.ttest_ind(..., ...)\n\ntstat_1c = ttest_1c.statistic\npval_1c = ttest_1c.pvalue\n\"\"\" # END PROMPT\n# BEGIN SOLUTION NO PROMPT\nnba['degree'] = nba['coll'] >= 4\n\nnba_degree = nba[nba['degree'] == True]\nnba_no_degree = nba[nba['degree'] == False]\n\nttest_1c = scipy.stats.ttest_ind(nba_degree['wage'], nba_no_degree['wage'])\n\ntstat_1c = ttest_1c.statistic\npval_1c = ttest_1c.pvalue\n# END SOLUTION\n\nprint(\"t-stat: {}\".format(tstat_1c))\nprint(\"p-value: {}\".format(pval_1c))",
    "id": "f24dc03a82554ba58d97ec7cdf9bd782",
    "idx": 10,
    "time": "2021-01-18T10:29:03.074Z",
    "type": "execution"
   },
   {
    "id": "f24dc03a82554ba58d97ec7cdf9bd782",
    "time": "2021-01-18T10:29:03.145Z",
    "type": "completion"
   },
   {
    "code": "\"\"\" # BEGIN PROMPT\nnba['productivity'] = ...\n\nnba_guard = ...\nnba_not_guard = ...\n\nttest_1e = scipy.stats.ttest_ind(..., ...)\n\ntstat_1e = ttest_1e.statistic\npval_1e = ttest_1e.pvalue\n\"\"\" # END PROMPT\n# BEGIN SOLUTION NO PROMPT\nnba['productivity'] = nba['points'] / (nba['minutes'] / nba['games'])\n\nnba_guard = nba[nba['guard'] == 1]\nnba_not_guard = nba[nba['guard'] == 0]\n\nttest_1e = scipy.stats.ttest_ind(nba_guard['productivity'], nba_not_guard['productivity'])\n\ntstat_1e = ttest_1e.statistic\npval_1e = ttest_1e.pvalue\n# END SOLUTION\n\nprint(\"t-stat: {}\".format(tstat_1e))\nprint(\"p-value: {}\".format(pval_1e))",
    "id": "2da5d4823b87454298e702f7068e8c83",
    "idx": 14,
    "time": "2021-01-18T10:29:04.040Z",
    "type": "execution"
   },
   {
    "id": "2da5d4823b87454298e702f7068e8c83",
    "time": "2021-01-18T10:29:04.200Z",
    "type": "completion"
   },
   {
    "code": "import numpy as np\nimport pandas as pd\nfrom scipy import stats\nimport matplotlib.pyplot as plt",
    "id": "c077fd8ff0c749a6aa9264a01f374de5",
    "idx": 1,
    "time": "2021-01-18T10:29:54.240Z",
    "type": "execution"
   },
   {
    "id": "c077fd8ff0c749a6aa9264a01f374de5",
    "time": "2021-01-18T10:29:54.576Z",
    "type": "completion"
   },
   {
    "code": "\"\"\" # BEGIN PROMPT\nnba_guard = ...\nnba_not_guard = ...\n\nttest_1a = scipy.stats.ttest_ind(..., ...)\n\ntstat_1a = ttest_1a.statistic\npval_1a = ttest_1a.pvalue\n\"\"\" # END PROMPT\n# BEGIN SOLUTION NO PROMPT\nnba_guard = nba[nba['guard'] == 1]\nnba_not_guard = nba[nba['guard'] == 0]\n\nttest_1a = stats.ttest_ind(nba_guard['wage'], nba_not_guard['wage'])\n\ntstat_1a = ttest_1a.statistic\npval_1a = ttest_1a.pvalue\n# END SOLUTION\n\nprint(\"t-stat: {}\".format(tstat_1a))\nprint(\"p-value: {}\".format(pval_1a))",
    "id": "cee70a4e21134d118f6fd5e8d61db10a",
    "idx": 6,
    "time": "2021-01-18T10:30:03.679Z",
    "type": "execution"
   },
   {
    "id": "cee70a4e21134d118f6fd5e8d61db10a",
    "time": "2021-01-18T10:30:03.771Z",
    "type": "completion"
   },
   {
    "code": "nba = pd.read_stata(\"PS1data(NBA).dta\")\nnba.head()",
    "id": "4e02ffc0b72a40e9874ce8b8316d398d",
    "idx": 4,
    "time": "2021-01-18T10:30:42.527Z",
    "type": "execution"
   },
   {
    "id": "4e02ffc0b72a40e9874ce8b8316d398d",
    "time": "2021-01-18T10:30:42.658Z",
    "type": "completion"
   },
   {
    "code": "\"\"\" # BEGIN PROMPT\nnba_guard = ...\nnba_not_guard = ...\n\nttest_1a = scipy.stats.ttest_ind(..., ...)\n\ntstat_1a = ttest_1a.statistic\npval_1a = ttest_1a.pvalue\n\"\"\" # END PROMPT\n# BEGIN SOLUTION NO PROMPT\nnba_guard = nba[nba['guard'] == 1]\nnba_not_guard = nba[nba['guard'] == 0]\n\nttest_1a = stats.ttest_ind(nba_guard['wage'], nba_not_guard['wage'])\n\ntstat_1a = ttest_1a.statistic\npval_1a = ttest_1a.pvalue\n# END SOLUTION\n\nprint(\"t-stat: {}\".format(tstat_1a))\nprint(\"p-value: {}\".format(pval_1a))",
    "id": "cee70a4e21134d118f6fd5e8d61db10a",
    "idx": 6,
    "time": "2021-01-18T10:30:43.042Z",
    "type": "execution"
   },
   {
    "id": "cee70a4e21134d118f6fd5e8d61db10a",
    "time": "2021-01-18T10:30:43.105Z",
    "type": "completion"
   },
   {
    "code": "\"\"\" # BEGIN PROMPT\nnba['degree'] = ...\n\nnba_degree = ...\nnba_no_degree = ...\n\nttest_1c = scipy.stats.ttest_ind(..., ...)\n\ntstat_1c = ttest_1c.statistic\npval_1c = ttest_1c.pvalue\n\"\"\" # END PROMPT\n# BEGIN SOLUTION NO PROMPT\nnba['degree'] = nba['coll'] >= 4\n\nnba_degree = nba[nba['degree'] == True]\nnba_no_degree = nba[nba['degree'] == False]\n\nttest_1c = stats.ttest_ind(nba_degree['wage'], nba_no_degree['wage'])\n\ntstat_1c = ttest_1c.statistic\npval_1c = ttest_1c.pvalue\n# END SOLUTION\n\nprint(\"t-stat: {}\".format(tstat_1c))\nprint(\"p-value: {}\".format(pval_1c))",
    "id": "f24dc03a82554ba58d97ec7cdf9bd782",
    "idx": 10,
    "time": "2021-01-18T10:30:43.999Z",
    "type": "execution"
   },
   {
    "id": "f24dc03a82554ba58d97ec7cdf9bd782",
    "time": "2021-01-18T10:30:44.068Z",
    "type": "completion"
   },
   {
    "code": "\"\"\" # BEGIN PROMPT\nnba['productivity'] = ...\n\nnba_guard = ...\nnba_not_guard = ...\n\nttest_1e = scipy.stats.ttest_ind(..., ...)\n\ntstat_1e = ttest_1e.statistic\npval_1e = ttest_1e.pvalue\n\"\"\" # END PROMPT\n# BEGIN SOLUTION NO PROMPT\nnba['productivity'] = nba['points'] / (nba['minutes'] / nba['games'])\n\nnba_guard = nba[nba['guard'] == 1]\nnba_not_guard = nba[nba['guard'] == 0]\n\nttest_1e = stats.ttest_ind(nba_guard['productivity'], nba_not_guard['productivity'])\n\ntstat_1e = ttest_1e.statistic\npval_1e = ttest_1e.pvalue\n# END SOLUTION\n\nprint(\"t-stat: {}\".format(tstat_1e))\nprint(\"p-value: {}\".format(pval_1e))",
    "id": "2da5d4823b87454298e702f7068e8c83",
    "idx": 14,
    "time": "2021-01-18T10:30:44.853Z",
    "type": "execution"
   },
   {
    "id": "2da5d4823b87454298e702f7068e8c83",
    "time": "2021-01-18T10:30:45.008Z",
    "type": "completion"
   },
   {
    "code": "\"\"\" # BEGIN PROMPT\nnba[['points', 'assists', 'rebounds']]...\n\"\"\" # END PROMPT\n# BEGIN SOLUTION NO PROMPT\nnba[['points', 'assists', 'rebounds']].corr()\n# END SOLUTION",
    "id": "30afb0cb97244a558ebe345270a1a95d",
    "idx": 18,
    "time": "2021-01-18T10:30:45.710Z",
    "type": "execution"
   },
   {
    "id": "30afb0cb97244a558ebe345270a1a95d",
    "time": "2021-01-18T10:30:45.781Z",
    "type": "completion"
   },
   {
    "code": "\"\"\" # BEGIN PROMPT\nnba['index'] = ...\n\nnba_guard = ...\nnba_not_guard = ...\n\nttest_1h = scipy.stats.ttest_ind(..., ...)\n\ntstat_1h = ttest_1h.statistic\npval_1h = ttest_1h.pvalue\n\"\"\" # END PROMPT\n# BEGIN SOLUTION NO PROMPT\nnba['index'] = nba['points'] + nba['rebounds'] + 2 * nba['assists']\n\nnba_guard = nba[nba['guard'] == 1]\nnba_not_guard = nba[nba['guard'] == 0]\n\nttest_1h = stats.ttest_ind(nba_guard['index'], nba_not_guard['index'])\n\ntstat_1h = ttest_1h.statistic\npval_1h = ttest_1h.pvalue\n# END SOLUTION\n\nprint(\"t-stat: {}\".format(tstat_1h))\nprint(\"p-value: {}\".format(pval_1h))",
    "id": "e5b73a86b2144faf88acd54b6d05f8ea",
    "idx": 20,
    "time": "2021-01-18T10:30:46.316Z",
    "type": "execution"
   },
   {
    "id": "e5b73a86b2144faf88acd54b6d05f8ea",
    "time": "2021-01-18T10:30:46.383Z",
    "type": "completion"
   },
   {
    "code": "\"\"\" # BEGIN PROMPT\nnba['payoff'] = ...\n\nnba_guard = ...\nnba_not_guard = ...\n\nttest_1j = scipy.stats.ttest_ind(..., ...)\n\ntstat_1j = ttest_1j.statistic\npval_1j = ttest_1j.pvalue\n\"\"\" # END PROMPT\n# BEGIN SOLUTION NO PROMPT\nnba['payoff'] = nba['index'] / nba['wage']\n\nnba_guard = nba[nba['guard'] == 1]\nnba_not_guard = nba[nba['guard'] == 0]\n\nttest_1j = stats.ttest_ind(nba_guard['payoff'], nba_not_guard['payoff'])\n\ntstat_1j = ttest_1j.statistic\npval_1j = ttest_1j.pvalue\n# END SOLUTION\n\nprint(\"t-stat: {}\".format(tstat_1j))\nprint(\"p-value: {}\".format(pval_1j))",
    "id": "49e0c29ac3324d018fd3ddcb268cace1",
    "idx": 24,
    "time": "2021-01-18T10:30:47.745Z",
    "type": "execution"
   },
   {
    "id": "49e0c29ac3324d018fd3ddcb268cace1",
    "time": "2021-01-18T10:30:47.812Z",
    "type": "completion"
   },
   {
    "code": "crime = pd.read_stata(\"PS1data(campus crime).dta\")\ncrime.head()",
    "id": "6ff7917995244c5e86a88c19fa2d81e1",
    "idx": 29,
    "time": "2021-01-18T10:34:07.212Z",
    "type": "execution"
   },
   {
    "id": "6ff7917995244c5e86a88c19fa2d81e1",
    "time": "2021-01-18T10:34:07.390Z",
    "type": "completion"
   },
   {
    "code": "\"\"\" # BEGIN PROMPT\nnba[['points', 'assists', 'rebounds']]...\n\"\"\" # END PROMPT\n# BEGIN SOLUTION NO PROMPT\ncrime[['enrollment', 'police', 'crime']].corr()\n# END SOLUTION",
    "id": "d74873905bfd4340b71e4cce6131ea46",
    "idx": 35,
    "time": "2021-01-18T10:37:31.407Z",
    "type": "execution"
   },
   {
    "id": "d74873905bfd4340b71e4cce6131ea46",
    "time": "2021-01-18T10:37:31.548Z",
    "type": "completion"
   },
   {
    "code": "\"\"\" # BEGIN PROMPT\nnba['payoff'] = ...\n\nnba_guard = ...\nnba_not_guard = ...\n\nttest_1j = stats.ttest_ind(..., ...)\n\ntstat_1j = ttest_1j.statistic\npval_1j = ttest_1j.pvalue\n\"\"\" # END PROMPT\n# BEGIN SOLUTION NO PROMPT\ncrime_public = crime[crime['private'] == 0]\ncrime_private = crime[crime['private'] == 1]\n\nttest_2d = stats.ttest_ind(crime_public['crime'], crime_private['crime'])\n\ntstat_2d = ttest_2d.statistic\npval_2d = ttest_2d.pvalue\n# END SOLUTION\n\nprint(\"t-stat: {}\".format(tstat_1j))\nprint(\"p-value: {}\".format(pval_1j))",
    "id": "c9d2cf08e29b4f5a820b0cedce77a3e6",
    "idx": 39,
    "time": "2021-01-18T10:46:42.327Z",
    "type": "execution"
   },
   {
    "id": "c9d2cf08e29b4f5a820b0cedce77a3e6",
    "time": "2021-01-18T10:46:42.625Z",
    "type": "completion"
   },
   {
    "code": "\"\"\" # BEGIN PROMPT\nnba['payoff'] = ...\n\nnba_guard = ...\nnba_not_guard = ...\n\nttest_1j = stats.ttest_ind(..., ...)\n\ntstat_1j = ttest_1j.statistic\npval_1j = ttest_1j.pvalue\n\"\"\" # END PROMPT\n# BEGIN SOLUTION NO PROMPT\ncrime_public = crime[crime['private'] == 0]\ncrime_private = crime[crime['private'] == 1]\n\nttest_2d = stats.ttest_ind(crime_public['crime'], crime_private['crime'], equal_var=False)\n\ntstat_2d = ttest_2d.statistic\npval_2d = ttest_2d.pvalue\n# END SOLUTION\n\nprint(\"t-stat: {}\".format(tstat_1j))\nprint(\"p-value: {}\".format(pval_1j))",
    "id": "c9d2cf08e29b4f5a820b0cedce77a3e6",
    "idx": 39,
    "time": "2021-01-18T10:47:23.344Z",
    "type": "execution"
   },
   {
    "id": "c9d2cf08e29b4f5a820b0cedce77a3e6",
    "time": "2021-01-18T10:47:23.417Z",
    "type": "completion"
   },
   {
    "code": "crime = pd.read_stata(\"PS1data(campus crime).dta\")\ncrime.head()",
    "id": "6ff7917995244c5e86a88c19fa2d81e1",
    "idx": 29,
    "time": "2021-01-18T10:48:59.542Z",
    "type": "execution"
   },
   {
    "id": "6ff7917995244c5e86a88c19fa2d81e1",
    "time": "2021-01-18T10:48:59.741Z",
    "type": "completion"
   },
   {
    "code": "# This code cell is for question 2.a.\n",
    "id": "e46e3004a663426b85c8e39cc37dcdb0",
    "idx": 30,
    "time": "2021-01-18T10:49:01.196Z",
    "type": "execution"
   },
   {
    "id": "e46e3004a663426b85c8e39cc37dcdb0",
    "time": "2021-01-18T10:49:01.255Z",
    "type": "completion"
   },
   {
    "code": "\"\"\" # BEGIN PROMPT\ncrime[['enrollment', 'police', 'crime']]...\n\"\"\" # END PROMPT\n# BEGIN SOLUTION NO PROMPT\ncrime[['enrollment', 'police', 'crime']].corr()\n# END SOLUTION",
    "id": "d74873905bfd4340b71e4cce6131ea46",
    "idx": 35,
    "time": "2021-01-18T10:49:04.029Z",
    "type": "execution"
   },
   {
    "id": "d74873905bfd4340b71e4cce6131ea46",
    "time": "2021-01-18T10:49:04.151Z",
    "type": "completion"
   },
   {
    "code": "\"\"\" # BEGIN PROMPT\nnba['payoff'] = ...\n\nnba_guard = ...\nnba_not_guard = ...\n\nttest_1j = stats.ttest_ind(..., ...)\n\ntstat_1j = ttest_1j.statistic\npval_1j = ttest_1j.pvalue\n\"\"\" # END PROMPT\n# BEGIN SOLUTION NO PROMPT\ncrime_public = crime[crime['private'] == 0]\ncrime_private = crime[crime['private'] == 1]\n\nttest_2d = stats.ttest_ind(crime_public['crime'], crime_private['crime'], equal_var=False)\n\ntstat_2d = ttest_2d.statistic\npval_2d = ttest_2d.pvalue\n# END SOLUTION\n\nprint(\"t-stat: {}\".format(tstat_1j))\nprint(\"p-value: {}\".format(pval_1j))",
    "id": "c9d2cf08e29b4f5a820b0cedce77a3e6",
    "idx": 39,
    "time": "2021-01-18T10:49:11.342Z",
    "type": "execution"
   },
   {
    "id": "c9d2cf08e29b4f5a820b0cedce77a3e6",
    "time": "2021-01-18T10:49:11.420Z",
    "type": "completion"
   },
   {
    "code": "\"\"\" # BEGIN PROMPT\nnba['payoff'] = ...\n\nnba_guard = ...\nnba_not_guard = ...\n\nttest_1j = stats.ttest_ind(..., ...)\n\ntstat_1j = ttest_1j.statistic\npval_1j = ttest_1j.pvalue\n\"\"\" # END PROMPT\n# BEGIN SOLUTION NO PROMPT\ncrime_public = crime[crime['private'] == 0]\ncrime_private = crime[crime['private'] == 1]\n\nttest_2d = stats.ttest_ind(crime_public['crime'], crime_private['crime'], equal_var=False)\n\ntstat_2d = ttest_2d.statistic\npval_2d = ttest_2d.pvalue\n# END SOLUTION\n\nprint(\"t-stat: {}\".format(tstat_2d))\nprint(\"p-value: {}\".format(pval_2d))",
    "id": "c9d2cf08e29b4f5a820b0cedce77a3e6",
    "idx": 39,
    "time": "2021-01-18T10:49:19.049Z",
    "type": "execution"
   },
   {
    "id": "c9d2cf08e29b4f5a820b0cedce77a3e6",
    "time": "2021-01-18T10:49:19.113Z",
    "type": "completion"
   },
   {
    "code": "\"\"\" # BEGIN PROMPT\nnba['payoff'] = ...\n\nnba_guard = ...\nnba_not_guard = ...\n\nttest_1j = stats.ttest_ind(..., ...)\n\ntstat_1j = ttest_1j.statistic\npval_1j = ttest_1j.pvalue\n\"\"\" # END PROMPT\n# BEGIN SOLUTION NO PROMPT\ncrime_public = crime[crime['private'] == 0]\ncrime_private = crime[crime['private'] == 1]\n\nttest_2d_unequal_var = stats.ttest_ind(crime_public['crime'], crime_private['crime'], equal_var=False)\n\ntstat_2d_unequal = ttest_2d_unequal_var.statistic\npval_2d_unequal = ttest_2d_unequal_var.pvalue\n\nttest_2d_equal_var = stats.ttest_ind(crime_public['crime'], crime_private['crime'])\n\ntstat_2d_equal = ttest_2d_equal_var.statistic\npval_2d_equal = ttest_2d_equal_var.pvalue\n# END SOLUTION\n\nprint(\"t-stat unequal variance: {}\".format(tstat_2d_unequal))\nprint(\"p-value unequal variance: {}\".format(pval_2d_unequal))\nprint(\"t-stat equal variance: {}\".format(tstat_2d_equal))\nprint(\"p-value equal variance: {}\".format(pval_2d_equal))",
    "id": "c9d2cf08e29b4f5a820b0cedce77a3e6",
    "idx": 39,
    "time": "2021-01-18T10:51:42.603Z",
    "type": "execution"
   },
   {
    "id": "c9d2cf08e29b4f5a820b0cedce77a3e6",
    "time": "2021-01-18T10:51:43.089Z",
    "type": "completion"
   },
   {
    "code": "\"\"\" # BEGIN PROMPT\ncrime_public = ...\ncrime_private = ...\n\nttest_2d_unequal_var = stats.ttest_ind(..., ..., ...)\n\ntstat_2d_unequal = ttest_2d_unequal_var.statistic\npval_2d_unequal = ttest_2d_unequal_var.pvalue\n\nttest_2d_equal_var = stats.ttest_ind(..., ...)\n\ntstat_2d_equal = ttest_2d_equal_var.statistic\npval_2d_equal = ttest_2d_equal_var.pvalue\n\"\"\" # END PROMPT\n# BEGIN SOLUTION NO PROMPT\ncrime['crimerate'] = 1000 * crime['crime'] / crime['enrollment']\n\ncrime_public = crime[crime['private'] == 0]\ncrime_private = crime[crime['private'] == 1]\n\nttest_2d_unequal_var = stats.ttest_ind(crime_public['crimerate'], crime_private['crimerate'], equal_var=False)\n\ntstat_2d_unequal = ttest_2d_unequal_var.statistic\npval_2d_unequal = ttest_2d_unequal_var.pvalue\n\nttest_2d_equal_var = stats.ttest_ind(crime_public['crimerate'], crime_private['crimerate'])\n\ntstat_2d_equal = ttest_2d_equal_var.statistic\npval_2d_equal = ttest_2d_equal_var.pvalue\n# END SOLUTION\n\nprint(\"t-stat unequal variance: {}\".format(tstat_2d_unequal))\nprint(\"p-value unequal variance: {}\".format(pval_2d_unequal))\nprint(\"t-stat equal variance: {}\".format(tstat_2d_equal))\nprint(\"p-value equal variance: {}\".format(pval_2d_equal))",
    "id": "234486f94b4d47e189fdf89ff048a1e4",
    "idx": 43,
    "time": "2021-01-18T10:54:33.916Z",
    "type": "execution"
   },
   {
    "id": "234486f94b4d47e189fdf89ff048a1e4",
    "time": "2021-01-18T10:54:34.029Z",
    "type": "completion"
   },
   {
    "code": "\"\"\" # BEGIN PROMPT\ncrime_public = ...\ncrime_private = ...\n\nttest_2d_unequal_var = stats.ttest_ind(..., ..., ...)\n\ntstat_2d_unequal = ttest_2d_unequal_var.statistic\npval_2d_unequal = ttest_2d_unequal_var.pvalue\n\nttest_2d_equal_var = stats.ttest_ind(..., ...)\n\ntstat_2d_equal = ttest_2d_equal_var.statistic\npval_2d_equal = ttest_2d_equal_var.pvalue\n\"\"\" # END PROMPT\n# BEGIN SOLUTION NO PROMPT\ncrime['crimerate'] = 1000 * crime['crime'] / crime['enrollment']\n\ncrime_public = crime[crime['private'] == 0]\ncrime_private = crime[crime['private'] == 1]\n\nttest_2f_unequal_var = stats.ttest_ind(crime_public['crimerate'], crime_private['crimerate'], equal_var=False)\n\ntstat_2f_unequal = ttest_2f_unequal_var.statistic\npval_2f_unequal = ttest_2f_unequal_var.pvalue\n\nttest_2f_equal_var = stats.ttest_ind(crime_public['crimerate'], crime_private['crimerate'])\n\ntstat_2f_equal = ttest_2f_equal_var.statistic\npval_2f_equal = ttest_2f_equal_var.pvalue\n# END SOLUTION\n\nprint(\"t-stat unequal variance: {}\".format(tstat_2f_unequal))\nprint(\"p-value unequal variance: {}\".format(pval_2f_unequal))\nprint(\"t-stat equal variance: {}\".format(tstat_2f_equal))\nprint(\"p-value equal variance: {}\".format(pval_2f_equal))",
    "id": "234486f94b4d47e189fdf89ff048a1e4",
    "idx": 43,
    "time": "2021-01-18T10:55:16.621Z",
    "type": "execution"
   },
   {
    "id": "234486f94b4d47e189fdf89ff048a1e4",
    "time": "2021-01-18T10:55:16.732Z",
    "type": "completion"
   },
   {
    "code": "\"\"\" # BEGIN PROMPT\ncrime_public = ...\ncrime_private = ...\n\nttest_2d_unequal_var = stats.ttest_ind(..., ..., ...)\n\ntstat_2d_unequal = ttest_2d_unequal_var.statistic\npval_2d_unequal = ttest_2d_unequal_var.pvalue\n\nttest_2d_equal_var = stats.ttest_ind(..., ...)\n\ntstat_2d_equal = ttest_2d_equal_var.statistic\npval_2d_equal = ttest_2d_equal_var.pvalue\n\"\"\" # END PROMPT\n# BEGIN SOLUTION NO PROMPT\ncrime['crimerate'] = 1000 * (crime['crime'] / crime['enrollment'])\n\ncrime_public = crime[crime['private'] == 0]\ncrime_private = crime[crime['private'] == 1]\n\nttest_2f_unequal_var = stats.ttest_ind(crime_public['crimerate'], crime_private['crimerate'], equal_var=False)\n\ntstat_2f_unequal = ttest_2f_unequal_var.statistic\npval_2f_unequal = ttest_2f_unequal_var.pvalue\n\nttest_2f_equal_var = stats.ttest_ind(crime_public['crimerate'], crime_private['crimerate'])\n\ntstat_2f_equal = ttest_2f_equal_var.statistic\npval_2f_equal = ttest_2f_equal_var.pvalue\n# END SOLUTION\n\nprint(\"t-stat unequal variance: {}\".format(tstat_2f_unequal))\nprint(\"p-value unequal variance: {}\".format(pval_2f_unequal))\nprint(\"t-stat equal variance: {}\".format(tstat_2f_equal))\nprint(\"p-value equal variance: {}\".format(pval_2f_equal))",
    "id": "234486f94b4d47e189fdf89ff048a1e4",
    "idx": 43,
    "time": "2021-01-18T10:55:37.343Z",
    "type": "execution"
   },
   {
    "id": "234486f94b4d47e189fdf89ff048a1e4",
    "time": "2021-01-18T10:55:37.452Z",
    "type": "completion"
   },
   {
    "code": "import numpy as np\nimport pandas as pd\nfrom scipy import stats\nimport matplotlib.pyplot as plt",
    "id": "458e59d49de5470a90af3fc5deee55c5",
    "idx": 1,
    "time": "2021-01-18T19:53:00.499Z",
    "type": "execution"
   },
   {
    "code": "nba = pd.read_stata(\"PS1data(NBA).dta\")\nnba.head()",
    "id": "471a6507023840699078daa57f905478",
    "idx": 4,
    "time": "2021-01-18T19:53:01.027Z",
    "type": "execution"
   },
   {
    "code": "\"\"\" # BEGIN PROMPT\nnba_guard = ...\nnba_not_guard = ...\n\nttest_1a = stats.ttest_ind(..., ...)\n\ntstat_1a = ttest_1a.statistic\npval_1a = ttest_1a.pvalue\n\"\"\" # END PROMPT\n# BEGIN SOLUTION NO PROMPT\nnba_guard = nba[nba['guard'] == 1]\nnba_not_guard = nba[nba['guard'] == 0]\n\nttest_1a = stats.ttest_ind(nba_guard['wage'], nba_not_guard['wage'])\n\ntstat_1a = ttest_1a.statistic\npval_1a = ttest_1a.pvalue\n# END SOLUTION\n\nprint(\"t-stat: {}\".format(tstat_1a))\nprint(\"p-value: {}\".format(pval_1a))",
    "id": "a1eec07cfbe84189b4233e64dd52c3bb",
    "idx": 6,
    "time": "2021-01-18T19:53:01.351Z",
    "type": "execution"
   },
   {
    "id": "458e59d49de5470a90af3fc5deee55c5",
    "time": "2021-01-18T19:53:01.408Z",
    "type": "completion"
   },
   {
    "id": "471a6507023840699078daa57f905478",
    "time": "2021-01-18T19:53:01.446Z",
    "type": "completion"
   },
   {
    "id": "a1eec07cfbe84189b4233e64dd52c3bb",
    "time": "2021-01-18T19:53:01.505Z",
    "type": "completion"
   },
   {
    "code": "\"\"\" # BEGIN PROMPT\nnba['degree'] = ...\n\nnba_degree = ...\nnba_no_degree = ...\n\nttest_1c = stats.ttest_ind(..., ...)\n\ntstat_1c = ttest_1c.statistic\npval_1c = ttest_1c.pvalue\n\"\"\" # END PROMPT\n# BEGIN SOLUTION NO PROMPT\nnba['degree'] = nba['coll'] >= 4\n\nnba_degree = nba[nba['degree'] == True]\nnba_no_degree = nba[nba['degree'] == False]\n\nttest_1c = stats.ttest_ind(nba_degree['wage'], nba_no_degree['wage'])\n\ntstat_1c = ttest_1c.statistic\npval_1c = ttest_1c.pvalue\n# END SOLUTION\n\nprint(\"t-stat: {}\".format(tstat_1c))\nprint(\"p-value: {}\".format(pval_1c))",
    "id": "46952d74fc6b43ae81de15654aa6189b",
    "idx": 10,
    "time": "2021-01-18T19:53:01.959Z",
    "type": "execution"
   },
   {
    "id": "46952d74fc6b43ae81de15654aa6189b",
    "time": "2021-01-18T19:53:02.029Z",
    "type": "completion"
   },
   {
    "code": "\"\"\" # BEGIN PROMPT\nnba['productivity'] = ...\n\nnba_guard = ...\nnba_not_guard = ...\n\nttest_1e = stats.ttest_ind(..., ...)\n\ntstat_1e = ttest_1e.statistic\npval_1e = ttest_1e.pvalue\n\"\"\" # END PROMPT\n# BEGIN SOLUTION NO PROMPT\nnba['productivity'] = nba['points'] / (nba['minutes'] / nba['games'])\n\nnba_guard = nba[nba['guard'] == 1]\nnba_not_guard = nba[nba['guard'] == 0]\n\nttest_1e = stats.ttest_ind(nba_guard['productivity'], nba_not_guard['productivity'])\n\ntstat_1e = ttest_1e.statistic\npval_1e = ttest_1e.pvalue\n# END SOLUTION\n\nprint(\"t-stat: {}\".format(tstat_1e))\nprint(\"p-value: {}\".format(pval_1e))",
    "id": "6133c16b211b479d8d905c0f0f5d640e",
    "idx": 14,
    "time": "2021-01-18T19:53:02.635Z",
    "type": "execution"
   },
   {
    "id": "6133c16b211b479d8d905c0f0f5d640e",
    "time": "2021-01-18T19:53:02.715Z",
    "type": "completion"
   },
   {
    "code": "\"\"\" # BEGIN PROMPT\nnba[['points', 'assists', 'rebounds']]...\n\"\"\" # END PROMPT\n# BEGIN SOLUTION NO PROMPT\nnba[['points', 'assists', 'rebounds']].corr()\n# END SOLUTION",
    "id": "4b06500ee6404aeab3872f3a3bf3eeca",
    "idx": 18,
    "time": "2021-01-18T19:53:03.523Z",
    "type": "execution"
   },
   {
    "id": "4b06500ee6404aeab3872f3a3bf3eeca",
    "time": "2021-01-18T19:53:03.605Z",
    "type": "completion"
   },
   {
    "code": "\"\"\" # BEGIN PROMPT\nnba['index'] = ...\n\nnba_guard = ...\nnba_not_guard = ...\n\nttest_1h = stats.ttest_ind(..., ...)\n\ntstat_1h = ttest_1h.statistic\npval_1h = ttest_1h.pvalue\n\"\"\" # END PROMPT\n# BEGIN SOLUTION NO PROMPT\nnba['index'] = nba['points'] + nba['rebounds'] + 2 * nba['assists']\n\nnba_guard = nba[nba['guard'] == 1]\nnba_not_guard = nba[nba['guard'] == 0]\n\nttest_1h = stats.ttest_ind(nba_guard['index'], nba_not_guard['index'])\n\ntstat_1h = ttest_1h.statistic\npval_1h = ttest_1h.pvalue\n# END SOLUTION\n\nprint(\"t-stat: {}\".format(tstat_1h))\nprint(\"p-value: {}\".format(pval_1h))",
    "id": "eb2d2eb45db540bb88cd4b1c61221145",
    "idx": 20,
    "time": "2021-01-18T19:53:04.131Z",
    "type": "execution"
   },
   {
    "id": "eb2d2eb45db540bb88cd4b1c61221145",
    "time": "2021-01-18T19:53:04.224Z",
    "type": "completion"
   },
   {
    "code": "\"\"\" # BEGIN PROMPT\nnba['payoff'] = ...\n\nnba_guard = ...\nnba_not_guard = ...\n\nttest_1j = stats.ttest_ind(..., ...)\n\ntstat_1j = ttest_1j.statistic\npval_1j = ttest_1j.pvalue\n\"\"\" # END PROMPT\n# BEGIN SOLUTION NO PROMPT\nnba['payoff'] = nba['index'] / nba['wage']\n\nnba_guard = nba[nba['guard'] == 1]\nnba_not_guard = nba[nba['guard'] == 0]\n\nttest_1j = stats.ttest_ind(nba_guard['payoff'], nba_not_guard['payoff'])\n\ntstat_1j = ttest_1j.statistic\npval_1j = ttest_1j.pvalue\n# END SOLUTION\n\nprint(\"t-stat: {}\".format(tstat_1j))\nprint(\"p-value: {}\".format(pval_1j))",
    "id": "70d9f35319124f5aac04ecc23ecafd1e",
    "idx": 24,
    "time": "2021-01-18T19:53:05.161Z",
    "type": "execution"
   },
   {
    "id": "70d9f35319124f5aac04ecc23ecafd1e",
    "time": "2021-01-18T19:53:05.223Z",
    "type": "completion"
   },
   {
    "code": "crime = pd.read_stata(\"PS1data(campus crime).dta\")\ncrime.head()",
    "id": "271fcec5eb1e48498bb392a05d18c8e0",
    "idx": 29,
    "time": "2021-01-18T19:53:06.280Z",
    "type": "execution"
   },
   {
    "id": "271fcec5eb1e48498bb392a05d18c8e0",
    "time": "2021-01-18T19:53:06.365Z",
    "type": "completion"
   },
   {
    "code": "# This code cell is for question 2.a.\n",
    "id": "e8782cb7cb80404fb831f227614a421a",
    "idx": 30,
    "time": "2021-01-18T19:53:06.460Z",
    "type": "execution"
   },
   {
    "id": "e8782cb7cb80404fb831f227614a421a",
    "time": "2021-01-18T19:53:06.517Z",
    "type": "completion"
   },
   {
    "code": "\"\"\" # BEGIN PROMPT\ncrime[['enrollment', 'police', 'crime']]...\n\"\"\" # END PROMPT\n# BEGIN SOLUTION NO PROMPT\ncrime[['enrollment', 'police', 'crime']].corr()\n# END SOLUTION",
    "id": "3a6edb7310a549cc859171c11aca490b",
    "idx": 35,
    "time": "2021-01-18T19:53:08.193Z",
    "type": "execution"
   },
   {
    "id": "3a6edb7310a549cc859171c11aca490b",
    "time": "2021-01-18T19:53:08.268Z",
    "type": "completion"
   },
   {
    "code": "\"\"\" # BEGIN PROMPT\ncrime_public = ...\ncrime_private = ...\n\nttest_2d_unequal_var = stats.ttest_ind(..., ..., ...)\n\ntstat_2d_unequal = ttest_2d_unequal_var.statistic\npval_2d_unequal = ttest_2d_unequal_var.pvalue\n\nttest_2d_equal_var = stats.ttest_ind(..., ...)\n\ntstat_2d_equal = ttest_2d_equal_var.statistic\npval_2d_equal = ttest_2d_equal_var.pvalue\n\"\"\" # END PROMPT\n# BEGIN SOLUTION NO PROMPT\ncrime_public = crime[crime['private'] == 0]\ncrime_private = crime[crime['private'] == 1]\n\nttest_2d_unequal_var = stats.ttest_ind(crime_public['crime'], crime_private['crime'], equal_var=False)\n\ntstat_2d_unequal = ttest_2d_unequal_var.statistic\npval_2d_unequal = ttest_2d_unequal_var.pvalue\n\nttest_2d_equal_var = stats.ttest_ind(crime_public['crime'], crime_private['crime'])\n\ntstat_2d_equal = ttest_2d_equal_var.statistic\npval_2d_equal = ttest_2d_equal_var.pvalue\n# END SOLUTION\n\nprint(\"t-stat unequal variance: {}\".format(tstat_2d_unequal))\nprint(\"p-value unequal variance: {}\".format(pval_2d_unequal))\nprint(\"t-stat equal variance: {}\".format(tstat_2d_equal))\nprint(\"p-value equal variance: {}\".format(pval_2d_equal))",
    "id": "8266b61efc5e451d8f584a28cf9f129d",
    "idx": 39,
    "time": "2021-01-18T19:53:09.025Z",
    "type": "execution"
   },
   {
    "id": "8266b61efc5e451d8f584a28cf9f129d",
    "time": "2021-01-18T19:53:09.184Z",
    "type": "completion"
   },
   {
    "code": "\"\"\" # BEGIN PROMPT\ncrime['crimerate'] = ...\n\ncrime_public = ...\ncrime_private = ...\n\nttest_2f_unequal_var = stats.ttest_ind(..., ..., ...)\n\ntstat_2f_unequal = ttest_2f_unequal_var.statistic\npval_2f_unequal = ttest_2f_unequal_var.pvalue\n\nttest_2f_equal_var = stats.ttest_ind(..., ...)\n\ntstat_2f_equal = ttest_2f_equal_var.statistic\npval_2f_equal = ttest_2f_equal_var.pvalue\n\"\"\" # END PROMPT\n# BEGIN SOLUTION NO PROMPT\ncrime['crimerate'] = 1000 * (crime['crime'] / crime['enrollment'])\n\ncrime_public = crime[crime['private'] == 0]\ncrime_private = crime[crime['private'] == 1]\n\nttest_2f_unequal_var = stats.ttest_ind(crime_public['crimerate'], crime_private['crimerate'], equal_var=False)\n\ntstat_2f_unequal = ttest_2f_unequal_var.statistic\npval_2f_unequal = ttest_2f_unequal_var.pvalue\n\nttest_2f_equal_var = stats.ttest_ind(crime_public['crimerate'], crime_private['crimerate'])\n\ntstat_2f_equal = ttest_2f_equal_var.statistic\npval_2f_equal = ttest_2f_equal_var.pvalue\n# END SOLUTION\n\nprint(\"t-stat unequal variance: {}\".format(tstat_2f_unequal))\nprint(\"p-value unequal variance: {}\".format(pval_2f_unequal))\nprint(\"t-stat equal variance: {}\".format(tstat_2f_equal))\nprint(\"p-value equal variance: {}\".format(pval_2f_equal))",
    "id": "d87885a26b4b479187f9a4e7aba7902d",
    "idx": 43,
    "time": "2021-01-18T19:53:09.766Z",
    "type": "execution"
   },
   {
    "id": "d87885a26b4b479187f9a4e7aba7902d",
    "time": "2021-01-18T19:53:09.875Z",
    "type": "completion"
   },
   {
    "code": "pollution = pd.read_stata(\"PS1data(pollution).dta\")\npollution.head()",
    "id": "a3f9d84c8787401c8980230ef00dbe19",
    "idx": 62,
    "time": "2021-01-18T19:53:14.442Z",
    "type": "execution"
   },
   {
    "id": "a3f9d84c8787401c8980230ef00dbe19",
    "time": "2021-01-18T19:53:14.546Z",
    "type": "completion"
   },
   {
    "code": "# This code cell is for question 4.a.\n",
    "id": "79e1fd638c334f9a8aecc76bf0c53af8",
    "idx": 63,
    "time": "2021-01-18T19:53:14.875Z",
    "type": "execution"
   },
   {
    "id": "79e1fd638c334f9a8aecc76bf0c53af8",
    "time": "2021-01-18T19:53:14.931Z",
    "type": "completion"
   },
   {
    "code": "\"\"\" # BEGIN PROMPT\nnba['payoff'] = ...\n\nnba_guard = ...\nnba_not_guard = ...\n\nttest_1j = stats.ttest_ind(..., ...)\n\ntstat_1j = ttest_1j.statistic\npval_1j = ttest_1j.pvalue\n\"\"\" # END PROMPT\n# BEGIN SOLUTION NO PROMPT\npollution_oecd = pollution[pollution['oecd'] == 1]\npollution_no_oecd = pollution[pollution['oecd'] == 0]\n\nttest_4b = stats.ttest_ind(pollution_oecd['co2pc'], pollution_no_oecd['co2pc'], equal_var=False)\n\ntstat_4b = ttest_4b.statistic\npval_4b = ttest_4b.pvalue\n# END SOLUTION\n\nprint(\"t-stat: {}\".format(tstat_4b))\nprint(\"p-value: {}\".format(pval_4b))",
    "id": "156e8f7abffd4eed84ebd8760d28eb06",
    "idx": 67,
    "time": "2021-01-18T19:53:16.483Z",
    "type": "execution"
   },
   {
    "id": "156e8f7abffd4eed84ebd8760d28eb06",
    "time": "2021-01-18T19:53:16.551Z",
    "type": "completion"
   },
   {
    "code": "pollution_oecd",
    "id": "c4a0b90c525044ff90d679915b61f92b",
    "idx": 68,
    "time": "2021-01-18T19:53:31.278Z",
    "type": "execution"
   },
   {
    "id": "c4a0b90c525044ff90d679915b61f92b",
    "time": "2021-01-18T19:53:31.403Z",
    "type": "completion"
   },
   {
    "code": "pollution_no_oecd",
    "id": "c4a0b90c525044ff90d679915b61f92b",
    "idx": 68,
    "time": "2021-01-18T19:53:40.203Z",
    "type": "execution"
   },
   {
    "id": "c4a0b90c525044ff90d679915b61f92b",
    "time": "2021-01-18T19:53:40.352Z",
    "type": "completion"
   },
   {
    "code": "ttest_4b",
    "id": "c4a0b90c525044ff90d679915b61f92b",
    "idx": 68,
    "time": "2021-01-18T19:53:54.983Z",
    "type": "execution"
   },
   {
    "id": "c4a0b90c525044ff90d679915b61f92b",
    "time": "2021-01-18T19:53:55.137Z",
    "type": "completion"
   },
   {
    "code": "pollution_oecd['co2pc']",
    "id": "c4a0b90c525044ff90d679915b61f92b",
    "idx": 68,
    "time": "2021-01-18T19:54:07.919Z",
    "type": "execution"
   },
   {
    "id": "c4a0b90c525044ff90d679915b61f92b",
    "time": "2021-01-18T19:54:08.011Z",
    "type": "completion"
   },
   {
    "code": "pollution_no_oecd['co2pc']",
    "id": "c4a0b90c525044ff90d679915b61f92b",
    "idx": 68,
    "time": "2021-01-18T19:54:15.447Z",
    "type": "execution"
   },
   {
    "id": "c4a0b90c525044ff90d679915b61f92b",
    "time": "2021-01-18T19:54:15.514Z",
    "type": "completion"
   },
   {
    "code": "pollution = pd.read_stata(\"PS1data(pollution).dta\").dropna(subset='co2pc')\npollution.head()",
    "id": "a3f9d84c8787401c8980230ef00dbe19",
    "idx": 62,
    "time": "2021-01-18T19:55:52.230Z",
    "type": "execution"
   },
   {
    "id": "a3f9d84c8787401c8980230ef00dbe19",
    "time": "2021-01-18T19:55:52.464Z",
    "type": "completion"
   },
   {
    "code": "pollution = pd.read_stata(\"PS1data(pollution).dta\").dropna(subset=['co2pc'])\npollution.head()",
    "id": "a3f9d84c8787401c8980230ef00dbe19",
    "idx": 62,
    "time": "2021-01-18T19:56:07.901Z",
    "type": "execution"
   },
   {
    "id": "a3f9d84c8787401c8980230ef00dbe19",
    "time": "2021-01-18T19:56:08.021Z",
    "type": "completion"
   },
   {
    "code": "\"\"\" # BEGIN PROMPT\nnba['payoff'] = ...\n\nnba_guard = ...\nnba_not_guard = ...\n\nttest_1j = stats.ttest_ind(..., ...)\n\ntstat_1j = ttest_1j.statistic\npval_1j = ttest_1j.pvalue\n\"\"\" # END PROMPT\n# BEGIN SOLUTION NO PROMPT\npollution_oecd = pollution[pollution['oecd'] == 1]\npollution_no_oecd = pollution[pollution['oecd'] == 0]\n\nttest_4b = stats.ttest_ind(pollution_oecd['co2pc'], pollution_no_oecd['co2pc'], equal_var=False)\n\ntstat_4b = ttest_4b.statistic\npval_4b = ttest_4b.pvalue\n# END SOLUTION\n\nprint(\"t-stat: {}\".format(tstat_4b))\nprint(\"p-value: {}\".format(pval_4b))",
    "id": "156e8f7abffd4eed84ebd8760d28eb06",
    "idx": 67,
    "time": "2021-01-18T19:56:12.840Z",
    "type": "execution"
   },
   {
    "id": "156e8f7abffd4eed84ebd8760d28eb06",
    "time": "2021-01-18T19:56:12.947Z",
    "type": "completion"
   },
   {
    "code": "pollution['log_gdp'] = np.log(pollution['gdp'])\npollution['log_co2'] = np.log(pollution['co2'])\n\npollution.head()",
    "id": "29703a1543404f2c804f455161c19899",
    "idx": 72,
    "time": "2021-01-18T20:02:03.137Z",
    "type": "execution"
   },
   {
    "id": "29703a1543404f2c804f455161c19899",
    "time": "2021-01-18T20:02:03.216Z",
    "type": "completion"
   },
   {
    "code": "pollution = pd.read_stata(\"PS1data(pollution).dta\").dropna(subset=['co2pc', 'gdp'])\npollution.head()",
    "id": "a3f9d84c8787401c8980230ef00dbe19",
    "idx": 62,
    "time": "2021-01-18T20:02:15.501Z",
    "type": "execution"
   },
   {
    "id": "a3f9d84c8787401c8980230ef00dbe19",
    "time": "2021-01-18T20:02:15.681Z",
    "type": "completion"
   },
   {
    "code": "# This code cell is for question 4.a.\n",
    "id": "79e1fd638c334f9a8aecc76bf0c53af8",
    "idx": 63,
    "time": "2021-01-18T20:02:18.909Z",
    "type": "execution"
   },
   {
    "id": "79e1fd638c334f9a8aecc76bf0c53af8",
    "time": "2021-01-18T20:02:18.979Z",
    "type": "completion"
   },
   {
    "code": "\"\"\" # BEGIN PROMPT\npollution_oecd = ...\npollution_no_oecd = ...\n\nttest_4b = stats.ttest_ind(..., ..., ...)\n\ntstat_4b = ttest_4b.statistic\npval_4b = ttest_4b.pvalue\n\"\"\" # END PROMPT\n# BEGIN SOLUTION NO PROMPT\npollution_oecd = pollution[pollution['oecd'] == 1]\npollution_no_oecd = pollution[pollution['oecd'] == 0]\n\nttest_4b = stats.ttest_ind(pollution_oecd['co2pc'], pollution_no_oecd['co2pc'], equal_var=False)\n\ntstat_4b = ttest_4b.statistic\npval_4b = ttest_4b.pvalue\n# END SOLUTION\n\nprint(\"t-stat: {}\".format(tstat_4b))\nprint(\"p-value: {}\".format(pval_4b))",
    "id": "156e8f7abffd4eed84ebd8760d28eb06",
    "idx": 67,
    "time": "2021-01-18T20:02:22.128Z",
    "type": "execution"
   },
   {
    "id": "156e8f7abffd4eed84ebd8760d28eb06",
    "time": "2021-01-18T20:02:22.192Z",
    "type": "completion"
   },
   {
    "code": "pollution = pd.read_stata(\"PS1data(pollution).dta\").dropna(subset=['co2pc'])\npollution.head()",
    "id": "a3f9d84c8787401c8980230ef00dbe19",
    "idx": 62,
    "time": "2021-01-18T20:02:31.836Z",
    "type": "execution"
   },
   {
    "id": "a3f9d84c8787401c8980230ef00dbe19",
    "time": "2021-01-18T20:02:32.032Z",
    "type": "completion"
   },
   {
    "code": "# This code cell is for question 4.a.\n",
    "id": "79e1fd638c334f9a8aecc76bf0c53af8",
    "idx": 63,
    "time": "2021-01-18T20:02:33.512Z",
    "type": "execution"
   },
   {
    "id": "79e1fd638c334f9a8aecc76bf0c53af8",
    "time": "2021-01-18T20:02:33.571Z",
    "type": "completion"
   },
   {
    "code": "\"\"\" # BEGIN PROMPT\npollution_oecd = ...\npollution_no_oecd = ...\n\nttest_4b = stats.ttest_ind(..., ..., ...)\n\ntstat_4b = ttest_4b.statistic\npval_4b = ttest_4b.pvalue\n\"\"\" # END PROMPT\n# BEGIN SOLUTION NO PROMPT\npollution_oecd = pollution[pollution['oecd'] == 1]\npollution_no_oecd = pollution[pollution['oecd'] == 0]\n\nttest_4b = stats.ttest_ind(pollution_oecd['co2pc'], pollution_no_oecd['co2pc'], equal_var=False)\n\ntstat_4b = ttest_4b.statistic\npval_4b = ttest_4b.pvalue\n# END SOLUTION\n\nprint(\"t-stat: {}\".format(tstat_4b))\nprint(\"p-value: {}\".format(pval_4b))",
    "id": "156e8f7abffd4eed84ebd8760d28eb06",
    "idx": 67,
    "time": "2021-01-18T20:02:39.485Z",
    "type": "execution"
   },
   {
    "id": "156e8f7abffd4eed84ebd8760d28eb06",
    "time": "2021-01-18T20:02:39.548Z",
    "type": "completion"
   },
   {
    "code": "\"\"\" # BEGIN PROMPT\npollution['log_gdp'] = ...\npollution['log_co2'] = ...\n\"\"\" # END PROMPT\n# BEGIN SOLUTION NO PROMPT\npollution['log_gdp'] = np.log(pollution['gdp'])\npollution['log_co2'] = np.log(pollution['co2'])\n# END SOLUTION\n\npollution.head()",
    "id": "29703a1543404f2c804f455161c19899",
    "idx": 72,
    "time": "2021-01-18T20:04:48.198Z",
    "type": "execution"
   },
   {
    "id": "29703a1543404f2c804f455161c19899",
    "time": "2021-01-18T20:04:48.342Z",
    "type": "completion"
   },
   {
    "code": "plt.scatter(pollution['log_gdp'], pollution['log_co2'])",
    "id": "851780e01f2142158bf31c3779ff4d24",
    "idx": 76,
    "time": "2021-01-18T20:05:20.170Z",
    "type": "execution"
   },
   {
    "id": "851780e01f2142158bf31c3779ff4d24",
    "time": "2021-01-18T20:05:20.506Z",
    "type": "completion"
   },
   {
    "code": "plt.scatter(pollution['log_gdp'], pollution['log_co2']);",
    "id": "851780e01f2142158bf31c3779ff4d24",
    "idx": 76,
    "time": "2021-01-18T20:05:22.993Z",
    "type": "execution"
   },
   {
    "id": "851780e01f2142158bf31c3779ff4d24",
    "time": "2021-01-18T20:05:23.226Z",
    "type": "completion"
   },
   {
    "code": "plt.scatter(pollution['log_gdp'], pollution['co2']);",
    "id": "851780e01f2142158bf31c3779ff4d24",
    "idx": 76,
    "time": "2021-01-18T20:06:20.807Z",
    "type": "execution"
   },
   {
    "id": "851780e01f2142158bf31c3779ff4d24",
    "time": "2021-01-18T20:06:21.034Z",
    "type": "completion"
   },
   {
    "code": "plt.scatter(pollution['gdp'], pollution['co2']);",
    "id": "851780e01f2142158bf31c3779ff4d24",
    "idx": 76,
    "time": "2021-01-18T20:06:53.522Z",
    "type": "execution"
   },
   {
    "id": "851780e01f2142158bf31c3779ff4d24",
    "time": "2021-01-18T20:06:53.716Z",
    "type": "completion"
   },
   {
    "code": "plt.scatter(pollution['gdp'], pollution['log_co2']);",
    "id": "851780e01f2142158bf31c3779ff4d24",
    "idx": 76,
    "time": "2021-01-18T20:07:00.801Z",
    "type": "execution"
   },
   {
    "id": "851780e01f2142158bf31c3779ff4d24",
    "time": "2021-01-18T20:07:01.009Z",
    "type": "completion"
   },
   {
    "code": "plt.scatter(pollution['log_gdp'], pollution['log_co2']);",
    "id": "851780e01f2142158bf31c3779ff4d24",
    "idx": 76,
    "time": "2021-01-18T20:07:07.360Z",
    "type": "execution"
   },
   {
    "id": "851780e01f2142158bf31c3779ff4d24",
    "time": "2021-01-18T20:07:07.594Z",
    "type": "completion"
   },
   {
    "code": "plt.scatter(pollution['log_gdp'], pollution['log_co2'])\nplt.xlabel(\"log gdp\")\nplt.ylabel(\"log co2\");",
    "id": "851780e01f2142158bf31c3779ff4d24",
    "idx": 76,
    "time": "2021-01-18T20:07:39.388Z",
    "type": "execution"
   },
   {
    "id": "851780e01f2142158bf31c3779ff4d24",
    "time": "2021-01-18T20:07:39.685Z",
    "type": "completion"
   },
   {
    "code": "\"\"\" # BEGIN PROMPT\npollution['log_gdppc'] = ...\npollution['log_co2pc'] = ...\n\nplt.scatter(..., ...)\n\"\"\" # END PROMPT\n# BEGIN SOLUTION NO PROMPT\npollution['log_gdppc'] = np.log(pollution['gdppc'])\npollution['log_co2pc'] = np.log(pollution['co2pc'])\n\nplt.scatter(pollution['log_gdp'], pollution['log_co2'])\n# END SOLUTION\nplt.xlabel(\"log gdppc\")\nplt.ylabel(\"log co2pc\");",
    "id": "9b18354107be4b859d915d754744c833",
    "idx": 78,
    "time": "2021-01-18T20:13:15.720Z",
    "type": "execution"
   },
   {
    "id": "9b18354107be4b859d915d754744c833",
    "time": "2021-01-18T20:13:15.995Z",
    "type": "completion"
   },
   {
    "code": "\"\"\" # BEGIN PROMPT\npollution['log_gdppc'] = ...\npollution['log_co2pc'] = ...\n\nplt.scatter(..., ...)\n\"\"\" # END PROMPT\n# BEGIN SOLUTION NO PROMPT\npollution['log_gdppc'] = np.log(pollution['gdppc'])\npollution['log_co2pc'] = np.log(pollution['co2pc'])\n\nplt.scatter(pollution['log_gdppc'], pollution['log_co2pc'])\n# END SOLUTION\nplt.xlabel(\"log gdppc\")\nplt.ylabel(\"log co2pc\");",
    "id": "9b18354107be4b859d915d754744c833",
    "idx": 78,
    "time": "2021-01-18T20:13:23.785Z",
    "type": "execution"
   },
   {
    "id": "9b18354107be4b859d915d754744c833",
    "time": "2021-01-18T20:13:24.026Z",
    "type": "completion"
   },
   {
    "code": "la.describe()",
    "id": "ff1e2d32583d4dbb8b3f3b4efa3c5d51",
    "idx": 85,
    "time": "2021-01-18T20:15:09.344Z",
    "type": "execution"
   },
   {
    "id": "ff1e2d32583d4dbb8b3f3b4efa3c5d51",
    "time": "2021-01-18T20:15:09.423Z",
    "type": "completion"
   },
   {
    "code": "la = pd.read_stata(\"PS1data(LA wages).dta\")\nla.head()",
    "id": "d77af0b04aed4b9d88da7d7e7776c3dc",
    "idx": 83,
    "time": "2021-01-18T20:15:11.672Z",
    "type": "execution"
   },
   {
    "id": "d77af0b04aed4b9d88da7d7e7776c3dc",
    "time": "2021-01-18T20:15:11.754Z",
    "type": "completion"
   },
   {
    "code": "la.describe()",
    "id": "ff1e2d32583d4dbb8b3f3b4efa3c5d51",
    "idx": 85,
    "time": "2021-01-18T20:15:12.271Z",
    "type": "execution"
   },
   {
    "id": "ff1e2d32583d4dbb8b3f3b4efa3c5d51",
    "time": "2021-01-18T20:15:12.387Z",
    "type": "completion"
   },
   {
    "code": "la.hist(column='wage', bins=80); # SOLUTION",
    "id": "d21b4e5dbd2b4447ab40a783adc28091",
    "idx": 87,
    "time": "2021-01-18T20:18:14.458Z",
    "type": "execution"
   },
   {
    "id": "d21b4e5dbd2b4447ab40a783adc28091",
    "time": "2021-01-18T20:18:14.808Z",
    "type": "completion"
   },
   {
    "code": "la['log_wage'] = np.log(la['wage'])",
    "id": "b9d9c22bbd14489d92eff9616b23cab7",
    "idx": 92,
    "time": "2021-01-18T20:19:30.260Z",
    "type": "execution"
   },
   {
    "id": "b9d9c22bbd14489d92eff9616b23cab7",
    "time": "2021-01-18T20:19:30.317Z",
    "type": "completion"
   },
   {
    "code": "la['log_wage'] = np.log(la['wage'])\n\nla.head()",
    "id": "b9d9c22bbd14489d92eff9616b23cab7",
    "idx": 92,
    "time": "2021-01-18T20:19:37.054Z",
    "type": "execution"
   },
   {
    "id": "b9d9c22bbd14489d92eff9616b23cab7",
    "time": "2021-01-18T20:19:37.128Z",
    "type": "completion"
   },
   {
    "code": "\"\"\" # BEGIN PROMPT\nla['log_wage'] = ...\n\"\"\" # END PROMPT\n# BEGIN SOLUTION NO PROMPT\nla['log_wage'] = np.log(la['wage'])\n# END SOLUTION\n\nla.head()",
    "id": "b9d9c22bbd14489d92eff9616b23cab7",
    "idx": 92,
    "time": "2021-01-18T20:20:15.012Z",
    "type": "execution"
   },
   {
    "id": "b9d9c22bbd14489d92eff9616b23cab7",
    "time": "2021-01-18T20:20:15.157Z",
    "type": "completion"
   },
   {
    "code": "la.value_counts(subset='education', sort=False, normalize=True)",
    "id": "15a29073574549dda753d06175b09108",
    "idx": 94,
    "time": "2021-01-18T20:20:58.259Z",
    "type": "execution"
   },
   {
    "id": "15a29073574549dda753d06175b09108",
    "time": "2021-01-18T20:20:58.336Z",
    "type": "completion"
   },
   {
    "code": "la.value_counts(subset=['education'], sort=False, normalize=True)",
    "id": "15a29073574549dda753d06175b09108",
    "idx": 94,
    "time": "2021-01-18T20:21:05.040Z",
    "type": "execution"
   },
   {
    "id": "15a29073574549dda753d06175b09108",
    "time": "2021-01-18T20:21:05.104Z",
    "type": "completion"
   },
   {
    "code": "la.value_counts(subset='education', sort=False, normalize=True)",
    "id": "15a29073574549dda753d06175b09108",
    "idx": 94,
    "time": "2021-01-18T20:21:11.376Z",
    "type": "execution"
   },
   {
    "id": "15a29073574549dda753d06175b09108",
    "time": "2021-01-18T20:21:11.443Z",
    "type": "completion"
   },
   {
    "code": "la.value_counts(subset='education', sort=False, normalize=True) # SOLUTION",
    "id": "15a29073574549dda753d06175b09108",
    "idx": 94,
    "time": "2021-01-18T20:21:47.252Z",
    "type": "execution"
   },
   {
    "id": "15a29073574549dda753d06175b09108",
    "time": "2021-01-18T20:21:47.323Z",
    "type": "completion"
   },
   {
    "code": "\"\"\" # BEGIN PROMPT\npollution['log_gdppc'] = ...\npollution['log_co2pc'] = ...\n\nplt.scatter(..., ...)\n\"\"\" # END PROMPT\n# BEGIN SOLUTION NO PROMPT\nplt.scatter(la['log_wage'], la['schooling'])\n# END SOLUTION\nplt.xlabel(\"log gdppc\")\nplt.ylabel(\"log co2pc\");",
    "id": "1dd6dd4fc618417284c9ddec5df34472",
    "idx": 96,
    "time": "2021-01-18T20:22:35.323Z",
    "type": "execution"
   },
   {
    "id": "1dd6dd4fc618417284c9ddec5df34472",
    "time": "2021-01-18T20:22:35.542Z",
    "type": "completion"
   },
   {
    "code": "\"\"\" # BEGIN PROMPT\npollution['log_gdppc'] = ...\npollution['log_co2pc'] = ...\n\nplt.scatter(..., ...)\n\"\"\" # END PROMPT\n# BEGIN SOLUTION NO PROMPT\nplt.scatter(la['log_wage'], la['education'])\n# END SOLUTION\nplt.xlabel(\"log gdppc\")\nplt.ylabel(\"log co2pc\");",
    "id": "1dd6dd4fc618417284c9ddec5df34472",
    "idx": 96,
    "time": "2021-01-18T20:22:46.112Z",
    "type": "execution"
   },
   {
    "id": "1dd6dd4fc618417284c9ddec5df34472",
    "time": "2021-01-18T20:22:46.462Z",
    "type": "completion"
   },
   {
    "code": "\"\"\" # BEGIN PROMPT\npollution['log_gdppc'] = ...\npollution['log_co2pc'] = ...\n\nplt.scatter(..., ...)\n\"\"\" # END PROMPT\n# BEGIN SOLUTION NO PROMPT\nplt.scatter(la['education'], la['log_wage'])\n# END SOLUTION\nplt.xlabel(\"education\")\nplt.ylabel(\"log wage\");",
    "id": "1dd6dd4fc618417284c9ddec5df34472",
    "idx": 96,
    "time": "2021-01-18T20:23:06.723Z",
    "type": "execution"
   },
   {
    "id": "1dd6dd4fc618417284c9ddec5df34472",
    "time": "2021-01-18T20:23:06.963Z",
    "type": "completion"
   },
   {
    "code": "\"\"\" # BEGIN PROMPT\n...\n...\n...\n\"\"\" # END PROMPT\n# BEGIN SOLUTION NO PROMPT\nplt.scatter(la['education'], la['log_wage'])\nplt.xlabel(\"education\")\nplt.ylabel(\"log wage\");\n# END SOLUTION",
    "id": "1dd6dd4fc618417284c9ddec5df34472",
    "idx": 96,
    "time": "2021-01-18T20:23:37.120Z",
    "type": "execution"
   },
   {
    "id": "1dd6dd4fc618417284c9ddec5df34472",
    "time": "2021-01-18T20:23:37.451Z",
    "type": "completion"
   },
   {
    "code": "pollution = pd.read_stata(\"PS1data(pollution).dta\")\npollution.head()",
    "id": "a3f9d84c8787401c8980230ef00dbe19",
    "idx": 62,
    "time": "2021-01-18T20:25:18.639Z",
    "type": "execution"
   },
   {
    "id": "a3f9d84c8787401c8980230ef00dbe19",
    "time": "2021-01-18T20:25:18.863Z",
    "type": "completion"
   },
   {
    "code": "\"\"\" # BEGIN PROMPT\npollution_oecd = ...\npollution_no_oecd = ...\n\nttest_4b = stats.ttest_ind(..., ..., ...)\n\ntstat_4b = ttest_4b.statistic\npval_4b = ttest_4b.pvalue\n\"\"\" # END PROMPT\n# BEGIN SOLUTION NO PROMPT\npollution_oecd = pollution[pollution['oecd'] == 1]\npollution_no_oecd = pollution[pollution['oecd'] == 0]\n\nttest_4b = stats.ttest_ind(pollution_oecd['co2pc'], pollution_no_oecd['co2pc'], equal_var=False, nan_policy='omit')\n\ntstat_4b = ttest_4b.statistic\npval_4b = ttest_4b.pvalue\n# END SOLUTION\n\nprint(\"t-stat: {}\".format(tstat_4b))\nprint(\"p-value: {}\".format(pval_4b))",
    "id": "156e8f7abffd4eed84ebd8760d28eb06",
    "idx": 67,
    "time": "2021-01-18T20:25:36.459Z",
    "type": "execution"
   },
   {
    "id": "156e8f7abffd4eed84ebd8760d28eb06",
    "time": "2021-01-18T20:25:36.526Z",
    "type": "completion"
   },
   {
    "code": "ttest_1a",
    "id": "66b6f50375b64b6e86413cc6384405a2",
    "idx": 6,
    "time": "2021-01-18T20:37:55.288Z",
    "type": "execution"
   },
   {
    "id": "66b6f50375b64b6e86413cc6384405a2",
    "time": "2021-01-18T20:37:55.401Z",
    "type": "completion"
   },
   {
    "code": "import numpy as np\nimport pandas as pd\nfrom scipy import stats\nimport matplotlib.pyplot as plt",
    "id": "458e59d49de5470a90af3fc5deee55c5",
    "idx": 3,
    "time": "2021-01-18T20:56:47.764Z",
    "type": "execution"
   },
   {
    "code": "nba = pd.read_stata(\"PS1data(NBA).dta\")\nnba.head()",
    "id": "471a6507023840699078daa57f905478",
    "idx": 5,
    "time": "2021-01-18T20:56:47.770Z",
    "type": "execution"
   },
   {
    "code": "\"\"\" # BEGIN PROMPT\nnba_guard = ...\nnba_not_guard = ...\n\nttest_1a = stats.ttest_ind(..., ...)\n\ntstat_1a = ttest_1a.statistic\npval_1a = ttest_1a.pvalue\n\"\"\" # END PROMPT\n# BEGIN SOLUTION NO PROMPT\nnba_guard = nba[nba['guard'] == 1]\nnba_not_guard = nba[nba['guard'] == 0]\n\nttest_1a = stats.ttest_ind(nba_guard['wage'], nba_not_guard['wage'])\n\ntstat_1a = ttest_1a.statistic\npval_1a = ttest_1a.pvalue\n# END SOLUTION\n\nprint(\"t-stat: {}\".format(tstat_1a))\nprint(\"p-value: {}\".format(pval_1a))",
    "id": "a1eec07cfbe84189b4233e64dd52c3bb",
    "idx": 7,
    "time": "2021-01-18T20:56:47.772Z",
    "type": "execution"
   },
   {
    "code": "\"\"\" # BEGIN PROMPT\nnba['degree'] = ...\n\nnba_degree = ...\nnba_no_degree = ...\n\nttest_1c = stats.ttest_ind(..., ...)\n\ntstat_1c = ttest_1c.statistic\npval_1c = ttest_1c.pvalue\n\"\"\" # END PROMPT\n# BEGIN SOLUTION NO PROMPT\nnba['degree'] = nba['coll'] >= 4\n\nnba_degree = nba[nba['degree'] == True]\nnba_no_degree = nba[nba['degree'] == False]\n\nttest_1c = stats.ttest_ind(nba_degree['wage'], nba_no_degree['wage'])\n\ntstat_1c = ttest_1c.statistic\npval_1c = ttest_1c.pvalue\n# END SOLUTION\n\nprint(\"t-stat: {}\".format(tstat_1c))\nprint(\"p-value: {}\".format(pval_1c))",
    "id": "46952d74fc6b43ae81de15654aa6189b",
    "idx": 11,
    "time": "2021-01-18T20:56:47.775Z",
    "type": "execution"
   },
   {
    "code": "\"\"\" # BEGIN PROMPT\nnba['productivity'] = ...\n\nnba_guard = ...\nnba_not_guard = ...\n\nttest_1e = stats.ttest_ind(..., ...)\n\ntstat_1e = ttest_1e.statistic\npval_1e = ttest_1e.pvalue\n\"\"\" # END PROMPT\n# BEGIN SOLUTION NO PROMPT\nnba['productivity'] = nba['points'] / (nba['minutes'] / nba['games'])\n\nnba_guard = nba[nba['guard'] == 1]\nnba_not_guard = nba[nba['guard'] == 0]\n\nttest_1e = stats.ttest_ind(nba_guard['productivity'], nba_not_guard['productivity'])\n\ntstat_1e = ttest_1e.statistic\npval_1e = ttest_1e.pvalue\n# END SOLUTION\n\nprint(\"t-stat: {}\".format(tstat_1e))\nprint(\"p-value: {}\".format(pval_1e))",
    "id": "6133c16b211b479d8d905c0f0f5d640e",
    "idx": 15,
    "time": "2021-01-18T20:56:47.779Z",
    "type": "execution"
   },
   {
    "code": "\"\"\" # BEGIN PROMPT\nnba[['points', 'assists', 'rebounds']]...\n\"\"\" # END PROMPT\n# BEGIN SOLUTION NO PROMPT\nnba[['points', 'assists', 'rebounds']].corr()\n# END SOLUTION",
    "id": "4b06500ee6404aeab3872f3a3bf3eeca",
    "idx": 19,
    "time": "2021-01-18T20:56:47.782Z",
    "type": "execution"
   },
   {
    "code": "\"\"\" # BEGIN PROMPT\nnba['index'] = ...\n\nnba_guard = ...\nnba_not_guard = ...\n\nttest_1h = stats.ttest_ind(..., ...)\n\ntstat_1h = ttest_1h.statistic\npval_1h = ttest_1h.pvalue\n\"\"\" # END PROMPT\n# BEGIN SOLUTION NO PROMPT\nnba['index'] = nba['points'] + nba['rebounds'] + 2 * nba['assists']\n\nnba_guard = nba[nba['guard'] == 1]\nnba_not_guard = nba[nba['guard'] == 0]\n\nttest_1h = stats.ttest_ind(nba_guard['index'], nba_not_guard['index'])\n\ntstat_1h = ttest_1h.statistic\npval_1h = ttest_1h.pvalue\n# END SOLUTION\n\nprint(\"t-stat: {}\".format(tstat_1h))\nprint(\"p-value: {}\".format(pval_1h))",
    "id": "eb2d2eb45db540bb88cd4b1c61221145",
    "idx": 21,
    "time": "2021-01-18T20:56:47.785Z",
    "type": "execution"
   },
   {
    "code": "\"\"\" # BEGIN PROMPT\nnba['payoff'] = ...\n\nnba_guard = ...\nnba_not_guard = ...\n\nttest_1j = stats.ttest_ind(..., ...)\n\ntstat_1j = ttest_1j.statistic\npval_1j = ttest_1j.pvalue\n\"\"\" # END PROMPT\n# BEGIN SOLUTION NO PROMPT\nnba['payoff'] = nba['index'] / nba['wage']\n\nnba_guard = nba[nba['guard'] == 1]\nnba_not_guard = nba[nba['guard'] == 0]\n\nttest_1j = stats.ttest_ind(nba_guard['payoff'], nba_not_guard['payoff'])\n\ntstat_1j = ttest_1j.statistic\npval_1j = ttest_1j.pvalue\n# END SOLUTION\n\nprint(\"t-stat: {}\".format(tstat_1j))\nprint(\"p-value: {}\".format(pval_1j))",
    "id": "70d9f35319124f5aac04ecc23ecafd1e",
    "idx": 25,
    "time": "2021-01-18T20:56:47.788Z",
    "type": "execution"
   },
   {
    "code": "crime = pd.read_stata(\"PS1data(campus crime).dta\")\ncrime.head()",
    "id": "271fcec5eb1e48498bb392a05d18c8e0",
    "idx": 30,
    "time": "2021-01-18T20:56:47.792Z",
    "type": "execution"
   },
   {
    "code": "# This code cell is for question 2.a.\n",
    "id": "e8782cb7cb80404fb831f227614a421a",
    "idx": 31,
    "time": "2021-01-18T20:56:47.794Z",
    "type": "execution"
   },
   {
    "code": "\"\"\" # BEGIN PROMPT\ncrime[['enrollment', 'police', 'crime']]...\n\"\"\" # END PROMPT\n# BEGIN SOLUTION NO PROMPT\ncrime[['enrollment', 'police', 'crime']].corr()\n# END SOLUTION",
    "id": "3a6edb7310a549cc859171c11aca490b",
    "idx": 36,
    "time": "2021-01-18T20:56:47.797Z",
    "type": "execution"
   },
   {
    "code": "\"\"\" # BEGIN PROMPT\ncrime_public = ...\ncrime_private = ...\n\nttest_2d_unequal_var = stats.ttest_ind(..., ..., ...)\n\ntstat_2d_unequal = ttest_2d_unequal_var.statistic\npval_2d_unequal = ttest_2d_unequal_var.pvalue\n\nttest_2d_equal_var = stats.ttest_ind(..., ...)\n\ntstat_2d_equal = ttest_2d_equal_var.statistic\npval_2d_equal = ttest_2d_equal_var.pvalue\n\"\"\" # END PROMPT\n# BEGIN SOLUTION NO PROMPT\ncrime_public = crime[crime['private'] == 0]\ncrime_private = crime[crime['private'] == 1]\n\nttest_2d_unequal_var = stats.ttest_ind(crime_public['crime'], crime_private['crime'], equal_var=False)\n\ntstat_2d_unequal = ttest_2d_unequal_var.statistic\npval_2d_unequal = ttest_2d_unequal_var.pvalue\n\nttest_2d_equal_var = stats.ttest_ind(crime_public['crime'], crime_private['crime'])\n\ntstat_2d_equal = ttest_2d_equal_var.statistic\npval_2d_equal = ttest_2d_equal_var.pvalue\n# END SOLUTION\n\nprint(\"t-stat unequal variance: {}\".format(tstat_2d_unequal))\nprint(\"p-value unequal variance: {}\".format(pval_2d_unequal))\nprint(\"t-stat equal variance: {}\".format(tstat_2d_equal))\nprint(\"p-value equal variance: {}\".format(pval_2d_equal))",
    "id": "8266b61efc5e451d8f584a28cf9f129d",
    "idx": 40,
    "time": "2021-01-18T20:56:47.800Z",
    "type": "execution"
   },
   {
    "code": "\"\"\" # BEGIN PROMPT\ncrime['crimerate'] = ...\n\ncrime_public = ...\ncrime_private = ...\n\nttest_2f_unequal_var = stats.ttest_ind(..., ..., ...)\n\ntstat_2f_unequal = ttest_2f_unequal_var.statistic\npval_2f_unequal = ttest_2f_unequal_var.pvalue\n\nttest_2f_equal_var = stats.ttest_ind(..., ...)\n\ntstat_2f_equal = ttest_2f_equal_var.statistic\npval_2f_equal = ttest_2f_equal_var.pvalue\n\"\"\" # END PROMPT\n# BEGIN SOLUTION NO PROMPT\ncrime['crimerate'] = 1000 * (crime['crime'] / crime['enrollment'])\n\ncrime_public = crime[crime['private'] == 0]\ncrime_private = crime[crime['private'] == 1]\n\nttest_2f_unequal_var = stats.ttest_ind(crime_public['crimerate'], crime_private['crimerate'], equal_var=False)\n\ntstat_2f_unequal = ttest_2f_unequal_var.statistic\npval_2f_unequal = ttest_2f_unequal_var.pvalue\n\nttest_2f_equal_var = stats.ttest_ind(crime_public['crimerate'], crime_private['crimerate'])\n\ntstat_2f_equal = ttest_2f_equal_var.statistic\npval_2f_equal = ttest_2f_equal_var.pvalue\n# END SOLUTION\n\nprint(\"t-stat unequal variance: {}\".format(tstat_2f_unequal))\nprint(\"p-value unequal variance: {}\".format(pval_2f_unequal))\nprint(\"t-stat equal variance: {}\".format(tstat_2f_equal))\nprint(\"p-value equal variance: {}\".format(pval_2f_equal))",
    "id": "d87885a26b4b479187f9a4e7aba7902d",
    "idx": 44,
    "time": "2021-01-18T20:56:47.803Z",
    "type": "execution"
   },
   {
    "code": "pollution = pd.read_stata(\"PS1data(pollution).dta\")\npollution.head()",
    "id": "a3f9d84c8787401c8980230ef00dbe19",
    "idx": 63,
    "time": "2021-01-18T20:56:47.809Z",
    "type": "execution"
   },
   {
    "code": "# This code cell is for question 4.a.\n",
    "id": "79e1fd638c334f9a8aecc76bf0c53af8",
    "idx": 64,
    "time": "2021-01-18T20:56:47.812Z",
    "type": "execution"
   },
   {
    "code": "\"\"\" # BEGIN PROMPT\npollution_oecd = ...\npollution_no_oecd = ...\n\nttest_4b = stats.ttest_ind(..., ..., ..., nan_policy='omit')\n\ntstat_4b = ttest_4b.statistic\npval_4b = ttest_4b.pvalue\n\"\"\" # END PROMPT\n# BEGIN SOLUTION NO PROMPT\npollution_oecd = pollution[pollution['oecd'] == 1]\npollution_no_oecd = pollution[pollution['oecd'] == 0]\n\nttest_4b = stats.ttest_ind(pollution_oecd['co2pc'], pollution_no_oecd['co2pc'], equal_var=False, nan_policy='omit')\n\ntstat_4b = ttest_4b.statistic\npval_4b = ttest_4b.pvalue\n# END SOLUTION\n\nprint(\"t-stat: {}\".format(tstat_4b))\nprint(\"p-value: {}\".format(pval_4b))",
    "id": "156e8f7abffd4eed84ebd8760d28eb06",
    "idx": 68,
    "time": "2021-01-18T20:56:47.814Z",
    "type": "execution"
   },
   {
    "code": "\"\"\" # BEGIN PROMPT\npollution['log_gdp'] = ...\npollution['log_co2'] = ...\n\"\"\" # END PROMPT\n# BEGIN SOLUTION NO PROMPT\npollution['log_gdp'] = np.log(pollution['gdp'])\npollution['log_co2'] = np.log(pollution['co2'])\n# END SOLUTION\n\npollution.head()",
    "id": "29703a1543404f2c804f455161c19899",
    "idx": 73,
    "time": "2021-01-18T20:56:47.818Z",
    "type": "execution"
   },
   {
    "code": "plt.scatter(pollution['log_gdp'], pollution['log_co2'])\nplt.xlabel(\"log gdp\")\nplt.ylabel(\"log co2\");",
    "id": "851780e01f2142158bf31c3779ff4d24",
    "idx": 77,
    "time": "2021-01-18T20:56:47.821Z",
    "type": "execution"
   },
   {
    "code": "\"\"\" # BEGIN PROMPT\npollution['log_gdppc'] = ...\npollution['log_co2pc'] = ...\n\nplt.scatter(..., ...)\n\"\"\" # END PROMPT\n# BEGIN SOLUTION NO PROMPT\npollution['log_gdppc'] = np.log(pollution['gdppc'])\npollution['log_co2pc'] = np.log(pollution['co2pc'])\n\nplt.scatter(pollution['log_gdppc'], pollution['log_co2pc'])\n# END SOLUTION\nplt.xlabel(\"log gdppc\")\nplt.ylabel(\"log co2pc\");",
    "id": "9b18354107be4b859d915d754744c833",
    "idx": 79,
    "time": "2021-01-18T20:56:47.824Z",
    "type": "execution"
   },
   {
    "code": "la = pd.read_stata(\"PS1data(LA wages).dta\")\nla.head()",
    "id": "d77af0b04aed4b9d88da7d7e7776c3dc",
    "idx": 84,
    "time": "2021-01-18T20:56:47.827Z",
    "type": "execution"
   },
   {
    "code": "la.describe() # SOLUTION",
    "id": "ff1e2d32583d4dbb8b3f3b4efa3c5d51",
    "idx": 86,
    "time": "2021-01-18T20:56:47.830Z",
    "type": "execution"
   },
   {
    "code": "la.hist(column='wage', bins=80); # SOLUTION",
    "id": "d21b4e5dbd2b4447ab40a783adc28091",
    "idx": 88,
    "time": "2021-01-18T20:56:47.833Z",
    "type": "execution"
   },
   {
    "code": "# This code cell is for question 5.c.\n",
    "id": "b8096706c3224af4892d050800938410",
    "idx": 89,
    "time": "2021-01-18T20:56:47.835Z",
    "type": "execution"
   },
   {
    "code": "\"\"\" # BEGIN PROMPT\nla['log_wage'] = ...\n\"\"\" # END PROMPT\n# BEGIN SOLUTION NO PROMPT\nla['log_wage'] = np.log(la['wage'])\n# END SOLUTION\n\nla.head()",
    "id": "b9d9c22bbd14489d92eff9616b23cab7",
    "idx": 93,
    "time": "2021-01-18T20:56:47.838Z",
    "type": "execution"
   },
   {
    "code": "la.value_counts(subset='education', sort=False, normalize=True) # SOLUTION",
    "id": "15a29073574549dda753d06175b09108",
    "idx": 95,
    "time": "2021-01-18T20:56:47.840Z",
    "type": "execution"
   },
   {
    "code": "\"\"\" # BEGIN PROMPT\n...\n...\n...\n\"\"\" # END PROMPT\n# BEGIN SOLUTION NO PROMPT\nplt.scatter(la['education'], la['log_wage'])\nplt.xlabel(\"education\")\nplt.ylabel(\"log wage\");\n# END SOLUTION",
    "id": "1dd6dd4fc618417284c9ddec5df34472",
    "idx": 97,
    "time": "2021-01-18T20:56:47.843Z",
    "type": "execution"
   },
   {
    "id": "458e59d49de5470a90af3fc5deee55c5",
    "time": "2021-01-18T20:56:48.725Z",
    "type": "completion"
   },
   {
    "id": "471a6507023840699078daa57f905478",
    "time": "2021-01-18T20:56:48.731Z",
    "type": "completion"
   },
   {
    "id": "a1eec07cfbe84189b4233e64dd52c3bb",
    "time": "2021-01-18T20:56:48.778Z",
    "type": "completion"
   },
   {
    "id": "46952d74fc6b43ae81de15654aa6189b",
    "time": "2021-01-18T20:56:48.780Z",
    "type": "completion"
   },
   {
    "id": "6133c16b211b479d8d905c0f0f5d640e",
    "time": "2021-01-18T20:56:48.783Z",
    "type": "completion"
   },
   {
    "id": "4b06500ee6404aeab3872f3a3bf3eeca",
    "time": "2021-01-18T20:56:48.786Z",
    "type": "completion"
   },
   {
    "id": "eb2d2eb45db540bb88cd4b1c61221145",
    "time": "2021-01-18T20:56:48.788Z",
    "type": "completion"
   },
   {
    "id": "70d9f35319124f5aac04ecc23ecafd1e",
    "time": "2021-01-18T20:56:48.834Z",
    "type": "completion"
   },
   {
    "id": "271fcec5eb1e48498bb392a05d18c8e0",
    "time": "2021-01-18T20:56:48.837Z",
    "type": "completion"
   },
   {
    "id": "e8782cb7cb80404fb831f227614a421a",
    "time": "2021-01-18T20:56:48.839Z",
    "type": "completion"
   },
   {
    "id": "3a6edb7310a549cc859171c11aca490b",
    "time": "2021-01-18T20:56:48.843Z",
    "type": "completion"
   },
   {
    "id": "8266b61efc5e451d8f584a28cf9f129d",
    "time": "2021-01-18T20:56:48.887Z",
    "type": "completion"
   },
   {
    "id": "d87885a26b4b479187f9a4e7aba7902d",
    "time": "2021-01-18T20:56:48.889Z",
    "type": "completion"
   },
   {
    "id": "a3f9d84c8787401c8980230ef00dbe19",
    "time": "2021-01-18T20:56:48.927Z",
    "type": "completion"
   },
   {
    "id": "79e1fd638c334f9a8aecc76bf0c53af8",
    "time": "2021-01-18T20:56:48.969Z",
    "type": "completion"
   },
   {
    "id": "156e8f7abffd4eed84ebd8760d28eb06",
    "time": "2021-01-18T20:56:48.971Z",
    "type": "completion"
   },
   {
    "id": "29703a1543404f2c804f455161c19899",
    "time": "2021-01-18T20:56:48.975Z",
    "type": "completion"
   },
   {
    "id": "851780e01f2142158bf31c3779ff4d24",
    "time": "2021-01-18T20:56:49.173Z",
    "type": "completion"
   },
   {
    "id": "9b18354107be4b859d915d754744c833",
    "time": "2021-01-18T20:56:49.320Z",
    "type": "completion"
   },
   {
    "id": "d77af0b04aed4b9d88da7d7e7776c3dc",
    "time": "2021-01-18T20:56:49.335Z",
    "type": "completion"
   },
   {
    "id": "ff1e2d32583d4dbb8b3f3b4efa3c5d51",
    "time": "2021-01-18T20:56:49.402Z",
    "type": "completion"
   },
   {
    "id": "d21b4e5dbd2b4447ab40a783adc28091",
    "time": "2021-01-18T20:56:49.748Z",
    "type": "completion"
   },
   {
    "id": "b8096706c3224af4892d050800938410",
    "time": "2021-01-18T20:56:49.749Z",
    "type": "completion"
   },
   {
    "id": "b9d9c22bbd14489d92eff9616b23cab7",
    "time": "2021-01-18T20:56:49.752Z",
    "type": "completion"
   },
   {
    "id": "15a29073574549dda753d06175b09108",
    "time": "2021-01-18T20:56:49.754Z",
    "type": "completion"
   },
   {
    "id": "1dd6dd4fc618417284c9ddec5df34472",
    "time": "2021-01-18T20:56:49.859Z",
    "type": "completion"
   },
   {
    "code": "import numpy as np\nimport pandas as pd\nfrom scipy import stats\nimport matplotlib.pyplot as plt",
    "id": "8d1918a1eeda4a109ff1ab9f2784b352",
    "idx": 4,
    "time": "2021-01-19T23:06:46.572Z",
    "type": "execution"
   },
   {
    "id": "8d1918a1eeda4a109ff1ab9f2784b352",
    "time": "2021-01-19T23:06:47.501Z",
    "type": "completion"
   },
   {
    "code": "# Don't forget to run this cell that reads in the data\nnba = pd.read_stata(\"PS1data(NBA).dta\")\nnba.head()",
    "id": "def3672c0002440aa4f8643cd1dbcd00",
    "idx": 6,
    "time": "2021-01-19T23:06:48.141Z",
    "type": "execution"
   },
   {
    "id": "def3672c0002440aa4f8643cd1dbcd00",
    "time": "2021-01-19T23:06:48.247Z",
    "type": "completion"
   },
   {
    "code": "nba.to_csv()",
    "id": "532fb3a33eb34c7b834490cebc3cfb8e",
    "idx": 7,
    "time": "2021-01-19T23:06:55.945Z",
    "type": "execution"
   },
   {
    "id": "532fb3a33eb34c7b834490cebc3cfb8e",
    "time": "2021-01-19T23:06:56.048Z",
    "type": "completion"
   },
   {
    "code": "nba.to_csv(\"nba.csv\")",
    "id": "532fb3a33eb34c7b834490cebc3cfb8e",
    "idx": 7,
    "time": "2021-01-19T23:07:24.726Z",
    "type": "execution"
   },
   {
    "id": "532fb3a33eb34c7b834490cebc3cfb8e",
    "time": "2021-01-19T23:07:24.786Z",
    "type": "completion"
   },
   {
    "code": "nba = pd.read_csv(\"nba.csv\")",
    "id": "713b677c54b145e486185569452f87a8",
    "idx": 8,
    "time": "2021-01-19T23:07:39.113Z",
    "type": "execution"
   },
   {
    "id": "713b677c54b145e486185569452f87a8",
    "time": "2021-01-19T23:07:39.174Z",
    "type": "completion"
   },
   {
    "code": "nba",
    "id": "08003a0efb8842478679e9ea9b70590f",
    "idx": 9,
    "time": "2021-01-19T23:07:43.145Z",
    "type": "execution"
   },
   {
    "id": "08003a0efb8842478679e9ea9b70590f",
    "time": "2021-01-19T23:07:43.231Z",
    "type": "completion"
   },
   {
    "code": "# Don't forget to run this cell that reads in the data\nnba = pd.read_stata(\"PS1data(NBA).dta\")\nnba.head()",
    "id": "def3672c0002440aa4f8643cd1dbcd00",
    "idx": 6,
    "time": "2021-01-19T23:08:33.449Z",
    "type": "execution"
   },
   {
    "id": "def3672c0002440aa4f8643cd1dbcd00",
    "time": "2021-01-19T23:08:33.547Z",
    "type": "completion"
   },
   {
    "code": "nba.to_csv(\"nba.csv\", index=False)",
    "id": "532fb3a33eb34c7b834490cebc3cfb8e",
    "idx": 7,
    "time": "2021-01-19T23:08:34.940Z",
    "type": "execution"
   },
   {
    "id": "532fb3a33eb34c7b834490cebc3cfb8e",
    "time": "2021-01-19T23:08:35.002Z",
    "type": "completion"
   },
   {
    "code": "nba = pd.read_csv(\"nba.csv\")",
    "id": "713b677c54b145e486185569452f87a8",
    "idx": 8,
    "time": "2021-01-19T23:08:35.843Z",
    "type": "execution"
   },
   {
    "id": "713b677c54b145e486185569452f87a8",
    "time": "2021-01-19T23:08:35.903Z",
    "type": "completion"
   },
   {
    "code": "nba",
    "id": "08003a0efb8842478679e9ea9b70590f",
    "idx": 9,
    "time": "2021-01-19T23:08:36.271Z",
    "type": "execution"
   },
   {
    "id": "08003a0efb8842478679e9ea9b70590f",
    "time": "2021-01-19T23:08:36.361Z",
    "type": "completion"
   },
   {
    "code": "\"\"\" # BEGIN PROMPT\nnba_guard = ...\nnba_not_guard = ...\n\nttest_1a = stats.ttest_ind(..., ...)\n\ntstat_1a = ttest_1a.statistic\npval_1a = ttest_1a.pvalue\n\"\"\" # END PROMPT\n# BEGIN SOLUTION NO PROMPT\nnba_guard = nba[nba['guard'] == 1]\nnba_not_guard = nba[nba['guard'] == 0]\n\nttest_1a = stats.ttest_ind(nba_guard['wage'], nba_not_guard['wage'])\n\ntstat_1a = ttest_1a.statistic\npval_1a = ttest_1a.pvalue\n# END SOLUTION\n\nprint(\"t-stat: {}\".format(tstat_1a))\nprint(\"p-value: {}\".format(pval_1a))",
    "id": "c67905a56d894bd4819965fa6df7c783",
    "idx": 11,
    "time": "2021-01-19T23:08:52.730Z",
    "type": "execution"
   },
   {
    "id": "c67905a56d894bd4819965fa6df7c783",
    "time": "2021-01-19T23:08:52.789Z",
    "type": "completion"
   },
   {
    "code": "\"\"\" # BEGIN PROMPT\nnba['degree'] = ...\n\nnba_degree = ...\nnba_no_degree = ...\n\nttest_1c = stats.ttest_ind(..., ...)\n\ntstat_1c = ttest_1c.statistic\npval_1c = ttest_1c.pvalue\n\"\"\" # END PROMPT\n# BEGIN SOLUTION NO PROMPT\nnba['degree'] = nba['coll'] >= 4\n\nnba_degree = nba[nba['degree'] == True]\nnba_no_degree = nba[nba['degree'] == False]\n\nttest_1c = stats.ttest_ind(nba_degree['wage'], nba_no_degree['wage'])\n\ntstat_1c = ttest_1c.statistic\npval_1c = ttest_1c.pvalue\n# END SOLUTION\n\nprint(\"t-stat: {}\".format(tstat_1c))\nprint(\"p-value: {}\".format(pval_1c))",
    "id": "6c346d291c474523875daf06c0529bc3",
    "idx": 15,
    "time": "2021-01-19T23:08:57.560Z",
    "type": "execution"
   },
   {
    "id": "6c346d291c474523875daf06c0529bc3",
    "time": "2021-01-19T23:08:57.619Z",
    "type": "completion"
   },
   {
    "code": "\"\"\" # BEGIN PROMPT\nnba['productivity'] = ...\n\nnba_guard = ...\nnba_not_guard = ...\n\nttest_1e = stats.ttest_ind(..., ...)\n\ntstat_1e = ttest_1e.statistic\npval_1e = ttest_1e.pvalue\n\"\"\" # END PROMPT\n# BEGIN SOLUTION NO PROMPT\nnba['productivity'] = nba['points'] / (nba['minutes'] / nba['games'])\n\nnba_guard = nba[nba['guard'] == 1]\nnba_not_guard = nba[nba['guard'] == 0]\n\nttest_1e = stats.ttest_ind(nba_guard['productivity'], nba_not_guard['productivity'])\n\ntstat_1e = ttest_1e.statistic\npval_1e = ttest_1e.pvalue\n# END SOLUTION\n\nprint(\"t-stat: {}\".format(tstat_1e))\nprint(\"p-value: {}\".format(pval_1e))",
    "id": "2f0f2cb0407349218605e9dab2d2adef",
    "idx": 19,
    "time": "2021-01-19T23:09:01.444Z",
    "type": "execution"
   },
   {
    "id": "2f0f2cb0407349218605e9dab2d2adef",
    "time": "2021-01-19T23:09:01.505Z",
    "type": "completion"
   },
   {
    "code": "\"\"\" # BEGIN PROMPT\nnba[['points', 'assists', 'rebounds']]...\n\"\"\" # END PROMPT\n# BEGIN SOLUTION NO PROMPT\nnba[['points', 'assists', 'rebounds']].corr()\n# END SOLUTION",
    "id": "786f823d997443a0a9dce74a51912e7a",
    "idx": 23,
    "time": "2021-01-19T23:09:05.474Z",
    "type": "execution"
   },
   {
    "id": "786f823d997443a0a9dce74a51912e7a",
    "time": "2021-01-19T23:09:05.540Z",
    "type": "completion"
   },
   {
    "code": "\"\"\" # BEGIN PROMPT\nnba['index'] = ...\n\nnba_guard = ...\nnba_not_guard = ...\n\nttest_1h = stats.ttest_ind(..., ...)\n\ntstat_1h = ttest_1h.statistic\npval_1h = ttest_1h.pvalue\n\"\"\" # END PROMPT\n# BEGIN SOLUTION NO PROMPT\nnba['index'] = nba['points'] + nba['rebounds'] + 2 * nba['assists']\n\nnba_guard = nba[nba['guard'] == 1]\nnba_not_guard = nba[nba['guard'] == 0]\n\nttest_1h = stats.ttest_ind(nba_guard['index'], nba_not_guard['index'])\n\ntstat_1h = ttest_1h.statistic\npval_1h = ttest_1h.pvalue\n# END SOLUTION\n\nprint(\"t-stat: {}\".format(tstat_1h))\nprint(\"p-value: {}\".format(pval_1h))",
    "id": "ac61df3099cd4a008283ea64fc12827c",
    "idx": 25,
    "time": "2021-01-19T23:09:09.076Z",
    "type": "execution"
   },
   {
    "id": "ac61df3099cd4a008283ea64fc12827c",
    "time": "2021-01-19T23:09:09.136Z",
    "type": "completion"
   },
   {
    "code": "\"\"\" # BEGIN PROMPT\nnba['payoff'] = ...\n\nnba_guard = ...\nnba_not_guard = ...\n\nttest_1j = stats.ttest_ind(..., ...)\n\ntstat_1j = ttest_1j.statistic\npval_1j = ttest_1j.pvalue\n\"\"\" # END PROMPT\n# BEGIN SOLUTION NO PROMPT\nnba['payoff'] = nba['index'] / nba['wage']\n\nnba_guard = nba[nba['guard'] == 1]\nnba_not_guard = nba[nba['guard'] == 0]\n\nttest_1j = stats.ttest_ind(nba_guard['payoff'], nba_not_guard['payoff'])\n\ntstat_1j = ttest_1j.statistic\npval_1j = ttest_1j.pvalue\n# END SOLUTION\n\nprint(\"t-stat: {}\".format(tstat_1j))\nprint(\"p-value: {}\".format(pval_1j))",
    "id": "cc1e1fccd9c34d0a8fb1e220d66fd85d",
    "idx": 29,
    "time": "2021-01-19T23:09:12.798Z",
    "type": "execution"
   },
   {
    "id": "cc1e1fccd9c34d0a8fb1e220d66fd85d",
    "time": "2021-01-19T23:09:12.857Z",
    "type": "completion"
   },
   {
    "code": "# Don't forget to run this cell that reads in the data\nnba = pd.read_csv(\"nba.csv\")\nnba.head()",
    "id": "713b677c54b145e486185569452f87a8",
    "idx": 6,
    "time": "2021-01-19T23:09:51.240Z",
    "type": "execution"
   },
   {
    "id": "713b677c54b145e486185569452f87a8",
    "time": "2021-01-19T23:09:51.320Z",
    "type": "completion"
   },
   {
    "code": "crime = pd.read_stata(\"PS1data(campus crime).dta\")\ncrime.head()",
    "id": "0fba356fa9a146928ce080b446e2cd5c",
    "idx": 31,
    "time": "2021-01-19T23:10:18.788Z",
    "type": "execution"
   },
   {
    "id": "0fba356fa9a146928ce080b446e2cd5c",
    "time": "2021-01-19T23:10:18.858Z",
    "type": "completion"
   },
   {
    "code": "crime.to_csv(\"crime.csv\", index=False)",
    "id": "c70acf7008424fce87781b94d8cbe031",
    "idx": 32,
    "time": "2021-01-19T23:10:33.539Z",
    "type": "execution"
   },
   {
    "id": "c70acf7008424fce87781b94d8cbe031",
    "time": "2021-01-19T23:10:33.598Z",
    "type": "completion"
   },
   {
    "code": "crime = pd.read_csv(\"crime.csv\")\ncrime.head()",
    "id": "59b4a96ade01442288550541733274eb",
    "idx": 33,
    "time": "2021-01-19T23:10:54.563Z",
    "type": "execution"
   },
   {
    "id": "59b4a96ade01442288550541733274eb",
    "time": "2021-01-19T23:10:54.631Z",
    "type": "completion"
   },
   {
    "code": "\"\"\" # BEGIN PROMPT\ncrime[['enrollment', 'police', 'crime']]...\n\"\"\" # END PROMPT\n# BEGIN SOLUTION NO PROMPT\ncrime[['enrollment', 'police', 'crime']].corr()\n# END SOLUTION",
    "id": "820e0587e9d148b98ca90cb936df6a6e",
    "idx": 39,
    "time": "2021-01-19T23:11:01.495Z",
    "type": "execution"
   },
   {
    "id": "820e0587e9d148b98ca90cb936df6a6e",
    "time": "2021-01-19T23:11:01.561Z",
    "type": "completion"
   },
   {
    "code": "\"\"\" # BEGIN PROMPT\ncrime_public = ...\ncrime_private = ...\n\nttest_2d_unequal_var = stats.ttest_ind(..., ..., ...)\n\ntstat_2d_unequal = ttest_2d_unequal_var.statistic\npval_2d_unequal = ttest_2d_unequal_var.pvalue\n\nttest_2d_equal_var = stats.ttest_ind(..., ...)\n\ntstat_2d_equal = ttest_2d_equal_var.statistic\npval_2d_equal = ttest_2d_equal_var.pvalue\n\"\"\" # END PROMPT\n# BEGIN SOLUTION NO PROMPT\ncrime_public = crime[crime['private'] == 0]\ncrime_private = crime[crime['private'] == 1]\n\nttest_2d_unequal_var = stats.ttest_ind(crime_public['crime'], crime_private['crime'], equal_var=False)\n\ntstat_2d_unequal = ttest_2d_unequal_var.statistic\npval_2d_unequal = ttest_2d_unequal_var.pvalue\n\nttest_2d_equal_var = stats.ttest_ind(crime_public['crime'], crime_private['crime'])\n\ntstat_2d_equal = ttest_2d_equal_var.statistic\npval_2d_equal = ttest_2d_equal_var.pvalue\n# END SOLUTION\n\nprint(\"t-stat unequal variance: {}\".format(tstat_2d_unequal))\nprint(\"p-value unequal variance: {}\".format(pval_2d_unequal))\nprint(\"t-stat equal variance: {}\".format(tstat_2d_equal))\nprint(\"p-value equal variance: {}\".format(pval_2d_equal))",
    "id": "305e82e1e0db44fe80a87918716db8c6",
    "idx": 43,
    "time": "2021-01-19T23:11:05.882Z",
    "type": "execution"
   },
   {
    "id": "305e82e1e0db44fe80a87918716db8c6",
    "time": "2021-01-19T23:11:05.942Z",
    "type": "completion"
   },
   {
    "code": "\"\"\" # BEGIN PROMPT\ncrime['crimerate'] = ...\n\ncrime_public = ...\ncrime_private = ...\n\nttest_2f_unequal_var = stats.ttest_ind(..., ..., ...)\n\ntstat_2f_unequal = ttest_2f_unequal_var.statistic\npval_2f_unequal = ttest_2f_unequal_var.pvalue\n\nttest_2f_equal_var = stats.ttest_ind(..., ...)\n\ntstat_2f_equal = ttest_2f_equal_var.statistic\npval_2f_equal = ttest_2f_equal_var.pvalue\n\"\"\" # END PROMPT\n# BEGIN SOLUTION NO PROMPT\ncrime['crimerate'] = 1000 * (crime['crime'] / crime['enrollment'])\n\ncrime_public = crime[crime['private'] == 0]\ncrime_private = crime[crime['private'] == 1]\n\nttest_2f_unequal_var = stats.ttest_ind(crime_public['crimerate'], crime_private['crimerate'], equal_var=False)\n\ntstat_2f_unequal = ttest_2f_unequal_var.statistic\npval_2f_unequal = ttest_2f_unequal_var.pvalue\n\nttest_2f_equal_var = stats.ttest_ind(crime_public['crimerate'], crime_private['crimerate'])\n\ntstat_2f_equal = ttest_2f_equal_var.statistic\npval_2f_equal = ttest_2f_equal_var.pvalue\n# END SOLUTION\n\nprint(\"t-stat unequal variance: {}\".format(tstat_2f_unequal))\nprint(\"p-value unequal variance: {}\".format(pval_2f_unequal))\nprint(\"t-stat equal variance: {}\".format(tstat_2f_equal))\nprint(\"p-value equal variance: {}\".format(pval_2f_equal))",
    "id": "41194885f18b4c7a976fd4d5c4322b26",
    "idx": 47,
    "time": "2021-01-19T23:11:10.838Z",
    "type": "execution"
   },
   {
    "id": "41194885f18b4c7a976fd4d5c4322b26",
    "time": "2021-01-19T23:11:10.899Z",
    "type": "completion"
   },
   {
    "code": "pollution = pd.read_stata(\"PS1data(pollution).dta\")\npollution.head()",
    "id": "3a6c07848d6746b9825854a1572913bc",
    "idx": 63,
    "time": "2021-01-19T23:12:11.943Z",
    "type": "execution"
   },
   {
    "id": "3a6c07848d6746b9825854a1572913bc",
    "time": "2021-01-19T23:12:12.032Z",
    "type": "completion"
   },
   {
    "code": "pollution.to_csv(\"pollution.csv\")",
    "id": "00036468bb4e4d13b3044f95fd647771",
    "idx": 64,
    "time": "2021-01-19T23:12:25.792Z",
    "type": "execution"
   },
   {
    "id": "00036468bb4e4d13b3044f95fd647771",
    "time": "2021-01-19T23:12:25.857Z",
    "type": "completion"
   },
   {
    "code": "pollution = pd.read_csv(\"pollution.csv\")\npollution.head()",
    "id": "ce98c969496e41e081cb8726901dd9c5",
    "idx": 65,
    "time": "2021-01-19T23:12:44.354Z",
    "type": "execution"
   },
   {
    "id": "ce98c969496e41e081cb8726901dd9c5",
    "time": "2021-01-19T23:12:44.431Z",
    "type": "completion"
   },
   {
    "code": "# This code cell is for question 4.a.\n",
    "id": "9e38a4b9592440068bb43fd4820193e7",
    "idx": 68,
    "time": "2021-01-19T23:12:51.581Z",
    "type": "execution"
   },
   {
    "id": "9e38a4b9592440068bb43fd4820193e7",
    "time": "2021-01-19T23:12:51.637Z",
    "type": "completion"
   },
   {
    "code": "\"\"\" # BEGIN PROMPT\npollution_oecd = ...\npollution_no_oecd = ...\n\nttest_4b = stats.ttest_ind(..., ..., ..., nan_policy='omit')\n\ntstat_4b = ttest_4b.statistic\npval_4b = ttest_4b.pvalue\n\"\"\" # END PROMPT\n# BEGIN SOLUTION NO PROMPT\npollution_oecd = pollution[pollution['oecd'] == 1]\npollution_no_oecd = pollution[pollution['oecd'] == 0]\n\nttest_4b = stats.ttest_ind(pollution_oecd['co2pc'], pollution_no_oecd['co2pc'], equal_var=False, nan_policy='omit')\n\ntstat_4b = ttest_4b.statistic\npval_4b = ttest_4b.pvalue\n# END SOLUTION\n\nprint(\"t-stat: {}\".format(tstat_4b))\nprint(\"p-value: {}\".format(pval_4b))",
    "id": "2bdb98fcc3944380806e6490818782e8",
    "idx": 71,
    "time": "2021-01-19T23:12:55.628Z",
    "type": "execution"
   },
   {
    "id": "2bdb98fcc3944380806e6490818782e8",
    "time": "2021-01-19T23:12:55.690Z",
    "type": "completion"
   },
   {
    "code": "\"\"\" # BEGIN PROMPT\npollution['log_gdp'] = ...\npollution['log_co2'] = ...\n\"\"\" # END PROMPT\n# BEGIN SOLUTION NO PROMPT\npollution['log_gdp'] = np.log(pollution['gdp'])\npollution['log_co2'] = np.log(pollution['co2'])\n# END SOLUTION\n\npollution.head()",
    "id": "bf5adc709a9d49f08cdc468728a4d823",
    "idx": 76,
    "time": "2021-01-19T23:12:59.460Z",
    "type": "execution"
   },
   {
    "id": "bf5adc709a9d49f08cdc468728a4d823",
    "time": "2021-01-19T23:12:59.536Z",
    "type": "completion"
   },
   {
    "code": "pollution = pd.read_stata(\"PS1data(pollution).dta\")\npollution.head()",
    "id": "3a6c07848d6746b9825854a1572913bc",
    "idx": 63,
    "time": "2021-01-19T23:13:22.102Z",
    "type": "execution"
   },
   {
    "id": "3a6c07848d6746b9825854a1572913bc",
    "time": "2021-01-19T23:13:22.197Z",
    "type": "completion"
   },
   {
    "code": "pollution.to_csv(\"pollution.csv\", index=False)",
    "id": "00036468bb4e4d13b3044f95fd647771",
    "idx": 64,
    "time": "2021-01-19T23:13:22.805Z",
    "type": "execution"
   },
   {
    "id": "00036468bb4e4d13b3044f95fd647771",
    "time": "2021-01-19T23:13:22.866Z",
    "type": "completion"
   },
   {
    "code": "pollution = pd.read_csv(\"pollution.csv\")\npollution.head()",
    "id": "ce98c969496e41e081cb8726901dd9c5",
    "idx": 65,
    "time": "2021-01-19T23:13:24.425Z",
    "type": "execution"
   },
   {
    "id": "ce98c969496e41e081cb8726901dd9c5",
    "time": "2021-01-19T23:13:24.499Z",
    "type": "completion"
   },
   {
    "code": "# This code cell is for question 4.a.\n",
    "id": "9e38a4b9592440068bb43fd4820193e7",
    "idx": 68,
    "time": "2021-01-19T23:13:36.191Z",
    "type": "execution"
   },
   {
    "id": "9e38a4b9592440068bb43fd4820193e7",
    "time": "2021-01-19T23:13:36.242Z",
    "type": "completion"
   },
   {
    "code": "\"\"\" # BEGIN PROMPT\npollution_oecd = ...\npollution_no_oecd = ...\n\nttest_4b = stats.ttest_ind(..., ..., ..., nan_policy='omit')\n\ntstat_4b = ttest_4b.statistic\npval_4b = ttest_4b.pvalue\n\"\"\" # END PROMPT\n# BEGIN SOLUTION NO PROMPT\npollution_oecd = pollution[pollution['oecd'] == 1]\npollution_no_oecd = pollution[pollution['oecd'] == 0]\n\nttest_4b = stats.ttest_ind(pollution_oecd['co2pc'], pollution_no_oecd['co2pc'], equal_var=False, nan_policy='omit')\n\ntstat_4b = ttest_4b.statistic\npval_4b = ttest_4b.pvalue\n# END SOLUTION\n\nprint(\"t-stat: {}\".format(tstat_4b))\nprint(\"p-value: {}\".format(pval_4b))",
    "id": "2bdb98fcc3944380806e6490818782e8",
    "idx": 71,
    "time": "2021-01-19T23:13:37.941Z",
    "type": "execution"
   },
   {
    "id": "2bdb98fcc3944380806e6490818782e8",
    "time": "2021-01-19T23:13:37.999Z",
    "type": "completion"
   },
   {
    "code": "\"\"\" # BEGIN PROMPT\npollution['log_gdp'] = ...\npollution['log_co2'] = ...\n\"\"\" # END PROMPT\n# BEGIN SOLUTION NO PROMPT\npollution['log_gdp'] = np.log(pollution['gdp'])\npollution['log_co2'] = np.log(pollution['co2'])\n# END SOLUTION\n\npollution.head()",
    "id": "bf5adc709a9d49f08cdc468728a4d823",
    "idx": 76,
    "time": "2021-01-19T23:13:41.541Z",
    "type": "execution"
   },
   {
    "id": "bf5adc709a9d49f08cdc468728a4d823",
    "time": "2021-01-19T23:13:41.614Z",
    "type": "completion"
   },
   {
    "code": "plt.scatter(pollution['log_gdp'], pollution['log_co2'])\nplt.xlabel(\"log gdp\")\nplt.ylabel(\"log co2\");",
    "id": "59216a472700488f8056fcb424f1b549",
    "idx": 80,
    "time": "2021-01-19T23:13:50.997Z",
    "type": "execution"
   },
   {
    "id": "59216a472700488f8056fcb424f1b549",
    "time": "2021-01-19T23:13:51.324Z",
    "type": "completion"
   },
   {
    "code": "\"\"\" # BEGIN PROMPT\npollution['log_gdppc'] = ...\npollution['log_co2pc'] = ...\n\nplt.scatter(..., ...)\n\"\"\" # END PROMPT\n# BEGIN SOLUTION NO PROMPT\npollution['log_gdppc'] = np.log(pollution['gdppc'])\npollution['log_co2pc'] = np.log(pollution['co2pc'])\n\nplt.scatter(pollution['log_gdppc'], pollution['log_co2pc'])\n# END SOLUTION\nplt.xlabel(\"log gdppc\")\nplt.ylabel(\"log co2pc\");",
    "id": "d9904d48b4f54fd0948d6edb053bcb62",
    "idx": 82,
    "time": "2021-01-19T23:13:53.555Z",
    "type": "execution"
   },
   {
    "id": "d9904d48b4f54fd0948d6edb053bcb62",
    "time": "2021-01-19T23:13:53.798Z",
    "type": "completion"
   },
   {
    "code": "la = pd.read_stata(\"PS1data(LA wages).dta\")\nla.head()",
    "id": "29e5d9e6e8034432b3d40ec5f04b1097",
    "idx": 85,
    "time": "2021-01-19T23:14:12.905Z",
    "type": "execution"
   },
   {
    "id": "29e5d9e6e8034432b3d40ec5f04b1097",
    "time": "2021-01-19T23:14:12.980Z",
    "type": "completion"
   },
   {
    "code": "la.to_csv(\"la.csv\")",
    "id": "25f64889e1b34b67abd88cb5c32c7c7a",
    "idx": 86,
    "time": "2021-01-19T23:14:23.213Z",
    "type": "execution"
   },
   {
    "id": "25f64889e1b34b67abd88cb5c32c7c7a",
    "time": "2021-01-19T23:14:23.275Z",
    "type": "completion"
   },
   {
    "code": "la = pd.read_stata(\"PS1data(LA wages).dta\")\nla.head()",
    "id": "29e5d9e6e8034432b3d40ec5f04b1097",
    "idx": 85,
    "time": "2021-01-19T23:14:33.529Z",
    "type": "execution"
   },
   {
    "id": "29e5d9e6e8034432b3d40ec5f04b1097",
    "time": "2021-01-19T23:14:33.606Z",
    "type": "completion"
   },
   {
    "code": "la.to_csv(\"la.csv\", index=False)",
    "id": "25f64889e1b34b67abd88cb5c32c7c7a",
    "idx": 86,
    "time": "2021-01-19T23:14:34.015Z",
    "type": "execution"
   },
   {
    "id": "25f64889e1b34b67abd88cb5c32c7c7a",
    "time": "2021-01-19T23:14:34.078Z",
    "type": "completion"
   },
   {
    "code": "la = pd.read_csv(\"la.csv\")\nla.head()",
    "id": "5dca6498fa0847e480fe4e65ee056c9c",
    "idx": 87,
    "time": "2021-01-19T23:15:15.957Z",
    "type": "execution"
   },
   {
    "id": "5dca6498fa0847e480fe4e65ee056c9c",
    "time": "2021-01-19T23:15:16.028Z",
    "type": "completion"
   },
   {
    "code": "la.describe() # SOLUTION",
    "id": "f752891718f8483f95d84f466be47517",
    "idx": 89,
    "time": "2021-01-19T23:15:20.845Z",
    "type": "execution"
   },
   {
    "id": "f752891718f8483f95d84f466be47517",
    "time": "2021-01-19T23:15:20.934Z",
    "type": "completion"
   },
   {
    "code": "la.hist(column='wage', bins=80); # SOLUTION",
    "id": "0de472d51d7e4448bf248ec9d3fedcc4",
    "idx": 91,
    "time": "2021-01-19T23:15:23.012Z",
    "type": "execution"
   },
   {
    "id": "0de472d51d7e4448bf248ec9d3fedcc4",
    "time": "2021-01-19T23:15:23.335Z",
    "type": "completion"
   },
   {
    "code": "# This code cell is for question 5.c.\n",
    "id": "d5a9aa43ae5549878e5b85f6fdd4a94c",
    "idx": 94,
    "time": "2021-01-19T23:15:26.236Z",
    "type": "execution"
   },
   {
    "id": "d5a9aa43ae5549878e5b85f6fdd4a94c",
    "time": "2021-01-19T23:15:26.289Z",
    "type": "completion"
   },
   {
    "code": "\"\"\" # BEGIN PROMPT\nla['log_wage'] = ...\n\"\"\" # END PROMPT\n# BEGIN SOLUTION NO PROMPT\nla['log_wage'] = np.log(la['wage'])\n# END SOLUTION\n\nla.head()",
    "id": "b2e6459694f64f8b8e889ed6275d5836",
    "idx": 97,
    "time": "2021-01-19T23:15:30.247Z",
    "type": "execution"
   },
   {
    "id": "b2e6459694f64f8b8e889ed6275d5836",
    "time": "2021-01-19T23:15:30.315Z",
    "type": "completion"
   },
   {
    "code": "la.value_counts(subset='education', sort=False, normalize=True) # SOLUTION",
    "id": "74995e5f61c843d89f98990ce2982334",
    "idx": 99,
    "time": "2021-01-19T23:15:37.582Z",
    "type": "execution"
   },
   {
    "id": "74995e5f61c843d89f98990ce2982334",
    "time": "2021-01-19T23:15:37.640Z",
    "type": "completion"
   },
   {
    "code": "\"\"\" # BEGIN PROMPT\n...\n...\n...\n\"\"\" # END PROMPT\n# BEGIN SOLUTION NO PROMPT\nplt.scatter(la['education'], la['log_wage'])\nplt.xlabel(\"education\")\nplt.ylabel(\"log wage\");\n# END SOLUTION",
    "id": "2fc6e4ca385f461d888043e40ad16a9b",
    "idx": 101,
    "time": "2021-01-19T23:15:39.558Z",
    "type": "execution"
   },
   {
    "id": "2fc6e4ca385f461d888043e40ad16a9b",
    "time": "2021-01-19T23:15:39.801Z",
    "type": "completion"
   },
   {
    "code": "import numpy as np\nimport pandas as pd\nfrom scipy import stats\nimport matplotlib.pyplot as plt",
    "id": "95c28f6d0a7f4cc185cc2750c76ab478",
    "idx": 4,
    "time": "2021-01-20T18:11:53.326Z",
    "type": "execution"
   },
   {
    "code": "# Don't forget to run this cell that reads in the data\nnba = pd.read_csv(\"nba.csv\")\nnba.head()",
    "id": "1cecdf82f97c4c838056af1d3f659eae",
    "idx": 6,
    "time": "2021-01-20T18:11:53.332Z",
    "type": "execution"
   },
   {
    "code": "\"\"\" # BEGIN PROMPT\nnba_guard = ...\nnba_not_guard = ...\n\nttest_1a = stats.ttest_ind(..., ...)\n\ntstat_1a = ttest_1a.statistic\npval_1a = ttest_1a.pvalue\n\"\"\" # END PROMPT\n# BEGIN SOLUTION NO PROMPT\nnba_guard = nba[nba['guard'] == 1]\nnba_not_guard = nba[nba['guard'] == 0]\n\nttest_1a = stats.ttest_ind(nba_guard['wage'], nba_not_guard['wage'])\n\ntstat_1a = ttest_1a.statistic\npval_1a = ttest_1a.pvalue\n# END SOLUTION\n\nprint(\"t-stat: {}\".format(tstat_1a))\nprint(\"p-value: {}\".format(pval_1a))",
    "id": "455d2e5b541547319e98c4ce5b095017",
    "idx": 8,
    "time": "2021-01-20T18:11:53.335Z",
    "type": "execution"
   },
   {
    "code": "\"\"\" # BEGIN PROMPT\nnba['degree'] = ...\n\nnba_degree = ...\nnba_no_degree = ...\n\nttest_1c = stats.ttest_ind(..., ...)\n\ntstat_1c = ttest_1c.statistic\npval_1c = ttest_1c.pvalue\n\"\"\" # END PROMPT\n# BEGIN SOLUTION NO PROMPT\nnba['degree'] = nba['coll'] >= 4\n\nnba_degree = nba[nba['degree'] == True]\nnba_no_degree = nba[nba['degree'] == False]\n\nttest_1c = stats.ttest_ind(nba_degree['wage'], nba_no_degree['wage'])\n\ntstat_1c = ttest_1c.statistic\npval_1c = ttest_1c.pvalue\n# END SOLUTION\n\nprint(\"t-stat: {}\".format(tstat_1c))\nprint(\"p-value: {}\".format(pval_1c))",
    "id": "72862f5469134c5283829a887acaff8d",
    "idx": 12,
    "time": "2021-01-20T18:11:53.339Z",
    "type": "execution"
   },
   {
    "code": "\"\"\" # BEGIN PROMPT\nnba['productivity'] = ...\n\nnba_guard = ...\nnba_not_guard = ...\n\nttest_1e = stats.ttest_ind(..., ...)\n\ntstat_1e = ttest_1e.statistic\npval_1e = ttest_1e.pvalue\n\"\"\" # END PROMPT\n# BEGIN SOLUTION NO PROMPT\nnba['productivity'] = nba['points'] / (nba['minutes'] / nba['games'])\n\nnba_guard = nba[nba['guard'] == 1]\nnba_not_guard = nba[nba['guard'] == 0]\n\nttest_1e = stats.ttest_ind(nba_guard['productivity'], nba_not_guard['productivity'])\n\ntstat_1e = ttest_1e.statistic\npval_1e = ttest_1e.pvalue\n# END SOLUTION\n\nprint(\"t-stat: {}\".format(tstat_1e))\nprint(\"p-value: {}\".format(pval_1e))",
    "id": "d6b9536ee67f489288bd9a1bc0a5bc1f",
    "idx": 16,
    "time": "2021-01-20T18:11:53.342Z",
    "type": "execution"
   },
   {
    "code": "\"\"\" # BEGIN PROMPT\nnba[['points', 'assists', 'rebounds']]...\n\"\"\" # END PROMPT\n# BEGIN SOLUTION NO PROMPT\nnba[['points', 'assists', 'rebounds']].corr()\n# END SOLUTION",
    "id": "50fb7915b34f4e54b575d18659557068",
    "idx": 20,
    "time": "2021-01-20T18:11:53.346Z",
    "type": "execution"
   },
   {
    "code": "\"\"\" # BEGIN PROMPT\nnba['index'] = ...\n\nnba_guard = ...\nnba_not_guard = ...\n\nttest_1h = stats.ttest_ind(..., ...)\n\ntstat_1h = ttest_1h.statistic\npval_1h = ttest_1h.pvalue\n\"\"\" # END PROMPT\n# BEGIN SOLUTION NO PROMPT\nnba['index'] = nba['points'] + nba['rebounds'] + 2 * nba['assists']\n\nnba_guard = nba[nba['guard'] == 1]\nnba_not_guard = nba[nba['guard'] == 0]\n\nttest_1h = stats.ttest_ind(nba_guard['index'], nba_not_guard['index'])\n\ntstat_1h = ttest_1h.statistic\npval_1h = ttest_1h.pvalue\n# END SOLUTION\n\nprint(\"t-stat: {}\".format(tstat_1h))\nprint(\"p-value: {}\".format(pval_1h))",
    "id": "c2e7905ba84c4ec68abbda63c913da8e",
    "idx": 22,
    "time": "2021-01-20T18:11:53.348Z",
    "type": "execution"
   },
   {
    "code": "\"\"\" # BEGIN PROMPT\nnba['payoff'] = ...\n\nnba_guard = ...\nnba_not_guard = ...\n\nttest_1j = stats.ttest_ind(..., ...)\n\ntstat_1j = ttest_1j.statistic\npval_1j = ttest_1j.pvalue\n\"\"\" # END PROMPT\n# BEGIN SOLUTION NO PROMPT\nnba['payoff'] = nba['index'] / nba['wage']\n\nnba_guard = nba[nba['guard'] == 1]\nnba_not_guard = nba[nba['guard'] == 0]\n\nttest_1j = stats.ttest_ind(nba_guard['payoff'], nba_not_guard['payoff'])\n\ntstat_1j = ttest_1j.statistic\npval_1j = ttest_1j.pvalue\n# END SOLUTION\n\nprint(\"t-stat: {}\".format(tstat_1j))\nprint(\"p-value: {}\".format(pval_1j))",
    "id": "4f049e7ffce94248918f1386796eb59e",
    "idx": 26,
    "time": "2021-01-20T18:11:53.351Z",
    "type": "execution"
   },
   {
    "code": "crime = pd.read_csv(\"crime.csv\")\ncrime.head()",
    "id": "72c9eb94cbe04857a63d27baeef132d3",
    "idx": 31,
    "time": "2021-01-20T18:11:53.355Z",
    "type": "execution"
   },
   {
    "code": "# This code cell is for question 2.a.\n",
    "id": "349ae95b6ecd4d9ba6d4672153f5fb5c",
    "idx": 32,
    "time": "2021-01-20T18:11:53.356Z",
    "type": "execution"
   },
   {
    "code": "\"\"\" # BEGIN PROMPT\ncrime[['enrollment', 'police', 'crime']]...\n\"\"\" # END PROMPT\n# BEGIN SOLUTION NO PROMPT\ncrime[['enrollment', 'police', 'crime']].corr()\n# END SOLUTION",
    "id": "e083bc37e898455486ca9ace1d5515f4",
    "idx": 37,
    "time": "2021-01-20T18:11:53.360Z",
    "type": "execution"
   },
   {
    "code": "\"\"\" # BEGIN PROMPT\ncrime_public = ...\ncrime_private = ...\n\nttest_2d_unequal_var = stats.ttest_ind(..., ..., ...)\n\ntstat_2d_unequal = ttest_2d_unequal_var.statistic\npval_2d_unequal = ttest_2d_unequal_var.pvalue\n\nttest_2d_equal_var = stats.ttest_ind(..., ...)\n\ntstat_2d_equal = ttest_2d_equal_var.statistic\npval_2d_equal = ttest_2d_equal_var.pvalue\n\"\"\" # END PROMPT\n# BEGIN SOLUTION NO PROMPT\ncrime_public = crime[crime['private'] == 0]\ncrime_private = crime[crime['private'] == 1]\n\nttest_2d_unequal_var = stats.ttest_ind(crime_public['crime'], crime_private['crime'], equal_var=False)\n\ntstat_2d_unequal = ttest_2d_unequal_var.statistic\npval_2d_unequal = ttest_2d_unequal_var.pvalue\n\nttest_2d_equal_var = stats.ttest_ind(crime_public['crime'], crime_private['crime'])\n\ntstat_2d_equal = ttest_2d_equal_var.statistic\npval_2d_equal = ttest_2d_equal_var.pvalue\n# END SOLUTION\n\nprint(\"t-stat unequal variance: {}\".format(tstat_2d_unequal))\nprint(\"p-value unequal variance: {}\".format(pval_2d_unequal))\nprint(\"t-stat equal variance: {}\".format(tstat_2d_equal))\nprint(\"p-value equal variance: {}\".format(pval_2d_equal))",
    "id": "3deaa58edc2c4e8c8d7ab1390793ce03",
    "idx": 41,
    "time": "2021-01-20T18:11:53.365Z",
    "type": "execution"
   },
   {
    "code": "\"\"\" # BEGIN PROMPT\ncrime['crimerate'] = ...\n\ncrime_public = ...\ncrime_private = ...\n\nttest_2f_unequal_var = stats.ttest_ind(..., ..., ...)\n\ntstat_2f_unequal = ttest_2f_unequal_var.statistic\npval_2f_unequal = ttest_2f_unequal_var.pvalue\n\nttest_2f_equal_var = stats.ttest_ind(..., ...)\n\ntstat_2f_equal = ttest_2f_equal_var.statistic\npval_2f_equal = ttest_2f_equal_var.pvalue\n\"\"\" # END PROMPT\n# BEGIN SOLUTION NO PROMPT\ncrime['crimerate'] = 1000 * (crime['crime'] / crime['enrollment'])\n\ncrime_public = crime[crime['private'] == 0]\ncrime_private = crime[crime['private'] == 1]\n\nttest_2f_unequal_var = stats.ttest_ind(crime_public['crimerate'], crime_private['crimerate'], equal_var=False)\n\ntstat_2f_unequal = ttest_2f_unequal_var.statistic\npval_2f_unequal = ttest_2f_unequal_var.pvalue\n\nttest_2f_equal_var = stats.ttest_ind(crime_public['crimerate'], crime_private['crimerate'])\n\ntstat_2f_equal = ttest_2f_equal_var.statistic\npval_2f_equal = ttest_2f_equal_var.pvalue\n# END SOLUTION\n\nprint(\"t-stat unequal variance: {}\".format(tstat_2f_unequal))\nprint(\"p-value unequal variance: {}\".format(pval_2f_unequal))\nprint(\"t-stat equal variance: {}\".format(tstat_2f_equal))\nprint(\"p-value equal variance: {}\".format(pval_2f_equal))",
    "id": "10fe58833a7c4b1dbf5abcde63d3061f",
    "idx": 45,
    "time": "2021-01-20T18:11:53.368Z",
    "type": "execution"
   },
   {
    "code": "pollution = pd.read_csv(\"pollution.csv\")\npollution.head()",
    "id": "77523435175a4422b864d2a61f7b498c",
    "idx": 63,
    "time": "2021-01-20T18:11:53.379Z",
    "type": "execution"
   },
   {
    "code": "# This code cell is for question 4.a.\n",
    "id": "fd9b8e13ef184684845f4947845d3c6b",
    "idx": 64,
    "time": "2021-01-20T18:11:53.380Z",
    "type": "execution"
   },
   {
    "code": "# This code cell is for question 4.a.\n",
    "id": "34ac8cf5f51d4dd097e4056465d968b5",
    "idx": 65,
    "time": "2021-01-20T18:11:53.382Z",
    "type": "execution"
   },
   {
    "code": "\"\"\" # BEGIN PROMPT\npollution_oecd = ...\npollution_no_oecd = ...\n\nttest_4b = stats.ttest_ind(..., ..., ..., nan_policy='omit')\n\ntstat_4b = ttest_4b.statistic\npval_4b = ttest_4b.pvalue\n\"\"\" # END PROMPT\n# BEGIN SOLUTION NO PROMPT\npollution_oecd = pollution[pollution['oecd'] == 1]\npollution_no_oecd = pollution[pollution['oecd'] == 0]\n\nttest_4b = stats.ttest_ind(pollution_oecd['co2pc'], pollution_no_oecd['co2pc'], equal_var=False, nan_policy='omit')\n\ntstat_4b = ttest_4b.statistic\npval_4b = ttest_4b.pvalue\n# END SOLUTION\n\nprint(\"t-stat: {}\".format(tstat_4b))\nprint(\"p-value: {}\".format(pval_4b))",
    "id": "daaf8f254b8e4925b1b4c28e746f56a4",
    "idx": 69,
    "time": "2021-01-20T18:11:53.386Z",
    "type": "execution"
   },
   {
    "code": "\"\"\" # BEGIN PROMPT\npollution['log_gdp'] = ...\npollution['log_co2'] = ...\n\"\"\" # END PROMPT\n# BEGIN SOLUTION NO PROMPT\npollution['log_gdp'] = np.log(pollution['gdp'])\npollution['log_co2'] = np.log(pollution['co2'])\n# END SOLUTION\n\npollution.head()",
    "id": "d6b8602c995141938bee6924fbf53c9a",
    "idx": 74,
    "time": "2021-01-20T18:11:53.390Z",
    "type": "execution"
   },
   {
    "code": "plt.scatter(pollution['log_gdp'], pollution['log_co2'])\nplt.xlabel(\"log gdp\")\nplt.ylabel(\"log co2\");",
    "id": "3afbdfec27be4995819da5cc2dcd6408",
    "idx": 78,
    "time": "2021-01-20T18:11:53.392Z",
    "type": "execution"
   },
   {
    "code": "\"\"\" # BEGIN PROMPT\npollution['log_gdppc'] = ...\npollution['log_co2pc'] = ...\n\nplt.scatter(..., ...)\n\"\"\" # END PROMPT\n# BEGIN SOLUTION NO PROMPT\npollution['log_gdppc'] = np.log(pollution['gdppc'])\npollution['log_co2pc'] = np.log(pollution['co2pc'])\n\nplt.scatter(pollution['log_gdppc'], pollution['log_co2pc'])\n# END SOLUTION\nplt.xlabel(\"log gdppc\")\nplt.ylabel(\"log co2pc\");",
    "id": "34583e69b57d442989739586006cf932",
    "idx": 80,
    "time": "2021-01-20T18:11:53.395Z",
    "type": "execution"
   },
   {
    "code": "la = pd.read_csv(\"la.csv\")\nla.head()",
    "id": "97d29170656347c2874c29dada53ad8b",
    "idx": 85,
    "time": "2021-01-20T18:11:53.398Z",
    "type": "execution"
   },
   {
    "code": "la.describe() # SOLUTION",
    "id": "ea20964397cf47d19d32fb07ecd33bb0",
    "idx": 87,
    "time": "2021-01-20T18:11:53.401Z",
    "type": "execution"
   },
   {
    "code": "la.hist(column='wage', bins=80); # SOLUTION",
    "id": "5f646fd659af48b6949e0e31462fe5a6",
    "idx": 89,
    "time": "2021-01-20T18:11:53.403Z",
    "type": "execution"
   },
   {
    "code": "# This code cell is for question 5.c.\n",
    "id": "97a926f5aef340948a6709328374dd74",
    "idx": 90,
    "time": "2021-01-20T18:11:53.404Z",
    "type": "execution"
   },
   {
    "code": "\"\"\" # BEGIN PROMPT\nla['log_wage'] = ...\n\"\"\" # END PROMPT\n# BEGIN SOLUTION NO PROMPT\nla['log_wage'] = np.log(la['wage'])\n# END SOLUTION\n\nla.head()",
    "id": "9838a9ad5dcb462ea4f59e916509566e",
    "idx": 94,
    "time": "2021-01-20T18:11:53.408Z",
    "type": "execution"
   },
   {
    "code": "la.value_counts(subset='education', sort=False, normalize=True) # SOLUTION",
    "id": "f8d0a4388bc54255b8e7b9cb48beb6cc",
    "idx": 96,
    "time": "2021-01-20T18:11:53.410Z",
    "type": "execution"
   },
   {
    "code": "\"\"\" # BEGIN PROMPT\n...\n...\n...\n\"\"\" # END PROMPT\n# BEGIN SOLUTION NO PROMPT\nplt.scatter(la['education'], la['log_wage'])\nplt.xlabel(\"education\")\nplt.ylabel(\"log wage\");\n# END SOLUTION",
    "id": "b8d531a3803a4b9eb0833920c46775f1",
    "idx": 98,
    "time": "2021-01-20T18:11:53.411Z",
    "type": "execution"
   },
   {
    "id": "95c28f6d0a7f4cc185cc2750c76ab478",
    "time": "2021-01-20T18:11:54.277Z",
    "type": "completion"
   },
   {
    "id": "1cecdf82f97c4c838056af1d3f659eae",
    "time": "2021-01-20T18:11:54.315Z",
    "type": "completion"
   },
   {
    "id": "455d2e5b541547319e98c4ce5b095017",
    "time": "2021-01-20T18:11:54.339Z",
    "type": "completion"
   },
   {
    "id": "72862f5469134c5283829a887acaff8d",
    "time": "2021-01-20T18:11:54.350Z",
    "type": "completion"
   },
   {
    "id": "d6b9536ee67f489288bd9a1bc0a5bc1f",
    "time": "2021-01-20T18:11:54.358Z",
    "type": "completion"
   },
   {
    "id": "50fb7915b34f4e54b575d18659557068",
    "time": "2021-01-20T18:11:54.378Z",
    "type": "completion"
   },
   {
    "id": "c2e7905ba84c4ec68abbda63c913da8e",
    "time": "2021-01-20T18:11:54.386Z",
    "type": "completion"
   },
   {
    "id": "4f049e7ffce94248918f1386796eb59e",
    "time": "2021-01-20T18:11:54.401Z",
    "type": "completion"
   },
   {
    "id": "72c9eb94cbe04857a63d27baeef132d3",
    "time": "2021-01-20T18:11:54.423Z",
    "type": "completion"
   },
   {
    "id": "349ae95b6ecd4d9ba6d4672153f5fb5c",
    "time": "2021-01-20T18:11:54.434Z",
    "type": "completion"
   },
   {
    "id": "e083bc37e898455486ca9ace1d5515f4",
    "time": "2021-01-20T18:11:54.442Z",
    "type": "completion"
   },
   {
    "id": "3deaa58edc2c4e8c8d7ab1390793ce03",
    "time": "2021-01-20T18:11:54.450Z",
    "type": "completion"
   },
   {
    "id": "10fe58833a7c4b1dbf5abcde63d3061f",
    "time": "2021-01-20T18:11:54.463Z",
    "type": "completion"
   },
   {
    "id": "77523435175a4422b864d2a61f7b498c",
    "time": "2021-01-20T18:11:54.495Z",
    "type": "completion"
   },
   {
    "id": "fd9b8e13ef184684845f4947845d3c6b",
    "time": "2021-01-20T18:11:54.499Z",
    "type": "completion"
   },
   {
    "id": "34ac8cf5f51d4dd097e4056465d968b5",
    "time": "2021-01-20T18:11:54.502Z",
    "type": "completion"
   },
   {
    "id": "daaf8f254b8e4925b1b4c28e746f56a4",
    "time": "2021-01-20T18:11:54.518Z",
    "type": "completion"
   },
   {
    "id": "d6b8602c995141938bee6924fbf53c9a",
    "time": "2021-01-20T18:11:54.544Z",
    "type": "completion"
   },
   {
    "id": "3afbdfec27be4995819da5cc2dcd6408",
    "time": "2021-01-20T18:11:54.773Z",
    "type": "completion"
   },
   {
    "id": "34583e69b57d442989739586006cf932",
    "time": "2021-01-20T18:11:54.920Z",
    "type": "completion"
   },
   {
    "id": "97d29170656347c2874c29dada53ad8b",
    "time": "2021-01-20T18:11:54.957Z",
    "type": "completion"
   },
   {
    "id": "ea20964397cf47d19d32fb07ecd33bb0",
    "time": "2021-01-20T18:11:54.996Z",
    "type": "completion"
   },
   {
    "id": "5f646fd659af48b6949e0e31462fe5a6",
    "time": "2021-01-20T18:11:55.280Z",
    "type": "completion"
   },
   {
    "id": "97a926f5aef340948a6709328374dd74",
    "time": "2021-01-20T18:11:55.285Z",
    "type": "completion"
   },
   {
    "id": "9838a9ad5dcb462ea4f59e916509566e",
    "time": "2021-01-20T18:11:55.305Z",
    "type": "completion"
   },
   {
    "id": "f8d0a4388bc54255b8e7b9cb48beb6cc",
    "time": "2021-01-20T18:11:55.329Z",
    "type": "completion"
   },
   {
    "id": "b8d531a3803a4b9eb0833920c46775f1",
    "time": "2021-01-20T18:11:55.477Z",
    "type": "completion"
   }
  ],
  "kernelspec": {
   "display_name": "Python 3 (ipykernel)",
   "language": "python",
   "name": "python3"
  },
  "language_info": {
   "codemirror_mode": {
    "name": "ipython",
    "version": 3
   },
   "file_extension": ".py",
   "mimetype": "text/x-python",
   "name": "python",
   "nbconvert_exporter": "python",
   "pygments_lexer": "ipython3",
   "version": "3.9.7"
  }
 },
 "nbformat": 4,
 "nbformat_minor": 2
}
