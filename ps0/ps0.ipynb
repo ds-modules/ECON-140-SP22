{
 "cells": [
  {
   "cell_type": "markdown",
   "metadata": {
    "cell_id": "00001-5ba44c48-d6b5-40a5-a1e5-5986b1eb70da",
    "deepnote_cell_type": "markdown",
    "deletable": false
   },
   "source": [
    "# Problem Set 0 - Python & Jupyter Notebooks\n",
    "\n",
    "In this problem set, you will learn how to:\n",
    "\n",
    "* navigate jupyter notebooks (like this one).\n",
    "* write and evaluate some basic *expressions* in Python, the computer language of the course.\n",
    "* learn data manipulation using the `pandas` package.\n",
    "\n",
    "For reference, you might find it useful to read [Chapter 3 of the Data 8 textbook](http://www.inferentialthinking.com/chapters/03/programming-in-python.html), [Chapter 1](https://www.inferentialthinking.com/chapters/01/what-is-data-science.html) and [Chapter 2](https://www.inferentialthinking.com/chapters/02/causality-and-experiments.html) are worth skimming as well."
   ]
  },
  {
   "cell_type": "markdown",
   "metadata": {
    "cell_id": "00002-e3698e92-65c5-412d-9123-7c4b240ac2b2",
    "deepnote_cell_type": "markdown"
   },
   "source": [
    "## 1. Jupyter Notebooks\n",
    "\n",
    "This webpage is called a Jupyter notebook. A notebook is an interactive computing environment to write programs and view their results, and also to write text. A notebook is thus an editable computer document in which you can write computer programs; view their results; and comment, annotate, and explain what is going on."
   ]
  },
  {
   "cell_type": "markdown",
   "metadata": {
    "cell_id": "00004-c2326993-e03c-4c91-a1f8-a0a778556c43",
    "deepnote_cell_type": "markdown"
   },
   "source": [
    "### 1.1. Text cells\n",
    "\n",
    "In a notebook, each rectangle containing text or code is called a *cell*.\n",
    "\n",
    "Text cells (like this one) can be edited by double-clicking on them. They're written in a simple format called  [markdown](http://daringfireball.net/projects/markdown/syntax) to add formatting and section headings. \n",
    "You don't need to learn too much about markdown.\n",
    "\n",
    "After you edit a text cell, click the \"run cell\" button at the top that looks like `▶` in the toolbar at the top of this window, or hold down `shift` + press `return`, to confirm any changes to the text and formatting. "
   ]
  },
  {
   "cell_type": "markdown",
   "metadata": {
    "cell_id": "00005-fe58f6f7-ce48-4a4d-88ec-0ff0a62117fd",
    "deepnote_cell_type": "markdown",
    "deletable": false
   },
   "source": [
    "**Question 1.1.1.** This paragraph is in its own text cell.  Try editing it so that this sentence is the last sentence in the paragraph, and then click the \"run cell\" ▶| button or hold down `shift` + `return`.  This sentence, for example, should be deleted.  So should this one."
   ]
  },
  {
   "cell_type": "markdown",
   "metadata": {
    "cell_id": "00006-ec8c2887-95f3-4b5c-bcfa-1da3cbc26f23",
    "deepnote_cell_type": "markdown"
   },
   "source": [
    "### 1.2. Code cells\n",
    "\n",
    "Other cells contain code in the Python 3 language. Running a code cell will execute all of the code it contains.\n",
    "\n",
    "To run the code in a code cell, first click on that cell to activate it.  It'll be highlighted with a little green or blue rectangle.  Next, either press `▶` or hold down `shift` + press `return`.\n",
    "\n",
    "Try running this cell:"
   ]
  },
  {
   "cell_type": "code",
   "execution_count": 46,
   "metadata": {
    "cell_id": "00007-ae472ab8-54dc-43a7-be16-a6c5328fc3fc",
    "deepnote_cell_type": "code",
    "deepnote_to_be_reexecuted": false,
    "execution_millis": 0,
    "execution_start": 1610786118508,
    "source_hash": "a8a44a2d"
   },
   "outputs": [],
   "source": [
    "print(\"Hello, world!\")"
   ]
  },
  {
   "cell_type": "markdown",
   "metadata": {
    "cell_id": "00010-c9132ae7-7621-4d3a-b0ae-b823e0984327",
    "deepnote_cell_type": "markdown"
   },
   "source": [
    "The fundamental building block of Python code is an expression. Cells can contain multiple lines with multiple expressions. When you run a cell, the lines of code are executed in the order in which they appear. Every `print` expression prints a line. Run the next cell and notice the order of the output."
   ]
  },
  {
   "cell_type": "code",
   "execution_count": 47,
   "metadata": {
    "cell_id": "00011-41446c4e-9422-4753-9a79-e274f05b5650",
    "deepnote_cell_type": "code",
    "deepnote_to_be_reexecuted": false,
    "deletable": false,
    "execution_millis": 2,
    "execution_start": 1610786119046,
    "source_hash": "c21a1a0b"
   },
   "outputs": [],
   "source": [
    "print(\"First this line is printed,\")\n",
    "print(\"and then this one.\")"
   ]
  },
  {
   "cell_type": "markdown",
   "metadata": {
    "cell_id": "00012-1f4e4107-c775-4250-8591-c7cacf0b2855",
    "deepnote_cell_type": "markdown"
   },
   "source": [
    "### 1.3. Writing notebooks\n",
    "\n",
    "You can use Jupyter notebooks for your own projects or documents.  When you make your own notebook, you'll need to create your own cells for text and code.\n",
    "\n",
    "To add a cell, click the + button in the menu bar.  It'll start out as a text cell.  You can change it to a code cell by clicking inside it so it's highlighted, clicking the drop-down box next to the restart (⟳) button in the menu bar, and choosing \"Code\"."
   ]
  },
  {
   "cell_type": "markdown",
   "metadata": {
    "cell_id": "00013-f36b1724-6714-4eb5-98f9-8bb5964156a0",
    "deepnote_cell_type": "markdown",
    "tags": []
   },
   "source": [
    "**Question 1.3.1.** Add a code cell below this one.  Write code in it that prints out:\n",
    "   \n",
    "    Econometrics is what econometricians do.\n",
    "\n",
    "Run your cell to verify that it works."
   ]
  },
  {
   "cell_type": "markdown",
   "metadata": {
    "cell_id": "00019-7bcb08be-3668-4bab-b7e2-45f73e6b6d9d",
    "deepnote_cell_type": "markdown",
    "tags": []
   },
   "source": [
    "### 1.4. The kernel\n",
    "\n",
    "The kernel is a program that executes the code inside your notebook and outputs the results. In the top right of your window, you can see a circle that indicates the status of your kernel. If the circle is empty (⚪), the kernel is idle and ready to execute code. If the circle is filled in (⚫), the kernel is busy running some code. \n",
    "\n",
    "Next to every code cell, you'll see some text that says `In [...]`. Before you run the cell, you'll see `In [ ]`. When the cell is running, you'll see `In [*]`. If you see an asterisk (\\*) next to a cell that doesn't go away, it's likely that the code inside the cell is taking too long to run, and it might be a good time to interrupt the kernel (discussed below). When a cell is finished running, you'll see a number inside the brackets, like so: `In [1]`. The number corresponds to the order in which you run the cells; so, the first cell you run will show a 1 when it's finished running, the second will show a 2, and so on. \n",
    "\n",
    "You may run into problems where your kernel is stuck for an excessive amount of time, your notebook is very slow and unresponsive, or your kernel loses its connection. If this happens, try the following steps:\n",
    "1. At the top of your screen, click **Kernel**, then **Interrupt**.\n",
    "2. If that doesn't help, click **Kernel**, then **Restart**. If you do this, you will have to run your code cells from the start of your notebook up until where you paused your work.\n",
    "3. If that doesn't help, restart your server. First, save your work by clicking **File** at the top left of your screen, then **Save and Checkpoint**. Next, click **Control Panel** at the top right. Choose **Stop My Server** to shut it down, then **Start My Server** to start it back up. Then, navigate back to the notebook you were working on. You'll still have to run your code cells again.\n",
    "\n",
    "**IMPORTANT:** If you leave your notebook alone for a while, the server will \"clear\" the code you've run and you'll have to run your notebook from the very top again. If you've been away from your computer and after coming back you get a `<something> not defined` error this is almost certainly what happened."
   ]
  },
  {
   "cell_type": "markdown",
   "metadata": {
    "cell_id": "00020-8dd1af80-14dd-4318-a2e2-a2083e3d7286",
    "deepnote_cell_type": "markdown"
   },
   "source": [
    "### 1.5. Libraries\n",
    "\n",
    "There are many add-ons and extensions to the core of Python that are useful to using it to get work done. They are contained in what are called libraries. Let's tell Python to install some of them. Run the code cell below to do so.\n",
    "\n",
    "The following lines import `numpy` and `pandas`. \n",
    "Note that we imported `pandas` as `pd`, `numpy` as `np`. \n",
    "This means that, for example, when we call functions in `pandas`, we will always reference them with `pd` first. `pd` is like a shortcut."
   ]
  },
  {
   "cell_type": "code",
   "execution_count": 91,
   "metadata": {
    "cell_id": "00021-477baf2d-9aee-42b5-9126-87c7c15c7432",
    "deepnote_cell_type": "code",
    "deepnote_to_be_reexecuted": false,
    "execution_millis": 4813,
    "execution_start": 1610786265948,
    "source_hash": "1ef69260"
   },
   "outputs": [],
   "source": [
    "import numpy as np\n",
    "import pandas as pd\n",
    "\n",
    "import warnings\n",
    "warnings.filterwarnings(\"ignore\")"
   ]
  },
  {
   "cell_type": "markdown",
   "metadata": {
    "cell_id": "00022-af76bee0-0669-49a7-8ed4-f2b0296f9d2a",
    "deepnote_cell_type": "markdown"
   },
   "source": [
    "## 2. Python: Numbers & Variables\n",
    "\n",
    "In addition to representing commands to print out lines, expressions can represent numbers and methods of combining numbers. The expression `3.2500` evaluates to the number 3.25. (Run the cell and see.)"
   ]
  },
  {
   "cell_type": "code",
   "execution_count": 49,
   "metadata": {
    "cell_id": "00023-4ab2cb54-482e-4098-b61c-cdece0d25c4d",
    "deepnote_cell_type": "code",
    "deepnote_to_be_reexecuted": false,
    "execution_millis": 2,
    "execution_start": 1610786125030,
    "source_hash": "6b5a05b0",
    "tags": []
   },
   "outputs": [],
   "source": [
    "3.2500"
   ]
  },
  {
   "cell_type": "markdown",
   "metadata": {
    "cell_id": "00024-9a336f6d-d3e4-47bc-b1da-5dd9734bb562",
    "deepnote_cell_type": "markdown"
   },
   "source": [
    "Notice that we didn't have to `print`. When you run a notebook cell, if the last line has a value, then Jupyter helpfully prints out that value for you. However, it won't print out prior lines automatically."
   ]
  },
  {
   "cell_type": "code",
   "execution_count": 50,
   "metadata": {
    "cell_id": "00025-9496fc5f-9066-4189-b031-bdade66fefbd",
    "deepnote_cell_type": "code",
    "deepnote_to_be_reexecuted": false,
    "execution_millis": 5,
    "execution_start": 1610786125035,
    "scrolled": true,
    "source_hash": "200996a9"
   },
   "outputs": [],
   "source": [
    "print(2)\n",
    "3\n",
    "4"
   ]
  },
  {
   "cell_type": "markdown",
   "metadata": {
    "cell_id": "00026-952d384d-7672-4024-bba6-435a93602e00",
    "deepnote_cell_type": "markdown"
   },
   "source": [
    "Above, you should see that 4 is the value of the last expression, 2 is printed, but 3 is not because it was neither printed nor last."
   ]
  },
  {
   "cell_type": "markdown",
   "metadata": {
    "cell_id": "00027-9b23cc47-9145-46f3-8c2b-685b5b47a350",
    "deepnote_cell_type": "markdown"
   },
   "source": [
    "### 2.1. Arithmetic\n",
    "\n",
    "The line in the next cell subtracts.  Its value is what you'd expect.  Run it."
   ]
  },
  {
   "cell_type": "code",
   "execution_count": 51,
   "metadata": {
    "cell_id": "00028-57401a7b-9f50-4998-8df3-c6985d9c8db0",
    "deepnote_cell_type": "code",
    "deepnote_to_be_reexecuted": false,
    "execution_millis": 6,
    "execution_start": 1610786125043,
    "source_hash": "e40f2e60"
   },
   "outputs": [],
   "source": [
    "3.25 - 1.5"
   ]
  },
  {
   "cell_type": "markdown",
   "metadata": {
    "cell_id": "00029-65d182c9-e9b1-4f1a-bda3-efb03d1f8a78",
    "deepnote_cell_type": "markdown"
   },
   "source": [
    "Many basic arithmetic operations are built into Python.  The Data 8 textbook section on [Expressions](http://www.inferentialthinking.com/chapters/03/1/expressions.html) describes all the arithmetic operators used in the course. \n",
    "The common operator that differs from typical math notation is `**`, which raises one number to the power of the other. So, `2**3` stands for $2^3$ and evaluates to 8. \n",
    "\n",
    "The order of operations is the same as what you learned in elementary school, and Python also has parentheses.  For example, compare the outputs of the cells below. The second cell uses parentheses for a happy new year!"
   ]
  },
  {
   "cell_type": "code",
   "execution_count": 52,
   "metadata": {
    "cell_id": "00030-5a276350-c699-4459-aa56-8068c8ff3208",
    "deepnote_cell_type": "code",
    "deepnote_to_be_reexecuted": false,
    "execution_millis": 0,
    "execution_start": 1610786125088,
    "source_hash": "e8257ac"
   },
   "outputs": [],
   "source": [
    "5+6*5-6*3**2*2**3/4*7"
   ]
  },
  {
   "cell_type": "code",
   "execution_count": 53,
   "metadata": {
    "cell_id": "00031-dd95116a-b021-4225-83b6-a1b77572a5c6",
    "deepnote_cell_type": "code",
    "deepnote_to_be_reexecuted": false,
    "execution_millis": 0,
    "execution_start": 1610786125089,
    "source_hash": "197a43b6"
   },
   "outputs": [],
   "source": [
    "5+(6*5-(6*3))**2*((2**3)/4*7)"
   ]
  },
  {
   "cell_type": "markdown",
   "metadata": {
    "cell_id": "00032-5e18eac2-67c4-4c58-a4e4-c0875a3de5c6",
    "deepnote_cell_type": "markdown"
   },
   "source": [
    "In standard math notation, the first expression is\n",
    "\n",
    "$$5 + 6 \\times 5 - 6 \\times 3^2 \\times \\frac{2^3}{4} \\times 7,$$\n",
    "\n",
    "while the second expression is\n",
    "\n",
    "$$5 + (6 \\times 5 - (6 \\times 3))^2 \\times (\\frac{(2^3)}{4} \\times 7).$$"
   ]
  },
  {
   "cell_type": "markdown",
   "metadata": {
    "cell_id": "00033-e2d2cbaa-4530-4dd8-b7ef-52e7ddd4f62d",
    "deepnote_cell_type": "markdown",
    "tags": []
   },
   "source": [
    "**Question 2.1.1.** Write a Python expression in this next cell that's equal to $5 \\times (3 \\frac{10}{11}) - 50 \\frac{1}{3} + 2^{.5 \\times 22} - \\frac{7}{33} + 4$.\n",
    "\n",
    "By \"$3 \\frac{10}{11}$\" we mean $3+\\frac{10}{11}$, not $3 \\times \\frac{10}{11}$.\n",
    "\n",
    "Replace the ellipses (`...`) with your expression.  Try to use parentheses only when necessary.\n",
    "\n",
    "*Hint:* The correct output should start with a familiar number."
   ]
  },
  {
   "cell_type": "code",
   "execution_count": 54,
   "metadata": {
    "cell_id": "00034-629156ca-cb2a-4575-8322-0a028813bb1b",
    "deepnote_cell_type": "code",
    "deepnote_to_be_reexecuted": false,
    "deletable": false,
    "execution_millis": 2,
    "execution_start": 1610786127399,
    "source_hash": "1f85637f"
   },
   "outputs": [],
   "source": [
    "..."
   ]
  },
  {
   "cell_type": "markdown",
   "metadata": {
    "cell_id": "00035-a7dac102-1cde-4aa3-a775-c7b216ddfbd5",
    "deepnote_cell_type": "markdown"
   },
   "source": [
    "### 2.2. Variables\n",
    "\n",
    "In natural language, we have terminology that lets us quickly reference complicated concepts.\n",
    "\n",
    "In Python, we do this with *assignment statements*. An assignment statement has a name on the left side of an `=` sign and an expression to be evaluated on the right."
   ]
  },
  {
   "cell_type": "code",
   "execution_count": 55,
   "metadata": {
    "cell_id": "00036-2fe6d498-06b5-4665-b860-ab911b87da10",
    "deepnote_cell_type": "code",
    "deepnote_to_be_reexecuted": false,
    "execution_millis": 0,
    "execution_start": 1610786127420,
    "source_hash": "42fbeeaf"
   },
   "outputs": [],
   "source": [
    "ten = 3 * 2 + 4"
   ]
  },
  {
   "cell_type": "markdown",
   "metadata": {
    "cell_id": "00037-1ac7687a-b971-45f0-b84b-f287e24b89af",
    "deepnote_cell_type": "markdown"
   },
   "source": [
    "When you run that cell, Python first computes the value of the expression on the right-hand side, `3 * 2 + 4`, which is the number 10.  Then it assigns that value to the name `ten`.  At that point, the code in the cell is done running.\n",
    "\n",
    "After you run that cell, the value 10 is bound to the name `ten`:"
   ]
  },
  {
   "cell_type": "code",
   "execution_count": 56,
   "metadata": {
    "cell_id": "00038-52b7ddec-2d9b-4313-9f1f-bb0ae713668e",
    "deepnote_cell_type": "code",
    "deepnote_to_be_reexecuted": false,
    "execution_millis": 0,
    "execution_start": 1610786127460,
    "source_hash": "d8b71231"
   },
   "outputs": [],
   "source": [
    "ten"
   ]
  },
  {
   "cell_type": "markdown",
   "metadata": {
    "cell_id": "00039-97d394b6-42fe-4237-92e0-d882a4f9c7d3",
    "deepnote_cell_type": "markdown"
   },
   "source": [
    "The statement `ten = 3 * 2 + 4` is not asserting that `ten` is already equal to `3 * 2 + 4`, as we might expect by analogy with math notation.  Rather, that line of code changes what `ten` means; it now refers to the value 10, whereas before it meant nothing at all.\n",
    "\n",
    "**IMPORTANT:** The order you run the cells matters. Even though the cell that says `ten` happens after the cell that says `ten = 3 * 2 + 4` in this notebook, you still have to run the cell that says `ten = 3 * 2 + 4` before you run the cell that says `ten`. If you start up this notebook and the first cell you run is the `ten` cell, you'll get an error that says something like `ten not defined`. That's because you haven't defined the variable `ten` above."
   ]
  },
  {
   "cell_type": "markdown",
   "metadata": {
    "cell_id": "00040-0948d67c-7dd0-4ac5-b934-70c361446df3",
    "deepnote_cell_type": "markdown",
    "tags": []
   },
   "source": [
    "**Question 2.2.1.** Try writing code that uses a name (like `eleven`) that hasn't been assigned to anything.  You'll see an error!"
   ]
  },
  {
   "cell_type": "code",
   "execution_count": 57,
   "metadata": {
    "cell_id": "00041-72cd5a01-c795-4af5-aa8f-645d2eaa9b25",
    "deepnote_cell_type": "code",
    "deepnote_to_be_reexecuted": false,
    "execution_millis": 0,
    "execution_start": 1610786127461,
    "source_hash": "1f85637f"
   },
   "outputs": [],
   "source": [
    "..."
   ]
  },
  {
   "cell_type": "markdown",
   "metadata": {
    "cell_id": "00042-50b9b262-9898-4365-a2c4-e794bd67ca2d",
    "deepnote_cell_type": "markdown"
   },
   "source": [
    "A common pattern in Jupyter notebooks is to assign a value to a name and then immediately evaluate the name in the last line in the cell so that the value is displayed as output. "
   ]
  },
  {
   "cell_type": "code",
   "execution_count": 58,
   "metadata": {
    "cell_id": "00043-422c0b69-ce93-4998-85d1-7c07cbbef544",
    "deepnote_cell_type": "code",
    "deepnote_to_be_reexecuted": false,
    "execution_millis": 2,
    "execution_start": 1610786127509,
    "source_hash": "84e41d80"
   },
   "outputs": [],
   "source": [
    "close_to_pi = 355/113\n",
    "close_to_pi"
   ]
  },
  {
   "cell_type": "markdown",
   "metadata": {
    "cell_id": "00044-dca25950-ecd1-40c7-8097-278fe49c2e9b",
    "deepnote_cell_type": "markdown"
   },
   "source": [
    "Another common pattern is that a series of lines in a single cell will build up a complex computation in stages, naming the intermediate results."
   ]
  },
  {
   "cell_type": "code",
   "execution_count": 59,
   "metadata": {
    "cell_id": "00045-0c223c8e-e4e3-4e0c-a744-0552799eebec",
    "deepnote_cell_type": "code",
    "deepnote_to_be_reexecuted": false,
    "execution_millis": 0,
    "execution_start": 1610786127556,
    "source_hash": "f49d2e00"
   },
   "outputs": [],
   "source": [
    "semimonthly_salary = 841.25\n",
    "monthly_salary = 2 * semimonthly_salary\n",
    "number_of_months_in_a_year = 12\n",
    "yearly_salary = number_of_months_in_a_year * monthly_salary\n",
    "yearly_salary"
   ]
  },
  {
   "cell_type": "markdown",
   "metadata": {
    "cell_id": "00046-25c0743d-9215-45c9-a77c-f3c54019a642",
    "deepnote_cell_type": "markdown"
   },
   "source": [
    "Names in Python can have letters (upper- and lower-case letters are both okay and count as different letters), underscores, and numbers.  The first character can't be a number (otherwise a name might look like a number).  And names can't contain spaces, since spaces are used to separate pieces of code from each other.\n",
    "\n",
    "Other than those rules, what you name something doesn't matter *to Python*.  For example, this cell does the same thing as the above cell, except everything has a different name:"
   ]
  },
  {
   "cell_type": "code",
   "execution_count": 60,
   "metadata": {
    "cell_id": "00047-33a38e69-b70d-489b-b0cb-796d8ce4b9f5",
    "deepnote_cell_type": "code",
    "deepnote_to_be_reexecuted": false,
    "execution_millis": 0,
    "execution_start": 1610786127557,
    "source_hash": "fa245a47"
   },
   "outputs": [],
   "source": [
    "a = 841.25\n",
    "b = 2 * a\n",
    "c = 12\n",
    "d = c * b\n",
    "d"
   ]
  },
  {
   "cell_type": "markdown",
   "metadata": {
    "cell_id": "00048-97f0be3a-0928-4c7e-978e-16530d4a69c5",
    "deepnote_cell_type": "markdown"
   },
   "source": [
    "**However**, names are very important for making your code *readable* to yourself and others.  The cell above is shorter, but it's totally useless without an explanation of what it does."
   ]
  },
  {
   "cell_type": "markdown",
   "metadata": {
    "cell_id": "00049-1a1787ca-aadf-4cb8-bbbc-7f46f73221e7",
    "deepnote_cell_type": "markdown"
   },
   "source": [
    "### 2.3. Checking your code \n",
    "\n",
    "Our notebooks include built-in *tests* to check whether your work is correct. Sometimes, there are multiple tests for a single question, and passing all of them is required to receive credit for the question. Please don't change the contents of the test cells.\n",
    "\n",
    "Run the next code cell to initialize the tests:"
   ]
  },
  {
   "cell_type": "code",
   "execution_count": 61,
   "metadata": {
    "cell_id": "00050-2b42e499-9ad0-4520-b13b-026f82bfce02",
    "deepnote_cell_type": "code",
    "deepnote_to_be_reexecuted": false,
    "execution_millis": 1686,
    "execution_start": 1610786127557,
    "source_hash": "fd524aa"
   },
   "outputs": [],
   "source": [
    "# Using the pound symbol tells Python to ignore the rest of this line\n",
    "# This was we can make comments in code\n",
    "# Run this code cell to initialize the autograder\n",
    "import otter\n",
    "grader = otter.Notebook()"
   ]
  },
  {
   "cell_type": "markdown",
   "metadata": {
    "cell_id": "00051-6f3169db-5880-4f62-a612-af5f7ca718ca",
    "deepnote_cell_type": "markdown"
   },
   "source": [
    "Go ahead and attempt Question 2.3.1. Running the cell directly after it will test whether you have assigned `seconds_in_a_decade` correctly. \n",
    "If you haven't, this test will tell you the correct answer. Resist the urge to just copy it, and instead try to adjust your expression."
   ]
  },
  {
   "cell_type": "markdown",
   "metadata": {
    "cell_id": "00052-c6984302-d81f-4812-813c-0ad9b0561d0e",
    "deepnote_cell_type": "markdown",
    "deletable": false,
    "editable": false
   },
   "source": [
    "**Question 2.3.1.** Assign the name `seconds_in_a_decade` to the number of seconds between midnight January 1, 2010 and midnight January 1, 2020. Note that there are two leap years in this span of a decade. A non-leap year has 365 days and a leap year has 366 days.\n",
    "\n",
    "<!--\n",
    "BEGIN QUESTION\n",
    "name: q2_3_1\n",
    "-->"
   ]
  },
  {
   "cell_type": "code",
   "execution_count": 62,
   "metadata": {
    "cell_id": "00053-beaf12a3-67e5-4d78-9e29-0f507be6031b",
    "deepnote_cell_type": "code",
    "deepnote_to_be_reexecuted": false,
    "execution_millis": 2,
    "execution_start": 1610786129248,
    "source_hash": "a6086c3b",
    "tags": []
   },
   "outputs": [],
   "source": [
    "# Using the pound symbol tells Python to ignore the rest of this line.\n",
    "# This way we can make comments in code.\n",
    "# Change the next line so that it computes the number of seconds in a decade \n",
    "# and assigns that number the name, seconds_in_a_decade.\n",
    "\n",
    "seconds_in_a_decade = ...\n",
    "\n",
    "# We've put this line in this cell so that it will print the value you've given \n",
    "# to seconds_in_a_decade when you run it. You don't need to change this.\n",
    "\n",
    "seconds_in_a_decade"
   ]
  },
  {
   "cell_type": "code",
   "execution_count": null,
   "metadata": {
    "deletable": false,
    "editable": false
   },
   "outputs": [],
   "source": [
    "grader.check(\"q2_3_1\")"
   ]
  },
  {
   "cell_type": "markdown",
   "metadata": {
    "cell_id": "00055-052b2f15-283c-4581-ae59-52f2c9caa60a",
    "deepnote_cell_type": "markdown",
    "tags": []
   },
   "source": [
    "If the autograder found that you had set the right variable(s) to the proper value(s) that it expected, well and good: you are probably not far off track. If you failed any of the tests, go back and try again."
   ]
  },
  {
   "cell_type": "markdown",
   "metadata": {
    "cell_id": "00123-23433c3d-aa14-409e-a776-bc230cc0de91",
    "deepnote_cell_type": "markdown"
   },
   "source": [
    "## 3. Data\n",
    "\n",
    "We will be using `pandas` in this course for data manipulation and analysis. `pandas` stores data in the form of something called a `DataFrame`, which is really just another word for table.\n",
    "\n",
    "Recall that we typically use `pd` as the shortcut for `pandas`."
   ]
  },
  {
   "cell_type": "markdown",
   "metadata": {
    "cell_id": "00124-c243a68b-fec5-4610-82fe-7c54e68b383e",
    "deepnote_cell_type": "markdown",
    "tags": []
   },
   "source": [
    "### 3.1. Reading in a dataset\n",
    "\n",
    "Most of the time, the data we want to analyze will be in a separate file, typically as a `.csv` file. \n",
    "In this case, we want to read the files in and convert them into a tabular format.\n",
    "\n",
    "`pandas` has a specific function to read in csv files called `pd.read_csv(<file_path>)`, with the same relative file path as its argument. Your dataset will take the form of a variable, as shown below where we call our dataset `baby_df`.\n",
    "\n",
    "The `<dataframe>.head(...)` function will display the first 5 rows of the data frame by default. \n",
    "If you want to specify the number of rows displayed, you can use`dataframe.head(<num_rows>)`.\n",
    "Similarly, if you want to see the last few rows of the data frame, you can use `dataframe.tail(<num_rows>)`."
   ]
  },
  {
   "cell_type": "code",
   "execution_count": 64,
   "metadata": {
    "cell_id": "00125-89701414-7a69-4d73-837f-47efff6f528f",
    "deepnote_cell_type": "code",
    "deepnote_to_be_reexecuted": false,
    "execution_millis": 34,
    "execution_start": 1610786141720,
    "source_hash": "c73a235d",
    "tags": []
   },
   "outputs": [],
   "source": [
    "# We will call our dataset baby_df\n",
    "baby_df = pd.read_csv(\"baby.csv\") # df is short for dataframe\n",
    "baby_df.head(5)"
   ]
  },
  {
   "cell_type": "markdown",
   "metadata": {
    "cell_id": "00126-85c69fc5-33b1-46dd-8844-7abb75fce106",
    "deepnote_cell_type": "markdown",
    "tags": []
   },
   "source": [
    "### 3.2. Columns\n",
    "\n",
    "You can access the values of a particular column by using `<dataframe>['<column_name>']`. \n",
    "Notice that you have to write the column name in quotes. Single or double quotes both work fine, but here we use single quotes because it's faster to type.\n",
    "\n"
   ]
  },
  {
   "cell_type": "code",
   "execution_count": 65,
   "metadata": {
    "cell_id": "00127-46a06813-3191-42e0-98f2-4a3752487799",
    "deepnote_cell_type": "code",
    "deepnote_to_be_reexecuted": false,
    "execution_millis": 0,
    "execution_start": 1610786141755,
    "source_hash": "8c56e4ba",
    "tags": []
   },
   "outputs": [],
   "source": [
    "baby_df['Birth.Weight']"
   ]
  },
  {
   "cell_type": "markdown",
   "metadata": {
    "cell_id": "00130-0417633e-acf1-43bc-b379-60e7715f4d13",
    "deepnote_cell_type": "markdown",
    "tags": []
   },
   "source": [
    "### 3.3. Getting the shape of a table\n",
    "\n",
    "The number of rows and columns in a `DataFrame` can be accessed together using the  `.shape` attribute. \n",
    "Notice that the index is not counted as a column."
   ]
  },
  {
   "cell_type": "code",
   "execution_count": 66,
   "metadata": {
    "cell_id": "00131-3bf05c79-f4e5-48d8-ad05-31e1ce904e22",
    "deepnote_cell_type": "code",
    "deepnote_to_be_reexecuted": false,
    "execution_millis": 1,
    "execution_start": 1610786141755,
    "source_hash": "6655aad2",
    "tags": []
   },
   "outputs": [],
   "source": [
    "baby_df.shape"
   ]
  },
  {
   "cell_type": "markdown",
   "metadata": {
    "cell_id": "00144-632df95f-06fb-47fe-8ee1-5b6f87f19013",
    "deepnote_cell_type": "markdown",
    "tags": []
   },
   "source": [
    "### 3.4. Selecting columns\n",
    "\n",
    "Sometimes the entire dataset contains too many columns, and we are only interested in some of the columns. \n",
    "In these situations, we would want to be able to select and display a subset of the columns from the original table. \n",
    "\n",
    "We can do this using the following syntax: `<dataframe>[[<list of columns we want to select>]]`.\n",
    "\n",
    "Note that there must be two sets of square brackets."
   ]
  },
  {
   "cell_type": "code",
   "execution_count": 67,
   "metadata": {
    "cell_id": "00145-74cdf44d-d1ed-497b-b799-dcb802cbecaf",
    "deepnote_cell_type": "code",
    "deepnote_to_be_reexecuted": false,
    "execution_millis": 37,
    "execution_start": 1610786141756,
    "source_hash": "fa2bfe08",
    "tags": []
   },
   "outputs": [],
   "source": [
    "# Selects the columns \"Birth.Weight\" and \"Maternal.Age\" with all rows\n",
    "baby_df[['Birth.Weight', 'Maternal.Age']]"
   ]
  },
  {
   "cell_type": "markdown",
   "metadata": {
    "cell_id": "00057-0b288994-33a7-4e02-8766-0c1646236d46",
    "deepnote_cell_type": "markdown",
    "tags": []
   },
   "source": [
    "We haven't actually changed anything about the dataset by doing this."
   ]
  },
  {
   "cell_type": "code",
   "execution_count": 68,
   "metadata": {
    "cell_id": "00058-cec4c2cd-b646-40ea-9f37-89a944ad500f",
    "deepnote_cell_type": "code",
    "deepnote_to_be_reexecuted": false,
    "execution_millis": 21,
    "execution_start": 1610786141793,
    "source_hash": "59ff2a8a",
    "tags": []
   },
   "outputs": [],
   "source": [
    "baby_df.head()"
   ]
  },
  {
   "cell_type": "markdown",
   "metadata": {
    "cell_id": "00059-1369f2c8-6c7d-4430-95d3-f737dafa1c6f",
    "deepnote_cell_type": "markdown",
    "tags": []
   },
   "source": [
    "To save the dataset with fewer columns, define a new variable (or re-define the same dataset variable)."
   ]
  },
  {
   "cell_type": "code",
   "execution_count": 69,
   "metadata": {
    "cell_id": "00060-e76c1805-cacf-4166-8f2e-55e49f764c36",
    "deepnote_cell_type": "code",
    "deepnote_to_be_reexecuted": false,
    "execution_millis": 0,
    "execution_start": 1610786141814,
    "source_hash": "fd3fd1c",
    "tags": []
   },
   "outputs": [],
   "source": [
    "smaller_baby_df = baby_df[['Birth.Weight', 'Maternal.Age']]\n",
    "smaller_baby_df.head()"
   ]
  },
  {
   "cell_type": "markdown",
   "metadata": {
    "cell_id": "00150-1e1b6b51-9715-4343-bdd7-44b49f09c448",
    "deepnote_cell_type": "markdown",
    "tags": []
   },
   "source": [
    "## 4. Techniques in `pandas`"
   ]
  },
  {
   "cell_type": "markdown",
   "metadata": {
    "cell_id": "00151-361d8f9b-6258-4454-b585-495d305c8341",
    "deepnote_cell_type": "markdown",
    "tags": []
   },
   "source": [
    "### 4.1. Filtering and boolean indexing\n",
    "\n",
    "Sometimes, we would like to filter a table by only returning rows that satisfy a specific condition.\n",
    "We can do this in `pandas` by \"boolean indexing\". \n",
    "The expression below returns a boolean column where an entry is `True` if the row satisfies the condition and `False` if it doesn't."
   ]
  },
  {
   "cell_type": "code",
   "execution_count": 70,
   "metadata": {
    "cell_id": "00152-7bbdc810-a2c0-4e51-85ca-c2511326fdd7",
    "deepnote_cell_type": "code",
    "deepnote_to_be_reexecuted": false,
    "execution_millis": 14,
    "execution_start": 1610786141815,
    "source_hash": "c1aaf83f",
    "tags": []
   },
   "outputs": [],
   "source": [
    "baby_df['Birth.Weight'] > 120"
   ]
  },
  {
   "cell_type": "markdown",
   "metadata": {
    "cell_id": "00153-b88a305e-2fc5-4b20-9efa-acb36cc943c3",
    "deepnote_cell_type": "markdown",
    "tags": []
   },
   "source": [
    "If we want to filter our data for all rows that satisfy `'Birth.Weight'` > 120, we can use the above expression as if we were selecting a column, as below. \n",
    "The idea is that we only want the rows where the \"boolean column\" is `True`. "
   ]
  },
  {
   "cell_type": "code",
   "execution_count": 71,
   "metadata": {
    "cell_id": "00154-efa7ca40-a0ae-4e20-82bc-b33c653c4e72",
    "deepnote_cell_type": "code",
    "deepnote_to_be_reexecuted": false,
    "execution_millis": 45,
    "execution_start": 1610786141829,
    "source_hash": "bb40d8f2",
    "tags": []
   },
   "outputs": [],
   "source": [
    "# Select all rows that are True in the boolean series baby_df['Birth.Weight'] > 120\n",
    "baby_df[baby_df['Birth.Weight'] > 120]"
   ]
  },
  {
   "cell_type": "markdown",
   "metadata": {
    "cell_id": "00155-46430a22-366f-4593-b8fe-7d8b120fa87b",
    "deepnote_cell_type": "markdown",
    "tags": []
   },
   "source": [
    "You can tell we're missing some rows by the fact that the index on the very left is missing some numbers.\n",
    "\n",
    "Here are a few more examples:"
   ]
  },
  {
   "cell_type": "code",
   "execution_count": 72,
   "metadata": {
    "cell_id": "00156-42ad92f6-12db-4f2f-9c60-b666c1b78465",
    "deepnote_cell_type": "code",
    "deepnote_to_be_reexecuted": false,
    "execution_millis": 28,
    "execution_start": 1610786141875,
    "source_hash": "8dd3ab0b",
    "tags": []
   },
   "outputs": [],
   "source": [
    "# Return all rows where Maternal.Height is greater than or equal to 63\n",
    "baby_df[baby_df['Maternal.Height'] >= 63]"
   ]
  },
  {
   "cell_type": "markdown",
   "metadata": {
    "cell_id": "00064-3738271c-7160-4ad2-9fc2-de450dacfd6f",
    "deepnote_cell_type": "markdown",
    "tags": []
   },
   "source": [
    "Notice below that to ask if something is equal to something else we use `==`, which is different from defining a variable. That uses `=`."
   ]
  },
  {
   "cell_type": "code",
   "execution_count": 73,
   "metadata": {
    "cell_id": "00157-279898a5-44fd-41b5-ab88-6632d022e373",
    "deepnote_cell_type": "code",
    "deepnote_to_be_reexecuted": false,
    "execution_millis": 27,
    "execution_start": 1610786141904,
    "source_hash": "2f93444c",
    "tags": []
   },
   "outputs": [],
   "source": [
    "# Return all rows where Maternal.Smoker is True\n",
    "baby_df[baby_df['Maternal.Smoker'] == True]"
   ]
  },
  {
   "cell_type": "markdown",
   "metadata": {
    "cell_id": "00158-5749a37f-3923-4e06-8eaa-99cca1825e93",
    "deepnote_cell_type": "markdown",
    "tags": []
   },
   "source": [
    "### 4.2. Filtering on multiple conditions\n",
    "\n",
    "We can also filter on multiple conditions. \n",
    "If we want rows where each condition is true, we separate our criterion by the `&` symbol, where `&` represents *and*.\n",
    "\n",
    "`df[(boolean condition 1) & (boolean condition 2) & (boolean condition 2)]`\n",
    "\n",
    "If we just want one of the conditions to be true, we separate our criterion by `|` symbols, where `|` represents *or*.\n",
    "\n",
    "`df[(boolean condition 1) | (boolean condition 2) | (boolean condition 2)]`"
   ]
  },
  {
   "cell_type": "code",
   "execution_count": 74,
   "metadata": {
    "cell_id": "00159-bdf8bf7c-0598-443d-b23a-79b35daf1343",
    "deepnote_cell_type": "code",
    "deepnote_to_be_reexecuted": false,
    "execution_millis": 18,
    "execution_start": 1610786141931,
    "source_hash": "b13ae7f1",
    "tags": []
   },
   "outputs": [],
   "source": [
    "# Select all rows where Gestational.Days are above or equal to 270, but less than 280\n",
    "baby_df[(baby_df['Gestational.Days'] >= 270) & (baby_df['Gestational.Days'] < 280)]"
   ]
  },
  {
   "cell_type": "markdown",
   "metadata": {
    "cell_id": "00072-51e3d449-81ee-4141-9667-61396f8e5d85",
    "deepnote_cell_type": "markdown",
    "tags": []
   },
   "source": [
    "Again though, none of this changed the original dataset."
   ]
  },
  {
   "cell_type": "code",
   "execution_count": 75,
   "metadata": {
    "cell_id": "00073-4386c08f-f6a8-4d7e-9169-c1675565aa49",
    "deepnote_cell_type": "code",
    "deepnote_to_be_reexecuted": false,
    "execution_millis": 20,
    "execution_start": 1610786141950,
    "source_hash": "59ff2a8a",
    "tags": []
   },
   "outputs": [],
   "source": [
    "baby_df.head()"
   ]
  },
  {
   "cell_type": "markdown",
   "metadata": {
    "cell_id": "00074-76d47ce5-895b-47ca-b7b9-6c411f6106df",
    "deepnote_cell_type": "markdown",
    "tags": []
   },
   "source": [
    "To save a new dataset with your desired filtering, you should define new variables."
   ]
  },
  {
   "cell_type": "code",
   "execution_count": 76,
   "metadata": {
    "cell_id": "00075-eb6dc1f2-d9d5-474c-af75-b0fe353229b2",
    "deepnote_cell_type": "code",
    "deepnote_to_be_reexecuted": false,
    "execution_millis": 23,
    "execution_start": 1610786141970,
    "source_hash": "fb1f2afe",
    "tags": []
   },
   "outputs": [],
   "source": [
    "gestational_range_baby_df = baby_df[(baby_df['Gestational.Days'] >= 270) & (baby_df['Gestational.Days'] < 280)]\n",
    "gestational_range_baby_df.head()"
   ]
  },
  {
   "cell_type": "markdown",
   "metadata": {
    "cell_id": "00162-804f6946-457c-493f-9a44-845c19b1f007",
    "deepnote_cell_type": "markdown",
    "output_cleared": false,
    "tags": []
   },
   "source": [
    "### 4.3. Inserting new columns\n",
    "\n",
    "Suppose we know that the device used to measure mother height was not calibrated correctly and underestimated by 2 units for each mother. To correct this, we want to add 2 to each observation of mother height. The code below shows how to do this. The syntax is similar to defining a new variable. Notice we can do math with columns as if they were numbers, and the math is appplied to each element in the column."
   ]
  },
  {
   "cell_type": "code",
   "execution_count": 77,
   "metadata": {
    "cell_id": "00165-067a1f3b-64c4-48d5-8f64-e930ec68d3ed",
    "deepnote_cell_type": "code",
    "deepnote_to_be_reexecuted": false,
    "execution_millis": 43,
    "execution_start": 1610786141993,
    "output_cleared": false,
    "source_hash": "bb0cd2cc",
    "tags": []
   },
   "outputs": [],
   "source": [
    "baby_df['Adjusted Height'] = baby_df['Maternal.Height'] + 2\n",
    "baby_df.head()"
   ]
  },
  {
   "cell_type": "markdown",
   "metadata": {
    "cell_id": "00178-08172d4e-bb6c-47f8-add8-e4e602468c9c",
    "deepnote_cell_type": "markdown",
    "tags": []
   },
   "source": [
    "### 4.4. An exercise in `pandas`\n",
    "\n",
    "In this exercise, you will use some common functions in `pandas` that are featured above."
   ]
  },
  {
   "cell_type": "markdown",
   "metadata": {
    "cell_id": "00179-833693b1-6828-425b-8fcd-49904ace1af5",
    "deepnote_cell_type": "markdown",
    "deletable": false,
    "editable": false,
    "tags": []
   },
   "source": [
    "**Question 4.4.1.** Read in the table `gdp.csv`, storing into the variable `gdp`.\n",
    "\n",
    "<!--\n",
    "BEGIN QUESTION\n",
    "name: q4_4_1\n",
    "-->"
   ]
  },
  {
   "cell_type": "code",
   "execution_count": 78,
   "metadata": {
    "cell_id": "00180-8a399cd2-cf7e-4d8c-bbea-99f319ad0b79",
    "deepnote_cell_type": "code",
    "deepnote_to_be_reexecuted": false,
    "execution_millis": 161,
    "execution_start": 1610786142037,
    "source_hash": "ce5d72c7",
    "tags": []
   },
   "outputs": [],
   "source": [
    "gdp = ...\n",
    "gdp"
   ]
  },
  {
   "cell_type": "code",
   "execution_count": null,
   "metadata": {
    "deletable": false,
    "editable": false
   },
   "outputs": [],
   "source": [
    "grader.check(\"q4_4_1\")"
   ]
  },
  {
   "cell_type": "markdown",
   "metadata": {
    "cell_id": "00182-11ef23d2-9c2e-45fb-bdcd-dd18ba952875",
    "deepnote_cell_type": "markdown",
    "tags": []
   },
   "source": [
    "The three variables in `gdp` that we are interested in are the following:\n",
    "\n",
    "1. `cn` $\\Rightarrow$ Capital Stock in millions of USD\n",
    "2. `cgdpe` $\\Rightarrow$ Expenditure-side Real GDP in millions of USD\n",
    "3. `emp` $\\Rightarrow$ Number of Persons employed in millions"
   ]
  },
  {
   "cell_type": "markdown",
   "metadata": {
    "cell_id": "00183-84673f29-160f-4a9b-a45e-95ea472691f1",
    "deepnote_cell_type": "markdown",
    "deletable": false,
    "editable": false,
    "tags": []
   },
   "source": [
    "**Question 4.4.2.** \n",
    "Select the columns `country`, `year`, `cn`, `cgdpe`, `emp`, from the dataframe called `gdp`. Call the new table `gdp2` and display its first five rows. \n",
    "\n",
    "<!--\n",
    "BEGIN QUESTION\n",
    "name: q4_4_2\n",
    "-->"
   ]
  },
  {
   "cell_type": "code",
   "execution_count": 80,
   "metadata": {
    "cell_id": "00184-4b4ab0e4-1a71-4d7b-b4fa-796ac49bfe76",
    "deepnote_cell_type": "code",
    "deepnote_to_be_reexecuted": false,
    "execution_millis": 22,
    "execution_start": 1610786142205,
    "source_hash": "d686982",
    "tags": []
   },
   "outputs": [],
   "source": [
    "gdp2 = ...\n",
    "gdp2.head()"
   ]
  },
  {
   "cell_type": "code",
   "execution_count": null,
   "metadata": {
    "deletable": false,
    "editable": false
   },
   "outputs": [],
   "source": [
    "grader.check(\"q4_4_2\")"
   ]
  },
  {
   "cell_type": "markdown",
   "metadata": {
    "cell_id": "00189-e9841d53-092a-48a9-bdc8-b87b3051c3ca",
    "deepnote_cell_type": "markdown",
    "deletable": false,
    "editable": false,
    "tags": []
   },
   "source": [
    "**Question 4.4.3.** \n",
    "Notice that there are a lot of -1 values. This dataset uses -1 to indicate missing data for a given country-year combination, so we don't really care about these rows.\n",
    "Filter out all the rows in which the GDP, employment level, or capital stock was recorded as -1 and store the corresponding table to the variable `cleaned_gdp`. Use the `gdp2` table you defined above.\n",
    "\n",
    "<!--\n",
    "BEGIN QUESTION\n",
    "name: q4_4_3\n",
    "-->"
   ]
  },
  {
   "cell_type": "code",
   "execution_count": 82,
   "metadata": {
    "cell_id": "00190-fe06e70b-f84f-4891-8023-709dce7dc377",
    "deepnote_cell_type": "code",
    "deepnote_to_be_reexecuted": false,
    "execution_millis": 4,
    "execution_start": 1610786142277,
    "source_hash": "5877bd4a",
    "tags": []
   },
   "outputs": [],
   "source": [
    "cleaned_gdp = ...\n",
    "cleaned_gdp"
   ]
  },
  {
   "cell_type": "code",
   "execution_count": null,
   "metadata": {
    "deletable": false,
    "editable": false
   },
   "outputs": [],
   "source": [
    "grader.check(\"q4_4_3\")"
   ]
  },
  {
   "cell_type": "markdown",
   "metadata": {
    "cell_id": "00206-36a765ee-0e6b-4715-bbf2-964e9add3729",
    "deepnote_cell_type": "markdown",
    "deletable": false,
    "editable": false,
    "tags": []
   },
   "source": [
    "**Question 4.4.4.** \n",
    "Compute the GDP per employed-person and add that as a column called `gdp_pc` to `cleaned_gdp`.\n",
    "\n",
    "*Hint*: Remember you can divide a column by another column, and this will do element-wise division.\n",
    "\n",
    "<!--\n",
    "BEGIN QUESTION\n",
    "name: q4_4_4\n",
    "-->"
   ]
  },
  {
   "cell_type": "code",
   "execution_count": 92,
   "metadata": {
    "cell_id": "00207-5a5abcc3-1dfc-4abc-a3ad-5a3b4be5fb23",
    "deepnote_cell_type": "code",
    "deepnote_to_be_reexecuted": false,
    "execution_millis": 52,
    "execution_start": 1610786281315,
    "source_hash": "ebaf8e4c",
    "tags": []
   },
   "outputs": [],
   "source": [
    "...\n",
    "cleaned_gdp"
   ]
  },
  {
   "cell_type": "code",
   "execution_count": null,
   "metadata": {
    "deletable": false,
    "editable": false
   },
   "outputs": [],
   "source": [
    "grader.check(\"q4_4_4\")"
   ]
  },
  {
   "cell_type": "markdown",
   "metadata": {
    "deletable": false,
    "editable": false
   },
   "source": [
    "---\n",
    "\n",
    "To double-check your work, the cell below will rerun all of the autograder tests."
   ]
  },
  {
   "cell_type": "code",
   "execution_count": null,
   "metadata": {
    "deletable": false,
    "editable": false
   },
   "outputs": [],
   "source": [
    "grader.check_all()"
   ]
  }
 ],
 "metadata": {
  "anaconda-cloud": {},
  "deepnote_execution_queue": [],
  "deepnote_notebook_id": "efc01efa-574a-43c6-a575-e919ffc157df",
  "kernelspec": {
   "display_name": "Python 3",
   "language": "python",
   "name": "python3"
  },
  "language_info": {
   "codemirror_mode": {
    "name": "ipython",
    "version": 3
   },
   "file_extension": ".py",
   "mimetype": "text/x-python",
   "name": "python",
   "nbconvert_exporter": "python",
   "pygments_lexer": "ipython3",
   "version": "3.8.1"
  }
 },
 "nbformat": 4,
 "nbformat_minor": 4
}
